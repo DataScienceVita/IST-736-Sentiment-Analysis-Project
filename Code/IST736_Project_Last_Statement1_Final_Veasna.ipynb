{
 "cells": [
  {
   "cell_type": "markdown",
   "metadata": {},
   "source": [
    "# IST 736 Final Project - \"Last Statement\""
   ]
  },
  {
   "cell_type": "markdown",
   "metadata": {},
   "source": [
    "# Step 1: Read in data"
   ]
  },
  {
   "cell_type": "code",
   "execution_count": 1,
   "metadata": {},
   "outputs": [],
   "source": [
    "# read in the training data\n",
    "\n",
    "# the data set includes four columns: PhraseId, SentenceId, Phrase, Sentiment\n",
    "# In this data set a sentence is further split into phrases \n",
    "# in order to build a sentiment classification model\n",
    "# that can not only predict sentiment of sentences but also shorter phrases\n",
    "\n",
    "# A data example:\n",
    "# PhraseId SentenceId Phrase Sentiment\n",
    "# 1 1 A series of escapades demonstrating the adage that what is good for the goose is also good for the gander , some of which occasionally amuses but none of which amounts to much of a story .1\n",
    "\n",
    "# the Phrase column includes the training examples\n",
    "# the Sentiment column includes the training labels\n",
    "# \"Remorseful\" for remorse of wrong doing\n",
    "# \"Resentment\" for resentment of justice system\n",
    "# \"Other\" for other sentiment of last statement\n",
    "\n",
    "import numpy as np\n",
    "import pandas as p\n",
    "\n",
    "# train=p.read_csv(\"/Users/byu/Desktop/data/kaggle/train.tsv\", delimiter='\\t')\n",
    "# train=p.read_csv(\"C:/Users/IST 736 Text Mining/offenders_Label_ROR_sample.csv\", encoding= 'unicode_escape')\n",
    "train=p.read_csv(\"C:/Users/IST 736 Text Mining/offenders_Label_ROR.csv\", encoding= 'unicode_escape')\n",
    "y=train['Label'].values\n",
    "X=train['Last Statement'].values"
   ]
  },
  {
   "cell_type": "code",
   "execution_count": 2,
   "metadata": {},
   "outputs": [
    {
     "name": "stdout",
     "output_type": "stream",
     "text": [
      "[\"Yes, I do, Grace Kehler is that you? I have given Warden  Jones a written statement that will explain a lot more. I hope this will bring  you closure and answers to some questions. I hope this will bring you peace and  I'm sorry for all the pain and suffering. I'm sorry it went on for a terribly  long time. I'm sorry to you especially Grace Kehler. To the Kehler, Johnson and  Crain family, I pray that you won't hate Jesus, the letter will explain more.  I'm sorry. I'm sorry. I hope that my death will bring you peace and closure. I  pray that maybe someday will bring you peace. I hope that you could forgive me,  but if you don't I understand. I don't think I could forgive anyone who would  of killed my children. I'm sorry for your suffering you've had for a long time.  I'm sorry, I'm sorry. I love you Lord Jesus, Lord Jesus.\"\n",
      " 'Yes sir, I would first like to say to the Sanchez family  how sorry I am. Words cannot begin to express how sorry I am and  the hurt that I have caused you and your family. May this bring you peace  and forgiveness. I am sorry.'\n",
      " \"Yes, I made peace with God. I hope y'all make peace with this.\"\n",
      " \"I don't have anything to say, you can proceed Warden Jones.\"\n",
      " \"I just want to tell my family thank you, my mom and  dad and sister and Sabrina. I love you Mercedes. I am sorry to David's family.  This is only way that I can be forgiven. You got your justice right here.  That's it. My trust in Jesus.\"\n",
      " \"I would like to thank everyone that has showed up on my  behalf, Kathryn Cox, I love you dearly. Thank you Randy Cannon for  showing up and being a lifelong friend. Thank you Dr. Steve Ball for  trying to bring the right out. There are a lot of injustices that are  happening with this. This is wrong. Thank you Reverend Leon  Harrison for showing me the grace of God. Thank you for all of my friends  that are out there. This is not a capital case. I never had  intended to do anything. I feel very grieved for the loss of Walker, and  for Donovan and Marissa Walker. I hope they can find peace and be  productive in society. I would like to thank all of my friends on the row  even though everything didn't work, close isn't good enough. I hope that  positive change will come out of this.\"\n",
      " \"Yeah, first off, I want to say that I am sorry for the  pain that I have caused you people. I am sorry that I cannot bring  everybody back. I wish it could be different. I know it would be  hard for you to understand what went on that night, I can't bring them back as  much as I would like to. I love my daughter and all of my  supporters. I pray that the Lord take care of me and all of you. I  have no bad sentiment towards anyone. I can understand your outrage and  why you are mad at me. God be with all of us.\"\n",
      " \"To my family, to my mom, I love you. God bless you, stay strong. I'm done. \"\n",
      " 'Sending me to a better place. I am alright with  this, you have to live and die by the choices that we make. I have made  mine. I love you Renee, I am gonna carry your heart and always carry my  heart in your heart. I am ready.'\n",
      " \"Yes, I would like to thank all of my supporters and  loved ones. I love you, love y'all, always going to be with y'all.  Thank you Warden.\"\n",
      " \"Shelby, God bless your heart. To my family, I  love them and everybody that showed support. Thank you to all of my  cousins and aunts and uncles that showed support and that prayed for me.  From California to New York thank you for all of your support. Pope  Francis, God's children has asked the State of Texas to switch my death  sentence to life in prison. But the State of Texas has refused to listen  to God's children, they will have to take that up with God. Let everyone  know it's not over. To Wesley Ruiz aka Slope, keep your head up, keep  your faith in God. To my family I love y'all. That's it Warden.\"\n",
      " '(Spanish) To the Solano family, I want to tell them to  forgive me. While I am still alive I bring suffer to you all. The harm  that I did to your dad and husband, I hope this brings you closure to all of  you. I never wanted to hurt any of you all. I received your card  and I want to thank you all.'\n",
      " \"I would like to thank you. I hope this execution  helps my family and also the victim's family. This was never meant to be,  sure beyond my power. I can only walk the path before me and make the best of  it. I am sorry for putting y'all through this. I am sorry, I love  you. I am ready. May we all go to Heaven. Thank you Warden Jones.\\x9d\"\n",
      " \"Yes, I would like to thank my family and friends for what  y'all have done for me. Thank you for being here with me that I do not  have to transition alone. I have peace. To my daughter, I love you,  to my grandbabies, sisters and brothers, I love you. I am ready to go  home.\\x9d\"\n",
      " '\"Much has been written about this case, not all of it has been the truth. But the time is over and now it is time to move on. I want to thank my attorneys for all that they have done. The have afforded me the last quarter of a century. I would like to thank my wife, my daughters, family and friends for unwavering support, and all of the letters and well wishes over the years. Now it is time to pass on. I have fought the good fight, I held the faith. I am not going to say goodbye, I will simply say until we meet again. I love you very, very much. Thank you Warden.\"'\n",
      " \" I'm ready to go home. \"\n",
      " '\"Thank you for being here. I am sorry for all of the pain that I have caused my family, friends, and extended family. Especially to the Police Officers, I know you probably hate me. What happened between me and Rocky happended too fast. I didn\\'t know what happened. I wish y\\'all peace and love. I hope you have found God just like I have. God bless y\\'all. I will see you on the other side. I love you.\"'\n",
      " \"I would like to apologize to the Moreno family and the Steinfeldt family for all of the trouble I have caused them.  I would like to apologize to my family for all of the trouble that I have caused them.  I would also like to thank my family for all of their support.  I guess that's it.\\x9d \"\n",
      " 'Yes sir, I want to say I love you to all my family and friends. Thank you Lord for your mercy and unconditional love. In Jesus name I pray, Amen.'\n",
      " \"That each new indignity defeats only the body. Pampering the spirit with obscure merit. I love you all, that's it. \"\n",
      " 'Joanna I really love and care about her, I appreciate  her. There is a drawing that I forgot to tell you about, send it to  Stacy. Art, I appreciate you. Joanna, tell my family I love them  all. Trix I love you too. '\n",
      " 'There are no endings, only beginnings. Love yall, see you soon. '\n",
      " \"To the victim's family, I want you to know that I hope  you let go of all of the hate because of all my actions. I came in as a  lion and I come as peaceful as a lamb. I'm at peace. I hope society  sees who else they are hurting with this. To my loved ones, I hope both  victims find in their hearts to forgive me, and I have forgave everyone and I  love everyone, pray for my soul and I forgive myself. I love y'all and  I'll be waiting for y'all, my brother take care of my family. Take care  of my girl, my mom, my sons and all of my loved ones. Brother Wayne and  Brother Joe, thank y'all. Jorge don't give up on Luis, I'll be  listening. Thank you for everything. Father I commend my soul,  please take care and watch everybody I leave behind. I am ready  Warden. Father please accept my soul. I am sorry, I love y'all, I  am always going to be with you. I love y'all, I love y'all. I love you  Father, I love you Father, I love you Savior.\"\n",
      " \"I just want to tell my family  I love them; my son, I love him. The girls on the row, I love them and keep  their heads up. Tell Darlie I love her, hand in hand. God bless y'all. I'm  alright. Tell them I finished strong. I love y'all. I'm done. I love you,  Richie. I love you. Thank you, Brad and John, all of y'all. God is good. I love  you, Auntie. I'm done.\"\n",
      " \"Nesha, I love you. I hope this brings you some closure. Titus, if his kids are out there, I'm sorry for your dad. Shan, Charlotte, Baisey, I love you. T.T., I love you. Stay strong.\"\n",
      " \"(Written statement) \\r\\r  I always said that if I even get to this point, I would have already said everything that needed to be said to all of those who I love and have been with me throughout this whole journey. Today, I realized that I can never say everything that needed to be said, because there is still so much that needs to be said. First of all, I love you. My children, my friends, and all my brothers who have shared this experience with me on the row and who continue to experience this without me, keep your heads up. I love all of you. Secondly, I am ok. I have peace in my heart and ready for the next journey. I'm really ok. Last but not least, to my true brother in life, Crazy J, I love you, man. You and Bella have been the best. I'm sorry I couldn't talk with you before all of this, but you know me...You are my bro. I love you. I'm ok. My babies, remember what I said. We'll be together soon. I love all of you. John 14:27. \"\n",
      " \"Yes, sir. First I would like to thank God for letting me see my family. I say this with love, I'm sorry. I say this for my family with love and with God, I love you. I'm happy, and I would like to say on behalf of my family, I love y'all. I am happy. I look into my family's eyes, and I see sadness. Don't be sad, I'm happy. I am sorry for what I have done. Be mindful that I am happy till the end. To the family of my boss, I love you. Young people, listen to your parents; always do what they tell you to do, go to school, learn from your mistakes. Be careful before you sign anything with your name. Never, despite what other people say. God is with y'all. God is the only witness that knows what happened that night. I, Ramiro Hernandez, say this with lots of love to young people, listen to your parents please. Live your life to the fullest, you only live your life once. To the prison system, I would like to thank y'all. Thanks to the officers and to the warden that are going to witness this. I say this with a lot of love and happiness. I have no pain and no guilt. All I have is love. Love will win. Thank you God, I am going with you. \\r\"\n",
      " \"(Written statement) \\r\\r  I just want to make a statement to all my friends, family, and supporters. Thank you all for the love. To the Christian hip-hop community, all the positive brothers I've done time with. To all the people that took the time to write a letter. Thank you.\\r\\r    To my family, we are one. To my beautiful daughter, the best thing that ever happened to me. I love you endlessly. I am you and you are me forever.\\r\\r      Lastly to God himself....Thank you being a gracious friend to me.  I love you with all my heart, mind, strength, in Jesus name.\"\n",
      " \"I would like to tell the Canfield family I'm sorry; sorry for your loss. I wish I could take it back, but I can't. I hope this gives you closure. I did not murder your loved one, it was an accident. I didn't mean for it to happen. I take full responsibility.\"\n",
      " \"The best time in my life is during this period. If I had to do again, I would not change a thing. I have been touched by an angel's wings. If I had it to do again, I would change Dwyer's parents suffering, because I know they are. I know that is not going to eliminate the pain, because I have a child. God, I want to say something so bad. I appreciate the people that helped me out. I appreciate the people that helped me out, and uh, know that I love you, Angel and your family and all the people that helped me out. And if this takes the pain away, so be it. I love you. I'm ready to go. \"\n",
      " \"I love you. To Gerald: you're a zero. I love you Mandy, Tiffany. I love you, too. \"\n",
      " \"I don't know if you remember back in 2000, you were happy the way it happened. You were looking for me yourself and would have taken care of me yourself. I am glad it happened this way. I wouldn't want to see you in my shoes. You would have probably been here, not me. I wouldn't wish this on you. I hope this can bring some relief to you and your family. I have no hate for you.\"\n",
      " \"I want to thank all of my family and friends for supporting me. I love you and I'm glad that ya'll are by my side through this whole thing. I know it's hard for ya'll. I love you Jennifer, mom, Jaime, Cory, David. Thank God for you being there for me. It's not easy, this is a release. Ya'll finally get to move on with your lives. Take care of my kids and stay strong, life has to go on. We've all lost grandpas, brothers, and sisters. Support and love each other. Don't fight with each other. I love you.\"\n",
      " 'I hereby declare, Robert Steven Everett and Nicholas Velasquez, guilty of crimes against me, Douglas Alan Feldman. Either by fact or by proxy, I find them both guilty. I hereby sentence both of them to death, which I carried out in August 1998. As of that time, the State of Texas has been holding me illegally in confinement and by force for 15 years. I hereby protest my pending execution and demand immediate relief.'\n",
      " \"Yes, I want to thank my family for supporting me through this. I love ya'll. I don't fear death. I'm fine, I'm OK. To my friends and my loved ones, Miriam, I love you, thanks for being here for me. This is what it is. I know this is hard for ya'll, but we are going to have to go through it. We know the lies they told in court. We know it's not true. I want you to be strong and keep going. \"\n",
      " 'Yes, I would like to tell my wife that I love her and thank her for all the years of happiness. That will be all, Warden.  '\n",
      " \"I just wanted to say thanks to all who have supported me over the years: Reverend Campbell, for my spiritual guidance; Aaron, the father of Darrian, my son; and Maurie, my attorney. Thank you everybody. This is not a loss, this is a win. You know where I am going. I am going home to be with Jesus. Keep the faith. I love ya'll. Thank you, Chaplain. \"\n",
      " \"I just want to say I don't want you to have hate in your heart for me, because I took your loved one. I know it doesn't mean anything; I told the truth because I feel like you should know who killed your loved one. God watches everything. Don't hate me, if you do, you'll have to deal with Him later. For me, live your life but don't hate me. I'm sorry for taking your loved one.\"\n",
      " \"You clown police. You gonna stop with all that killing all these kids. You're gonna stop killing innocent kids, murdering young kids. When I kill one or pop one, ya'll want to kill me. God has a plan for everything. You hear? I love everyone that loves me. I ain't got no love for anyone that don't love me.\"\n",
      " 'First of all; Shonna talk to your brother. He\\'ll tell you the truth about what happened to your husband. I told Bubba to tell you what happened. Now, my statement to the world:  I am in the midst of truth. I am good, I am straight, don\\'t trip. To all my partners, tell them I said like Arnold Schwarzenegger, \"I\\'ll be back.\" These eyes will close, but they will be opened again, my understanding of God is, Jesus has got me through. To my family, I love ya\\'ll. '\n",
      " \"Life is death, death is life. I hope that someday this absurdity that humanity has come to will come to and an end. Life is too short. I hope that anyone that has negative energy towards me will resolve that. Life is too short to harbor feelings of hatred and anger. That's it.\"\n",
      " \"To my loved ones and dear friends, I love ya'll and appreciate ya'll for being there. I am going to a better place. To all the guys back on the row, keep your heads up, keep up the fight. I am ready. Let's go.\"\n",
      " \"Ms. Connie Hilton, I'm sorry for what happened to you. If I hadn't raped you, then you wouldn't have lived. If you look at the transcripts, I didn't kill Mr. Newman and I didn't rob your house. There are two people still alive. I was just there. When I saw you in the truck driving away, I could have killed you but I didn't. I'm not a killer. My momma was abused. I'm sorry for what you've gone through. It wasn't me that harmed and stole all of your stuff. If you look at the transcripts you will see. I ask the good Lord to forgive me.\"\n",
      " \"Hey mom and pop. I love ya'll, all of you people in there. You know, ya'll have to come together, you too Terrella. Ya'll work on that. We all have to stand before God at the end of the day. Don't ever think you're perfect, none of us are perfect. God is the only one that is perfect. Jesus is perfect. I did wrong, now I am paying the ultimate price, even though it's a crooked way. I don't hate ya'll. Don't judge, I'm not judging. God has to judge those people. I forgive. Always remember, Romans 12:19 is for real, hell is for real. If ya'll don't have your life right, get it right. We all have to die to get to heaven. Get your life right with Christ; it's coming to an end. I'm talking to each and every soul in this building, in this room. I don't hate nobody, you're doing what you think is your job. God's law is above this law.\"\n",
      " \"Yes, Warden. Mom, Celeste: Please know I'm innocent and I love you both. Please continue to fight for my innocence even though I'm gone. John, Cort, Allen, Barbara, Louis, and Anna: Thank you for helping me and trying to save my life. I love you. Give everybody my love. Jason, thank you for your friendship. Thank Laura, too. I love all of you. Bye. Ok, Warden.\"\n",
      " \"Can you hear me? Did I ever tell you, you have dad's eyes? I've noticed that in the last couple of days. I'm sorry for putting you through all this. Tell everyone I love them. It was good seeing the kids. I love them all; tell mom, everybody. I am very sorry for all of the pain. Tell Brenda I love her. To everybody back on the row, I know you're going through a lot over there. Keep fighting, don't give up everybody.\"\n",
      " \"To all of ya'll over here: Mr. Bivins, Allen, Joey, all of ya'll back there, I am truly sorry. I never meant to cause ya'll so much pain. Not one day has passed that I wish I could take it back. After today, I hope you can go on. I hope this brings you closure. God knows I didn't want to do what I did. I loved your daughter. I hope to God, He lets me see her in Heaven so I can apologize to her. I'm sorry. I'm glad ya'll came. Joey, I am really sorry, Joe.\"\n",
      " \"To the victim's family, I am sure I know that I took somebody special from ya'll. I know it wasn't right, it was wrong. I wish I could give it back, but I know I can't. If giving my life in return makes it right, so be it. I ask that ya'll forgive me. I know God forgave me. I know He has forgiven me for what I did. I don't believe that taking my life will solve anything. I believe that if I was locked up for the rest of my life, that would be more of a punishment. To do this is setting me free. God bless ya'll. I wish there was something I could do.\"\n",
      " \"I'm an innocent man. I did not kill anyone. Ya'll are killing an innocent man. My left arm is killing me. It hurts bad.\"\n",
      " 'Yes, you know I sat in my cell many days wondering what my last words would be: love for my family, grandson, friends. I love you very much. Tonight when I close my eyes, I\\'ll be with my Father. Some time ago I got a letter, I read it, and stuck it in with a bunch of stuff; and I thought to myself, what a cold-hearted person. I was asked about the letter, I spent half the night looking for the letter. A little part of the letter touched me. Over the years I have learned to love. God is everything. God is my life. Tonight, I will be with Him. I am a parent myself.  I have so much for this dear lady. I understand where they\\'re coming from, I thought every person was cruel. I love you so, Susan. You know what it is girl, love ya. Maurie, appreciate it girl. Much love to you all. Mrs. Cox, love you. Momma, you are my hero. I wish this world was just like you. Another mother got hurt, as a parent I understand the pain. That letter she wrote wasn\\'t wrong, she was just hurting. She showed God\\'s love for letting me know that love will be there to welcome me home. I love you all. I don\\'t know what you are going to feel after tonight. I love you. I pray one day we will all meet in heaven. A man told me 11 years ago the hardest thing to say is, \"I forgive you.\" Hope one day we all be together again. I love you all: Susan, Mrs. Cox, momma, Maurie, Michael. Grandbabies make the world go around. I love you all. Warden, I am looking to leave this place on wings of a homesick angel. Ready to go home to meet my maker. What a friend we have in Jesus, oh my God, I lay in awe \\'cause I love you God. I love you momma. I love you Susan. \\r'\n",
      " \"I want to tell ya'll, know that I love you. Billy, I love you, English, Hart and Eloise. Dwight, take care of Dwight. I'm going home, I'm going home. I'll be alright, don't worry.  I love ya'll. God bless and the Texas Rangers, Texas Rangers. \\r\"\n",
      " \"Bohannon, Peg and Kim, I love ya'll. Son, get your life right with Christ, also your mother. Give mom a hug for me and tell her that I love her. Ya'll do understand that I came here a sinner and leaving a saint. Take me home Jesus, take me home Lord, take me home Lord. I ain't left yet, must be a miracle. I am a miracle. I see you, Rich. Don't cry son, don't cry baby. I love ya'll. I'm ready. \\r\"\n",
      " \"Yes, I would like to tell my family that I love ya'll and I wish ya'll well. I'm ready. \\r\"\n",
      " \"First, I want to let my mom know not to cry, there is no reason to cry, everybody dies. Everybody has their time, don't worry about me. I'm strong. To my family: my old man, my kids, daddy is sorry. I love each and every one of you. I'll be looking for you. To my wife, I love you. The last two years have been the best. All my kids, mom, nieces, and nephews, I am proud of all of ya'll. I love each and every one of ya'll. I really love ya'll.\"\n",
      " \"Tell my son I love him very much. God bless everybody. Continue to walk with God. Go Cowboys! Love ya'll man. Don't forget the T-ball. Ms. Mary, thank you for everything that you've done. You too, Brad, thank you. I can feel it, taste it, not bad.\"\n",
      " \"All I want to say is I'm innocent, I didn't kill my wife. Jack Leary shot my wife then her dope dealer Guy Fernandez. Don't hold it against me, Bill. I swear to God I didn't kill her. Go ahead and finish it off. You can taste it. \"\n",
      " \"Yes, I do. First of all for the Aubrey Hawkins family, I do apologize for everything that happened. Not because I am here, but for closure in your hearts. I really believe that you deserve that. To my wife, Cheri, I am so grateful you're in my life. I love you so dearly. Thank you to my sister and dear friend Katherine Cox, my son and family, friends and family. I love you so dearly. To my friends, all the guys on the row, you have my courtesy and respect. Thank you to the people involved and to the courtesy of the officers. I am grateful for everything in my life. To my wife, take care of yourself. I will be waiting for you. I love you. God Bless. I am ready to go. \"\n",
      " \"Yes, I want to tell everybody that I love everybody. Keep your heads up. We are all family, people of God Almighty. We're all good. I'm ready. \"\n",
      " \"To the family of Alyssa Vazquez, I hope you will find peace in your heart. My sympathy goes out to you. I hope you find it in your heart to forgive me. I don't know why all of this happened.\"\n",
      " \"Thank you, Jesus Christ. Thank you for your blessing. You are above the president. And know it is you, Jesus Christ, that is performing this miracle in my life. Hallelujah, Holy, Holy, Holy. For this reason I was born and raised. Thank you for this, my God is a God of Salvation. Only through you, Jesus Christ, people will see that you're still on the throne. Hallelujah, Holy, Holy, Holy. I invoke Your name. Thank you, Yahweh, thank you Jesus Christ. Hallelujah, Amen. Thank you, Warden. \"\n",
      " 'No, I have no final statement. '\n",
      " \"You're not about to witness an execution, you are about to witness a murder. I am strapped down for something Marcus Rhodes did. I never killed anybody, ever. I love you, Mom. I love you, Tali. This is wrong. This whole thing is wrong. I can't believe you are going to let Marcus Rhodes walk around free. Justice has let me down. Somebody completely screwed this up. I love you too, Mom. Well Warden, if you are going to murder someone, go ahead and do it. Pull the trigger. It's coming. I can feel it coming. Goodbye.\"\n",
      " 'I love you Israel. '\n",
      " \"Even though I lay on this gurney, seconds away from my death, I am at total peace. May the Lord Jesus Christ be with me. I am at peace. Hate is going on in this world and it has to stop. Hate causes a lifetime of pain. Even though I lay here I am still at peace. I am still a proud American, Texas loud, Texas proud. God bless America, God bless everyone. Let's do this damn thing. Director Hazelwood, thank you very much. Thank you everyone. Spark, I love you, all of you. I love you Conna. It's all good, it's been a great honor. I feel it; I am going to sleep now. Goodnight, 1, 2 there it goes.\"\n",
      " \"I am sorry for everything that I have done. I've hurt a lot of people. For years I have never thought that I deserved any type of forgiveness. Lord Jesus Christ in my life, I know He has forgiven me, I have accepted His forgiveness. I have accepted everything. Let this be final and be done. I take the full blame for this. I am sorry and forgive me. I am truly sorry. I ask for forgiveness. Life goes on and it surely does. I am sorry for the victim's family for what I had did. May they forgive me. I don't know if you believe me, life goes on. I am sure it does. To the man to the right of me, I ask for forgiveness for you. Life goes on, it surely does. I ask for forgiveness. I am truly sorry. That is all. Let's get this show on the road. One more thing, Viva Mexico, Viva Mexico.\"\n",
      " \"Yes, sir. I just want to say to all my supporters, family and friends; I love y'all and appreciate y'all. To the ones representing me today, thank you for everything. The system has failed me. This is a miscarriage of justice. There are people on death row that need help. I love my family. I love you too, Mom. I am alright. I asked the Lord to have mercy on me and I hope He has mercy on these people carrying out this mass slaughter. They have no respect for humanity.  To Melanie, I never meant to hurt you. You were just in the wrong place at the wrong time. I am not asking for your forgiveness. All I have to worry about is God forgiving me. I hope you get better and for the doctors to continue to take care of you. Take care of my mother for me. To everybody, know that I love you and I am OK. Lord, have mercy on my soul. Lord, have mercy on my soul. Lord, have mercy on these peoples' soul. Life is not supposed to end this way. No more pain and frustration. When I knock at the gates, they will open up and let me in. To my mom and everybody, I love you. I can feel it right now. My life, my life.\"\n",
      " \"Yes, sir. Jennifer, I love you. Mom, I love you. Rick, take care of you. For all of you people, I defended myself when I killed your family member. Prison is a bad place. There was eight against me. I didn't set out to kill him. I am sorry that I killed him, but he would not have been in prison if he was a saint. I hope ya'll understand that. I love you, baby.\"\n",
      " \"Noel, I love you man. You have been there for me through thick and thin, you and Brigitta. Be there for each other. I am at peace, we have no worries, just as I have no more worries. To the victim's family, may you be at peace also. \"\n",
      " \"Yes, Tell my sister Tracey, I love you. Nicole, thank you and I love you. Wanda and all of my friends, I love you and thank you for your support. To the State of Texas, I am an innocent man. Never trust a court-appointed attorney. I am ready Warden. Thank you, Brad, I'm sorry. Check that DNA, check Scott. Here we go. Lord Jesus, Jesus.\"\n",
      " \"First of all I would like to give my sincere   apology to Amy's family. We caused a lot of heartache, grief, pain and   suffering, and I am sorry. I know it won't bring her back. I would like   to sing, I would like to sing for that person's dead. The old is gone. I   am not the same person that I used to be, that person is dead. It's up   to you if you would find it in your heart to forgive.\"\n",
      " \"No sir. Warden, Since I don't have nothing to say, you can go ahead and send me to my Heavenly Father.\"\n",
      " \"Yes, I want to start off by saying to everyone know that's involved in this atrocity that they are all forgiven by me. Mom, I love you.....(crying) I am ready to go Warden. Coming home dad, coming home dad.  \"\n",
      " \"Yes, I do, uh at this time I would like to thank my parents who have been my pillar of strength throughout this. To my brothers and sisters and all my family members who have supported me and who have loved me despite my faults and imperfections. I would like to thank Pastor Williams for counseling me and guiding me. As I look to my right and I see the family of Forest Hall. I hope this brings you closure or some type of peace. I hope it helps his family, son and loved ones. This has been a long journey, one of enlightenment. It's not the end, it's only the beginning.  \"\n",
      " \"Yes, first I want to tell the victim's family, Wendy's family, I am sorry for taking something so precious to you and to my kids. I wish I could take it all back and change it, but I know I can't. I hope you can find it in your heart to forgive me. Please tell Robert and Eric, I love them. I hope they forgive me. To my family, thanks for being beside me, Sabrina, you are a wonderful daughter, I am proud of you. Jr., John, you turned out to be a great young man. Hector, you too. Amy, thank you for always being there. Tell your family I love them. To my family, I appreciate you always standing by me and everything ya'll have done. Tell, everyone I love them. I'll be OK. You will too. Remember what asked you. Give my love to the grandchildren. Tell Jake and Mia, Papa Alba loves them. Okay Warden, let's do it, I love yall. I can taste it already. I am starting to go.  \"\n",
      " \"Yes, I do, Victor, Gary Hey bros, I know you can hear me, I can't hear you. I was in there right now thinking how we grew up... You know how we grew up in the same house. We need to love each other like we use to. Deena, Bob we were raised in the same house, we need to take care of each other and love each other like we use to. Adela I love you, Mijta, I need you to take care of your mom. We need to love each other like we use to. Juana, all the kindness that you showed me. Taking the time to show me the friendship that you did. I can never repay that. Take of yourself OK; you see I am doing good. I am OK. Thank you for showing me that I can be loved again. You showed me a love that I sometimes didn't deserve. I love you for that. You need to take care of yourself. I am going to be OK; I know where I'll be. I love you, I love you, I love you, I love you , I love you, I love you too bro. Take care of yall. May God have mercy on my soul. I thought it was going to be harder than this. I am ready to go. I am going to sleep now. I can feel it, it's affecting me now.  \"\n",
      " \"If I can go back and change the past I would, there's nothing I can do. I'm sorry. I love you Adonya. That's it.  \"\n",
      " \"I am going to start with the victim's family. I know I took someone very precious to you. Myself and Mr. Galloway who you will see tomorrow. Please forgive me. God has given me peace. I love each and every one of you. You have to forgive me for you to gain the kingdom of Heaven. I wish what was torn from you was not. I do know how it feels to have lost loved ones. This was the only way God could save me; I would pay it back a thousand times to bring back your loved ones. I would pay it gladly. I love each and every one of you and hope you can find forgiveness for me. I don't require your forgiveness, because God has forgiven me. Sorry, I hope you find peace. God's love is infinite. If you hate me, please give it up. I forgive you and I hope you can forgive me. Mom, you are my strength. Kathy we've had some good memories, you are still the monkey. Mom, this is nothing, I am going to go to sleep and wake up with Jesus. This is the only way God could save me. Stefanie, she is my heart, say goodbye to Stefanie. I do not want anybody to mourn my death, celebrate my life. God loves me and God loves you. Mom, you didn't do anything wrong. Thank you, Warden, Thank you Chaplain, Thank you God, I am ready to go. God please take me home. I am ready Warden. Thank you Jesus. I am going mom. \"\n",
      " \"Samantha, I love you with all my heart and soul. Cori, thanks for everything, make sure my princess is all right. Death before dishonor. Cori, I think you should continue with criminal law. It's your decision; they need lawyers out there that will fight. Death before dishonor. Warden let her rip. Thank you for coming Irene.  \"\n",
      " \"Yes I do, I would like to thank my family for their support, love and understanding. I would like to point out some things, I got your letter. It touched me and changed me. What happened was I been wanting to apologize to yall for your son. They told me not to do it in court. I wrote him a letter but they told me that they tore it up in court. I am not the monster they made me out to be. I made lots of mistakes that took your son. I'll take it to the grave, I will be at peace. You have test and drug results to show it. I am not just taking. I messed up, made poor choices. No rapes, I don't do drugs, I am not an alcoholic. Back to my family, Thank yall for being here. It is what it is. I got peace in my heart. Thank you. Bye bye yall. Bye bye peanut.  \"\n",
      " \" I do, I want to address you, I am sorry. I don't know who you are. I am sorry I put you through some things that I can't take back. I am sorry. This isn't going to change anything. Sorry for putting you through this. This is creating more victims. I am sorry, I put you through this. I love you man, I love you. This is not gonna change anything. This person shoe did that 10 years ago isn't the same person you see today. I hurt a lot of people with decisions I made. I can't be more sorry than I am right now. I hurt the Lopes family, let this be a lesson. Your decisions affect everybody. Look after your sister for me. I am always gonna be with you. I love you too Shay I love you if your listening I am sorry to be putting everybody through this. This is the end of this, time to move on. I hope this brings you peace, I am sorry. I told your sister my last words. Danielle, you know that I love you. You know that you have my heart, I've enjoyed these times. I love you little hef.  \"\n",
      " \" Yes sir, I would like to ask forgiveness of the family. I have no reason for why I did it, I don't understand why I did it. I hope that you can live the rest of your lives without hate. I pray the Lord grant me forgiveness. All powerful and almighty Lord I commit myself to thee, Amen. \"\n",
      " \"Tell my family goodbye. I can't see them. Jenny, you keep your promise to me, O.K.? Dell, you take care of Gaylene always. Dixie watch over all the kids. Tell them thank you for coming down. Jennie talk to them O.K.? Talk to Jennie, O.K. Dell. Dell you tell the rest of them what they did was wrong for letting me fall for what they did. I never done anything in my life to anybody.  \"\n",
      " \" Bye, I'm Ready. \"\n",
      " \"Yes, I bear witness that there is no God, but Allah. From Allah we came and from Allah we will return. To my mother, friends I would like to thank you for all that you have done for me. For you love. This is another testimony of faith. We all have to walk this path. Smile, be happy don't cry. To the family of any victims, AsSalaam Alaikum, unto Allah I belong, unto Allah we return. I just want you to know that I never meant any of your family to get hurt. I hope you forgive me. I know Allah will forgive me, Allah is the forgiver. Go ahead Warden. I love you, love you too. \"\n",
      " \" Yeah, I want to tell my family I love ya'll. Tell Kate I love her too. Tell brother, my kids I live ya'll. I'm gonna miss ya'll. I'm ready, ready. \"\n",
      " \" I am sorry, I never wanted to kill your family. I never wanted to kill your family or these people. I am sorry for the way I talk in English. I did it to myself. I was forced to do it. I was a gang member. I never wanted to kill your brother. I was forced to do this. I blame myself. I am not going to blame nobody. I got my mother and my family too. I was forced. I tell you from my heart. I am sorry with all my heart. That's the reality of life, I am sorry. I got to pay for it. To my family, I love you, be strong. They have family too; the way they suffer is the way I am suffering. I am asking you to go and give them hugs. Please accept their hugs. Be strong in the Lord. I love you sister. I love you all, please go and try and talk to the family. I love my family. I understand why I am paying this price. Do not have any excuses for not extending your love. I am ready Warden, I am sorry everybody, I did it. Thank you brother, don't hate nobody, I feel good. I love my family, I love you Jesus. Be strong mama, I love you sister. I love Jesus. Warden I am ready. \"\n",
      " \"Collins family, I know your not going to get the closure you are looking for tonight. I wish you the best. I prayed for ya'll every day and every night. I have only the warmest wishes. I am sorry for what you are having to go through. Mom, Pa, Kristy, Khristopher, Tony I love all ya'll. Thank you Mr. Whiteside. The Lord is my shepherd; I shall not want. He maketh me to lie down in green pastures; He leadeth me beside the still waters. He restoreth my soul; He guides me down the right paths. Yea, though I walk through the valley of the shadow of death, I will fear no evil; for thou art with me. Thou preparest a table before me in the presence of mine enemies; Thou anointest my head with oil; my cup over runneth. \"\n",
      " \"Yes I do. I know ya'lls pain, believe me I shed plenty of tears behind Carlos. Carlos was my friend. I didn't murder him. This what is happening right now is an injustice. This doesn't solve anything. This will not bring back Carlos. Ya'll fought real hard here to prove my innocence. This is only the beginning. I love each and everyone dearly. Dre My queen. I love you. Yaws, Junie I love yall. Stay strong, continue to fight. They are fixing to pump my veins with a lethal drug the American Veterinary Association won't even allow to be used on dogs. I say I am worse off than a dog. They want to kill me for this; I am not the man that did this. Fight on. I will see ya'll again. That's all I can say.  \"\n",
      " \" Yes sir, to Joseph's mom and son. I was unable to respond to you in the courtroom. I can only ask that you have the peace that I do. To my brother, you are a good brother. You're the best. And I love you. Can't beat ya. The beautiful lady standing next to you. Kathy you are next to my heart. Amber I love you. Warden, pull the trigger. I love you brother never forget it. Ronnie, Linda, Amber, Kathy. Chaplain Hart you're the best. Love you Thomas.  \"\n",
      " \"Yes, I am sorry for what I've done and for all of the pain and suffering that my actions have caused. Jesus is Lord. All glory to God.  \"\n",
      " \"Yes I do. To the Harris family. I have been trying to tell you for years that I am sorry. I know that I hurt your family bad. I am sorry. Wynona should not of even have happened. I am sorry. I truly am sorry for the hurt and pain I caused you. I hope you can forgive me. One day I hope you can move on and if not I understand. Tim Jackson, Bobby Dan Spade and Mr. Segal thank you for your lies. Your lies set me free. I couldn't do a life sentence. To my mom, I'm sorry. I love you. I'm not the big son that you wanted me to be. But, I love you. To my friends, Synnova, Kay I thank you for everything. I'm ready. I told you years ago that I was ready. Synnova tell everyone I got full on Chicken and Pork Chops. Rodney, take care of my mom. To the fellas on the row, stay strong. Renee, I love you baby. Fleetwood is up out of here. I'm ready Warden. \"\n",
      " \"Don't cry, it's my situation. I got it. Hold tight, It's going to shine on the golden child. Hold tight. I love you , I'm through with my statement.  \"\n",
      " \"No, I love you. May the Lord be with you. Peace, I'm done. \"\n",
      " \" Yes, I do. Thank you for your friendship Reverend Whiteside and thank you for your fellowship. God help me to say this statement correctly. I would like to say goodbye to mom and my brother, brother, sister, Chelsea, Danny, Johnny, Tito and Sylvia. My heart goes is going ba bump ba bump ba bump. I love my children, Roxanne, Roseanne, Melissa, and Louis. I miss them; I will take them with me in my heart. I will keep them in my heart. Thank you Mrs. Dyson for praying for me and everyone that has been praying for me. God loves everybody and myself. I can't say this correctly. Let's see. That's all right. I guess that's it. Our Father, who art in heaven, Hallowed by thy Name. Thy kingdom come. Thy will be done, On earth as it is in heaven. Give us this day our daily bread. And forgive us our trespasses, As we forgive those who trespass against us. And lead us not into temptation, But deliver us from evil. For thine is the kingdom, and the power, and the glory, for ever and ever. Amen. Lord Jesus forgive of my sins, please forgive me for the sins that I can remember. \"\n",
      " \"Yes sir, I want to tell my mom that I love her and thank her for everything that she has done for me. Tell my sister that I love her too thank her for everything that she has done for me. I hope you can move on after this. I'll be fine. I'll be O.K. I love you too. I love you too. Take care O.K. That's all I have to say Warden. Thank you sir.  \"\n",
      " ' Yes, I have to say that I am sorry for all the pain that I have caused you and your family. I only have love in my heart. I hope that you can all forgive me. I pray that you can all forgive me. Thank you for standing by me and being there for me. I am ready to go home. My baby I will always be with you. I really am sorry.  '\n",
      " \" Well, first I want to say. They may execute me but they can't punish me because they can't execute an innocent man. I am not mad. Jack Herrington, I am not mad. You were given a job to do but that's neither here nor there. I am not mad. I am disappointed by the courts. I feel like I was upset and let down by them. But that's O.K. I just played the hand that life dealt me. Look at my life and learn from it. I am very remorseful about what I did. I apologize. To my kids, Daddy loves you. Irene Wilcox, Thank you. It's been a long journey. Thank you for being there. Tell Jack hello. I know I am wrong but I am asking ya'll to forgive me.  \"\n",
      " ' The Polunsky dungeon should be compared with the Death Row Community as existing not living. Why do I say this, the Death Row is full of isolated hearts and suppressed minds. We are filled with love looking for affection and a way to understand. I am a Death Row resident of the Polunsky dungeon. Why does my heart ache. We want pleasure love and satisfaction. It. The walls of darkness crushed in on me. Life without meaning is life without purpose. But the solace within the Polunsky dungeon, the unforgivesness within society, the church Pastors and Christians. It is terrifying. Does anyone care or who I am. Can you feel me people. The Polunsky dungeon is what I call the pit of hopelessness. The terrfying thing is the US is the only place, country that is the only civilized country that is free that says it will stop murder and enable justice. I ask each of you to lift up your voices to demand an end to the Death Penalty. If we live, we live to the Lord. If we die we die to the Lord. Christ rose again, in Jesus name. Bye Aunt Helen, Luise, Joanna and to all the rest of yall. You may proceed Warden. (began singing)  '\n",
      " 'Is the mic on? My only statement is that no cases have ever tried have been error free. Those are my words. No cases are error free. You may proceed Warden. '\n",
      " \" Yes, nothing I can say can change the past. I am asking for forgiveness. Saying sorry is not going to change anything. I hope one day you can find peace. I am sorry for all of the pain that I have caused you for all those years. There is nothing else I can say, that can help you. Mija, I love you. Sis, Cynthia, and Sandy, keep on going and it will be O.K. I am sorry to put you through this as well. I can't change the past. I hope you find peace and know that I love you. I am sorry. I am sorry and I can't change it.  \"\n",
      " 'I love my family. Thank you for all of your support. Stay strong. I am at peace. I love you and my kids. See you. '\n",
      " ' Yes I do. Um Abel, Love ya\\'ll, Evelyn love ya\\'ll, Armando and Delia I love ya\\'ll. Do what I told you and you will see me one day. Do that and promise me. First, Veronica\\'s sister. I know what you\\'ve been told and that\\'s all a lie. John Gomez killed your kids and sister. I know ya\\'ll love John Gomez but he was a violent man. I wish I would have shot him in the leg, then he would be here. Those investigators were just trying to convict somebody. My gun had a hair trigger. Veronica told me to come and get my herb book and she went to the back of the closet. Her kids had asthma and I lent her the book. She said she would give it to me next time. She didn\\'t want to break up, we still talked. She told me to come over. John Gomez said Veronica does not have the money for your book so don\\'t come over. Me being a hot shot I went over there and I had my gun. I had children and nephews where I lived so I had to keep my gun in my truck for self defense. Veronica invited me in her house, the kids were still awake fixing to go to bed. I put the gun under my shirt and said Hi to Josh and Cassandra. John Gomez was there he told Veronica that \"he doesn\\'t love you\" I didn\\'t care.  '\n",
      " 'I already gave my statement. (talked to family) Love you all, take care. Bobby Nell Love ya.  '\n",
      " \" I would like to say that Capital self defense is not Capital Murder. I would like to make a statement to my wife and family, thank you for your support. I love you Roxanne, Kaye. Thank you Saint Gabriel's Church. Sylvia I appreciate you and thank you. All right Warden. (After the official last statement ended, he said I love you Mom.)  \"\n",
      " 'Yes, Sir. I love you Irene and I want to thank you for all the beautiful years of friendship and ministry. I love you.  '\n",
      " \"I love you all. You have been there for me through this whole thing. Take comfort in each other, I love you all. I will take you to Heaven with me. I will always be with you. I love you, Chantal. I love you, Zena. Tell Robin I love her, she is my one and only. She is a beautiful child. I will pray with this man down here and we will go: Our Father, who art in Heaven, hallowed by thy name. Thy kingdom come, thy will be done, on Earth as it is in Heaven. Give us this day our daily bread and forgive us our tresspasses, as we forgive those who trespass against us. And lead us not into temptation, but deliver us from evil. For thine is the kingdom, and the power, and the glory forever. And ever, Amen. I love you Chantal I love you baby. I am yours, and we are one. Let's go, Warden.  \"\n",
      " \" Yes. From Allah we came and to Allah we shall return. I would like to give thanks for the unjust way my trial attorneys John Donahue and Frank Hollbrook purposely denied me a fair trial. I would like to thank Walter E. Reeves for bringing up claims that did not exist. Most importantly, I would like to thank John Hurley, who was suppose to be off my case but was granted to be back on. For those who kept agreeing with me, keep it real. Ya'll will always stay real in my heart. Barbara, I love you, Al and Paul, I love you. Jess and Chong, I love you now and forever. I am ready for the transition.  \"\n",
      " \"First off I'd like to say to Mr. and Mrs. Carrier, I apologize for your pain and suffering. I pray Lord, please forgive me. To my family, to my brother Gerard, I love you, Harold, I love you. To my step father Paul, I love you. Momma, I will always love you. Take care of my daughters, Kaneisha and Ieisha. Dad loves you. Continue to pray for me, I am fine. I have made peace with God. Please don't ever forget me. I love you mom. I love you all, take care. I love you too pop, keep your head up. Take care. I am going to sleep. \"\n",
      " \" Hello, ain't got to worry about nothing. I am going home. I hope to see all of ya'll one day. Lord have mercy on my soul. For the Flake family, stay strong. It's bad to see a man get murdered for something he didn't do, but I am taking it like a man, like a warrior. I am going home to Jesus. I love ya'll, peace. Iam ready sir... Don't forget to tell my daughter,,, I am ready, Warden. \"\n",
      " 'Yes I do. There has been a lot of confusion on who done this. I know you all want closure. Donna had her Christianity in tact when she died. She never went to a drug house. John Adams lied. He went to the police and told them a story. He made deals and sold stuff to keep from going to prison. I left the house, and I left him there. My only act or involvement was not telling on him. John Adams is the one that killed Donna Vick. I took a polygraph and passed. John Adams never volunteered to take one. I have done everything in my power. Donna Vick helped me; she took me off the street. I was a truck driver; my CDL was still active. Donna gave me everything I could ask for. I helped her around the yard. I helped her around the house. She asked if there were anyone else to help. I am a Christian myself, so I told her about John Adam. We picked him up at a dope house. I did not know he was a career criminal. When we got to the house he was jonesin for drugs. He has to go to Dallas. I was in the bathroom when he attacked. I am deaf in one ear and I thought the T.V. was up too loud. I ran in to the bedroom. By the time I came in, when I tried to help her, with first aid, it was too late. The veins were cut on her throat. He stabbed her in her heart, and that\\'s what killed her. I told John Adams, \"turn yourself in or hit the high road.\" I owed him a favor because he pulled someone off my back. I was in a fight downtown. Two or three days later he turned on me. I have done everything to prove my innocence. Before you is an innocent man. I love my famly. I\\'ll be waiting on ya\\'ll. I\\'m finished talking. '\n",
      " \"Laura, I love you, stay strong. Jesus is coming back soon. Danny, something will pull us through. I will see you, keep your head up. For all of you, I am really sorry for what I've done. I wish you could have seen the videotape at the end of trial, so you could know the truth. I pray you find the peace through salvation. As my Lord, King of my life, find salvation through Christ. I hope He heals your heart. The truth is that you are going to feel empty after tonight. Standing with Christ in your heart, He can only give you peace. I pray you can find it, I really do. I love you Laura. I love you Danny. I love you Irene. (singing) Our god is an awesome God. Lord, I lift your name on high. \"\n",
      " \" Yes. I appreciate everybody for their love and support. You all keep strong, thank you for showing me love and teaching me how to love. Forgive me, Lord. Ya'll forgive me, remember me. For everybody incarcerated, keep your heads up. For my family, keep your heads up. I never stopped loving ya'll. Stay strong and keep fighting, it's not over yet. I love you all. I am out of here. I am gone. Keep me in your hearts. \"\n",
      " \" Yes, I would like to thank God for my salvation and all he has done in my life. I thank my family, loved ones, and friends. I give Him thanks, honor, and glory. I love you Mary Taylor with all my heart, I always have. You are my girl. I love you, Michelle. You are my little kitten. Kevin, it's all you now. You are my boy. Sylvia, my sister, keep your eyes on Christ, forever. Everything is going to be okay. Angela Christine, keep your eyes on the prize and nothing else. I love all of you. God's been good. I would like to address the family: I offer my sorrow and my heart goes out to ya'll. I know you believe that you're going to have closure tonight and as I stand before God today, the true judge, I had nothing to do with the death of your family. I ask God to hold this. I would like to address the family of John T. Ford: I ask for forgiveness, because I do stand guilty for my involvement for that. Thank you Lord Jesus Christ for coming to my life. (quiet singing) Thank you Lord Jesus for coming into my life, you walked me through prison. Thank you Lord Jesus because you died for me. Thank you Lord Jesus for remembering me... \"\n",
      " \"First I want to say to the family, I'm sorry I hope you find it in your heart to forgive me. The Lord has forgiven me. All I can say is I'm sorry. God Bless. To my family, I'll be there waiting for ya'll, alright? God Bless.  \"\n",
      " \" Yes I do, I know this no way makes up for all the pain and suffering I gave you. I am so so sorry. My punishment is nothing compared to the pain and sorrow I have caused. I hope that someday you can find peace. I am not strong enough to ask for forgiveness because I don't if I am worth. I realize what I've done to you and the pain I've given. Please Lord forgive me. I have done some horrible things. I ask the Lord to please forgive me. I have gained nothing, but just brought sorrow and pain to these wonderful people. I am sorry. So so sorry. To the Sanchez family who showed me love. To the Hawkings' family, I am sorry. I know I have affected them for so long. Please forgive me. Irene, I want to thank you and thank your husband Jack. I'll be waiting for you. I am so sorry. To these families I ask forgiveness. Father God I ask you too for forgiveness. I ask you for forgiveness Lord. I am ready to go Lord. Thank you. I am ready to go. My Jesus my Savior there is none like you. All of my days I want to praise, let every breath. Shout to the Lord let us sing.   \"\n",
      " \" Yeah, I love all ya'll. I forgive all ya'll. See you when you get there. Do what your are going to do.  \"\n",
      " ' Jesus receive my spirit. I love you Edgardo; I appreciate your hard work. Thank you. Okay, Receive my spirit. Thanks sir.  '\n",
      " \" I am sorry my actions caused pain. I hope this brings closure to what you seek. Don't ever hate them for what they do. Never harbor hate. I love you. Alright Warden.  \"\n",
      " ' Blessed are they that mourn, for they shall be comforted. It is finished.  '\n",
      " \"First of all I would like to tell my Uncle Kyle that I am sorry. I have been sorry for the last 10 years for what I did. I wish you could accept my apology. I know you can't accept my apology, I know you can't give your forgiveness; it's okay and I understand. I have done what I could to heal the rest of the family. I wish that someday you could come to terms and understand. I know I was wrong; I accept responsibility as a man. I take this penalty as a man. This doesn't solve anything, 'cause it hurts others that love me. I am sorry. I love you Kjersti. I love you too Roland. I love you too Uncle Kyle; I am still your nephew, no matter what you believe. \"\n",
      " \" I want you all to know, everyone with all my heart, soul, mind and strength. Thank you for being here today to honor Falicia Prechtl, whom I didn't even know. To celebrate my death. My death began on August 2, 1991 and continued when I began to see the beautiful and innocent life that I had taken. I am so terribly sorry. I wish I could die more than once to tell you how sorry I am. I have said in interviews, if you want to hurt me and choke me, that's how terrible I felt before this crime. I am sorry, it is her innocence and her life which began the remorse every since December 1, 1991. I have embraced life. Thank you for being a part of my life. I love you. May God be with us all. May God have mercy on us all. I am ready. Please do not hate anybody because.......(end of statement)  \"\n",
      " \"Yes, I would like for my family to take care of each other. I lovel you Angel, Let's ride. I guess this is it. \"\n",
      " \"Yes sir, I do. Go ahead? First of all I want to thank God for the love; thank God for the love from the family and friends that I have. To God I give the glory though the years. I love and care about the Lord. The Lord knows that I prayed for the victim's family. I know you all probably have bitterness and hate for what I did. There is not a day goes by that I have not prayed for Ronni Dawn Hewitt and Carol Dawson and her daughter who was left behind. I pray to God, the Lord Almighty that like he did for me, he will reach out and help you. I just pray that the Lord takes away your bitterness. There is so much hurt that I have caused you all. On the phone, I talked to my family for two hours. It was hard to see such a big man just break down and cry like a little baby. I hope this will touch your hearts like you have touched mine. I know it is hard for you all. I am to blame for this, I will take that Lord, when I get there. Back in 2003, I want to tell you this. I got down on my knees. The Lord knew my heart. I wanted to kill myself. I spoke to Ms. Ronnie Dawn Hewitt. The next day I received a letter that they had lost a friend to suicide. She said that she forgave me and that was something that I needed to hear. God helped me to forgive myself and move on. I just pray that some day you will find forgiveness in your heart. Know that your loved one is in a good place. I am sorry for what I have done. I cannot agree with this injustice. The Bible says that you shalt not kill, but it also says to obey the government. I am sorry, forgive me. Francis, I love you and thank you for being here. I have no ill will towards anyone carrying out this so called justice. Thank you. I am ready Warden. \"\n",
      " \" God forgive them, God forgive them for they know not what they do. After all these years my people are still lost in hatred and anger. Give them peace God for people seeking revenge towards me. I love you guys, I love you guys. God give them peace. I love you Chiquita. Peace, Freedom, I'm ready.  \"\n",
      " ' Yes. I just want to let you all know that I appreciate the love and support over the years. I will see you when you get there. Keep your heads up. To all the fellows on the Row, the same thing. Keep your head up and continue to fight. Same thing to all my pen friends and other friends, I love you all. I can taste it.  '\n",
      " \" Could you please tell that lady right there, can I see her, she is not looking at me. I want you to understand something, hold no animosity towards me. I want you to understand please forgive me. When I get to the gates of Heaven I will open my arms for you. Please forgive me, do not worry about what is going to happen. I don't want you to worry. I don't want you to suffer, I am not mad at you. Shed no tears for me. Even though you don't know me, I love you, I love all of ya'll. I ask ya'll in your heart to forgive me. To my family, I love all of you. What's happening now, you are suffering. I didn't mean to hurt you. Stephanie, Felicia, Carlos and my Father. I love my Father. I want you to understand that life goes on. Continue to live your life and don't be angry at what is happening to me. This is destiny, this is life. This is something I have to do and I am going to be with my momma and your momma. I want everyone to continue to live your life. Thank you and I love all of you. What is happening to me now is unjust and the system is broken. At the same time I bear witness there is no God but Allah and the Prophet Mohammad. Unto Allah, I belong unto Allah I return. I love you.  \"\n",
      " \" Can ya'll hear me? Tell my family that I love ya'll. Joe, Tim, everybody - keep your head up. I love you.  \"\n",
      " \"Yes I would. Carrie it's been a joy and a blessing. Take care, give everybody my regards. I love you, and I'll see you in eternity. Father take me home. I am ready to go.  \"\n",
      " \" Yes, I do.  I thank the Lord for giving me my friends, for getting me the ones I love.  Lord reach down and help innocent men on death row.  Lee Taylor needs help, Bobby Hines, Steve Woods.  Not all of us are innocent, but those are.  Cleve Foster needs help.  Melyssa, I love you girl.  I know I wasn't going to say anything, but I've got to.  Jack, Irene, Danny, Doreen, I love you guys.  I said I was going to tell a joke.  Death has set me free.  That's the biggest joke, I deserve this.  And the other joke is I am not Patrick Bryan Knight, and ya'll can't stop this execution now.  Go ahead, I'm finished.  Come on, tell me Lord.  I love you Melyssa, take care of that little monster for me.  \"\n",
      " \" I love ya'll and I'm gonna miss ya'll. \"\n",
      " \" First of all, you have every right to hate me and every right to want to see this. To you and to my family, you don't deserve to see this.  I wasn't going to apologize by letter, I wanted to apologize face to face.  None of this should have happened.  It is the right thing to do.  I have a good family, just like you are a good family.  I hope that any bitterness that you have because of what I did, I hope you can learn to forgive.  I asked my family to contact you, because they did no wrong.  I am responsible and I am sorry to you all.  Thank you all my Jefe (dad), my brothers, Maria and my Grandfather.  Thank you, we will see each other again.  Thank you, Lord Jesus receive my spirit. \"\n",
      " \"Yes, Sir I do. I'd like to say I love my mother, brother, sister, grandmother, cousins, and nieces, and my brothers and sisters I have never met. I do apologize to the Surace family. I am responsible for them losing their mother, their father, and their grandmother. I never meant for them to be taken. I am sorry for what I did and I take responsibility for what I did. That is all Warden.  \"\n",
      " \"Uh, I don't know, Um, I don't know what to say.  I don't know.  (pauses)  I didn't know anybody was there.  Howdy.\"\n",
      " ' Yes sir,  I charge the people of the jury.  Trial Judge, the Prosecutor that cheated to get this conviction.  I charge each and every one of you with the murder of an innocent man.  All the way to the CCA, Federal Court, 5th Circuit and Supreme Court.  You will answer to your Maker when God has found out that you executed an innocent man.  May God have mercy on you. My love to my son, my daughter, Nancy, Kathy, Randy, and my future grandchildren.  I ask for forgiveness for all of the poison that I brought into the US, the country I love.  Please forgive me for my sins.  If my murder makes it easier for everyone else let the forgiveness please be a part of the healing.  Go ahead Warden, murder me.  Jesus take me home.  '\n",
      " \" I do, I would like to tell everybody that I'm sorry about the situation that happened.  My bad - everybody is here because of what happened.  I'd like to thank everybody that's been here through the years.  The little kids overseas - they really changed me.  Sister Doris, mom, brothers, sister, dad; I love ya'll.  My brother... where's my stunt double when you need one?  My Lord is my life and savior, nothing shall I fear.  \"\n",
      " \"Ya'll know I love you, you too Ward.  You have been a good friend.  You are a good investigator.  Doug, I thank you for coming from Michigan.  Chris and David, I love you.  Thank them for their support Doug.  Debra, James, I'm not crying so you don't cry.  Don't be sad for me.  I'm going to be with God, Allah, and Momma.  I'm gonna ask dad why didn't give you away at your wedding.  Randy Greer, my little brother, I'll be watching you, stay out of trouble.  All my nieces and nephews, I love you all.  Sammie, Vincent, and Yolanda, I will be watching over you all. The reason it took them so long is because they couldn't find a vein.  You know how I hate needles - I used to stay in the Doctor's Office.  Tell the guys on Death Row that I'm not wearing a diaper.  I can't think of anything else.  You all stay strong.  Now you can put this all aside.  Don't bury me in the prison cemetery.  Bury me right beside momma.  Don't bury me to the left of dad, bury me on the right side of mom. Kim Schaeffer, you are a evil woman.  You broke the law.  The judges and courts helped you and you didn't have all the facts.  When you look at the video, you know you can't see anyone.  You overplayed your hand looking for something against me and to cover it up the State is killing me.  I'm not mad or bitter though.  I'm sad that you are stuck here and have to go through all of this.  I am going somewhere better.  My time is up.  Let me get ready to make my transition.  Doug, don't forget Marcy.  \"\n",
      " ' Profanity directed toward staff.  '\n",
      " ' Yes sir, Ernest, Christopher, Ochente, Mary and Jennifer tell all the kids I love them and never forget.  Tell Bobby, Mr. Bear will be dancing for them.  Tell Bear not to feel bad.  My love always, I love you all.  Stay strong Mary, take care of them.  I love you too.  I am ready Warden.  '\n",
      " \" Yes, for all of those that want this to happen, I hope that you get what you want and it makes you feel better and that it gives you some kind of relief.  I don't know what else to say.  For those that I have hurt, I hope after a while it gets better.  I love you, I love you.  I am sorry.  That's it, goodbye.  I love you Irene, I love you sis.  \"\n",
      " \" You know, once upon a time diamonds were priceless.  I never knew until I ran across my own.  I just want Eve to know that.  One of these days I'm going to return and get that for myself.  Thank you to my family, I love you.  Each and every one of you.  This is not the end, but the beginning of a new chapter for you and I together forever.  I love you all.  Remember what I told you Brad.  Ms. Irene, God bless you, I love you.  See you on the other side.  Warden, murder me.  Saddam and Gomorrah which is Harris County.  \"\n",
      " \" Jennifer, where are you at?  I'm sorry, I did not know the man but for a few seconds before I shot him.  It was done out of fear, stupidity, and immaturity.  It wasn't until I got locked up and saw the newspaper.  I saw his face and his smile and I knew he was a good man.  I am sorry for all your family and my disrespect - he deserved better.  Sorry Gus.  I hope all the best for you and your daughters.  I hope you have happiness from here on out.  Quit the heroin and methadone.  I love you dad, Devin, and Walt.  We're done Warden.  \"\n",
      " \"Yes, Love you mom, love you pop, love you Sara, and Amanda.  Um, Cathy you know I never meant to hurt you.  I gave you everything and that's what made me so angry.  But I didn't mean to hurt you.  I am sorry.  That's it.  \"\n",
      " \"All praises be to God. I would like to say to the Garza family, see my smile, it is not from happiness. I took a father, it wasn't my fault, it was an accident... God knows the truth. If my life could bring your father back, then let it be. Don't take my smile for Disrespect. If I see your father I will ask him forgiveness. I told the Judge the truth it was an accident. I'll smile and I am not sad. If my life could make you happy, be free. I'll say when I see him I'm sorry. I have no anger nor fear. Mom have no fear. Mommy I will be home when I get there. \"\n",
      " \" To my family, first and foremost - I love you all. The calmness that I was telling you about, I still have it. You are Mario's Uncle, correct? I just wanted you to know that I wronged your family. I received nothing, I was not paid. I took his life for the love of a friend. I love you all. I just want you to know that. I know he does, I feel it. I'm alright. Make sure momma knows, alright. Jermaine, I love you too man. Alright Warden.  \"\n",
      " \" To my family and my mother and my three precious daughters, I love you all.  And to my brother and sister for standing with me throughout this situation.  Stay strong and know that I'm in a better place.  I ask for forgiveness.  And to the victim's family, find peace and cancellation with my death and move on.  Our Lord Jesus Christ, I commend myself to you.  I am ready.  \"\n",
      " ' Yes I do.  Debbie, my Baby, I love you; do you know I love you.  You are my life.  You are my wife - always stay strong.  Stay strong everybody.  I am innocent.  I am being punished for a crime I did not commit.  I have professed my innocence for nine years, and I continue to say I am innocent.  Let my people know I love them.  We must continue on.  Do not give up the fight; do not give up hope for a better future.  Because we can make it happen.  I love you, I love my son, and I love my daughter.  Bruno, Chuckie, Juanita, Ray - I love you, all of you.  Stay strong baby.  I love you forever.  '\n",
      " \" Yes I do, I would like to tell my family thank you for your support, and my friends. And let everyone know that you must stay strong for each other. Take care of yourselves. That's it, Warden.  \"\n",
      " ' Yes sir, to my family and children, I love you very much.  Dianne, Virginia, Toby and Irene I love all of you.  I apologize for not being the man you wanted me to be.  I am going to be free, I am going to Heaven.  Please be strong and I love you all. To the Wright family, I pray for you, please find peace in your heart.  I know you may hate me for whatever reason, the Lord says hate no one.  I hope you find peace in your heart.  I know my words cannot help you, I truly mean what I say.  God Bless you all.  I love you Dianne, Mary Virginia. Kick the tires and light the fire, I am going home to see my son and my mom, I love you and God Bless you.  '\n",
      " \"Yes I do. I would like to say to my two brother-in-laws and the rest of my family that I would like to thank you for supporting me through all of this. I went home to be with my Father and I went home as a trooper. I would like to say to Damien's family I did not murder your son. I did not do it. I just want you to know that -- I did not murder Damien and would ask for all of your forgiveness and I will see all of you soon. I love you guys. I love you guys. That's it. \"\n",
      " \" Yes, I would like to make a short brief one please.  To Audrey's grandmother, I am sorry for the pain I have caused you for the last 15 years and your family.  I have regretted this for a long time.  I am sorry.  I only ask that you remember the Lord because He remembers us and He forgives us if we ask Him.  I am sorry.  And to my family, and my loved ones - I am sorry for the pain for all those years and for putting you through all the things we had to go through.  I ask the Lord to bless you all.  Tammy, Irene, Betty, Dan Judy - I love you all.  And Jack, thank you.  Warden...  \"\n",
      " \" Yes, I do.  To the victim's family, I am sorry you lost a brother, loved one, and friend.  To my family, I love you all.  Keep your heads ups and know I will be in a better place.  And you all look after Aleda and make sure she is a part of this family.  I appreciate you all and love you.  I apologize that you lost a loved one this way.  God bless you all.  O.K. Warden.  \"\n",
      " ' I do.  I am sorry.  I have always been sorry.  It is the worst mistake that I ever made in my whole life.  Not because I am here, but because of what I did and I hurt a lot of people - you, and my family.  I am sorry; I have always been sorry.  I am sorry.  You look after each other.  I love you all.  Be there for one another.  Alright.  But I am sorry; very sorry.  I love you too.  Alright. '\n",
      " \" Yes sir. I want to ask if it is in your heart to forgive me. You don't have to. I know I allowed the devil to rule my life. I just ask you to forgive me and ask the Lord to forgive me for allowing the devil to deceive me. I thank God for having patience with me. I don't deserve to cause you pain. You did not deserve this. I deserve what I am getting. \"\n",
      " \" Yeah.  Momma, I just want you to know I love you.  I want all of you to know I love you all.  I am at peace; we know what it is.  We know the truth.  Stay out of crime; there is no point in it.  I am at peace.  We know the truth and I know it.  I have some peace.  I am glad it didn't take that long - no 10 or 20 years.  I am at peace.  And I want everyone to know I did not walk to this because this is straight up murder.  I just want everybody to know I didn't walk to this.  The reason is because it's murder.  I am not going to play a part in my own murder.  No one should have to do that.  I love you all.  I do not know all of your names.  And I don't know how you feel about me.  And whether you believe it or not, I did not kill them.  I just want you all to have peace; you know what I'm saying.  There is no point in that.  It is neither here nor there.  You have to move past it.  It is time to move on.  You know what I'm saying.  I want each one of my loved ones to move on.  I am glad it didn't last long.  I am glad it didn't last long.  I am at peace.  I am at peace to the fullest.  The people that did this - they know.  I am not here to point fingers.  God will let them know.  If this is what it takes, just do what you got to do to get past it.  What it takes.  I am ready, Warden.  Love you all.  Let my son know I love him. \"\n",
      " \" Yes, your honor.  I know you people are here to find closure for the things that you have done or that I have done.  There are no words to describe the pain and suffering that you have gone through all these years, that is something that I cannot take back from you all.  I hope that Megan, if she is here present today, know that today I hope you get peace and joy.  I am sorry that it has taken 14 years to get closure.  If it would have brought closure or brought her back, I would have done this years ago, I promise, I promise. My family all knows the sincerity in my heart when I say these words to you.  I didn't mean to inflict the pain and suffering on your family.  I pray that she is safe in Heaven.  I pray that you find closure and strength.  My family prays for you and everybody, if these words can ever touch your heart, I am sorry, I am truly sorry.  Ya'll take care.  I love ya'll.  Pastor tell Megan I am sorry. \"\n",
      " \" Yes sir.  I would like to say to my family, I am alright. (Spanish) Where are you Leo; are you there Leo? (Spanish) Don't lie man.  Be happy.  Are you happy?  Are you all happy? (Spanish)  \"\n",
      " \" Yes sir.  To Mr. Jerry Nutt, I just hope this brings some kind of peace to your family.  I wish I could bring them back, but I can't.  I hope my death brings peace; don't hang on to the hate.  Momma, stay strong.  Lord forgive me for my sins because here I come.  Let's go, Warden.  \"\n",
      " ' May I speak to my family?  Honey, I love you.  Be strong and take care of yourselves.  Thanks for being there.  Take care of yourself.  Ms. Irene, thank you for everything you have done.  Chaplain Hart, thank you for helping me.  Gary, thank you.  Maria, Maria, I love you baby.  Thank you for being there for me and all these people here will find the one who did this damn crime.  I am going home to be with God.  Thank you.  Thank you, Warden. '\n",
      " \"Yes. I would like to thank all my friends and supporters, Anne West, who I love and respect. Gabrielle Uhl from Germany, and so many countless other friends. And of course my family, my mother and father, brothers and sisters, nieces and nephews, my wife Barbara and my children - Nadia, Amenia, Kira, and Noemi. I love my children. I love my family. That's it.  \"\n",
      " ' Yes.  Yes, I do.  Do I just talk to the front?  O.K.  To everybody on both sides of that wall--I want you to know I love you.  I am sorry that the child had to lose her life, but I should not have to be here.  Tell my family I love them all and I will see them in Heaven.  Come home when you can.  I am done.  Love you all. '\n",
      " \" I love my family. You all stay strong. Watch over each other. Stay strong. I love you. I love you. It's my hour. It's my hour. I love you. Stay strong.  \"\n",
      " \"Yes.  I want to thank you all for being here and for your love and support.  And thanks for the efforts, Peter and Lorrell.  I love you all.  Celina, I love you.  I'm done. \"\n",
      " \" Yes.  Ms. Carolyn Barker, and Tina, I would like to apologize to you all.  To Amy's sister, and everybody else here.  I love you all.  I hope you can find it in yourselves to forgive me and I hope all this here will kinda settle your pain and I hope the Lord will give you comfort and peace.  And I just want you to know I am very sorry for what I have done.  And if I see Amy on the other side, I will tell her how much you love and miss her and we will have a lot to talk about.  Mom, Dad, and Charlotte - I am sorry for putting you through all this pain and stuff.  I did talk to Brandon and I think I got a little stuff stopped.  I love you all and I will see you on the other side.  O.K. \"\n",
      " ' Yes sir. Darling Kerstin, these last few years have been blessed having you in my life. And to all my friends that have been out there, thank you for your friendship and support and all you have done for me. The guys back there waiting, keep the faith and stay strong and put your faith in the Lord. Many times in life we take the wrong road and there are consequences for everything. Mistakes are made, but with God all things are possible. So put your faith and trust in Him. We talk about a reprieve or stay from the Supreme Court, but the real Supreme Court you must face up there and not down here. Keep your heads up and stay strong. I love you all. That is it. Stay strong. Thank you.  '\n",
      " \"Yes.  Man, I just want you to know how much I love them.  I want you to be strong and get through this time.  Do not fall back.  Keep going forward.  Don't let this hinder you.  Let everybody know I love them (several names listed), Kevin - as well as everyone else in the family.  Tell them that I love them and stay strong.  This is kind of hard to put words together; I am nervous and it is hard to put my thoughts together.  Sometimes you don't know what to say; I hope these words give you comfort.  I don't know what to say.  I want you to know I love you; just stay strong and don't give up.  Let everybody know I love them...and love is unconditional, as Mama has always told us.  I may be gone in the flesh, but I am always with you in spirit.  I love you. \"\n",
      " \"Yes sir. I would like to apologize to the victim's family and all the grief I have caused them. I would like to say I love the girls next to them. Praise the Lord. Let's go, Warden. That's it. \"\n",
      " \"Jack and Irene, I love you guys.  Tell my family I love them.  I am sorry for the things I have done.  I know God will forgive me.  Keep track of Danielle for me.  I will miss you guys.  I love you.  I guess that's all. \"\n",
      " \" Tell Beth and them I am sorry, truly sorry for the pain that I caused your family.  I truly mean that too.  She was a friend of mine and I betrayed her trust.  I love you all.  Tell momma I love her. The Lord is my shepherd; I shall not want,  He maketh me to lie down in green pastures; he leadeth me beside the still waters.  He restoreth my soul; he leadeth me in the paths of righeousness for his name's sake.  Yea, though I walk through the valley of the shadow of death, I will fear no evil; for thou art with me.  Thou preparest a table before me in the presence of mine enemies; thou anointest my head with oil; my cup runneth over.  Surely goodness and mercy shall follow me all the days of my life; and I will dwell in the house of the Lord for ever.   Our Father, who are in heaven, Hallowed be thy Name.  Thy kingdom come.  Thy will be done, On earth as it is in heaven.  Give us this day our daily bread.  And forgive us our trespasses, As we forgive those who trespass against us.  And lead us not into temptation, But deliver us from evil.  For thine is the kingdom, and the power, and the glory, for ever and ever.  Amen  All right Warden, let's give them what they want. \"\n",
      " ' Yes I do. I would like to address you first. I did not kill your loved one, but I hope that one day you find out who did. I wish I could tell you the reason why, or give some kind of solace; you lost someone you love very much. The same as my family and friends are going to lose in a few minutes. I am sure he died unjustly, just like I am. I did not murder him; I did not have anything to do with his death. And to you my family and friends, I love you dearly. Even though I die, that love for you will never die. Into Your hands, Lord, I commit my spirit. Thank you. Thank you all. '\n",
      " \" Yes sir, I do.  To the victim's family.  I hope it helps a little.  I do not know how, but I hope it helps.  I love you all, all of you.  You know I love you.  Thank you for bringing my children back to my life.  Thank you.  I love you all.  I love you all very much.  Thank you very much.  (Statement amended 01/09/06)  \"\n",
      " \"I would like the Chaplain to say a prayer, not only for me but for the victim's family.  For them being misled, I am sorry.  That is all I have to say. \"\n",
      " ' Only the sky and the green grass goes on forever and today is a good day to die.  '\n",
      " \"Yes.  The victim's family is not here so I won't address them.  I want to thank my family and friends for everything.  My wife, Ailsa, my sister-in-law, Laura - thank you for being here for me.  I love you.  And thanks for the friends at the Polunsky Unit that helped me get through this that didn't agree with my decision - and still gave me their friendship.  I thank them.  Warden...  \"\n",
      " \"Yes, I do.  I just want to thank all my friends and family who gave me support these past eight years.  I want to apologize to the victim's family for the pain I caused them.  And to everyone at the Polunsky Unit, just keep your heads up and stay strong.  \"\n",
      " \"Yes sir. To Edie, Tom, and and Carma - I love all you all.  I appreciate all your support.  I love you Margherita, Father Guido, and Father Angelo.  I appreciate your spiritual support and all those that were in prayer for me.  I will be O.K.  I am at peace with all of this and I won't have to wake up in prison any more.  I love you all.  I totally surrender to the Lord.  I am ready, Warden. \"\n",
      " \" Yes. I would like to address the victim's family. I received your poem and I am very grateful for your forgiveness. I still want to ask for it anyway. I have Jesus in my heart and I am sorry for any pain I caused you all. Thank you for your forgiveness. I am sorry. Ashlee, Pam -- I am going to miss you all. I love you all. Give everybody my love. Give everybody my love, O.K.? Mother, James, Justin, Corey, Brent, grand-babies and Daddy - I love you Pam. I love you Ashlee, Pammy and Irene. I will see you all on the other side. Couple friends on death row who have helped me; Shy Town and Crazy Jay...I love you all and for all your support. Uncle Ray too. I am saved and I am going home, O.K.? You all stay strong. You all stay strong. That is all.  \"\n",
      " \"Yes sir, Warden Okay I've been hanging around this popsicle stand way too long.  Before I leave, I want to tell you all.  When I die, bury me deep, lay two speakers at my feet, put some headphones on my head and rock and roll me when I'm dead.  I'll see you in Heaven someday.  That's all Warden. \"\n",
      " \" I want to apologize to you, and I am sorry.  I have made a lot of mistakes in my life.  The things I did changed so many lives.  I can't take it back, it was an atrocity.  I am sorry.  I beg your forgiveness, I know I am not worthy of it.  I love you Mom and Dad, and all my family.  Thank you for everything.  Jesus, thank you for your love and saving grace.  Thank you for shedding your blood on Calvary for me.  Thank you Jesus for the love you have shown me.  \"\n",
      " \" Yes sir, can you hear me?  To you Irene, Thank You.  I love you all.  All right Warden, I'm ready.  \"\n",
      " ' Yes sir.  I would like to ask you to forgive me.  I made a mistake and I am sorry for what I did.  All I can do is ask you to forgive me.  I love you and I will see all of you in Heaven.  I love you very much.  Praise Jesus.  I love you.  Our Father, who art in Heaven, hallowed be thy name.  Thy kingdom come, Thy will be done, on earth as it is in Heaven.  Give us this day our daily bread, and forgive us our trespasses as we forgive those who have trespassed against us.  And lead us not into temptation, but deliver us from evil.  Amen.  '\n",
      " ' Yes sir, I do. I would like to apologize to the family of the victim. I am sorry for the pain I have caused you. I know it is a great loss and I want to apologize. I am sorry. And to my family, I love you and I will see you all in Heaven. O.K.  '\n",
      " \"Yes sir.  Sorry that I have to put my family through this.  All of you know I got my peace.  And I hope you find peace.  And to the family, the truth will come out and I hope you find peace.  I got my peace.  I hope everybody has their peace.  I am tired.  I am going to be in your heart.  I love you all.  To everybody else, the truth will be known.  It didn't come out in time to save my life.  It is wrong to put the families through this.  But when it comes out, I hope it stops this.  It is wrong for the prosecutors to lie and make witnesses say what they need them to say.  The truth has always been there.  I just hope everybody has their peace.  Today I get mine.  I love you all.  \"\n",
      " \" Yes.  Well here we are again folks, in the catacombs of justice.  You know there is a lot I wanted to say - a lot I thought I'd say - but there is not a whole lot to say.  There are people that will be mad thinking I try to seek freedom from this, but as long as I see - freedom belongs to me and I'll keep on keeping on.  The shackles and chains that just might hold my body can't hold my mind, but will kill me otherwise.  I love you momma, and Misty and Annette, Brenda and Anthony - and all my friends and everybody that supported me.  I leave my love here; I am never going to stop loving you.  My love is going to stay here.  \"\n",
      " 'I do.  I just wanted to say to all of those that have supported me over the years that I appreciate it and I love you.  And I just want to tell my mom that I love her and I will see her in Heaven.  '\n",
      " 'Yes I do. Mike and Ms. Allison, I would like to tell you that I am responsible and I am sorry for what I did and the pain I caused you all. I love you Earline and all of my friends that stood by me. I feel blessed to have had you all. Stay strong and take care of them kids. Set me free Warden. Father, accept me.  '\n",
      " \" Yes.  Man, there is a lot of people there.  There was a lot of people that got me to this point, and I can't thank them all.  But thank you for your love and support; they have allowed me to do a lot more than I could have on my own.  Sheila, I wish I would have met you seven years ago; it would have been a lot easier.  But I have overcame a lot.  I am not angry, but I am disappointed that I was denied justice.  But I am happy that I was afforded you all as family and friends.  You all have been there for me; it's a miracle.  I love you.  And I have to tell Jessica I am sorry.  I never knew it would come to this.  Lorna, you know you have to keep my struggle going.  I know you just lost your baby; but you have to keep running.  Andy, I love you man.  Tell Andre and them that I didn't get a chance to reach my full potential, but you can help them reach theirs.  You needed me, but I just did not know how to be there for them.  There is so much I have to say, but I just can't say it all.  I love you all.  Please just keep the struggle going.  If you turn your back on me, you turn your back on them.  I love you all and I'll miss you all.  Thanks for allowing me to touch so many hearts.  I never knew I could do it, but you made it possible.  I am just sorry.  And I am not as strong as I thought I was going to be.  But I guess it only hurts for a little while.  You all are my family.  Please keep my memory alive.  \"\n",
      " ' Yes, I do.  I want to say first that I love you Pam.  I love you, Ann, Jenny, Carla, Fran, Mom and Dad.  What a blessing, what a blessing you have been in my life.  And I am so sorry you are going through what you are now.  But we are both headed to a better place.  Thank you, baby girl - love you people.  Sister, Blackie, Dixie, Rusty, Andy, Buster, Milo - we got so many - Grace and Sonny man.   I love you all.  You have a treat coming to you.  Thank you for having been there for me -- and our Father and Mother.  Give them a hug and give them my love.  I am ready Warden.  '\n",
      " 'Yes sir, I would.  To the West Family, I would just like to apologize for your loss.  I hope that you can forgive me.  To my family and loved ones and friends, I thank all of you all for your support and I am sorry for the pain and hurt I have caused you.  I love you all and I will see you on the other side.  O.K. Warden.  '\n",
      " ' Into your hands Oh Lord, I commence my spirit.  Amen.  '\n",
      " 'Yes I do.  To my family, to my friends, and people who have accepted me for being the person that I am.  To the Sullivan and Hayden families, I do not come here with the intention to make myself out to be a person that I am not.  I never claimed to be the best person.  I am not the best father, the best son, or the best friend in the world.  I did the best I could with what I had.  I come with no hate in my heart or bitterness.  To my family and to you people, I can only apologize for all the pain I caused you.  May God forgive us on this day.  I am ready when you are.  '\n",
      " \" Yes sir.  Today I go home to the Lord.  But first, I have to say something.  I am real sorry.  I took family member's life and I shouldn't have.  I hope that you can move on.  I am just sorry.  I don't know what else to say.  I can't bring anyone back.  I would if I could.  I hope you will be fine.  I won't ask for your forgiveness.  God will be my judge.  To my family and friends, I love you all.  You all take care and somebody find Void.  Be strong and I will see you all; hopefully not soon.  Keep your head up.  That is all I have to say.  \"\n",
      " \" Yeah.  I want to thank my family and friends; my family for all loving me and giving me so much love.  I am sorry; I really am.  You, Brian's sister, thanks for your love --  it meant a lot.  Shane -- I hope he finds peace.  I am sorry I destroyed you all's life.  Thank you for forgiving me.  To the moon and back -- I love you all.  \"\n",
      " \" Yes I do.  I want to tell everyone, my family, thanks for standing by me.  I want to tell Mr. and Ms. Gray and everyone that I didn't do what I did to hurt you all.  I am sorry that I did what I did.  I don't think you know the true reason for doing what I did, but Brandy and I had a suicide pact and I just didn't follow through with it.  That did not come out in the trial.  I am not trying to hurt you by telling you this.  I am trying to tell you the truth.  I want Cindy to know that I know she is out there -- and Vicente Hernandez that I love them.  Thank you for all you have done and I want to make sure you are alright.  That is all I want to say.  I am ready.  See you later.  I am ready.  \"\n",
      " 'Yes I do.  Sir, in honor of a true American hero. \"let\\'s roll\".  Lord Jesus receive my spirit.  '\n",
      " \"Statement to what.  State What.  I am not guilty of the charge of capital murder.  Steal me and my family's money.  My truth will always be my truth.  There is no kin and no friend; no fear what you do to me.  No kin to you undertaker.  Murderer.  [Portion of statement omitted due to profanity] Get my money.  Give me my rights.  Give me my rights.  Give me my rights.  Give me my life back.\"\n",
      " \" Yes Warden, I do. Well Mom, sometimes it works out like this. Love life; live long. When you are dealing with reality, real is not always what you want it to be. Take care of yourselves. I love you. Tell my kids I love them. God is real. He is fixing to find out some deep things that are real. Bounce back, baby. You know what I'm saying. You all take care of yourselves. That is it.  \"\n",
      " \"Yeah. The only statement I want to make is that I am an innocent man - convicted of a crime I did not commit. I have been persecuted for 12 years for something I did not do. From God's dust I came and to dust I will return - so the earth shall become my throne. I gotta go, road dog. I love you Gabby. [Remaining portion of statement omitted due to profanity.] \"\n",
      " \"Yes.  I just want to say I am not sad today or bitter with anybody.  Like I've said from day one, I did not go in there and kill them - but I am no better than those that did.  Jesus is Lord.  \"\n",
      " 'Yes.  I would just like to say to my family that I am sorry for all the grief I have caused.  I love you all.  Tell Mama and the kids I love you; I love all of you.  And I would like to clear some things up if I could.  Tommy Perkins, the man that got a capital life sentence for murdering Kinslow -- he did not do it.  I did it.  He would not even have had anything to do with it if he had known I was going to shoot the man.  He would not have gone with me if he had known.  I was paid to shoot the man.  And Martin, the younger boy, did not know what it was about.  He thought it was just a robbery.  I am sorry for that.  It was nothing personal.  I was trying to make a living.  A boy on Eastham doing a life sentence for killing Jamie Kent - I did not do it, but I was with his daddy when it was done.  I was there with him and down through the years there were several more that I had done or had a part of.  And I am sorry and I am not sure how many - there must be a dozen or 14 I believe all total.  One I would like to clear up is Cullen Davis - where he was charged with shooting his wife.  And all of these it was never nothing personal.  It was just something I did to make a living.  I am sorry for all the grief I have caused.  I love you all.  That is all I have to say. '\n",
      " \" Yes. Connie, Nanny, Bea, Kathy and Richard - I love you all and I thank you all very much for supporting me with your love. In the name of Jesus, I am sorry for the pain I caused you all. I am sorry. Gilbert didn't deserve to die and I want you all to know I am sorry. I pray that the good Lord will give you all peace. Okay. \"\n",
      " ' Yes sir.  I would like to thank God for all the blessings He has given me.  And I pray that through His mercy, He will allow me into His grace.  And to the family of Ms. Ayers, I would like to apologize for all the pain and suffering and that God gives you closure.  And I pray that He blesses you.  And to my family, know that I love every single one of you and pray that God gives you peace and strength.  I may not be with you in the physical, but by grace, my heart will be with you all and I know God loves every one of you all.  '\n",
      " ' Yes sir, I do.  I would like to thank everybody for coming out tonight and celebrating life.  This is a celebration of life, not death.  Through Jesus Christ, we have victory over death.  I would like to thank the Holy Father and Pope John Paul for their angelic blessings and all the prayers and support.  And thanks to Father (name unknown) and Guido Todeschini for your love and support.  I want to thank everybody around the world and Father, let your will be done.  I am going to keep this statement short.  I love you all.  I am ready, Warden.  '\n",
      " 'I did have, but now I see my family here and everything - all I want to say is I love you all so much. I am innocent. I love you all so much. You are beautiful. Okay Warden, I am through.  '\n",
      " ' I would like for Rosalyn\\'s family and loved ones and my wife, Mary\\'s, family to know that I am genuinely sorry for what I did.  I would like you to reach down in your hearts and forgive me.  There is no excuse for what I did.  Rosalyn\\'s mother asked me at the trial, \"Why?\" and I do not have a good reason for it.  Please forgive me.  As for my friends and family here - thanks for sticking with me and know that I love you and will take part of you with me.  I would like to thank one of the arresting officers that I would have killed if I could have.  He gave me CPR, saved my life, and gave me a chance to get my life right.  I know I will see Mary and Rosalyn tonight.  I love you all.  '\n",
      " \" First of all, I want to say God bless everyone here today.  For many years I have done things my way, which caused a lot of pain to me, my family and many others.  Today I have come to realize that for peace and happiness, one has to do things God's way.  I want to thank my family for their support.  I love you.  I am taking you with me.  You all stay strong.  I love you.  I also want to say thanks to the Chaplains who I have met through the years and who have brought me a long way.  And I cherish you as my family and at this time...oh, Ken, my little son, I am coming to see you.  Oh Lord, into your hands I commit my spirit.  Thy will be done.  \"\n",
      " ' I just want to address Katrina and Rebecca. You have been beautiful to me. Without you in my life, I would not have been able to make it like this. Probably, I would have put up a good fight; you have calmed me. I love you. I respect you. Big brother, you put up the best fight you could and I love you. That is it. '\n",
      " \" First of all, I would like to ask Sister Teresa to send Connie a yellow rose. I want to thank the Lord, Jesus Christ, for the years I have spent on death row. They have been a blessing in my life. I have had the opportunity to serve Jesus Christ and I am thankful for the opportunity. I would like to thank Father Walsh for having become a Franciscan, and all the people all over the world who have become my friends. It has been a wonderful experience in my life. I would like to thank Chaplain Lopez, and my witnesses for giving me their support and love. I would like to thank the Nuns in England for their support. I want to tell my sons I love them; I have always loved them - they were my greatest gift from God. I want to tell my witnesses, Tannie, Rebecca, Al, Leo, and Dr. Blackwell that I love all of you and I am thankful for your support. I want to ask Paulette for forgiveness from your heart. One day, I hope you will. It is a tragedy for my family and your family. I am sorry. My special angel, I love you. And I love you, Connie. May God pass me over to the Kindom's shore softly and gently. I am ready.  \"\n",
      " \"Tell Mama I love her and tell the kids I love them, too.  I'll see you all.  \"\n",
      " \" Can you hear me, Chris?  The Lord is my Shepherd; I shall not want.  He makes me to lie down in green pastures; He leads me beside the still waters.  He restores my soul;  He leads me in the paths of righteousness for His name's sake.  Yea, though I walk through the valley of the shadow of death, I will fear no evil; for Thou art with me;  Thy rod and Thy staff comfort me.  Thou preparest a table before me in the presence of my enemies;  Thou anointest my head with oil;  My cup runneth over.  Surely goodness and mercy shall follow me all the days of my life;  And I will dwell in the house of the Lord forever. I want to thank you for being there with me all these years and supporting me and keeping me in the Word.  Michael, you take care of her and thank you Father Don and Chris.  And I want to thank the media for being nice to me all this time.  Bye, Chris.  I will see you.  Take care of yourselves and you all stay strong.  You keep doing your ministry.  \"\n",
      " 'To the media, I would like for you to tell all the victims and their loved ones that I am truly, truly sorry for taking their loved ones\\' lives.  And I hope they will find it in their heart to forgive me for what I did to them.  I am a different person now, but that does not change the fact of the bad things I have committed.  God can give you the same peace He gave me and you can be in His hands.  And to my beautiful family, be strong.  Remember what I said, \"God is the Way, the Truth, and the Life.\"  OK, Warden.  '\n",
      " \"The statement that I would like to make is, none of this should have happened and now that I'm dying, there is nothing left to worry about. I know it was a mistake. I have no one to blame but myself. It's no big deal about choosing right from wrong. I pray that everyone involved overlooks the stupidity. Everybody has problems and I won't be a part of the problem anymore. I can quit worrying now, it was all a mistake. That's all I want to say.  \"\n",
      " 'I would like to say first and foremost to the Lord God Almighty that I am sorry and forgive me of every single solitary sin I have committed these 35 years I have lived upon this Earth.  To the Varghese family, I would ask that you forgive me because I know you have suffered a great loss and I am truly, truly sorry.  I know what you have suffered, but please grant me your forgiveness.  I am truly sorry, and there is not a day that I have not prayed for you.  And to my Mom, I love you.  I am going to see the Lord.  The Lord is my Shepherd.  Let everyone know that I love them; this is not goodbye.  I will see you later.  '\n",
      " 'I would like to say to the victim\\'s family, if this goes on record, that I know they have gotten grief and I know with this execution, it will not be any relief to them. That with my death, it will just remind them of their loved one, Mr. Holder. I would like to say to them, \"please forgive me for what happened; it was self defense...and I was never able to get up on the stand to tell them.\" I know this is wrong. I am going home to the Lord.  '\n",
      " \" Spoken: The statement I would like to make is to all my loved ones - and to the Abrahams and Williams families.  We came a long way through the tragedy - from hate to love and I would like to apologize for the pain I have caused all my families on both sides.  I am looking at you Mr. Frank: I am sorry brother for what happened to your sister and I hope that you would forgive me one day.  Ask God to forgive me and ask God to forgive you and allow me to pass through.  My brother Farooq, I love you my brother and send my love to all my family members.  And I was not a monster like they said I was.  I made a mistake and this mistake cost - but they won't cost no more.  I leave you with all my love and blessings.  may Allah bless each and every one of you. \"\n",
      " \"Spoken: To all my family and friends, I want you to know that I love you very much.  I appreciate all the good and bad times together.  I'll always remember you, and love you forever.  And to the West family, I hope you can find it in your heart to find forgiveness and strength, to move on and find peace.\"\n",
      " ' I would just...(speaking in French).  I love all of you.  I love you Lundy, Levi, my dad.  I have no grudges against anyone, or any of the things that have gone wrong.  I would like to say to the world, I have always been a nice person.  I have never been mean-hearted or cruel.  I wish everybody well. '\n",
      " \" Written  To the families of Ms. Thompson and Ms. Cutler. I am sorry for what happened and that it was because of me that they are gone.  If there were any way I could change things and bring them back I would. But I can't.  Because of what I caused to happen many people were affected and I am very sorry that I did.  I have made my peace with God and I pray that soon everyone will be able to have closure in their hearts and lives.  To my family and friends, I love you and some day we will all be together again.  \"\n",
      " ' I pray with the help of God that you will forgive me for the pain I caused your family. I am truly sorry. I wish I could take it back, but I just pray and ask that you forgive me.  '\n",
      " \" I would like to thank all my loved ones that are standing over there for all the kindness and support you have shown me over the years.  Be strong.  Do not hate, but learn from this experience.  Just because it happens, do not think that God doesn't care.  He will be with you.  I will be there with all of you.  I love you all and appreciate all of you.  You won't be forgotten and there are a lot of people out there that love you.  It has been a blessing to know all of you.  This is not easy for any of us.  Don't be upset about my situation, because I am not.  I am still faithful and I am still strong.  Just give my love to everyone out there.  Don't forget me and burn a candle for me when you can.  I love you all.  \"\n",
      " \" Written: There are many things I would like to say, but none more important that how I feel toward Mr. & Mrs. Kenney, and Ms. Arnott.  I would like to apologize and say I'm sorry but words seem so hollow and cheap.  Their death should not have happened, but it did.  I'm so sorry that all of this took place.  Now I have devastated my family as well, but my heart has grown in the last few minutes because I was forgiven by the family of Mr. & Mrs. Kenney, and Ms. Arnott.  Thank You.  You have given me more hope then I have had in a long time.  If I could change things I would, not for my sake but for all those who have loved me over the years, and for those who have forgiven me.  Thank you for all that you have given me.  \"\n",
      " ' The only thing I want to say is that I appreciate the hospitality that you guys have shown me and the respect; and the last meal was really good. That is about it. Thank you guys for being there and giving me a little bit of spiritual guidance and support.  '\n",
      " \"Jane, Grace and all of you all, I know you think I did this, and I'm sure you think this is wonderful in you eyes.  But, let me tell you something, there were two DNA tests run and none matched me.  I wanted a third, but that never happened.  Three people at different times confessed to killing these people - your parents.  They did not know me.  My request is that you get yourselves in church and pray for forgiveness because you are murdering me.  I did not kill anyone in my life.  If you will look at your house and the police report, there are several bullet patterns shot into the West wall over the bed and the East wall and North wall and your sister was in the front bedroom while 30 shots were fired.  There's no way in hell she would have laid in that bed.  If you think I did this, you need to think again.  There were three people in the house and have confessed to it.  Larry Ashworth in Fort Worth killed seven people.  All I was asking for was a DNA and I could not get it.  But get in church and get right with God.  Jane, you know damn well I did not molest that kid of yours.  You are murdering me and I feel sorry for you.  Get in church and get saved.  I really don't know what else to tell you.  \"\n",
      " ' I would like to say first of all the real violent crimes in this case are acts committed by James Boswell and Clay Morgan Gaines. We have the physical evidence to prove fabrication and cover-up. The people responsible for killing me will have blood on their hands for an unprovoked murder. I am not guilty; I acted in self-defense and reflex in the face of a police officer who was out of control. James Boswell had his head beat in; possibly due to this he had problems. My jurors had not heard about that. They did not know he had suffered a head injury from the beating by a crack dealer five months earlier; that he was filled with anger and wrote an angry letter to the Houston Chronicle. He expressed his frustration at the mayor, police chief and fire chief. He was mad at the world. Three and a half months before I worked on a deal with the DEA, the informant was let off. At the moment he left the courtroom, he became angry with me; Officer Boswell was upset about this. Officer Boswell and an angry woman were in the police car and they were talking in raised voices. In other words, Officer Boswell was angry at the time I walked up. Officer Boswell may have reacted to the...(Offender stopped speaking in mid-sentence.) '\n",
      " 'I am ready for the final blessing.  '\n",
      " ' I want to say God forgives as I forgive. God is the greatest. Thank you.  '\n",
      " \" I would like to say a final prayer: Dear Heavenly Father, I come to you today, Lord, and thank You for this opportunity to be with You in paradise.  I ask You for forgiveness for the ones that need to be forgiven.  Dear Lord, deliver us from evil and give us the comfort and peace and joy that we need.  Dear Lord, I ask You right now to be with each of the witnesses and lift them up and be on solid ground.  Let them know what has gone on and may we all see each other again.  Amen. I would like to thank each witness:  Ms. Cox, Whiteside, Reed, Scott, and Chad.  I am going to go and see Jesus tonight and reserve a special place for each one of you.  You all have been there when no one else was.  Thank you for all of your love and support.  Just know that I am ready to go.  You all know what I've gone through.  I am going to a better place with the Lord.  I'm mad for one reason, that I'm leaving you behind, when I am going to a better place.  Y'all still have to go through this hell on earth.  Just remember the good things and not the bad.  You are all loved and respected. Warden, just give me parole and let me go home to be with the Lord.  \"\n",
      " ' A lot of people have always asked if there is a Heaven, and I say there is.  There is a Heaven and a Hell.  They ask, \"Who goes to Heaven?\"  I believe that it is those who have placed their faith in Jesus Christ. Romans 3:25:  For all have sinned and come short of the glory of God. Romans 6:23:  The wages of sin is death, but the gift of God is eternal life. Romans 5:8:  While we were yet sinners, Christ died for us. Romans 10:9:  If you confess with your mouth the Lord Jesus Christ, and that He was raised from the dead, thou shalt be saved. John 3:16:  For God so loved the world, that He gave his only begotten Son, that whosoever believeth in Him shall have everlasting life. A lot of people forget about: John3:36:  If you have the Son, you have life and if you have not the Son, the wrath of God lies on you. In this life, we sin and we make mistakes: 1 John 1:19:  If we confess our sins, He is faithful and just to forgive our sins. I had a verse that jumped out at me a few days ago.  Psalm 99:8 speaks of the holiness of God and He was to the people a God who forgave, but He took vengeance on his deeds.  I am not here because of my faith in the Lord Jesus, but I am here for not other reason than my own actions.  To the Bakers, I am really sorry for the pain and sorrow I caused you.  I really do not know what to say, but I am sorry - forgive me.  And to my parents, I am sorry for the pain I have caused you.  Forgive me; thank you for your love. '\n",
      " \" Spoken: I would like to say goodbye to a good friend of mine in Switzerland - Diego.  I appreciate all the help and support he gave me through the years.  A friend of mine in England.  Wildflower:  I love you and will never forget you.  And to my family.  That's all. \"\n",
      " 'I am sorry for the pain: sorry for what I caused my friends, family and loved ones.  I feel a great deal of responsibility and guilt for all this crime.  I should be punished for the crime, but I do not think I should die for a crime I did not commit.  I am sorry, but nothing can bring Kim, Ollie, and Gigi back.  But I pray my death brings peace for my family that may unite the family.  I ask for your forgiveness and that you will all forgive me.  I have no animosity;  I am at peace and invite you all to my funeral.  We are still family.  I love you all, Momma, Aunt Deidra, family and everybody.  I love you.  I am ready, Warden.  '\n",
      " \" Yes, sir. To the victim's family, I'm sorry for what was taken from you. I hope you find peace. To my sweet Claudia, I love you. Stay strong, keep building, and be careful. Be careful. I love you. I'm through.  \"\n",
      " \"First of all, I would like to apologize to the family members of the Cadena family for whatever hurt and suffering I have caused you.  This opportunity has never come up before.  It's not that I haven't been remorseful, things just never worked out before.  Please forgive me and I hope you find it in your heart to forgive me.  The peace you will find will be a temporary peace, true peace will come through find Christ.  I pray through this execution, that you will find the peace you seek.  Give yourself to Christ and find peace through him.  I thought about your loved one very much.  He will be waiting in heaven for me.  I will be able to talk to him and ask him for forgiveness personally.   To my family, I thank you and love you for being there for me and supporting me.  This is just a stepping stone to home.  The hardest part of all the years I was on death row.  To all people that supported me, you will always be in my heart, as I have always been in yours.  God bless you.  Keep your heads up, see you again soon.  Forgive me for the pain I caused you. (Spanish) To all the people of Mexico, I would like to thank them for the help.  I also want to carry each and every one of you in my heart.  If you are going to demonstrate, I don't want you to do anything crazy to these people.  They have suffered enough.  Long lives Mexico.  Raise the flag of Mexico with honor.  Thanks for everything.  I love you. (English) To everyone on death row, keep your heads up and I will see you again.  I am truly sorry, may you find peace in this.  Forgive me for the pain.  God bless you, I love you all, and I'm ready to go home.  \"\n",
      " \" I would like to say to the family, I regret the pain I've put you through and I hope you can get over it someday.  Mom and Dad, I love you.  Take care.  I'm ready.  \"\n",
      " \" Well, yes, sir.  Rebecca, I understand that you wanted this day to come, you got what you wanted.  I didn't kill your mother.  The two guys that worked for me killed your mother and they are still out there.  If Mr. McDougal had allowed the DNA evidence, I would be exonerated.  Mr. Tolson, I understand you are out there.  If there is any justice in this world, please use this to keep other people from being where I'm at.  Warden, this is murder just as surely as the people that killed Rebecca's mother.  Send me home.  \"\n",
      " \"The Lord is my Shepherd, I shall not want. He maketh me lie down in green pastures; He leadeth me beside the still waters, He restoreth my soul. He leadeth me in the paths of righteousness for His name's sake. Yea, though I walk through the valley of the shadow of death, I will fear no evil; for Thou art with me. Thy rod and Thy staff, they comfort me. Thou preparest a table before me, in the presence of mine enemies. He anointeth my head with oil; my cup runneth over. Surely goodness and mercy shall follow me all the days of my life, and I will dwell in the House of the Lord forever. Amen. Amen.\"\n",
      " \" I'm innocent. I had nothing to do with my family's murders. I want to thank everyone who has supported me. I hope they continue to fight. You know who you are. That's all. Thank you, Warden.  \"\n",
      " \" Well, I don't have anything to say.  I am just sorry about what I did to Mr. Peters.  That's all.  \"\n",
      " ' The act I committed to put me here was not just heinous, it was senseless.  But the person that committed that act is no longer here - I am.  I\\'m not going to struggle physically against any restraints.  I\\'m not going to shout, use profanity or make idle threats.  Understand though that I\\'m not only upset, but I\\'m saddened by what is happening here tonight.  I\\'m not only saddened, but disappointed that a system that is supposed to protect and uphold what is just and right can be so much like me when I made the same shameful mistake. If someone tried to dispose of everyone here for participating in this killing, I\\'d scream a resounding, \"No.\"  I\\'d tell them to give them all the gift that they would not give me...and that\\'s to give them all a second chance. I\\'m sorry that I am here.  I\\'m sorry that you\\'re all here.  I\\'m sorry that John Luttig died.  And I\\'m sorry that it was something in me that caused all of this to happen to begin with.   Tonight we tell the world that there are no second chances in the eyes of justice...Tonight, we tell our children that in some instances, in some cases, killing is right. This conflict hurts us all, there are no SIDES.  The people who support this proceeding think this is justice.  The people that think that I should live think that is justice.  As difficult as it may seem, this is a clash of ideals, with both parties committed to what they feel is right.  But who\\'s wrong if in the end we\\'re all victims? In my heart, I have to believe that there is a peaceful compromise to our ideals.  I don\\'t mind if there are none for me, as long as there are for those who are yet to come.  There are a lot of men like me on death row - good men - who fell to the same misguided emotions, but may not have recovered as I have.  Give those men a chance to do what\\'s right.  Give them a chance to undo their wrongs.  A lot of them want to fix the mess they started, but don\\'t know how.  The problem is not in that people aren\\'t willing to help them find out, but in the system telling them it won\\'t matter anyway.  No one wins tonight.  No one gets closure.  No one walks away victorious.  '\n",
      " \"First of all, I want to say that I want to apologize to Clay Peterson's father.  I am sorry.  And I want to thank you for everything you tried to do; it meant a lot to me.  I want to thank David Dow; you have been great to me and I know that I am fixing to die - but not for my mistakes.  My trial lawyers - they are the ones that are killing me.  I love my family and I know where I am going.  You all take care - Celina, David and tell Mama I love her, too.  I didn't call her 'cause I just couldn't.  I am going to heaven and I'll see you there.  Tom Crouch, and everybody, I love you.  Chiara, thank you for everything.  Fred, Rachel, Daniel, Oralia - thank you for being there for me.  I will be there with you all in spirit.  David Dow, you have been great.  Mary Moreno, from the Corpus Christi Caller Times, thank you for what you wrote.  You have been sincere and I wanted to talk to you, but they wouldn't let me.  David Dow, let them know what happened.  I am fine; I am happy; I will see you on the other side.  \"\n",
      " \" Yes sir, Thank you.  I love y'all and I want y'all to know that.  Y'all always told me not to worry about myself.  I worry more about you all because I know where I am going.  I want to see you there, so get your heart right.  You know I love you and care for you.  I am going to go with my little boy and play with him.  Y'all take care and I love y'all.  I love y'all.  Chaplain Wilcox, Roger, Robin, Sarah, Grandma.  I love you.  Y'all be careful.  Lord Jesus, I see your Spirit, it's o.k.  I love you. \"\n",
      " \" I pray that we all may learn to love and forgive so that we can have peace in the world.  It is with loving and forgiveness and living to learn to love and loving to live that we can learn the power of forgiveness and learn to live as brothers and sisters on this earth.  Until then, this will continue to happen -- capital punishment; and if we don't forgive, sooner or later we will all self-destruct.  You need to open up your heart and let God in.  I apologize for taking the life of your daughter and I know how much pain you must be in because I saw my family today.  And although my pain is not as deep as yours, I am very sorry.  Today, this does not bring you peace because this is not really the way.  We should forgive and love and I do apologize with all my heart and soul and I love you and I know your spirit and God dwells within us and we are all one big family of humanity; we must all learn to love and live together.  I will see you on the other side.  Thank you for your hospitality. \"\n",
      " \" Yes, sir.  I want to give thanks to Father Walsh, my spiritual advisor and Mr. Whiteside and Irene Wilcox and her husband, Jack, and Richard Lopez for being there for me through all of this.  I don't see O'Brien.  Oh, there he is. Thanks to everybody.  Everybody will be all right, because y'all are going where I am going.  Remember what I said, I want to see you all where I'm going.  I want to give thanks.  God, come and do Your will.  I'm ready Warden.  \"\n",
      " \" I just want to tell my Mom that I am sorry that I caused her so much pain and my family and stuff.  I love them and I hurt for the the fact that they are going to be hurting.  I really hate that; and that I'm hoping they are going to be O.K.  \"\n",
      " \"First of all, I would like to apologize to the Guajardo family even though they are not present. I loved Yolanda a lot. I hope and pray they can forgive me for all the pain. To my family, stay strong. Tom, Orlando, Celia, stay strong. Michael, thank you for your friendship. Thank you for the support you have given me. I thank all of you and I love all of you. To the guys on death row, stay strong and I hope to see you someday. Bye bye, I love you guys, don't worry about me. It's going to be alright. \"\n",
      " \" Yes.  My last statement.  I was wrongfully convicted of this crime against Michael Watkins and James Williams on 10th Street on August 31, 1993.  I got convicted on a false confession because I never admitted to it, but my lawyer did not put this out to the jury.  I did not kill those drug dealers.  I send love to my family and friends; my east side family and friends.  I am being real with the real.  That's all that counts in my heart.  I will see you later.  That's it. \"\n",
      " ' \"I\\'ve got one thing to say, get your Warden off this gurney and shut up. I am from the island of Barbados. I am the Warden of this unit. People are seeing you do this.\"  '\n",
      " \"Spoken: Yes, I do.  My last full statement is being released in a way other than me right here.  All I want to say, I love you all.  Approximately 28 years ago, I remember looking down at a bassinet, I saw an angel.  I am looking at her right now.  I love you, Colleen.  Let's get going.  The road goes on forever, and the party never ends.  Let's rock and roll.  Let's go Warden.  Me and you, all of us.  Remember wet Willie - keep on smiling, keep on smiling.  I love you.  It's on the way, I can feel it.  It's OK, baby.  We have a party to go to.  I can feel it now.  \"\n",
      " ' Yes, Warden.  I just want to let everyone know that this here is a tragedy.  What happened to Diana, Corey, and what is happening to me...it is a tragedy.  That is all Warden.  '\n",
      " \" Yes sir, members of Mrs. Sanchez's family, I don't know who you are and other people present.  As I said, I'm taking responsibility fro the death of your daughter in 1983.  I'm deeply sorry for the loss of your loved one.  I am a human being also.  I know how it feels, I've been there.  I cannot explain and can't give you answers.  I can give you one thing, and I'm going to give that today.  I'm give a life for a life.  I pray you will have no ill will or animosity.  You have the right to see this, I am glad you are here.  All I can do is ask the Lord for forgiveness.  I am not saying this to be facetious.  I am giving my life.  I hope you find comfort in my execution.  As for me, I am happy, that is why you see me smiling.  I am glad I am leaving this world.  I am going to a better place.  I have made peace with God, I am born again.  Thank you for being here, I'm sorry.  I hope you get over any malice or hatred you feel.  Because it yields sorrow and suffering.  I take responsibility for the loss of your daughter.  I can't give answers.  I hope you can find peace in the days to come.  God bless all of you.  Thank you all for being here. Begins singing:  Amazing Grace  \"\n",
      " \" I'll start by saying I love all of you.  I will be waiting for your arrival, don't disappoint me by not showing up.  I will be there with the give of Christ.  We'll all be there.  I promise I'll go up smiling.  I am sorry.  If I could think of a word in the vocabulary stronger, you need to hear something stronger, you deserve it.  I'm sorry, I can't take back what I have done.  I have asked Christ for forgiveness, and I ask that you forgive me.  And I understand your feelings.  God bless all of you.  I will be waiting for your arrival.  Do not disappoint me by not showing up.  God bless everybody.  \"\n",
      " ' Tell my family I love y\\'all. Watch out for Momma. Don\\'t want to talk too much, I will cry. I\\'ll just cry everywhere. I\\'m sorry, Teach, for not being a better son and not doing better things. It wasn\\'t your fault. You raised me the way you should, at least I won\\'t be there no more. I miss you, too. I see you there, you doing alright? I sent you a letter. Neckbone, there\\'s a sheet, I got your name on it. Keep on writing, now. Write to the, hun. Charles, keep the right, now. You people over there. You know what these people are doing. By them executing me ain\\'t doing nothing right. I don\\'t weigh 180 pounds and 5\\'7\". Take care, love y\\'all. Did Roger come up here yet? Tell Pat and them I love them. I\\'m gonna go ahead and let them do what their gonna do. Help your sister, see ya later Pat, love ya Becca. Do what you do, Warden.  '\n",
      " \" Ok. I guess I'll address the Morgan family. Mrs. Morgan, the sister from the trial. Thirteen or fourteen years ago, I had a non-caring attitude at the time. I'm sorry for shooting your son down at that particular robbery. Politicians say that this brings closure. But my death doesn't bring your son back - it doesn't bring closure. I wish that I could do more, but I can't. I hope this brings you peace. Ursula, Manon, and Irene, I love y'all - take it easy. They've gotta do this thing. I'm still warm from the pepper gas. I love you. I'm ready to go. Call my mom and tell her that this particular process is over. Tell all the brothers to keep their heads up, eyes toward the sky. \"\n",
      " \" I'd like to tell the Humphrey family, I am sorry for the pain and suffering that I have caused you. I never intended for your husband and father to be killed, it was just an accident. I sincerely regret any pain and sorrow. I realize that my actions have caused this death and a lot of pain and grief. I pray that Jesus will give you peace. I just ask that my death bring you peace and solace. If my death brings you that, then I will gladly give it. I know that I leave this world for the crime that I committed.  To my friends, Jack and Irene Wilcox. Bless you both, you've been my rock. Irene, you have been like a mother and Jack, you have been like a father. To my lawyers, Danalyn and Robert Owen, you are not just my lawyers but you are my friends. I know you weren't happy when I stopped my appeals, but you know the reason why. Thank you for understanding. Have a happy heart knowing I leave this world in peace. Father Walsh, you have helped me so much to come to a knowledge of the Lord. I would never have understood that without you. You give me patience and diligence. Someday I will see you there. I'll be there waiting for you but don't be in a hurry. You have a lot of work left to do. Just know that I'll be watching over you. I love you all and thank you for being a part of my life. (recites the Lord's Prayer) \"\n",
      " \" Yes, sir. Where's Mr. Marino's mother? Did you get my letter? Just wanted to let you know, I sincerely meant everything I wrote. I am sorry for the pain. I am sorry for the life I took from you. I ask God for forgiveness and I ask you for the same. I know it maybe hard, but I'm sorry for what I did. To my family I love each and every one of you. Be strong. Know my love is always with you...always. I know I am going home to be with the Lord. Shed tears of happiness for me. I love each and everyone of you. Keep on living.  Betty, you have been wonderful. You guided me to the Lord. You have been like a mother to me. Sean, Rusty, Jenny, Marsha, God Bless each and every one of y'all. Jesus, I confess you as my Lord and Savior. I know when I die, I'll have life in heaven and life eternal everlasting. I am ready for that mansion that you promised me. Take care. It's alright Sean, it's alright. I'm going to a better place.  \"\n",
      " \"For almost nine years I have thought about the death penalty, whether it is right or wrong and I don't have any answers. But I don't think the world will be a better or safer place without me. If you had wanted to punish me you would have killed me the day after, instead of killing me now. You are not hurting me now. I have had time to get ready, to tell my family goodbye, to get my life where it needed to be.  It started with a needle and it is ending with a needle.  Carl, you have been a good friend, man. I am going to look for you. You go back and tell your daughter I love her. Tell her I came in here like a man and I will leave like a man. It's been good, dude. Thank you, Shorty. I appreciate you. I came in like a man and I will leave like a man. I will be with you. I will be with you every time you take a shower. If you leave crying you don't do me justice. If you don't see peace in my eyes you don't see me. I will be the first one you see when you cross over.  They got these numbers that I called today. Calling my family.  That is it. Ready, Warden.  \"\n",
      " \"First, I would like to tell my family that I love them. I will be waiting on them. I am fine. I hope that everyone gets some closure from this. I am innocent. Lubbock County officials believe I am guilty. I am not. Travis Ware has the burden on him to prove that he did not commit felonies. He needs to be stopped or he is going to do it time and time again. The power is invested in you as a public official to do your job.  That's all Warden. I love y'all.   June 25, 2008.  \"\n",
      " ' Sandy, all of you, I am sorry. Please hear me. Please in the name of God forgive me. Please understand. Please find that peace. I am really sorry. Please for your sake forgive me. All of you please.  I love my sister, my friends, father. Thank you for loving me and being with me. You are magnificent people. God has blessed me more than I deserve. I would like to end with a prayer. Heavenly Father, as I come to you to praise and thank you that even now I can endure the pain that you endured when you died for me on the cross. You have forgiven me of my sins and travesties. Thank you, Lord, for giving me strength. Give them strength to forgive me. Ask them to have them forgive me in their hearts. I ask you to touch each and every one of them. I am truly repentant. In the name of Jesus Christ I love you. Warden I am ready to go home please. Remember God is peace, God is love. '\n",
      " ' I love you, I love everyone, I go out with great love and respect.  This is a great day to pass on.  This so called dying.  This is a great day to approach this glorious event.  Approach the present. (mumbling)  Thy will be done.  (more mumbling)  I love you all.  Don\\'t waste your time arguing and bickering.  God loves you all.  All that really matters is love.  Love is the only thing for us.  There is no closure without love.  Forgive one another.  You got to learn how to forgive and embrace one another.  Be one.  Our love is just like...it is the nectar of God.  We have so much to give when we give out of our hearts.  The hear is the wishing well that waters the tree.  I wish and desire one thing.  I wish only the best for all of you.  (unknown tongues)  I love the love in every man and child.  Mankind is my family and tribe.  I am ready grumah.  A poet once said, \"...is my country.  There is no separation between you and me There is no enemies, only family.  I am a minister of love.  I go out loving everyone and everything.  God bless my...country.  I shed tears of love may they nourish everyone.  Stop killing start loving.  Stop the violence.  Let my death change society.  You don\\'t need any more killing.  You don\\'t need any minimum, maximum security, death row.  You don\\'t need the death penalty.  We need more loving fathers and mothers.  It is a good day to die.  Take me God, Hold me in yours and carry me home. '\n",
      " \"I deeply regret what happened. I did not intentionally or knowingly harm anyone. That's it and didmau. (Vietnamese for let's get out of here.) \"\n",
      " \" I want to give all the praise to God and glory and thank him for all that he done for me. With this let all debts be paid that I owed - real or imagined. The slate is wiped clean, all marked erased other than that there is no justice. That's not justice. Praise the Lord. Glory to Jesus Christ. Praise the Lord God.  \"\n",
      " \" Yes, first I would like to speak to the victims' family.  First of all, I would like to say that I do not know any of y'all and that is unfortunate, because I would like to apologize to each and every one of you individually.  I can't imagine what I have taken from y'all, but I do want to apologize and I want to let you know that I did do it.  You guys know that I am guilty and I am sorry for what I have done.  I apologize and I know that you may not be able to forgive me and I know that may not be able to forgive me in this life and in this world, but I hope sometime in the future you will be able to find it in you to forgive me.  And I want you to know that Christina, she did not suffer as much as you think she did.  I promise you that.  I give you my word.  I know you guys want to know where the rest of her remains are.  I put her remains in the Trinity River.  I have said that since I have come to death row.  I want to apologize to you again.  I hope sometime in the future you can forgive me.  Okay, now I want to speak to my mom and my family.  Brother Anderson, Kathy, I want you to know that I appreciate all these years that you have been coming to see me on death row and Daddy, I love you.  I appreciate y'all being here and being strong for me, and Mama, you know I love you, and I appreciate all of these visits, the letters and everything y'all have done for me.  Y'all have been wonderful.  You too, Granny.  I love y'all and you know, I want to apologize to y'all too for what I have done.  For all of the pain that I have caused, but all of this pain has brought us closer together and all of this suffering that we have been through has brought us all closer to the Lord and in the end that is what counts.  Isn't it?  That's what counts in the end; where you stand with Almighty God.  I know that God has used this to change my life.  And it's all been worth it because of that.  If I lie here today where I lie, I can say in the face of death, Jesus is Lord.  He has changed my life and I know that when I leave this body, I am going home to be with the Lord forever.  That is all I want to say.  I love y'all and I won't say goodbye, I will say I will see you again.  I love you, Daddy. Tonight I dance on the streets of gold.  Let those without sin cast the first stone.  \"\n",
      " \" I am so sorry for what y'all had to go through. I am so sorry for what all of you had to go through. I can't imagine losing two children. If I was y'all, I would have killed me. You know? I am really so sorry about it, I really am. I got to go sister, I love you. Y'all take care and God bless you. Gracie was beautiful and Tiffany was beautiful. You had some lovely girls and I am sorry. I don't know what to say. All right, Warden, let's do it.  \"\n",
      " \" I want to thank my family for their help and moral support and for their struggle. It would have been a lot harder without their love. So, I am just going home. I will see ya'll one of these days. Just don't rush it. I will be there always. I 'll always be watching over you. I love you. Okay? Y'all be strong. God bless you. That is where I am going. I love y'all huh. I'll see y'all in Slayton, Texas.  Dios te mandas contigo mi espiritu. (Spanish - God, I command my spirit to go with you.) Alabamos a Dios todos. (Spanish - We all praise God.) Amen Cuida mi familia. (Take care of my family.) I love you. That's it Warden.  \"\n",
      " ' He spoke in Irish, translating to \"Goodbye.\"  '\n",
      " ' First, I would like to say to the family that I am sorry, and I do ask for forgiveness. There will be also a funeral mass at St. Thomas and I would like to invite all of those from the State and the family to be there if they would like to come. My last words will be: And He was the light that shineth in the hearts of all man from the foundations of the world. If we confess our sins He is just and true to forgive us of our sins and cleanse us from all unrighteousness. Peace and goodness.  '\n",
      " \"To your family, ah, I hope that this can bring some closure to y'all. I am sorry for your loss and hey, I love all y'all. Let's go.  \"\n",
      " \" Maggie, I am sorry. I always wanted to tell you but I just didn't know how. I have been praying for y'all. I hope that y'all find the peace that y'all have been wanting. Lord, thank you for all my family, all my friends, and all my brothers on the row. Thank you for my spiritual family. Lord, be merciful with those who are actively involved with the taking of my life, forgive them as I am forgiving them. Be merciful to me a sinner. Protect us Lord as we stay awake and watch over us as we sleep as we wake may we may keep watch with Christ and sleep rest in His peace. All right, Warden. I am ready to go home.  \"\n",
      " \"Mom, I just want y'all to know that I love you. No matter what in life, I want you to stay strong. Doreen, you have been a very special part of my life, too. I want you to keep doing what you are doing. Stay strong. Dad, I want you to stay strong.  \"\n",
      " \"I am saying, I want y'all to keep your heads up, hold on and stay strong for everybody. I mean ah, I don't want y'all to look at me like I am a killer or something man, cause I ain't no killer. I mean, I didn't, I didn't kill your father. I mean, I know how it look, but I didn't do it. You know what I am saying? You were out there with me, Tommy. I mean, you know man. (mumbled) You know I always did want to say something to y'all. Right? I can't say that I done it because I didn't do it. I've got love for everybody. I am a Christian now. I'm saying I want everybody to keep thier heads up and stay strong. I'm going to stay strong. I'll be seeing you, this is my last breath. Ricky, keep your head up baby. All y'all, Doreen, Melodee. I mean, I know y'all don't come down here. I just really don't know what y'all want me to say. I mean, I know, ah, I mean, I'm sorry anybody, ah, anybody got killed that night. It wasn't supposed to happen, but I didn't do it. I really didn't do it. I don't want y'all to go through life thinking that I did. You know what I am saying? I love everybody and I want y'all to stay strong. Right? It would take me an hour or a long time, man, but, ah, man, I don't want to hold y'all up, man, like that, ah. Y'all just keep your head up and stay strong, man. Give my love to everybody. I love y'all.  \"\n",
      " ' I want to thank my attorneys, Father Walsh...Sylvia, te quiero mucho y a Consulado, te quiero decir muchas gracias por todo. I want to say I am sorry and I say a prayer today for you so you can have peace and I hope that you can forgive me. God is waiting and God is waiting now.  '\n",
      " \" I would just like to apologize to the victim's family for what I did. I take full responsibility for that poor woman's death, for the pain and suffering inflicted on Mr. Koslow.  Father, I want to thank you for all of the beautiful people you put in my life. I could not have asked for two greater parents than you gave me. I could just ask for two greater people in their life now. It is a blessing that there are people that they love so much but even more so, people that I love so much.  I thank you for all the things you have done in my life, for the ways that you have opened my eyes, softened my heart. The ways that you have taught me. For teaching me how to love, for all of the bad things you have taken out of my life. For all the good things you have added to it.  I thank you for all of the beautiful promises that you make us in your word, and I graciously received every one of them. Thank you Heavenly Father for getting me off of death row and for bringing me home out of prison.  I love you Heavenly Father, I love you Jesus. Thank you both for loving me. Amen.  \"\n",
      " \"Robin you know this ain't right. Mama, Adam, Mike, Sonny, Michelle, y'all know I love you. Tell everybody I said hi and that I love them and I will see them on the other side. Okay? And now I just pray that if there is anything against me that God takes it home. I don't want nobody to be mad at nobody. I don't want nobody to be bitter. Keep clean hearts and I will see y'all on the other side. Okay? I love y'all, stay sweet. I love ya.  \"\n",
      " \" I would like to extend my love to my family members and my relatives for all of the love and support you have showed me. I extend my special love to my daughter who I love greatly. I hope that you forever remember me. I hope that you will always cherish the love and the strength that I have provided you. My love for you will remain with you winthin your heart and in part of your soul. As to all my brothers I love you all with all of my heart. But during your time of departure from this earth plane you will have to face the judgement of God for the lack of love you have shown my aunt and my cousins. We were never brought up to be that way. As you know our parents brought us up to love one another no matter what. There was no love showed to my aunt or none of my cousins. I can forgive you all but you must ask forgiveness from God for how you have hurt our aunt and our family. I leave now at this moment to join my parents and my only sister whose lives were not taken by me. To all the fellows on death row, I thank you for the love that you have shown me and for the strength that you provided me. You all keep your heads up. As for my attorney's I thank you all for being there for me. As defense attorneys you have shown me a lot strength. May my love touch each one of you all's souls as I leave this body.  \"\n",
      " \" Mr. Bryant, I have wronged you and your family and for that I am truly sorry. I forgive and I have been forgiven. Death is but a brief moments slumber and a short journey home. I'll see you when you get there. I am done, Warden.  \"\n",
      " \" I want the victim's family to know that I didn't commit this crime. I didn't kill your loved one. Sharon Wilson, y'all convicted an innocent man and you know it. There are some lawyers hired that is gonna prove that, and I hope you can live with it. To my family and loved ones, I love you. Thank you for supporting me. Y'all stay strong. Warden, take me home.  \"\n",
      " 'First of all, I want to apologize to the family of Kelly Elizabeth Donovan. I am sorry for what I did to her twelve years ago. I wish they could forgive me for what I did. I am sorry. I am sorry for hurting my family, for hurting my friends. Jesus forgive me. Take me home with you. I am ready. I love you all.  '\n",
      " ' Since I have already said all I need to say to all my loved ones, I\\'m not going to say anything to y\\'all at this time. Y\\'all know I love you and y\\'all know where we\\'re at. I will see y\\'all when you get there. So this is my statement. To all of the racist white folks in America that hate black folks and to all of the black folks in America that hate themselves: the infamous words of my famous legendary brother, Matt Turner, \"Y\\'all kiss my black ass.\" Let\\'s do it. '\n",
      " \" I wish we could pray to Allah, the father of the universe. I ask for your protection and my salvation, my night and my day. I want you to lead me and I will follow. We give praise to Allah the divine and holy prophet. We know that you are Allah, that you are the prophet in these days that is in charge of the human race in this new era of time. These two (unintelligible) to the masters of the temple of the son we have been honored to dwell in our father's house at least for the time in which this finite time has come to it's assigned time for one. There is nothing strange, love governs all events, what is (unintelligible), who is who was his mother and father, we extend my love to all my brothers and sister extend to life and my religion, it is Allah. It is going in salvation of the nation I come from South, Central, and North America. (Unintelligible) that would save us. So, I call on to all of my brothers and sisters and to members of the human race that still have some knowledge for what love divine love is. That comes learned from your ancient forefathers. Love is brought by this prophet Allah. We extend our love to everyone who believes the faith of Islamic and chooses to love along with all their being. We come to understand what is finite and what is infinite. Again, I say it is an honor to live in my father's house. To see this divine great paradise that which I have come to see with the eye of the spirit, the spirit which was revealed by my prophet which was (unintelligible). We extend our love to everybody. Extend my love to my divine sister. Sister Dorothy, and my brother Tomas and we know that our father Allah will bless them in the following days to come. We know that Allah is with us now and forever. The say I am going to have surgery, so I guess I will see everyone after this surgery is performed. It is finished. \"\n",
      " \" Kathy, y'all take and I bless all of you and I am glad I have had y'all in my life. As I have said from the very first thing, I am innocent of this crime and God knows I am innocent and the four people that was murdered know I am innocent and when I get to heaven I'll be hunting you and we'll talk. I feel sorry for the families that's had to suffer and my family and I have 'em all in my prayers. I love you all. Y'all take and y'all look after Sheila and Shannon and them, call 'em and get the pictures to 'em and everything and, ah, again, like I said, I feel sorry for the families, but if it takes my death to make them happy, then I will bless them. I have no hard feelings toward anyone cause the Lord feels that it is my time to come home to Him, my work on earth is done and that, ah, like I said, I am just sorry for, but they will have to go through this one time again, cause sooner or later, whoever did this crime is going to be caught and they'll have to come down here and do this again and they will realize they witnessed an innocent man going to be with Jesus Christ.  \"\n",
      " \"Be strong, brother. Be strong, my brother. Be strong, Mom. It's going to be alright. I love all of you. Don't forget that. Ironic, isn't it? I'm a cross. Ya'll take care of each other. I'll be watching over you. Thank you, Dana__Yes. \"\n",
      " \" I would like to say that I did not kill Bobby Lambert. That I'm an innocent black man that is being murdered. This is a lynching that is happening in America tonight. There's overwhelming and compelling evidence of my defense that has never been heard in any court of America. What is happening here is an outrage for any civilized country to anybody anywhere to look at what's happening here is wrong.  I thank all of the people that have rallied to my cause. They've been standing in support of me. Who have finished with me.  I say to Mr. Lambert's family, I did not kill Bobby Lambert. You are pursuing the execution of an innocent man.  I want to express my sincere thanks to all of ya'll. We must continue to move forward and do everything we can to outlaw legal lynching in America. We must continue to stay strong all around the world, and people must come together to stop the systematic killing of poor and innocent black people. We must continue to stand together in unity and to demand a moratorium on all executions. We must not let this murder/lynching be forgotten tonight, my brothers. We must take it to the nation. We must keep our faith. We must go forward. We recognize that many leaders have died. Malcom X, Martin Luther King, and others who stood up for what was right. They stood up for what was just. We must, you must brothers, that's why I have called you today. You must carry on that condition. What is here is just a lynching that is taking place. But they're going to keep on lynching us for the next 100 years, if you do not carry on that tradition, and that period of resistance. We will prevail. We may loose this battle, but we will win the war. This death, this lynching will be avenged. It will be avenged, it must be avenged. The people must avenge this murder. So my brothers, all of ya'll stay strong, continue to move forward.  Know that I love all of you. I love the people, I love all of you for your blessing, strength, for your courage, for your dignity, the way you have come here tonight, and the way you have protested and kept this nation together. Keep moving forward, my brothers. Slavery couldn't stop us. The lynching couldn't stop us in the south. This lynching will not stop us tonight. We will go forward. Our destiny in this country is freedom and liberation. We will gain our freedom and liberation by any means necessary. By any means necessary, we keep marching forward.  I love you, Mr. Jackson. Bianca, make sure that the state does not get my body. Make sure that we get my name as Shaka Sankofa. My name is not Gary Graham. Make sure that it is properly presented on my grave. Shaka Sankofa.  I died fighting for what I believe in. I died fighting for what was just and what was right. I did not kill Bobby Lambert, and the truth is going to come out. It will be brought out.  I want you to take this thing off into international court, Mr. Robert Mohammed and all ya'll. I want you, I want to get my family and take this down to international court and file a law suit. Get all the video tapes of all the beatings. They have beat me up in the back. They have beat me up at the unit over there. Get all the video tapes supporting that law suit. And make the public exposed to the genocide and this brutality world, and let the world see what is really happening here behind closed doors. Let the world see the barbarity and injustice of what is really happening here. You must get those video tapes. You must make it exposed, this injustice, to the world. You must continue to demand a moratorium on all executions. We must move forward Minister Robert Mohammed.  Ashanti Chimurenga, I love you for standing with me, my sister. You are a strong warrior queen. You will continue to be string in everything that you do. Believe in yourself, you must hold your head up, in the spirit of Winnie Mandela, in the spirit of Nelson Mandela. Ya'll must move forward. We will stop this lynching.  Reverend Al Sharpton, I love you, my brother.  Bianca Jagger, I love all of you. Ya'll make sure that we continue to stand together. Reverend Jesse Jackson and know that this murder, this lynching will not be forgotten. I love you, too, my brother. This is genocide in America. This is what happens to black men when they stand up and protest for what is right and just. We refuse to compromise, we refuse to surrender the dignity for what we know is right. But we will move on, we have been strong in the past. We will continue to be strong as a people. You can kill a revolutionary, but you cannot stop the revolution. The revolution will go on. The people will carry the revolution on. You are the people that must carry that revolutionary on, in order to liberate our children from this genocide and for what is happening here in America tonight. What has happened for the last 100 or so years in America. This is the part of the genocide, this is part of the African (unintelligible), that we as black people have endured in America. But we shall overcome, we will continue with this. We will continue, we will gain our freedom and liberation, by any means necessary. Stay strong. They cannot kill us. We will move forward.  To my sons, to my daughters, all of you. I love all of you. You have been wonderful. Keep your heads up. Keep moving forward. Keep united. Maintain the love and unity in the community.  And know that victory is assured. Victory for the people will be assured. We will gain our freedom and liberation in this country. We will gain it and we will do it by any means necessary. We will keep marching. March on black people. Keep your heads high. March on. All ya'll leaders. March on. Take your message to the people. Preach the moratorium for all executions. We're gonna stop, we are going to end the death penalty in this country. We are going to end it all across this world. Push forward people. And know that what ya'll are doing is right. What ya'll are doing is just. This is nothing more that pure and simple murder. This is what is happening tonight in America. Nothing more than state sanctioned murders, state sanctioned lynching, right here in America, and right here tonight. This is what is happening my brothers. Nothing less. They know I'm innocent. They've got the facts to prove it. They know I'm innocent. But they cannot acknowledge my innocence, because to do so would be to publicly admit their guilt. This is something these racist people will never do. We must remember brothers, this is what we're faced with. You must take this endeavor forward. You must stay strong. You must continue to hold your heads up, and to be there. And I love you, too, my brother. All of you who are standing with me in solidarity. We will prevail. We will keep marching. Keep marching black people, black power. Keep marching black people, black power. Keep marching black people. Keep marching black people. They are killing me tonight. They are murdering me tonight.  \"\n",
      " ' Verbal: I have a written statement for the press. It will be released as soon as they can. And I also responded to a comment to me from Sandy, daughter of Ms. Farris. I have felt deeply sorry for the deceased. But I\\'m sorry that I wasn\\'t the one that did it or anything. She will tell you that when she gets a chance to. When the time comes. I just wish just to be patient when the time for each and everyone of ya\\'ll individually have ya\\'ll time. But I\\'m not putting pressure on either one of ya\\'ll being having any guilt. I just want to say two thing, executing someone that is innocent, cause even though I am. The burden will be wiped away and you will be at ease to know that I know how it is and they will pay for it when their time comes. And all I have to say is that right now I\\'m sorry that it happened and I was part, not part in it but, part responsible for not properly getting the word out in time to get the right victim or the right convict or the right person that did it. I just wish to say a little prayer for the family for their appearance and forgiveness in this matter. Our Father, who art in heaven, hallowed by thy name. Thy kingdom come, thy will be done, on earth as it is in Heaven. Give this day your daily bread and forgive us our trespasses as we forgive those who trespass against us. Lead us not into temptation, but deliver us from evil. Our Lord, Amen. And ah, don\\'t be surprised if your Mom be the helper of God that would grab my hand and say \"You are now into eternal life with God.\" This is her being one of the chosen ones to give as proof of innocence. That\\'s what I meant by telling you I don\\'t mean to injure you anymore. When your time comes that she would let you know, if I was innocent or guilty. That about all I have to say. Love you all. '\n",
      " \"Hey, how are ya'll doing? Alright, it's gong to be alright. There's some guys I didn't get a chance to visit with, ah I met when I first drove up here_Lester Byers, Chris Black, Alba, John Alba, and Rosales Rock. You know who you are. The Raiders are going all the way, ya'll (mumbles_Mo-B). Ya'll pray for me. And it's going to be alright. That's it and it's time to roll up out of her. It's going down, let's get it over with. That's it.  \"\n",
      " \" I understand that Michael Skains is supposed to be here somewhere. They did everything but make sure I got a fair trial to prove I was innocent. I wasn't the one who had the gun to give to police and all these altered records from the District Attorney's office and the Attorney General's office, that's why Michael Sputnick got fired and ran off when I filed these appeals. Not one of my sell out lawyers would use this evidence, because they all work as a conspiracy with the court. No doubt about it. Jack King did everything he could to keep me from making arms and showing this evidence. They wait till the hearing was over and then make the arguments in the court or on paper where nobody can rebut it or contradict the testimony or arguments. There's more than 30 altered and falsified records saying I told so and so this or that, but you go look in their record, it does not say Thomas Mason called them at all and told them anything. But that's okay. All this evidence is being saved, so Jack King can laugh all he wants like he's the big hero, after this is over with, that's fine. But the person that had the gun, they know was not Thomas Mason, so who's getting the last laugh after all? The guy that got away. But Jack King knows he illegally convicted me of all these falsified altered records. My sister's got the document that my lawyer filed, but he didn't file with the court. It's got the signature on it. He put this all in one record. So it's going to be saved. It ain't going to be destroyed just because I'm dead. Everybody's got to go sooner or later and sooner or later everyone of ya'll will be along behind me. That's all I got to say.  \"\n",
      " \"To the Davis family, I am sorry for all of the pain that I caused your family. It was me and me alone. Anthony Graves had nothing to do with it. I lied on him in court. My wife had nothing to do with it. Anthony Graves don't even know anything about it. My wife don't know anything about it. But, I hope that you can find your peace and comfort in strength in Christ Jesus alone. Like I said, I am sorry for hurting your family. And it is a shame that it had to come to this. So I hope that you don't find peace, not in my death, but in Christ. Cause He is the only one that can give you the strength that you need.And to my family, I love you. Ah, you have been a blessing to me and I love you all and one day I will see y'all, so I hope y'all find y'all peace, comfort, and strength in Christ Jesus alone, because that's where it's at. Abul, behold your son, and Anitra, behold your mother. I love you. I am ready to go home and be with my Lord.  \"\n",
      " \"I would like to take this time to, ah, to use this moment an example for Christ. I would like to follow his example and leave with peace in my heart and forgiveness. There is no anger in my heart about this entire situation. I just want to testify to all of y'all that I have loved you. I appreciate your concern and genuine love for me. God bless you. I love all of all. Jesus is Lord.  \"\n",
      " \" I have been crucified with Christ. It is no longer I who lives, but Christ who lives in me. So for the life for which I live now in the flesh, I live by faith in the Son of God who loved me and gave himself for me. I love you, Annie. You have been the best friend I have ever had in the world. I'll see you when you get there, okay?  I am ready, Warden.  \"\n",
      " \" Can they talk back? Say I pray for it, I accept it. Pray with me. This is still a statement. Ready? Dear Heavenly Father, forgive us, Lord. I ask that you watch over my Mama and over my sister. I ask this in the name of Christ. I also repent for all my sins, Lord. I pray that you will bring me home tonight. Please, I ask that I rest in your arms in the name of Christ Jesus I pray this. I truly believe that Jesus died for my sins that I may be resurrected, Lord, that you would do that much. Please, I ask that you not let me down and that I will be with you today in Heaven. Christ Jesus name I pray this.  Donna and everybody else, Mr. Johnson, I ask that y'all will pray for me and that God will bring me home tonight, that he will keep me in Heaven, that I will still be in heaven. Please Lord, I don't want to be in Heaven, I mean I don't want to be in Hell. And, please Lord, I confess my sins. This is your son, Lord Jesus, this is your servant, please, this is your slave. I love you, too. Donna and Mama and Mr. Johnson, I wrote a message. Don't give up, love you all, even the ones that are my enemies. I truly forgive all of y'all in Christ Jesus, we pray. I ask God that he take all the hate out of my heart and away from my soul. Please, please, Lord, don't fail me. I don't know is Margie here now? But if she is, I ask her forgiveness. I ask that you not hold nothing against me or my family from this day forward, and hold no hate toward them. I don't know. I can't hear you, you may forgive me, and you may not. Forgive Mike Allison, forgive McHenry, forgive us all. Whatever the cost may be I love you. Take care of my Mama. Donna, I ask you to take care of my Mama, too. Whenever you get mad at her, you remember me. Remember I may be back. Mama, I am going to try to make that promise to you. I gonna ask God to allow his child to come back to see you. Cause I am in Heaven. At time I can come (unintelligible). Okay, Mr. Johnson, you take care, let my Mama's will be done. One more prayer, then we may proceed. Heavenly Father, I confess my sins, really I do. Let me know that I will be in Heaven tonight. Please let me know. I don't want to be in Hell with Satan or anyone else. Please, that is something I need to know. I ask that Jesus give me help.  In Jesus precious name, I pray this. I ask that you give me those promises, that you assure me that those promises are real. That I am praying right. In Jesus precious name, I pray this. Goodbye, Mama. Goodbye, Donna. \"\n",
      " ' Written: The following is the personal final statement of and by Michael L. McBride. The Beatitudes: Jesus lifted up his eyes on His disciples, and said, \"Blessed be the poor: for yours is the kingdom of God. Blessed are ye that hunger now: for ye shall be filled. Blessed are ye that weep now: for ye shall laugh. Blessed are ye, when men shall hate you, and they shall separate you from their company, and shall reproach you, and cast out your name as evil for the Son of Man\\'s sake. Rejoice ye in that day, and leap for joy: for behold, your reward is great in Heaven: for in the like manner did their fathers unto the prophets. But woe unto you that are rich! for ye have received your consolation. Woe unto you that are full! for ye shall hunger. Woe unto you that laugh now! for ye shall moan and weep. Woe unto you, when all men shall speak well of you! for so did their fathers to the false prophets. The supremacy of love over gifts: I Corinthians, Chapter 13: 4-8: Love is patient, love is kind, and is not jealous, love does not brag and is no arrogant, does not act unbecoming; it does not seek its own, is not provoked, does not take into account a wrong suffered, does not rejoice in unrighteousness, but rejoices with the truth; bears all things, believes all things, hopes all things, endures all things. Love never fails; but if there are gifts of prophecy, they will be done away; if there tongues, they will cease. Now abide faith, hope, love, these three: but the greatest of these is love. Poem: Do not stand at my grave and weep, I am not there I do not sleep. I am the diamond glints in the snow, I am the sunlight on the ripened grain. I am the gentle autumn rain. When you awaken in the morning\\'s hush, I am the swift uplifting rush of quiet birds in circled flight, I am the soft stars that shine at night.  Do not stand at my grave and cry, I am not there. I did not die. Signed Michael L. McBride #903 May 11, 2000 Huntsville, Texas '\n",
      " \"Yes, sir. James Webb, I don't know which one you are out there. I can't remember from the trial. I personally just want to let you know if there has ever been any doubt in your mind at all of what happened, I want you to know that Patty was always faithful to you, that I forced her for everything that she did and I am sorry. I just don't know how to tell ya'll I am sorry for what I did. There is no way for expressing I am sorry. I just hope that in some kind of way that ya'll can move on and find peace in your life. The Lord has given me peace and that is all that I pray for is that ya'll can find that peace. I just want you to know that I am sorry for what I done. I can't change that, all I can do is say I am sorry, that's nothing for what I have done. I can't replace your loss. I am sorry. I just want you to know that I love all of ya'll. It's been a pleasure, ya'll just keep on with life, it's gonna be good. The Lord's gonna be with us. If it's alright, I just want to say a prayer first. Father, God, I just thank you for the time that you have given me on this earth, for having mercy on somebody like me for all the despicable thing's I've done in my life, Father, but you still with your love and your mercy reach down into my heart and changed it before it's too late. I ask that you bestow peace upon the family of Patricia Webb, that you let them know, Father, that you are in a place where they can obtain that peace, and you will help them move on in their life, Father. Help them, Father, to find it in their hearts, not for my sake , but for yours, and their sake to, Father, find it in their heart to forgive me for what I have done. Father, I just ask that you be with my family and comfort them to move on Father. Father, we are all here today for the mistake that I have made and I thank you for your mercy for sending your Son into this life, that we might come to know you, Father. Father, I pray for these Wardens and the officers and the people that deal with all of this, Father, I ask that you touch their hearts, Father, and if there is any wrong to it, that you will forgive them, Father. Just let them know that you love them, Father, and that You are the way. I just thank you and in Jesus' name, I pray, Amen. I love ya'll, ya'll take care. I am so sorry.  \"\n",
      " \" Yes sir, I would like to address the Robinson family. There is nothing I can say here or anything I could probably do. Now you are all probably mad at me and I would probably be in the same situation you all in if anybody I thought killed anybody in my family ahh. If I knew who killed Rosalyn I would let you know, but, I am going to say this: I am going to heaven with God as my witness. Ros was a personal friend of mine. She was a beautiful person, very educated, her. I'm very tight with the Robinson family. She was proud that she had a father that was a doctor. My family is not here present and that is by my wish and my wish only. Now the tables is turned. You are all here, the Robinson family is her to see me executed. That is something that I would not want for my family. In no form or fashion would I have ever want to see Rosalyn dead. I left the scene of where the incident happened. I guarantee you if I would have been there you would not be standing where you are if I would have been there. You all have some very serious look on your face and something very serious fixin' to happen now. I will say this on my own behalf but then again I know it is not going to make any difference but what you fixing to witness is not a nice thing. It's not nice. It's not nice. The media. I would just like to address to the media with everybody's permission. I would like to say before I go that it has been said that I have shown no remorse, but if you look at my record and my background, ask anybody that know me that in order for me to show any kind of remorse for killing that ever been done, this one time I can't show no remorse for something that I did not do and if I did I would be faking. I would totally be faking and believe me there is nothing fake about me. Nothing fake. I've done wrong, sure, I've paid the time. This is one time that I know I cannot show no remorse for something that I did not do. I am at peace, please believe me. Wherefore, I figure that what I am dying for now is what I have done in my past. This is what I am dying for. Not for killing Rosalyn. I don't know what ya'll call her but I call her Ros, I call her Ros. That's it.  \"\n",
      " \" Verbal Statement: Okay, thank you. To the Weis family, and ah I just want you to know from the bottom of my heart that I am truly sorry. I mean it, I'm not just saying it. Through the years of being in prison I come to hear and respect our life. It was wrong what I did. I know you had to go through a lot of pain and I'm sorry. To the Jones family, the same is true, I am truly truly sorry. I wanted to prepare a longer statement but time ran out. I had the chaplain write down a few words for my friends and for you, my family. I would like him to read them for me, and ah, just please find peace. \"\n",
      " \" I'd like to send great love to all my family members, my supporters, my attorneys. They have all supported me throughout this. I thank you for proving my innocence, although it has not been acknowledged by the courts. May you continue in the struggle and may you change all that's being done here today and in the past. Life has not been that good to me, but I believe that now, after meeting so many people who support me in this, that all things will come to an end, and may this be fruit of better judgments for the future. That's all I have to say.  \"\n",
      " \" I'd like to apologize to the victim's family. Ah, no ah, I really can't say, I don't think I can say anything that will help, but I hope through your God, you can forgive me. I'm definitely not the person now that I was then. I was sick, afraid, and looking for love in all the wrong ways. I've caused you pain and grief beyond ever dreaming to cause someone of. I hope you will be able to forgive me. To my mother, I love you very much. Thanks, Jones.  \"\n",
      " \" Dad, I love you both. You've been the best. All of you, all of you have truly been the best. And ah, I believe I'm going home. I'm sorry, and I really mean that, it's not just words. My life is all I can give. I stole 2 lives and I know it was precious to ya'll. That's the story of my whole life, that's what alcohol will do for you. Oh Jesus, Lord God, take me home. Precious Lord. Take me home Lord. Take me home. Yes, sir. Take me home oh Lord.  \"\n",
      " \" Yes, I do. I want to tell you all how much I love you all, how much I appreciate everything. I love you all and my family. I treasure every moment that I have had. I want the guys to know out there not to give up, not to give in, that I hope someday the madness in the system, something will come about, something will be resolved.  I would gladly trade the last 24 years if it would bring back Mark Fredericks. Give him back his life, give back my father his life, and my mother her health. All I ask is that I have one day and all the memories of you and my family and all the things that have happened. They are executing an innocent man because things did not happen as they say they happen and there's. The truth will come out someday. I am not the same person as I was 24 years ago. Who would have thought it would have taken 24 years to get to this moment? Don't give up, don't give in. If I am paying my debt to society, I am due a rebate and a refund, but I love you all and you all watch out for Mom and you all keep up, keep going.  Thank you, Warden.  \"\n",
      " \" Hey, how y'all doing out there? I done lost my voice. Y'all be strong now, alright? Don, thanks man. I love you, Gloria, always baby. That's all I got to say. Hey, don't y'all worry about me, okay?  \"\n",
      " \" To my family, I love them. To Kami, I love you and will always be with you. That's it Warden.  \"\n",
      " \"Love ya'll, see you on the other side.  \"\n",
      " ' Like to tell my friends that I love them. Appreciate them being here to support me. Alison, I love you.  '\n",
      " \"Well, first, My people, you guys have heard everything I needed to say today. I hope I said the right things. I hope you heard me. And I hope you go beyond here and do what you need to do, do the right thing. Strength in numbers. Look out for each other. You still got a chance with Shawn. Edwin you know what you gotta do. You have my love. It's the right thing. And for everybody else, those people who have malice in their heart, allow ambitions to over ride what they know. Be right. Even though they just gotta do their job. For all of you with hatred in their veins, and think this is ashamed. You've done nothing. I did this, I chose this, you've done nothing. Remember this, if all you know is hatred, if all you know is blood love, you'll never be satisfied. For everybody out there that is like that and knows nothing but negative, kiss my proud white Irish ass. I'm ready Warden, send me home.  \"\n",
      " \" I want to start out by acknowledging the love that I've had in my family. No man in this world has had a better family than me. I had the best parents in the world. I had the best brothers and sisters in the world. I've had the most wonderful life any man could have ever had. I've never been more proud of anybody than I have of my daughter and my son. I've got no complaints and no regrets about that. I love everyone of them and have always been loved all of my life. I've never had any doubts about that. Couple of matters that I want to talk about since this is one of the few times people will listen to what I have to say. The Unites States has gotten to a now where they zero respect for human life. My death is just a symptom of a bigger illness. At some point the government has got to wake up and stop doing things to destroy other countries and killing innocent children. The ongoing embargo and sanctions against places like Iran and Iraq, Cuba and other places. They are not doing anything to change the world, but they are harming innocent children. That's got to stop at some point. Perhaps more important in a lot of ways is what we are doing to the environment is even more devastating because as long as we keep going the direction we're going the end result is it won't matter how we treat other people because everybody on the planet will be on their way out. We have got to wake up and stop doing that. Ah, one of the few ways in the world the truth is ever going to get out, or people are ever going to know what's happening as long as we support a free press out there. I see the press struggling to stay existent as a free institution One of the few truly free institutions is the press in Texas. People like the Texas Observer and I want to thank them for the job they've done in keeping me and everybody else informed. I hope people out there will support them, listen to them and be there for them. Without it, things like this are going to happen and nobody will even know. I love all of you. I always have I always will. I would like to address the State of Texas and specially Joe Price, the District Attorney who put me here. I want to remind Mr. Price of the mistake he made at Gene Hawthorn's trial when he said that Gene Hawthorn was telling the truth at my trial. Mr. Price is a one-eyed hunting dog. He in fact is not a one-eyed hunting dog, and in fact Gene Hawthorn lied at my trial. Everybody knew it. I'm dying tonight based on testimony, that all parties, me, the man who gave the testimony, the prosecutor he used knew it was a lie. I am hoping somebody will call him to the floor for recent comments he's made in the newspaper. It's bad enough that a prosecutor can take truth and spin on it and try to re-doctor it. But when they actually make facts up and present to the public as trial's evidence. That goes beyond fail, that's completely unforgivable and I hope somebody makes Mr. Price account for or explain the tennis shoes he is talking about that put me here. I'm still completely lost on that and I'm hoping that somebody will go back and verify the trial record and make him accountable for lying to the public and the press that way. That's really all I have to say except that I love my family. and nobody, nobody has got a better family than me. I love you booger bear. I love doodle bug, too. Don't let them ever forget me. I'll never forget them. I'll see you on the other side, okay. Bye bye Debbie. Bye bro, bye booger bear. Father Mike, Father Walsh, love you all. That's all, sir.  \"\n",
      " \" Ah, just ah sorry ya'll. I think of tried everything I could to get in touch with ya'll to express how sorry I am. I, I never was right after that incident happened. I sent a letter to somebody, you know a letter outlining what I feel about everything. But anyway I just wanted, right after that apologize to you. I'm real sorry for it. I was raised by the California Youth Authority, I can't really pin point where it started, what happened but really believe that's just the bottom line, what happened to me was in California. I was in their reformatory schools and penitentiary, but ah they create monsters in there. That's it, I have nothing else to say. Thanks for coming Jack.  \"\n",
      " ' Mama Isabel told me to tell you hello. Holy, holy, holy! Lord God Almighty! Early in the morning our song shall rise to Thee; Holy, holy, holy, merciful and mighty! God in three Persons, blessed Trinity. Holy, holy, holy! Merciful and mighty. All Thy works shall praise Thy name, in earth, and sky, and sea; Holy, holy, holy, merciful and mighty! God in three Persons, blessed Trinity. Oh, our Father who art in heaven, holy, holy, holy be Thy name. Thy kingdom come, Thy will be done, on earth as it is in heaven. Give us this day our daily bread and forgive us our sin as we forgive our debtors. Lead us not into temptation, but deliver us from evil, for Thine is the kingdom and the power and the glory forever and ever. Now, Father, into Thy hands I commit my spirit. Amen.  '\n",
      " \" I'm sorry, I wish I could bring them back. I'm done, let's do it.  \"\n",
      " 'English: I love you. I will be waiting for you on the other side. Son be strong no matter what happens, know that God is looking over you. Jesus mercy, Jesus mercy, Jesus mercy! Spanish: Brother-in-law, take care of the family and let it be united. Yoli. German: Menic schone prizessin. Du list all mine herz and seele, rind ich liele dich so sehm! (Translation: My beautiful princess. You are all my heart and soul and I love you so much.  '\n",
      " \" I would like to say a little something. I just want to say I'm sorry to the family. I know I caused you a lot of pain and suffering and I hope that you will find some peace and comfort in this. That if there is any anger you can let it go. Not let it come between you and God. Sorry for causing everybody such trouble tonight, Bruce, Joe, ya'll all treat me with respect I appreciate it. I really do. I just want to tell my family, everybody I love and I want you to know that I love you, and that God loves you too. Everything is going to be just fine, just fine. I love ya'll. That's it.  \"\n",
      " ' I would like to give thanks to God Almighty, by whose grace I am saved through His son, Jesus Christ, without whom I would be nothing today. Because of this mercy and grace, I have come a long way, and I would like to thank God and others who have been instrumental. I would like to say to the Lang family how truly sorry I am in my soul and in my heart of hearts for the pain and misery that I have caused from my actions. I am truly sorry. And to my family I would also like to extend to them the same apology for the pain and misery that I have put them through, and I love them dearly from the bottom of my heart, and one day I would like to see them on the other side. Some I will; some I won\\'t. I would like to thank all of the men on Death Row who have showed me love throughout the years, but especially the last two or three weeks, and I hold nothing against no man. I am so thankful that I have lived as long as I have. I hope that I have helped someone. I hope that [by] donating my body to science that some parts of it can be used to help someone, and I just thank the Lord for all that he has done for me. That is all I have to say, Warden.  Oh, I would like to say in closing, \"What about those cowboys?\"  '\n",
      " \" Yes, I would like to give love to my mother, sisters and brothers and let them know that I am thinking of them right now and I want to thank God for giving me such a loving family. To the victim's family: I hope you will find it in your heart to forgive me as I have forgiven you. I'm ready, Warden.  \"\n",
      " 'I want you all to know I did not do this crime. I wanted to wait for a thirty day stay for a DNA test so you know who did the crime.'\n",
      " \"Yes, to my family, I love you. Please do not mourn my death or my life. Continue to live as I want you to live. I hold no bitterness toward no one. Just remember the light. I'm gonna let this light shine. Let it shine. Let the light shine.\"\n",
      " \"To Kathy's family and friends that were unable to attend today, I am truly sorry. I hope my dropping my appeal has in some way began your healing process. This is all I am going to do to help you out in any way for the nightmare and pain that I have caused you, but I am truly sorry and I wish I could take back what I did, but I can't. I hope this heals you.\"\n",
      " \"Adios, amigos, I'll see ya'll on the other side. I'm ready when ya'll are.\"\n",
      " \"The first statement I would like to make it's my sister. I want her to know that every thing that is said, every move that is made, every motion, I hold it true to my heart. I hold it in my soul.\"\n",
      " \"Hello, Ms. Ingram, it is good to see you. I said I could talk but I don't think I am gonna be able to. I heard one of your nieces had some angry words. I didn't have anything to do with the stay. I spent the last twenty years waiting to figure out what's going on. I pray that you get over it and that's the only thing I can think to say. I'm regretful for what I done, but I'm a different person from that time. If you could get to know me over the years, you could have seen it. I've got some people over here that believes that.\"\n",
      " 'For the pain I have caused you. I am ashamed to even look at your faces. You are great people. To my brothers on Death Row. Mexico, Mexico_(Spanish).'\n",
      " \"I really don't have much to say. All I want to say is that when the state introduced my sister and my niece as state witnesses, it's not that they testified against me. The thing is, my lawyers would not subpoena anyone, so they allowed the state to subpoena them to paint a picture to the jury that my own sister and niece was testifying against me.\"\n",
      " 'First off, to the Rosenbaum family, to Cindy, to Scott, to everyone, I just want to say I have nothing but love for you. And I mean that from the deepest part.'\n",
      " \"I'd like to apologize and ask forgiveness for any pain and suffering I have inflicted upon all of you, including my family. All of you, I am very sorry. There is a point where a man wants to die in judgment. Though my judgment is merciful, I hope and pray that all those involved as well as the judgment upon ya'll, will one day be more merciful than mine. God bless you all. God speed. I love you. Remain strong. Ask God to have mercy. I love you all, too. I'm very sorry. I've got to go now. I love you.  \"\n",
      " 'As the ocean always returns to itself, love always returns to itself. So does consciousness, always returns to itself. And I do so with love on my lips. May God bless all mankind.'\n",
      " \"I just want to tell Catharina I love you. Take care of yourself. That's all I have to say.\"\n",
      " \"I guess the first thing I want to do is thank some very special people, Sara and Sabrina. And for affording me the opportunity that ya'll did. It made a real big difference in my life. I thank you. Thank you again from the deepest part of my heart. I'm sorry. The biggest thing I wanted to say was to you and family and I know I haven't had a chance to talk with ya'll in any form or fashion or way or manner. And I regret what happened and I want you to know that I'm sorry. I just ask and hope that sometime down the line that you can forgive me. I think in a lot of ways that without that it becomes very empty and hollow and the only thing we have is hatred and anger. I guess the only thing I have to say about the Death Penalty is that a lot of times people think of it as one sided, but it's not. It's two sided. There pain on both sides and it's not an issue that people just sit there and voice off and say, well, this is a good thing, or this is a bad thing. But it's something that's, you know, needs to be looked at and desired in each heart. I just hope that all of you can understand that and someday forgive me. I want to thank ya'll for affording me the opportunity to talk and meet with ya'll. It meant so much. Thank you so much for being with me and my family. Thank you. I love you.\"\n",
      " \"I'm ready to be released. Release me.  \"\n",
      " '1 Corinthians 12:31B to 13:13 (NIV)'\n",
      " 'Thank you for setting me free. God bless you all. I love you, Miguel. Take care of my angel, Leslie. Love, Javier Cruz'\n",
      " \"Keep it brief here. Just want to say, uh, family, take care of yourselves. Uh, look at this as a learning experience. Everything happens for a reason. We all know what really happened, but there are some things you just can't fight. Little people always seem to get squashed. It happens. Even so, just got to take the good with the bad. There is no man that is free from all evil, nor any man that is so evil to be worth nothing. But it's all part of life, and my family, take care of yourselves. Tell my wife I love her. I'll keep an eye on everybody, especially my nieces and nephews. I'm pretty good. I love ya'll. Take care. I'm ready.\"\n",
      " 'I have come here today to die, not make speeches. Today is a good day for dying.'\n",
      " \"I love you all. We had a good service and I'll be with you. I'll be waiting for you in Heaven. Ok. Adios. That's all I have to say.\"\n",
      " \"I want to tell you folks there, of a_ I have a love in my heart for you. I hope you don't look for satisfaction or comfort or peace in my execution. Jesus Christ is my Lord and Savior and I want him to be yours. I'm sorry for the pain and heartache I've caused your family. Too many years I've caused all my family problems and heartache. I'm sorry. I wanted to let you know that the Lord Jesus is my life and I just want to go. I'm gonna fall asleep and I'll be in his presence shortly. I got reason to rejoice and I pray to see all of you there someday.  \"\n",
      " \"I'd like to say that for the murders of Ray Hazelwood and Frank Collier, I'm sorry for that pain it has caused you. To my friends, I'd like to say that I love you and I'm glad you've been a part of my life. Thank you. I'll miss you. Remember that today I'll be with Jesus in paradise. I'll see you again.\"\n",
      " \"I know you can't hear me now but I know that it won't matter what I have to say.\"\n",
      " \"I love all of you all. Thank you for caring so much about me. Keep the faith. I am going to a better place. I hope the victim's family will forgive me because I didn't mean to hurt no one or kill no one.\"\n",
      " 'I owe no apologies for a crime I did not commit. Those who lied and fabricated evidence against me will have to answer for what they have done. I know in my heart what I did and I call upon the spirit of my ancestors and all of my people and I swear to them and now I am coming home.  '\n",
      " \"I am sorry for what I did to your mom. It isn't because I'm going to die. All my life I have been locked up. I could never forgive what I done. I am sorry for all of you. I love you all. Thank you for supporting me. I thank you for being kind to me when I was small. Thank you, God.\"\n",
      " \"Mindy, I'm with you, honey. I do not know why, Mindy, you are doing this, but I will still forgive you. You know he is a murderer. Why don't you support me? He will do it again. Mindy, you are lucky you are still alive.\"\n",
      " \"I would like to tell the victims' families that I am sorry, very sorry.\"\n",
      " \"Yes sir, I would like to say to all of you to the Thornton family and Jerry Dean's family that I am so sorry. I hope God will give you peace with this.\"\n",
      " \"A lot of people view what is happening here as evil, but I want you to know that I found love and compassion here. The people who work here, I thank them for the kindness they have shown me and I deeply appreciate all that has been done for me by the people who work here. That's all, Warden, I'm ready.  \"\n",
      " \"You all brought me here to be executed, not to make a speech. That's it.  \"\n",
      " 'Yes, I do. I would like to tell the surviving victims here, society, my family and friends, that I ask that they forgive me for anything I have done. I beg for your forgiveness. I would like to ask the Lord Jesus Christ for forgiveness and say that in spite of my circumstances, I have been blessed by Him. My first thought is that Jesus Christ came down and separated the humans from God. I would like to see that wall that separates these groups here tonight brought down and that we would all have love and compassion for one another and that you all build a future for all of us. There are a lot of men on the Row who need to be remembered. I love all_'\n",
      " 'Jesus, the Lord, is everything to me. I am nothing without him. Praise Jesus. Praise God'\n",
      " 'I am so glad I found God and I am so happy for it.'\n",
      " \"First and foremost I would like to tell the victims' families that I am sorry because I don't feel like I am guilty. I am sorry for the pain all of them have gone through during holidays and birthdays. They are without their loved ones.\"\n",
      " 'I want to thank the Lord for giving me this opportunity to get to know Him. He has shown me a lot and He has changed me in the past two months. '\n",
      " \"Ms. Craft and Ms. Bethrie, I don't know what to say to you   but I apologize for the pain I have caused you and your family over the years. I   hope that you will accept my apology and that you will know that it is sincere.   I hope this will allow you and your family to move on and I hope you will   forgive me and I hope Mr. Hanon [illegible] will forgive me for taking   his life. Please accept my apology. I love you all.\"\n",
      " \"I would like to apologize to the victim's family for all of the pain I have caused them. I would like to tell my family I love them and I hope to see them again soon. Lord Jesus, thank you for giving me the strength and the time in my life to find Jesus Christ and to be forgiven for all of my sins. Thank you for the changes in my life you have given me, the love and closeness of my family, and my beautiful daughter. Thank you for using me -\"\n",
      " 'First, I would like to give praise to God for the love and grace that he has allowed for all of this to come together.'\n",
      " \"Well, my friends in my heart, I'm ready to\"\n",
      " 'I would like to apologize for all of the pain and suffering I put you all through. I hope this will give you closure now and later on down the line.'\n",
      " 'I would like to say to the Magee family and the Cadena family that I was friends with David and Virginia and I did not commit this offense.'\n",
      " 'I have a statement prepared that I have given to the Chaplain that I want released to the media.'\n",
      " \"It's a good day to die. I walked in here like a man and I am leaving here like a man. I had a good life. I have known the love of a good woman, my wife. I have a good family. My grandmother is the pillar of the community. I love and cherish my friends and family. Thank you for your love.\"\n",
      " 'Yes, I do.'\n",
      " 'I would like to tell my family that I love them and always be strong and keep their heads up and keep faith in Jesus.'\n",
      " 'I would like to thank all of you for coming. I am sorry for all of the pain I have caused both families to my family and yours.'\n",
      " 'Yes, I would like to praise Allah and I am praying to Allah. Allah is most gracious. I will ask Allah for forgiveness because he created me and he will forgive me.'\n",
      " \"Yes sir, I do. Well, here we are. I apologize for your loss and your pain, but I didn't kill those people.\"\n",
      " 'I would like to apologize for all of the hurt, pain and disappointment I caused to my family and all my friends.  I hope all the veterans and teenagers out there who have a drug problem will get help.  I hope the lord will forgive me of all of my sins.  I thank Jack and Kathy for being with me.  I hope that those who support the Death Row inmates will continue to work and maybe we can get this resolved and do away with the Death Penalty.  I hope this is a lot better place where I am going.'\n",
      " 'I want to let all of my people know and everybody who is here and supported me that I love them and wish them all the best.'\n",
      " 'I would like to thank my Lord Jesus Christ for keeping me strong all these years. I would also like to thank my mother for standing by me all these years. I would also like to thank my pen pals, Joe and Camille Tilling and JoAnn for helping me stay strong all these years. I also thank my two lawyers, Rita and Brent, for fighting to keep me alive. I love you, Mom -'\n",
      " \"First of all I want to thank the LORD, my family and my wife Nora for all the support and encouragement they've shown me through all this. I love you!! Now I want to thank all of you that came here today to be with me. I know most of you are here to see me suffer and die but you're in for a big disappointment because today is a day of joy. Today is the day I'll be set free from all this pain and suffering. Today I'm going home to HEAVEN to live for all eternity with my HEAVENLY FATHER JESUS CHRIST, and as I lay here taking my last breath, I'll be praying for all of you because you're here today with anger and hatred in your hearts letting Satan deceive you into believing that what you're doing is right and just. GOD help you, because what you're doing here today and what's in your hearts here today makes you no better than any man or woman on death-rows across this country. Today you're committing murder too!!! I pray on my own behalf for forgiveness for any and all of the pain I've caused you, I pray that some day you'll realize your own mistakes and ask GOD to forgive you as I have, because there is no peace without GOD's forgiveness. \"\n",
      " \"I want you to know that I did not kill anyone. I love you all. (Offender's words were not clear)\"\n",
      " 'Thank the Lord for the past 14 years that have allowed me to grow as a man to'\n",
      " \"Yes, I do. First of all, I want you to understand I speak the truth when I say I didn't kill your kids. Honestly I have not killed anyone. I wish you could get the rage from your hearts and you could see the truth and get rid of the hatred.\"\n",
      " 'It was horrible and inexcusable for me to take the life of your loved one and to hurt so many mentally and physically. I am here because I took a life and killing is wrong by an individual and by the state, and I am sorry we are here but if my death gives you peace and closure then this is all worthwhile. To all of my friends and family, I love you and I am going home -  '\n",
      " '(Mumbled.) Tell Mama I love her.'\n",
      " 'Not from me but I have a message to you from God. Save the children. Find one who needs help and make a small sacrifice of your own wealth and save the innocent ones. They are the key for making the world a better place.'\n",
      " 'There are people all over the world who face things worse than death on a daily basis, and in that sense I consider myself lucky.'\n",
      " 'I thank God that he died for my sins on the cross, and I thank Him for saving my soul, so I will know when my body lays back in the grave, my soul goes to be with the Lord. Praise God. I hope whoever hears my voice tonight will turn to the Lord. I give my spirit back to Him. Praise the Lord. Praise Jesus. Hallelujah.'\n",
      " \"I want the world to know that I'm innocent and that I've found peace. Let's ride.  \"\n",
      " 'I would like to say to I just hope Ms. Fielder is happy now. I would like to thank my lawyer, Nancy, for her help on my case and for being with me now.'\n",
      " \"I would like to say that I have no animosity toward anyone. I made a mistake 18 years ago to I lost control of my mind but I didn't mean to hurt anyone. I have no hate toward humanity. I hope He will forgive me for what I done. I didn't mean to.\"\n",
      " \"I would like to tell my family I love them. My attorneys did their best. All of my brothers on death row, those who died and those who are still there, to hang in there. And that's all I have to say.\"\n",
      " 'I forgive all of you to hope God forgives all of you too.'\n",
      " 'I love you, Mom. Goodbye.' \"There's love and peace in Islam.\"\n",
      " 'I would like to thank my friends and family for sticking with me through all of this. I would like to encourage my brothers to continue to run the race. I thank my Father, God in Heaven, for the grace he has granted me to  I am ready.'\n",
      " 'Thank you for being my Lord Jesus and Savior and I am ready to come home. Amen.  '\n",
      " 'I have committed lots of sin in my life, but I am not guilty of this crime.'\n",
      " '_guys like them got tied up in something like this. Thank Chaplain Taylor and Jane. I just got your letter. Thanks to Carolyn and Gloria, who have been my friends for over four years. I want to remember Patsy Buntion, Gladys and a lot more friends. I want to thank the prosecutor in my case; it took courage for him to do what he did but he did what he did because he believed in the judicial system.'\n",
      " 'I told the daughter not to come. Discontinue; be quiet, please. Specifically, I want to say that the bad evil man I was when I came to death row 13 years ago is no more to by the power of God; Jesus Christ; God Almighty; Holy Spirit, he has transformed me as a new creature of Christ. I know that I am a Christ child and that my Lord will welcome me into His arms.'\n",
      " \"I'll see you.\"\n",
      " '(Mumbled something about he wished his whole life would have been spent as Islamic.)'\n",
      " \"I just love everybody, and that's it.\"\n",
      " \"(First two or three words not understood.) I don't know why Marta Glass wasn't allowed in here. I love you all. Keep the faith. Remember the death penalty is murder. They are taking the life of an innocent man. My attorney, Ron Kuley [unintelligible], will read my letter at a press conference after this is over. That is all I have to say. I love you all.\"\n",
      " 'To my family who has kept me strong, I give my love.'\n",
      " 'Well, I just wanted to ask people to pray for two families: my family and the family of Officer McCarthy. I appreciate the prayers. Lord Jesus, receive my spirit.'\n",
      " 'God, please forgive me of my sins. Look after my people. Bless and protect all people. I am sorry for my sins. Lord, take me home with you. Amen. (A couple of sentences garbled.)'\n",
      " 'I want to express my feelings regarding the mishap of the deceased Mrs. Iris Siff. That was a very unfortunate incident and only God knows why it was an unintentional situation that took place. I want to express my remorse to the family and the discomfort and pain I caused in their lives. Only God will determine if I am truly guilty or innocent of being the type of person I have been drawn up to be by the press and media. I have given my wife the power and energy to be a disciple of Islam. I rescued her from a wretched life in Ireland. I thank Allah for sending her to me. Certainly murder cannot be an instrument of Allah. My wife is very devoted.'\n",
      " 'I just want to tell my family I love them, and I thank the Lord Jesus for giving me another chance and for saving me.'\n",
      " 'This execution is not justice. This execution is an act of revenge! If this is justice, then justice is blind. Take a borderline retarded young male who for the 1st time ever in his life committed a felony then contaminate his TRUE tell all confession add a judge who discriminates plus an ALL-WHITE JURY pile on an ineffective assistance of counsel and execute the option of rehabilitation persecute the witnesses and you have created a death sentence for a family lasting over 10 years.'\n",
      " \"I'm an African warrior, born to breathe, and born to die.\"\n",
      " 'I would like to tell my family I love them very dearly, and I know they love me. I love all of the people who supported me all of these years. I would like to tell the Merka family I love them, too. I plead with all the teenagers to stop the violence and to accept Jesus Christ and find victory. Today I have victory in Christ and I thank Jesus for taking my spirit into His precious hands. Thank you, Jesus.  '\n",
      " \"I am the sinner of all sinners.  I was responsible for the '75 and '79 cases. My trial was not just; it was not fair; they lied against me. I love all of those on Death Row, and I will always hold them in my hands. Those who stood by me, I will always love you. Jim and Judy Peterson and Chaplain Lopez, I thank you for staying by my side.\"\n",
      " 'I am innocent, innocent, innocent. Make no mistake about this; I owe society nothing. Continue the struggle for human rights, helping those who are innocent, especially Mr. Graham. I am an innocent man, and something very wrong is taking place tonight. May God bless you all. I am ready.  '\n",
      " 'High Flight (aviation poem)'\n",
      " 'When his attorney came into the witness room, he said, \"Tell Mom I love her.\" The attorney said back to him, \"I love you, too.\"'\n",
      " 'Thanked his family.'\n",
      " 'I just want everyone to know that the prosecutor and Bill Scott are sorry sons of bitches. To his family he added that he loved them all.'\n",
      " \"Let's do it, man. Lock and load. Ain't life a [expletive deleted] ?\"\n",
      " 'His final statement lasted 3 minutes. He thanked everybody that fought against his sentence. He spoke to his family and said he would carry their love with him.  '\n",
      " 'I don\\'t think so. That\\'s all. Go ahead. Start things rolling. (Mouthed \"Hi, Mom\" to his mother.)'\n",
      " \"I'm going to a beautiful place. O.K., Warden, roll em.\"\n",
      " \"I'm ready, Warden.\"\n",
      " 'I just ask everybody I ever hurt or done anything wrong to, to just forgive me for whatever wrongs I done to them.'\n",
      " \"I would like to point out that I have written a statement and the Warden will give you a copy. I still proclaim I am innocent, and that's all I have to say.\"\n",
      " 'I wish everybody a good life. Everything is O.K.'\n",
      " \"I want to say I hold no grudges. I hate no one. I love my family. Tell everyone on death row to keep the faith and don't give up.\"\n",
      " 'I hope Mrs. Howard can find peace in this.'\n",
      " 'I would like to tell Mr. Richard that I appreciate all he has done for me. I love you all. God bless. Goodbye, David.  '\n",
      " \"Mother, I am sorry for all the pain I've caused you. Please forgive me. Take good care of yourself. Ernest and Otis, watch out for the family. Thank all of you who have helped me.\"\n",
      " \"I want to say I'm sorry for the things I've done and I hope I'm forgiven. I don't hold nothing against no one to Everyone has treated me well and I know it's not easy for them to That's all, I'm sorry.\"\n",
      " \"Tell my mother I love her and continue on without me. God bless her. Tell the guys on death row to continue their struggle to get off death row. That's about it.\"\n",
      " \"Goodbye to my family; I love all of you, I'm sorry for the victim's family. I wish I could make it up to them. I want those out there to keep fighting the death penalty.\"\n",
      " 'I have no last words. I am ready.'\n",
      " 'Goodbye to all my friends; be cool. Thank you for being my friends. Give my love to everybody.'\n",
      " '\"Be strong for me,\" Pinkerton told his father, Gene Pinkerton, as witnesses entered the execution chamber. \"I want you to know I\\'m at peace with myself and with my God,\" Pinkerton said. He recited a prayer to Allah, the supreme being of Islam. \"I bear witness that there is no God but Allah. With your praise I ask for forgiveness and I return unto you,\" Pinkerton said. \"I love you, Dad.\"'\n",
      " 'I deserve this. Tell everyone I said goodbye.'\n",
      " \"D.J., Laurie, Dr. Wheat, about all I can say is goodbye, and for all the rest of you, although you don't forgive me for my transgressions, I forgive yours against me. I am ready to begin my journey and that's all I have to say.\"\n",
      " \"I want to thank Father Walsh for his spiritual help. I want to thank Bob Ray (Sanders) and Steve Blow for their friendship. What I want people to know is that they call me a cold-blooded killer when I shot a man that shot me first. The only thing that convicted me was that I am a Mexican and that he was a police officer. People hollered for my life, and they are to have my life tonight. The people never hollered for the life of the policeman that killed a thirteen-year-old boy who was handcuffed in the back seat of a police car. The people never hollered for the life of a Houston police officer who beat up and drowned Jose Campo Torres and threw his body in the river. You call that equal justice. This is your equal justice. This is America's equal justice. A Mexican's life is worth nothing. When a policeman kills someone he gets a suspended sentence or probation. When a Mexican kills a police officer this is what you get. From there you call me a cold-blooded murderer. I didn't tie anyone to a stretcher. I didn't pump any poison into anybody's veins from behind a locked door. You call this justice. I call this and your society a bunch of cold-blooded murderers. I don't say this with any bitterness or anger. I just say this with truthfulness. I hope God forgives me for all my sins. I hope that God will be as merciful to society as he has been to me. I'm ready, Warden.  \"\n",
      " \" There's no God but Allah, and unto thy I belong and unto thy I return. I want to continue to tell my brothers and sisters to be strong.  \"\n",
      " 'Heavenly Father, I give thanks for this time, for the time that we have been together, the fellowship in your world, the Christian family presented to me (He called the names of the personal witnesses.). Allow your holy spirit to flow as I know your love as been showered upon me. Forgive them for they know not what they do, as I know that you have forgiven me, as I have forgiven them. Lord Jesus, I commit my soul to you, I praise you, and I thank you.'\n",
      " 'I pray that my family will rejoice and will forgive, thank you.'\n",
      " ' When asked if he had a last statement, he replied, \"Yes, I do.\"I hope that one day we can look back on the evil that we\\'re doing right now like the witches we burned at the stake. I want everybody to know that I hold nothing against them. I forgive them all. I hope everybody I\\'ve done anything to will forgive me. I\\'ve been praying all day for Carl Levin\\'s wife to drive the bitterness from her heart because that bitterness that\\'s in her heart will send her to Hell just as surely as any other sin. I\\'m sorry for everything I\\'ve ever done to anybody. I hope they\\'ll forgive me. \"Sharon, tell all my friends goodbye. You know who they are: Charles Bass, David Powell_\" Then he coughed and nothing else was said.  '\n",
      " \"What is about to transpire in a few moments is wrong! However, we as human beings do make mistakes and errors. This execution is one of those wrongs yet doesn't mean our whole system of justice is wrong. Therefore, I would forgive all who have taken part in any way in my death. Also, to anyone I have offended in any way during my 39 years, I pray and ask your forgiveness, just as I forgive anyone who offended me in any way. And I pray and ask God's forgiveness for all of us respectively as human beings. To my loved ones, I extend my undying love. To those close to me, know in your hearts I love you one and all. God bless you all and may God's best blessings be always yours. Ronald C. O'Bryan P.S. During my time here, I have been treated well by all T.D.C. personnel. \"\n",
      " 'Statement to the Media: I, at this very moment, have absolutely no fear of what may happen to this body.  My fear is for Allah, God only, who has at this moment the only power to determine if I should live or die... As a devout Muslim, I am taught and believe that this material life is only for the express purpose of preparing oneself for the real life that is to come... Since becoming Muslim, I have tried to live as Allah wanted me to live.']\n",
      "['Remorseful' 'Remorseful' 'Remorseful' 'Other' 'Remorseful' 'Remorseful'\n",
      " 'Remorseful' 'Remorseful' 'Remorseful' 'Remorseful' 'Remorseful'\n",
      " 'Remorseful' 'Remorseful' 'Remorseful' 'Remorseful' 'Other' 'Remorseful'\n",
      " 'Remorseful' 'Remorseful' 'Remorseful' 'Remorseful' 'Remorseful'\n",
      " 'Remorseful' 'Remorseful' 'Remorseful' 'Remorseful' 'Remorseful'\n",
      " 'Remorseful' 'Remorseful' 'Other' 'Remorseful' 'Remorseful' 'Remorseful'\n",
      " 'Remorseful' 'Resentment' 'Remorseful' 'Remorseful' 'Remorseful'\n",
      " 'Resentment' 'Resentment' 'Other' 'Other' 'Remorseful' 'Remorseful'\n",
      " 'Other' 'Remorseful' 'Remorseful' 'Remorseful' 'Resentment' 'Other'\n",
      " 'Other' 'Other' 'Remorseful' 'Other' 'Other' 'Resentment' 'Remorseful'\n",
      " 'Other' 'Remorseful' 'Other' 'Other' 'Other' 'Other' 'Other' 'Remorseful'\n",
      " 'Resentment' 'Remorseful' 'Remorseful' 'Remorseful' 'Remorseful' 'Other'\n",
      " 'Other' 'Other' 'Remorseful' 'Remorseful' 'Remorseful' 'Remorseful'\n",
      " 'Remorseful' 'Remorseful' 'Remorseful' 'Remorseful' 'Other' 'Other'\n",
      " 'Other' 'Other' 'Remorseful' 'Remorseful' 'Remorseful' 'Other'\n",
      " 'Remorseful' 'Remorseful' 'Remorseful' 'Remorseful' 'Other' 'Other'\n",
      " 'Remorseful' 'Resentment' 'Other' 'Resentment' 'Remorseful' 'Other'\n",
      " 'Resentment' 'Other' 'Resentment' 'Resentment' 'Other' 'Other'\n",
      " 'Remorseful' 'Other' 'Resentment' 'Other' 'Remorseful' 'Remorseful'\n",
      " 'Remorseful' 'Remorseful' 'Other' 'Other' 'Remorseful' 'Other'\n",
      " 'Remorseful' 'Other' 'Other' 'Other' 'Other' 'Other' 'Remorseful' 'Other'\n",
      " 'Other' 'Other' 'Other' 'Remorseful' 'Remorseful' 'Other' 'Resentment'\n",
      " 'Remorseful' 'Resentment' 'Resentment' 'Other' 'Remorseful' 'Other'\n",
      " 'Remorseful' 'Remorseful' 'Remorseful' 'Remorseful' 'Remorseful'\n",
      " 'Resentment' 'Other' 'Remorseful' 'Resentment' 'Remorseful' 'Remorseful'\n",
      " 'Remorseful' 'Remorseful' 'Resentment' 'Remorseful' 'Other' 'Remorseful'\n",
      " 'Other' 'Other' 'Other' 'Other' 'Other' 'Remorseful' 'Other' 'Other'\n",
      " 'Remorseful' 'Remorseful' 'Remorseful' 'Resentment' 'Other' 'Remorseful'\n",
      " 'Other' 'Other' 'Remorseful' 'Other' 'Remorseful' 'Other' 'Remorseful'\n",
      " 'Other' 'Remorseful' 'Remorseful' 'Remorseful' 'Other' 'Other'\n",
      " 'Remorseful' 'Other' 'Remorseful' 'Remorseful' 'Other' 'Remorseful'\n",
      " 'Remorseful' 'Remorseful' 'Remorseful' 'Other' 'Resentment' 'Other'\n",
      " 'Resentment' 'Other' 'Remorseful' 'Remorseful' 'Remorseful' 'Other'\n",
      " 'Other' 'Remorseful' 'Remorseful' 'Other' 'Other' 'Other' 'Other'\n",
      " 'Remorseful' 'Remorseful' 'Remorseful' 'Remorseful' 'Remorseful'\n",
      " 'Remorseful' 'Remorseful' 'Remorseful' 'Remorseful' 'Remorseful'\n",
      " 'Remorseful' 'Other' 'Resentment' 'Resentment' 'Other' 'Other' 'Other'\n",
      " 'Other' 'Other' 'Remorseful' 'Remorseful' 'Remorseful' 'Remorseful'\n",
      " 'Resentment' 'Other' 'Resentment' 'Remorseful' 'Other' 'Remorseful'\n",
      " 'Other' 'Other' 'Other' 'Remorseful' 'Remorseful' 'Resentment' 'Other'\n",
      " 'Other' 'Other' 'Remorseful' 'Remorseful' 'Remorseful' 'Remorseful'\n",
      " 'Remorseful' 'Remorseful' 'Remorseful' 'Other' 'Remorseful' 'Other'\n",
      " 'Remorseful' 'Other' 'Remorseful' 'Remorseful' 'Other' 'Other'\n",
      " 'Remorseful' 'Remorseful' 'Remorseful' 'Other' 'Remorseful' 'Remorseful'\n",
      " 'Remorseful' 'Other' 'Other' 'Remorseful' 'Resentment' 'Remorseful'\n",
      " 'Resentment' 'Other' 'Resentment' 'Other' 'Resentment' 'Resentment'\n",
      " 'Other' 'Resentment' 'Remorseful' 'Other' 'Other' 'Other' 'Other'\n",
      " 'Remorseful' 'Remorseful' 'Remorseful' 'Other' 'Remorseful' 'Remorseful'\n",
      " 'Resentment' 'Other' 'Other' 'Other' 'Other' 'Other' 'Resentment'\n",
      " 'Remorseful' 'Other' 'Remorseful' 'Other' 'Remorseful' 'Remorseful'\n",
      " 'Remorseful' 'Resentment' 'Other' 'Remorseful' 'Other' 'Other' 'Other'\n",
      " 'Other' 'Other' 'Remorseful' 'Remorseful' 'Other' 'Other' 'Other' 'Other'\n",
      " 'Other' 'Other' 'Other' 'Other' 'Other' 'Remorseful' 'Remorseful'\n",
      " 'Remorseful' 'Remorseful' 'Resentment' 'Remorseful' 'Resentment'\n",
      " 'Remorseful' 'Remorseful' 'Other' 'Other' 'Remorseful' 'Other' 'Other'\n",
      " 'Remorseful' 'Other' 'Remorseful' 'Remorseful' 'Other' 'Other'\n",
      " 'Remorseful' 'Other' 'Other' 'Other' 'Other' 'Other' 'Remorseful' 'Other'\n",
      " 'Remorseful' 'Remorseful' 'Other' 'Other' 'Other' 'Resentment' 'Other'\n",
      " 'Resentment' 'Remorseful' 'Other' 'Other' 'Other' 'Other' 'Resentment'\n",
      " 'Other' 'Remorseful' 'Other' 'Other' 'Other' 'Other' 'Other' 'Other'\n",
      " 'Resentment' 'Other' 'Other' 'Other' 'Other' 'Other' 'Other' 'Other'\n",
      " 'Other' 'Remorseful' 'Remorseful' 'Other' 'Resentment' 'Other' 'Other'\n",
      " 'Other' 'Resentment' 'Resentment' 'Resentment' 'Resentment' 'Resentment'\n",
      " 'Other' 'Other' 'Other' 'Other' 'Other' 'Remorseful' 'Other' 'Other'\n",
      " 'Other' 'Remorseful' 'Other' 'Remorseful' 'Remorseful' 'Other'\n",
      " 'Remorseful' 'Other' 'Other' 'Other' 'Remorseful' 'Remorseful'\n",
      " 'Resentment' 'Other' 'Other' 'Other' 'Remorseful' 'Resentment' 'Other']\n"
     ]
    }
   ],
   "source": [
    "print(X)\n",
    "print(y)"
   ]
  },
  {
   "cell_type": "markdown",
   "metadata": {},
   "source": [
    "# Step 2: Split train/test data for hold-out test"
   ]
  },
  {
   "cell_type": "code",
   "execution_count": 3,
   "metadata": {},
   "outputs": [
    {
     "name": "stdout",
     "output_type": "stream",
     "text": [
      "(340,) (340,) (85,) (85,)\n",
      " I'd like to apologize to the victim's family. Ah, no ah, I really can't say, I don't think I can say anything that will help, but I hope through your God, you can forgive me. I'm definitely not the person now that I was then. I was sick, afraid, and looking for love in all the wrong ways. I've caused you pain and grief beyond ever dreaming to cause someone of. I hope you will be able to forgive me. To my mother, I love you very much. Thanks, Jones.  \n",
      "Remorseful\n",
      "Yes.  The victim's family is not here so I won't address them.  I want to thank my family and friends for everything.  My wife, Ailsa, my sister-in-law, Laura - thank you for being here for me.  I love you.  And thanks for the friends at the Polunsky Unit that helped me get through this that didn't agree with my decision - and still gave me their friendship.  I thank them.  Warden...  \n",
      "Other\n"
     ]
    }
   ],
   "source": [
    "# check the sklearn documentation for train_test_split\n",
    "# http://scikit-learn.org/stable/modules/generated/sklearn.model_selection.train_test_split.html\n",
    "# \"test_size\" : float, int, None, optional\n",
    "# If float, should be between 0.0 and 1.0 and represent the proportion of the dataset to include in the test split. \n",
    "# If int, represents the absolute number of test samples. \n",
    "# If None, the value is set to the complement of the train size. \n",
    "# By default, the value is set to 0.25. The default will change in version 0.21. It will remain 0.25 only if train_size is unspecified, otherwise it will complement the specified train_size.    \n",
    "\n",
    "from sklearn.model_selection import train_test_split\n",
    "# X_train, X_test, y_train, y_test = train_test_split(X, y, test_size=0.2, random_state=0)\n",
    "X_train, X_test, y_train, y_test = train_test_split(X, y, test_size=0.2, random_state=1)\n",
    "\n",
    "print(X_train.shape, y_train.shape, X_test.shape, y_test.shape)\n",
    "print(X_train[0])\n",
    "print(y_train[0])\n",
    "print(X_test[0])\n",
    "print(y_test[0])"
   ]
  },
  {
   "cell_type": "markdown",
   "metadata": {},
   "source": [
    "# Step 2.1 Data Checking"
   ]
  },
  {
   "cell_type": "code",
   "execution_count": 4,
   "metadata": {},
   "outputs": [
    {
     "name": "stdout",
     "output_type": "stream",
     "text": [
      "[['Other' 'Remorseful' 'Resentment']\n",
      " [144 154 42]]\n"
     ]
    }
   ],
   "source": [
    "# Check how many training examples in each category\n",
    "# this is important to see whether the data set is balanced or skewed\n",
    "\n",
    "unique, counts = np.unique(y_train, return_counts=True)\n",
    "print(np.asarray((unique, counts)))"
   ]
  },
  {
   "cell_type": "markdown",
   "metadata": {},
   "source": [
    "# Step 3: Vectorization"
   ]
  },
  {
   "cell_type": "code",
   "execution_count": 5,
   "metadata": {},
   "outputs": [],
   "source": [
    "# sklearn contains two vectorizers\n",
    "\n",
    "# CountVectorizer can give you Boolean or TF vectors\n",
    "\n",
    "# TfidfVectorizer can give you TF or TFIDF vectors\n",
    "# http://scikit-learn.org/stable/modules/generated/sklearn.feature_extraction.text.TfidfVectorizer.html\n",
    "\n",
    "# Read the sklearn documentation to understand all vectorization options\n",
    "\n",
    "from sklearn.feature_extraction.text import CountVectorizer\n",
    "from sklearn.feature_extraction.text import TfidfVectorizer\n",
    "\n",
    "# several commonly used vectorizer setting\n",
    "\n",
    "#  unigram boolean vectorizer, set minimum document frequency to 3\n",
    "unigram_bool_vectorizer = CountVectorizer(encoding='latin-1', binary=True, min_df=3, stop_words='english')\n",
    "\n",
    "#  unigram term frequency vectorizer, set minimum document frequency to 3\n",
    "unigram_count_vectorizer = CountVectorizer(encoding='latin-1', binary=False, min_df=3, stop_words='english')\n",
    "\n",
    "#  unigram and bigram term frequency vectorizer, set minimum document frequency to 3\n",
    "gram12_count_vectorizer = CountVectorizer(encoding='latin-1', ngram_range=(1,2), min_df=3, stop_words='english')\n",
    "\n",
    "#  unigram tfidf vectorizer, set minimum document frequency to 5\n",
    "unigram_tfidf_vectorizer = TfidfVectorizer(encoding='latin-1', use_idf=True, min_df=3, stop_words='english')\n"
   ]
  },
  {
   "cell_type": "markdown",
   "metadata": {},
   "source": [
    "## Step 3.1: Vectorize the training data"
   ]
  },
  {
   "cell_type": "code",
   "execution_count": 6,
   "metadata": {},
   "outputs": [
    {
     "name": "stdout",
     "output_type": "stream",
     "text": [
      "(340, 629)\n",
      "[[0 0 1 0 0 0 0 0 2 0 0 0 0 0 0 0 0 0 0 0 0 0 0 0 0 0 1 0 0 0 0 0 0 0 0 0\n",
      "  0 0 0 0 0 0 0 0 0 0 0 0 0 0 0 0 0 0 0 0 0 0 0 0 0 0 0 0 0 0 0 0 0 0 0 0\n",
      "  0 0 0 0 0 0 1 1 0 0 0 0 0 0 0 0 0 0 0 0 0 0 0 0 0 0 0 0 0 0 0 0 0 0 0 0\n",
      "  0 0 0 0 0 0 0 0 0 0 0 0 0 0 0 0 0 0 0 0 0 0 0 0 0 0 0 0 0 0 0 0 1 0 0 0\n",
      "  0 0 0 0 0 0 0 0 0 0 0 0 0 0 0 0 0 0 1 0 0 0 0 0 0 0 0 0 0 0 0 0 0 2 0 0\n",
      "  0 0 0 0 0 0 0 0 0 0 0 0 0 0 0 0 0 0 1 0 0 0 0 0 0 0 0 0 0 0 0 1 0 0 0 0\n",
      "  0 0 0 0 0 0 0 0 0 0 0 0 0 0 0 0 0 0 0 0 0 0 1 0 0 0 0 0 0 0 0 0 0 2 0 0\n",
      "  0 0 0 0 0 0 0 0 0 0 0 0 0 0 0 0 0 0 1 0 0 0 0 0 0 0 0 0 0 0 0 0 0 0 0 0\n",
      "  0 0 0 0 0 0 0 0 0 0 0 0 0 0 0 0 0 0 0 0 0 1 0 0 0 0 0 0 0 0 0 0 0 1 0 0\n",
      "  0 0 2 0 0 0 0 0 0 0 0 0 0 0 0 0 0 0 0 0 0 0 0 0 0 0 0 0 0 0 0 0 0 1 0 0\n",
      "  0 0 0 0 0 0 0 0 0 0 0 0 0 0 0 0 0 0 0 0 0 1 0 0 0 0 0 0 0 1 0 0 0 0 0 0\n",
      "  0 0 0 0 0 0 0 0 0 0 0 0 0 0 0 0 0 0 0 0 0 0 0 0 0 0 0 0 0 0 0 0 1 0 0 0\n",
      "  0 0 0 0 0 0 0 0 0 0 0 0 0 0 0 0 0 0 0 0 0 0 0 0 0 0 0 0 0 0 2 0 0 0 0 0\n",
      "  0 0 0 0 0 0 0 0 0 0 0 0 0 0 0 0 0 0 0 0 0 0 0 0 0 0 0 0 0 0 0 0 0 0 0 0\n",
      "  0 0 0 0 0 0 0 0 0 0 0 0 0 0 0 0 0 0 0 0 0 0 0 0 0 0 0 0 0 0 0 0 0 0 0 0\n",
      "  1 0 0 0 1 0 0 0 0 0 0 0 0 0 0 0 0 0 0 0 0 0 0 0 0 0 0 0 0 0 0 0 0 0 0 0\n",
      "  0 0 0 0 0 1 0 1 0 0 0 0 0 0 0 0 0 0 0 0 0 0 0 0 1 0 0 0 0 0 0 0 0 0 0 0\n",
      "  0 0 0 0 0 0 0 0 0 1 0 0 0 0 0 0 0]]\n",
      "629\n",
      "[('like', 309), ('apologize', 26), ('victim', 583), ('family', 162), ('ah', 8), ('really', 428), ('say', 462), ('don', 140), ('think', 544), ('help', 238)]\n",
      "249\n"
     ]
    }
   ],
   "source": [
    "# The vectorizer can do \"fit\" and \"transform\"\n",
    "# fit is a process to collect unique tokens into the vocabulary\n",
    "# transform is a process to convert each document to vector based on the vocabulary\n",
    "# These two processes can be done together using fit_transform(), or used individually: fit() or transform()\n",
    "\n",
    "# fit vocabulary in training documents and transform the training documents into vectors\n",
    "X_train_vec = unigram_count_vectorizer.fit_transform(X_train)\n",
    "\n",
    "# check the content of a document vector\n",
    "print(X_train_vec.shape)\n",
    "print(X_train_vec[0].toarray())\n",
    "\n",
    "# check the size of the constructed vocabulary\n",
    "print(len(unigram_count_vectorizer.vocabulary_))\n",
    "\n",
    "# print out the first 10 items in the vocabulary\n",
    "print(list(unigram_count_vectorizer.vocabulary_.items())[:10])\n",
    "\n",
    "# check word index in vocabulary\n",
    "print(unigram_count_vectorizer.vocabulary_.get('hope'))"
   ]
  },
  {
   "cell_type": "markdown",
   "metadata": {},
   "source": [
    "## Step 3.2: Vectorize the test data"
   ]
  },
  {
   "cell_type": "code",
   "execution_count": 7,
   "metadata": {},
   "outputs": [
    {
     "name": "stdout",
     "output_type": "stream",
     "text": [
      "(85, 629)\n"
     ]
    }
   ],
   "source": [
    "# use the vocabulary constructed from the training data to vectorize the test data. \n",
    "# Therefore, use \"transform\" only, not \"fit_transform\", \n",
    "# otherwise \"fit\" would generate a new vocabulary from the test data\n",
    "\n",
    "X_test_vec = unigram_count_vectorizer.transform(X_test)\n",
    "\n",
    "# print out #examples and #features in the test set\n",
    "print(X_test_vec.shape)"
   ]
  },
  {
   "cell_type": "markdown",
   "metadata": {},
   "source": [
    "# Step 4: Train a MNB classifier"
   ]
  },
  {
   "cell_type": "code",
   "execution_count": 8,
   "metadata": {},
   "outputs": [
    {
     "data": {
      "text/plain": [
       "MultinomialNB()"
      ]
     },
     "execution_count": 8,
     "metadata": {},
     "output_type": "execute_result"
    }
   ],
   "source": [
    "# import the MNB module\n",
    "from sklearn.naive_bayes import MultinomialNB\n",
    "\n",
    "# initialize the MNB model\n",
    "nb_clf= MultinomialNB()\n",
    "\n",
    "# use the training data to train the MNB model\n",
    "nb_clf.fit(X_train_vec,y_train)"
   ]
  },
  {
   "cell_type": "markdown",
   "metadata": {},
   "source": [
    "# Step 4.1 Interpret a trained MNB model"
   ]
  },
  {
   "cell_type": "code",
   "execution_count": 9,
   "metadata": {},
   "outputs": [
    {
     "name": "stdout",
     "output_type": "stream",
     "text": [
      "-4.686494123817677\n",
      "-4.110010678966501\n",
      "-4.968995972190902\n"
     ]
    },
    {
     "ename": "IndexError",
     "evalue": "index 3 is out of bounds for axis 0 with size 3",
     "output_type": "error",
     "traceback": [
      "\u001b[1;31m---------------------------------------------------------------------------\u001b[0m",
      "\u001b[1;31mIndexError\u001b[0m                                Traceback (most recent call last)",
      "\u001b[1;32m<ipython-input-9-82901550e6b4>\u001b[0m in \u001b[0;36m<module>\u001b[1;34m\u001b[0m\n\u001b[0;32m     16\u001b[0m \u001b[0munigram_count_vectorizer\u001b[0m\u001b[1;33m.\u001b[0m\u001b[0mvocabulary_\u001b[0m\u001b[1;33m.\u001b[0m\u001b[0mget\u001b[0m\u001b[1;33m(\u001b[0m\u001b[1;34m'like'\u001b[0m\u001b[1;33m)\u001b[0m\u001b[1;33m\u001b[0m\u001b[1;33m\u001b[0m\u001b[0m\n\u001b[0;32m     17\u001b[0m \u001b[1;32mfor\u001b[0m \u001b[0mi\u001b[0m \u001b[1;32min\u001b[0m \u001b[0mrange\u001b[0m\u001b[1;33m(\u001b[0m\u001b[1;36m0\u001b[0m\u001b[1;33m,\u001b[0m\u001b[1;36m5\u001b[0m\u001b[1;33m)\u001b[0m\u001b[1;33m:\u001b[0m\u001b[1;33m\u001b[0m\u001b[1;33m\u001b[0m\u001b[0m\n\u001b[1;32m---> 18\u001b[1;33m   \u001b[0mprint\u001b[0m\u001b[1;33m(\u001b[0m\u001b[0mnb_clf\u001b[0m\u001b[1;33m.\u001b[0m\u001b[0mfeature_log_prob_\u001b[0m\u001b[1;33m[\u001b[0m\u001b[0mi\u001b[0m\u001b[1;33m]\u001b[0m\u001b[1;33m[\u001b[0m\u001b[0munigram_count_vectorizer\u001b[0m\u001b[1;33m.\u001b[0m\u001b[0mvocabulary_\u001b[0m\u001b[1;33m.\u001b[0m\u001b[0mget\u001b[0m\u001b[1;33m(\u001b[0m\u001b[1;34m'like'\u001b[0m\u001b[1;33m)\u001b[0m\u001b[1;33m]\u001b[0m\u001b[1;33m)\u001b[0m\u001b[1;33m\u001b[0m\u001b[1;33m\u001b[0m\u001b[0m\n\u001b[0m",
      "\u001b[1;31mIndexError\u001b[0m: index 3 is out of bounds for axis 0 with size 3"
     ]
    }
   ],
   "source": [
    "## interpreting naive Bayes models\n",
    "## by consulting the sklearn documentation you can also find out feature_log_prob_, \n",
    "## which are the conditional probabilities\n",
    "\n",
    "# the code below will print out the conditional prob of the word \"worthless\" in each category\n",
    "# sample output\n",
    "# -8.98942647599 -> logP('worthless'|very negative')\n",
    "# -11.1864401922 -> logP('worthless'|negative')\n",
    "# -12.3637684625 -> logP('worthless'|neutral')\n",
    "# -11.9886066961 -> logP('worthless'|positive')\n",
    "# -11.0504454621 -> logP('worthless'|very positive')\n",
    "# the above output means the word feature \"worthless\" is indicating \"very negative\" \n",
    "# because P('worthless'|very negative) is the greatest among all conditional probs\n",
    "\n",
    "unigram_count_vectorizer.vocabulary_.get('like')\n",
    "for i in range(0,5):\n",
    "  print(nb_clf.feature_log_prob_[i][unigram_count_vectorizer.vocabulary_.get('like')])"
   ]
  },
  {
   "cell_type": "code",
   "execution_count": null,
   "metadata": {},
   "outputs": [],
   "source": [
    "# sort the conditional probability for category remorseful \"very negative\"\n",
    "# print the words with highest conditional probs\n",
    "# these can be words popular in the \"remorseful\" category alone, or words popular in all cateogires\n",
    "\n",
    "feature_ranks = sorted(zip(nb_clf.feature_log_prob_[0], unigram_count_vectorizer.get_feature_names()))\n",
    "very_negative_features = feature_ranks[-10:]\n",
    "print(very_negative_features)"
   ]
  },
  {
   "cell_type": "markdown",
   "metadata": {},
   "source": [
    "Sample output for print(log_ratios[0])\n",
    "\n",
    "-0.838009538739"
   ]
  },
  {
   "cell_type": "markdown",
   "metadata": {},
   "source": [
    "# Step 5: Test the MNB classifier"
   ]
  },
  {
   "cell_type": "code",
   "execution_count": 10,
   "metadata": {},
   "outputs": [
    {
     "data": {
      "text/plain": [
       "0.611764705882353"
      ]
     },
     "execution_count": 10,
     "metadata": {},
     "output_type": "execute_result"
    }
   ],
   "source": [
    "# test the classifier on the test data set, print accuracy score\n",
    "\n",
    "nb_clf.score(X_test_vec,y_test)"
   ]
  },
  {
   "cell_type": "code",
   "execution_count": 11,
   "metadata": {},
   "outputs": [
    {
     "name": "stdout",
     "output_type": "stream",
     "text": [
      "[[34  1  1]\n",
      " [ 6  1  0]\n",
      " [23  2 17]]\n"
     ]
    }
   ],
   "source": [
    "# print confusion matrix (row: ground truth; col: prediction)\n",
    "\n",
    "from sklearn.metrics import confusion_matrix\n",
    "y_pred = nb_clf.fit(X_train_vec, y_train).predict(X_test_vec)\n",
    "cm=confusion_matrix(y_test, y_pred, labels=[\"Remorseful\", \"Resentment\", \"Other\"])\n",
    "print(cm)"
   ]
  },
  {
   "cell_type": "code",
   "execution_count": 12,
   "metadata": {},
   "outputs": [
    {
     "name": "stdout",
     "output_type": "stream",
     "text": [
      "[0.94444444 0.53968254 0.25      ]\n",
      "[0.4047619  0.94444444 0.14285714]\n",
      "              precision    recall  f1-score   support\n",
      "\n",
      "  Remorseful       0.94      0.40      0.57        42\n",
      "  Resentment       0.54      0.94      0.69        36\n",
      "       Other       0.25      0.14      0.18         7\n",
      "\n",
      "    accuracy                           0.61        85\n",
      "   macro avg       0.58      0.50      0.48        85\n",
      "weighted avg       0.72      0.61      0.59        85\n",
      "\n"
     ]
    }
   ],
   "source": [
    "# print classification report\n",
    "\n",
    "from sklearn.metrics import precision_score\n",
    "from sklearn.metrics import recall_score\n",
    "print(precision_score(y_test, y_pred, average=None))\n",
    "print(recall_score(y_test, y_pred, average=None))\n",
    "\n",
    "from sklearn.metrics import classification_report\n",
    "target_names = [\"Remorseful\", \"Resentment\", \"Other\"]\n",
    "print(classification_report(y_test, y_pred, target_names=target_names))"
   ]
  },
  {
   "cell_type": "markdown",
   "metadata": {},
   "source": [
    "# Step 5.1 Interpret the prediction result"
   ]
  },
  {
   "cell_type": "code",
   "execution_count": 13,
   "metadata": {},
   "outputs": [
    {
     "name": "stdout",
     "output_type": "stream",
     "text": [
      "[1.62073101e-04 9.99211325e-01 6.26602046e-04]\n",
      "Remorseful\n",
      "Other\n"
     ]
    }
   ],
   "source": [
    "## find the calculated posterior probability\n",
    "posterior_probs = nb_clf.predict_proba(X_test_vec)\n",
    "\n",
    "## find the posterior probabilities for the first test example\n",
    "print(posterior_probs[0])\n",
    "\n",
    "# find the category prediction for the first test example\n",
    "y_pred = nb_clf.predict(X_test_vec)\n",
    "print(y_pred[0])\n",
    "\n",
    "# check the actual label for the first test example\n",
    "print(y_test[0])"
   ]
  },
  {
   "cell_type": "markdown",
   "metadata": {},
   "source": [
    "# Step 5.2 Error Analysis"
   ]
  },
  {
   "cell_type": "code",
   "execution_count": 14,
   "metadata": {},
   "outputs": [
    {
     "name": "stdout",
     "output_type": "stream",
     "text": [
      "errors: 0\n"
     ]
    }
   ],
   "source": [
    "# print out specific type of error for further analysis\n",
    "\n",
    "# print out the very positive examples that are mistakenly predicted as negative\n",
    "# according to the confusion matrix, there should be 53 such examples\n",
    "# note if you use a different vectorizer option, your result might be different\n",
    "\n",
    "err_cnt = 0\n",
    "for i in range(0, len(y_test)):\n",
    "    if(y_test[i]==4 and y_pred[i]==1):\n",
    "        print(X_test[i])\n",
    "        err_cnt = err_cnt+1\n",
    "print(\"errors:\", err_cnt)"
   ]
  },
  {
   "cell_type": "markdown",
   "metadata": {},
   "source": [
    "# Step 6: write the prediction output to file"
   ]
  },
  {
   "cell_type": "code",
   "execution_count": 15,
   "metadata": {},
   "outputs": [],
   "source": [
    "y_pred=nb_clf.predict(X_test_vec)\n",
    "\n",
    "output = open('C:/Users/veo78/IST 736 Text Mining/prediction_output.csv', 'w')\n",
    "for x, value in enumerate(y_pred):\n",
    "  output.write(str(value) + '\\n')\n",
    "for x, value in enumerate(y_test, start=2):\n",
    "  output.write(str(value) + '\\n') \n",
    "output.close()"
   ]
  },
  {
   "cell_type": "code",
   "execution_count": 16,
   "metadata": {},
   "outputs": [
    {
     "name": "stdout",
     "output_type": "stream",
     "text": [
      "['Remorseful' 'Resentment' 'Remorseful' 'Other' 'Remorseful' 'Remorseful'\n",
      " 'Other' 'Remorseful' 'Remorseful' 'Remorseful' 'Remorseful' 'Remorseful'\n",
      " 'Remorseful' 'Remorseful' 'Remorseful' 'Remorseful' 'Remorseful'\n",
      " 'Remorseful' 'Remorseful' 'Remorseful' 'Remorseful' 'Remorseful'\n",
      " 'Remorseful' 'Other' 'Resentment' 'Other' 'Remorseful' 'Remorseful'\n",
      " 'Resentment' 'Other' 'Other' 'Remorseful' 'Other' 'Remorseful' 'Other'\n",
      " 'Remorseful' 'Remorseful' 'Other' 'Other' 'Remorseful' 'Remorseful'\n",
      " 'Remorseful' 'Remorseful' 'Other' 'Remorseful' 'Remorseful' 'Remorseful'\n",
      " 'Remorseful' 'Remorseful' 'Other' 'Other' 'Remorseful' 'Other'\n",
      " 'Remorseful' 'Resentment' 'Remorseful' 'Remorseful' 'Other' 'Remorseful'\n",
      " 'Remorseful' 'Remorseful' 'Other' 'Remorseful' 'Remorseful' 'Remorseful'\n",
      " 'Remorseful' 'Remorseful' 'Remorseful' 'Remorseful' 'Remorseful'\n",
      " 'Remorseful' 'Remorseful' 'Remorseful' 'Remorseful' 'Remorseful' 'Other'\n",
      " 'Remorseful' 'Remorseful' 'Other' 'Remorseful' 'Remorseful' 'Remorseful'\n",
      " 'Remorseful' 'Remorseful' 'Remorseful']\n",
      "['Other' 'Remorseful' 'Other' 'Other' 'Other' 'Remorseful' 'Other'\n",
      " 'Remorseful' 'Remorseful' 'Remorseful' 'Other' 'Remorseful' 'Remorseful'\n",
      " 'Resentment' 'Other' 'Resentment' 'Other' 'Remorseful' 'Other'\n",
      " 'Resentment' 'Other' 'Other' 'Other' 'Remorseful' 'Resentment' 'Other'\n",
      " 'Other' 'Other' 'Other' 'Other' 'Other' 'Remorseful' 'Other' 'Resentment'\n",
      " 'Other' 'Resentment' 'Remorseful' 'Other' 'Other' 'Remorseful' 'Other'\n",
      " 'Remorseful' 'Remorseful' 'Other' 'Remorseful' 'Other' 'Remorseful'\n",
      " 'Remorseful' 'Other' 'Other' 'Other' 'Other' 'Other' 'Remorseful' 'Other'\n",
      " 'Other' 'Remorseful' 'Other' 'Remorseful' 'Other' 'Remorseful' 'Other'\n",
      " 'Remorseful' 'Other' 'Remorseful' 'Remorseful' 'Remorseful' 'Remorseful'\n",
      " 'Remorseful' 'Remorseful' 'Other' 'Remorseful' 'Resentment' 'Remorseful'\n",
      " 'Remorseful' 'Other' 'Other' 'Remorseful' 'Other' 'Remorseful' 'Other'\n",
      " 'Other' 'Remorseful' 'Remorseful' 'Remorseful']\n"
     ]
    }
   ],
   "source": [
    "# for x, value in enumerate(y_pred):\n",
    "#     print(x)\n",
    "\n",
    "print(y_pred)\n",
    "print(y_test)"
   ]
  },
  {
   "cell_type": "markdown",
   "metadata": {},
   "source": [
    "# BernoulliNB"
   ]
  },
  {
   "cell_type": "code",
   "execution_count": 18,
   "metadata": {},
   "outputs": [
    {
     "data": {
      "text/plain": [
       "BernoulliNB()"
      ]
     },
     "execution_count": 18,
     "metadata": {},
     "output_type": "execute_result"
    }
   ],
   "source": [
    "from sklearn.naive_bayes import BernoulliNB\n",
    "\n",
    "X_train_vec_bool = unigram_bool_vectorizer.fit_transform(X_train)\n",
    "\n",
    "# initialize the MNB model\n",
    "# bernoulliNB_clf = BernoulliNB.fit(X_train_vec_bool, y_train)\n",
    "bernoulliNB_clf = BernoulliNB()\n",
    "    \n",
    "# use the training data to train the MNB model\n",
    "bernoulliNB_clf.fit(X_train_vec_bool,y_train)    \n"
   ]
  },
  {
   "cell_type": "code",
   "execution_count": 19,
   "metadata": {},
   "outputs": [
    {
     "name": "stdout",
     "output_type": "stream",
     "text": [
      "(85, 629)\n"
     ]
    }
   ],
   "source": [
    "# use the vocabulary constructed from the training data to vectorize the test data. \n",
    "# Therefore, use \"transform\" only, not \"fit_transform\", \n",
    "# otherwise \"fit\" would generate a new vocabulary from the test data\n",
    "\n",
    "X_test_vec_bool = unigram_bool_vectorizer.transform(X_test)\n",
    "\n",
    "# print out #examples and #features in the test set\n",
    "print(X_test_vec_bool.shape)"
   ]
  },
  {
   "cell_type": "code",
   "execution_count": 20,
   "metadata": {},
   "outputs": [
    {
     "data": {
      "text/plain": [
       "0.7176470588235294"
      ]
     },
     "execution_count": 20,
     "metadata": {},
     "output_type": "execute_result"
    }
   ],
   "source": [
    "# test the classifier on the test data set, print accuracy score\n",
    "\n",
    "bernoulliNB_clf.score(X_test_vec_bool,y_test)"
   ]
  },
  {
   "cell_type": "code",
   "execution_count": 21,
   "metadata": {},
   "outputs": [
    {
     "name": "stdout",
     "output_type": "stream",
     "text": [
      "[[34  1  1]\n",
      " [ 6  1  0]\n",
      " [23  2 17]]\n"
     ]
    }
   ],
   "source": [
    "# print confusion matrix (row: ground truth; col: prediction)\n",
    "\n",
    "# from sklearn.metrics import confusion_matrix\n",
    "\n",
    "y_pred_B = bernoulliNB_clf.fit(X_train_vec_bool, y_train).predict(X_test_vec_bool)\n",
    "cm=confusion_matrix(y_test, y_pred, labels=[\"Remorseful\", \"Resentment\", \"Other\"])\n",
    "print(cm)"
   ]
  },
  {
   "cell_type": "code",
   "execution_count": 22,
   "metadata": {},
   "outputs": [
    {
     "name": "stdout",
     "output_type": "stream",
     "text": [
      "[0.76190476 0.70731707 0.        ]\n",
      "[0.76190476 0.80555556 0.        ]\n",
      "              precision    recall  f1-score   support\n",
      "\n",
      "  Remorseful       0.76      0.76      0.76        42\n",
      "  Resentment       0.71      0.81      0.75        36\n",
      "       Other       0.00      0.00      0.00         7\n",
      "\n",
      "    accuracy                           0.72        85\n",
      "   macro avg       0.49      0.52      0.51        85\n",
      "weighted avg       0.68      0.72      0.70        85\n",
      "\n"
     ]
    }
   ],
   "source": [
    "# print classification report\n",
    "\n",
    "# from sklearn.metrics import precision_score\n",
    "# from sklearn.metrics import recall_score\n",
    "\n",
    "print(precision_score(y_test, y_pred_B, average=None))\n",
    "print(recall_score(y_test, y_pred_B, average=None))\n",
    "\n",
    "from sklearn.metrics import classification_report\n",
    "\n",
    "target_names = [\"Remorseful\", \"Resentment\", \"Other\"]\n",
    "print(classification_report(y_test, y_pred_B, target_names=target_names))"
   ]
  },
  {
   "cell_type": "markdown",
   "metadata": {},
   "source": [
    "# Cross Validation"
   ]
  },
  {
   "cell_type": "code",
   "execution_count": 23,
   "metadata": {},
   "outputs": [
    {
     "name": "stdout",
     "output_type": "stream",
     "text": [
      "0.5813272067392535\n"
     ]
    }
   ],
   "source": [
    "# cross validation\n",
    "\n",
    "from sklearn.pipeline import Pipeline\n",
    "from sklearn.model_selection import cross_val_score\n",
    "nb_clf_pipe = Pipeline([('vect', CountVectorizer(encoding='latin-1', binary=False)),('nb', MultinomialNB())])\n",
    "scores = cross_val_score(nb_clf_pipe, X, y, cv=3)\n",
    "avg=sum(scores)/len(scores)\n",
    "print(avg)"
   ]
  },
  {
   "cell_type": "markdown",
   "metadata": {},
   "source": [
    "# Optional: use external linguistic resources such as stemmer"
   ]
  },
  {
   "cell_type": "code",
   "execution_count": 24,
   "metadata": {},
   "outputs": [],
   "source": [
    "from sklearn.feature_extraction.text import CountVectorizer\n",
    "import nltk.stem\n",
    "\n",
    "english_stemmer = nltk.stem.SnowballStemmer('english')\n",
    "class StemmedCountVectorizer(CountVectorizer):\n",
    "    def build_analyzer(self):\n",
    "        analyzer = super(StemmedCountVectorizer, self).build_analyzer()\n",
    "        return lambda doc: ([english_stemmer.stem(w) for w in analyzer(doc)])\n",
    "\n",
    "stem_vectorizer = StemmedCountVectorizer(min_df=3, analyzer=\"word\")\n",
    "X_train_stem_vec = stem_vectorizer.fit_transform(X_train)"
   ]
  },
  {
   "cell_type": "code",
   "execution_count": 25,
   "metadata": {},
   "outputs": [
    {
     "name": "stdout",
     "output_type": "stream",
     "text": [
      "(340, 750)\n",
      "[[0 0 1 0 0 0 0 0 0 0 0 0 0 0 2 0 0 0 1 0 0 0 0 0 0 0 0 0 0 0 0 0 2 0 0 0\n",
      "  0 0 0 0 0 0 1 1 0 0 0 0 0 0 0 0 0 0 0 0 0 0 0 0 1 0 0 0 0 0 0 0 0 0 0 0\n",
      "  0 0 0 0 0 1 0 0 0 0 0 0 0 0 0 0 0 0 0 0 0 0 0 0 0 1 0 0 0 0 3 0 0 0 0 0\n",
      "  2 0 0 0 0 0 0 0 0 0 0 0 0 0 0 0 0 0 0 0 0 0 0 0 0 0 0 0 0 0 0 0 0 0 0 0\n",
      "  0 0 0 0 0 0 0 0 0 0 0 0 0 0 0 0 0 0 0 0 0 0 1 0 0 0 0 0 0 0 0 0 0 0 0 0\n",
      "  0 0 0 1 0 0 0 0 0 0 0 0 0 0 0 0 0 0 0 0 1 0 0 0 0 0 0 0 0 0 0 0 0 0 0 0\n",
      "  1 0 0 0 0 2 0 0 0 0 0 0 0 0 0 0 0 0 0 0 0 0 0 0 0 0 1 0 0 0 0 0 0 0 0 0\n",
      "  0 0 0 1 0 0 0 0 0 0 0 0 0 0 0 0 0 0 0 0 0 0 0 0 0 0 0 0 0 1 0 0 0 0 0 0\n",
      "  0 0 0 0 0 0 2 0 0 0 0 0 0 0 0 0 1 0 0 0 0 0 0 0 0 0 0 0 0 0 0 0 0 0 0 0\n",
      "  1 0 0 0 0 0 0 0 0 0 0 0 0 0 0 0 0 0 0 0 0 0 0 0 0 0 0 0 0 0 0 0 0 0 0 0\n",
      "  0 1 0 0 0 0 0 0 0 1 0 0 0 0 0 2 0 0 0 0 0 0 0 0 0 0 2 0 0 0 0 0 0 0 0 0\n",
      "  0 0 0 0 0 0 0 0 0 0 0 0 1 0 0 0 0 0 1 0 0 0 1 0 0 0 0 0 0 0 0 0 1 0 0 0\n",
      "  1 0 1 1 0 0 0 0 0 0 0 0 0 0 0 0 0 0 0 0 0 0 0 1 0 0 0 0 0 0 0 0 0 0 1 0\n",
      "  0 0 0 0 0 0 0 0 0 0 0 0 0 0 0 0 0 0 0 0 0 0 0 0 0 0 0 0 0 0 0 0 0 0 0 0\n",
      "  0 0 0 0 0 1 0 0 0 0 0 0 0 0 0 0 0 0 0 0 0 0 0 0 0 0 0 0 0 0 0 0 0 0 0 0\n",
      "  0 0 2 0 0 0 0 0 0 0 0 0 0 0 0 0 0 0 0 0 0 0 0 0 0 0 0 0 0 0 0 0 0 0 0 0\n",
      "  0 0 1 0 0 0 0 0 0 0 0 0 0 0 0 0 0 0 0 0 0 0 0 0 0 0 0 0 0 0 0 0 0 0 0 0\n",
      "  0 0 0 0 0 0 0 0 0 0 0 0 0 1 2 3 0 0 1 0 0 0 0 0 0 1 0 0 0 0 0 0 0 1 0 0\n",
      "  5 0 0 0 0 0 0 0 0 0 0 0 0 0 0 0 0 0 0 0 0 0 0 0 0 0 0 0 0 0 0 0 0 0 0 0\n",
      "  0 1 0 1 1 0 0 0 0 0 0 0 0 0 2 0 0 0 1 0 0 0 0 0 0 0 0 0 0 0 0 0 0 0 2 0\n",
      "  0 0 0 0 0 0 0 0 0 0 0 0 0 0 0 0 0 1 0 0 0 0 0 0 0 4 0 1 0 0]]\n",
      "750\n",
      "[('like', 361), ('to', 648), ('apolog', 43), ('the', 627), ('victim', 688), ('famili', 200), ('ah', 14), ('no', 428), ('realli', 509), ('can', 102)]\n",
      "None\n"
     ]
    }
   ],
   "source": [
    "# check the content of a document vector\n",
    "print(X_train_stem_vec.shape)\n",
    "print(X_train_stem_vec[0].toarray())\n",
    "\n",
    "# check the size of the constructed vocabulary\n",
    "print(len(stem_vectorizer.vocabulary_))\n",
    "\n",
    "# print out the first 10 items in the vocabulary\n",
    "print(list(stem_vectorizer.vocabulary_.items())[:10])\n",
    "\n",
    "# check word index in vocabulary\n",
    "print(stem_vectorizer.vocabulary_.get('adopt'))"
   ]
  },
  {
   "cell_type": "markdown",
   "metadata": {},
   "source": [
    "# Word Cloud"
   ]
  },
  {
   "cell_type": "code",
   "execution_count": 26,
   "metadata": {},
   "outputs": [
    {
     "name": "stdout",
     "output_type": "stream",
     "text": [
      "  (0, 309)\t1\n",
      "  (0, 26)\t1\n",
      "  (0, 583)\t1\n",
      "  (0, 162)\t1\n",
      "  (0, 8)\t2\n",
      "  (0, 428)\t1\n",
      "  (0, 462)\t2\n",
      "  (0, 140)\t1\n",
      "  (0, 544)\t1\n",
      "  (0, 238)\t1\n",
      "  (0, 249)\t2\n",
      "  (0, 198)\t1\n",
      "  (0, 177)\t2\n",
      "  (0, 389)\t1\n",
      "  (0, 321)\t1\n",
      "  (0, 326)\t2\n",
      "  (0, 621)\t1\n",
      "  (0, 600)\t1\n",
      "  (0, 581)\t1\n",
      "  (0, 79)\t1\n",
      "  (0, 381)\t1\n",
      "  (0, 211)\t1\n",
      "  (0, 78)\t1\n",
      "  (0, 2)\t1\n",
      "  (0, 357)\t1\n",
      "  :\t:\n",
      "  (338, 359)\t1\n",
      "  (339, 309)\t1\n",
      "  (339, 462)\t1\n",
      "  (339, 140)\t3\n",
      "  (339, 198)\t1\n",
      "  (339, 496)\t1\n",
      "  (339, 232)\t1\n",
      "  (339, 307)\t1\n",
      "  (339, 225)\t3\n",
      "  (339, 165)\t1\n",
      "  (339, 317)\t1\n",
      "  (339, 568)\t1\n",
      "  (339, 553)\t1\n",
      "  (339, 289)\t2\n",
      "  (339, 281)\t1\n",
      "  (339, 275)\t1\n",
      "  (339, 591)\t2\n",
      "  (339, 137)\t1\n",
      "  (339, 327)\t3\n",
      "  (339, 338)\t1\n",
      "  (339, 555)\t1\n",
      "  (339, 528)\t1\n",
      "  (339, 313)\t1\n",
      "  (339, 119)\t1\n",
      "  (339, 293)\t1\n",
      "  (0, 270)\t0.22675514061570562\n",
      "  (0, 540)\t0.1799001294475273\n",
      "  (0, 357)\t0.1725884026003685\n",
      "  (0, 2)\t0.21981990133198775\n",
      "  (0, 78)\t0.20377309514538045\n",
      "  (0, 211)\t0.23495778769039238\n",
      "  (0, 381)\t0.1279020040549806\n",
      "  (0, 79)\t0.14614387979033117\n",
      "  (0, 581)\t0.14871543690251537\n",
      "  (0, 600)\t0.23495778769039238\n",
      "  (0, 621)\t0.16830039748837103\n",
      "  (0, 326)\t0.13148277929434568\n",
      "  (0, 321)\t0.199485090033383\n",
      "  (0, 389)\t0.19196932654949947\n",
      "  (0, 177)\t0.23774765841601705\n",
      "  (0, 198)\t0.10063195347265796\n",
      "  (0, 249)\t0.2311768565795076\n",
      "  (0, 238)\t0.1799001294475273\n",
      "  (0, 544)\t0.1799001294475273\n",
      "  (0, 140)\t0.1143386256648426\n",
      "  (0, 462)\t0.20688948882734065\n",
      "  (0, 428)\t0.1625491739397047\n",
      "  (0, 8)\t0.4075461902907609\n",
      "  (0, 162)\t0.08046269894334515\n",
      "  (0, 583)\t0.16830039748837103\n",
      "  :\t:\n",
      "  (338, 462)\t0.34202677915942137\n",
      "  (339, 293)\t0.18643391690952246\n",
      "  (339, 119)\t0.2074604059686823\n",
      "  (339, 313)\t0.16974425362158044\n",
      "  (339, 528)\t0.17258412262968825\n",
      "  (339, 555)\t0.17258412262968825\n",
      "  (339, 338)\t0.16974425362158044\n",
      "  (339, 327)\t0.43215886437029233\n",
      "  (339, 137)\t0.22415006925662437\n",
      "  (339, 591)\t0.17621640399261562\n",
      "  (339, 275)\t0.10633680244299554\n",
      "  (339, 281)\t0.16459231657400178\n",
      "  (339, 289)\t0.16626871671035656\n",
      "  (339, 553)\t0.17563453825723432\n",
      "  (339, 568)\t0.16974425362158044\n",
      "  (339, 317)\t0.1040494487689343\n",
      "  (339, 165)\t0.1521498995347556\n",
      "  (339, 225)\t0.46768337802523857\n",
      "  (339, 307)\t0.10188253929011061\n",
      "  (339, 232)\t0.12452342249404749\n",
      "  (339, 496)\t0.09043873613522907\n",
      "  (339, 198)\t0.09206911853981212\n",
      "  (339, 140)\t0.31382844464633697\n",
      "  (339, 462)\t0.09464256736634355\n",
      "  (339, 309)\t0.09248700816316133\n"
     ]
    }
   ],
   "source": [
    "# print(unigram_count_vectorizer) \n",
    "# print(unigram_tfidf_vectorizer)\n",
    "\n",
    "\n",
    "X_train_vec_WordCloud = unigram_count_vectorizer.fit_transform(X_train)\n",
    "X_train_tfidf_vec_WordCloud = unigram_tfidf_vectorizer.fit_transform(X_train)\n",
    "\n",
    "print(X_train_vec_WordCloud)\n",
    "print(X_train_tfidf_vec_WordCloud)"
   ]
  },
  {
   "cell_type": "code",
   "execution_count": 27,
   "metadata": {},
   "outputs": [
    {
     "name": "stdout",
     "output_type": "stream",
     "text": [
      "  (0, 309)\t1\n",
      "  (0, 26)\t1\n",
      "  (0, 583)\t1\n",
      "  (0, 162)\t1\n",
      "  (0, 8)\t2\n",
      "  (0, 428)\t1\n",
      "  (0, 462)\t2\n",
      "  (0, 140)\t1\n",
      "  (0, 544)\t1\n",
      "  (0, 238)\t1\n",
      "  (0, 249)\t2\n",
      "  (0, 198)\t1\n",
      "  (0, 177)\t2\n",
      "  (0, 389)\t1\n",
      "  (0, 321)\t1\n",
      "  (0, 326)\t2\n",
      "  (0, 621)\t1\n",
      "  (0, 600)\t1\n",
      "  (0, 581)\t1\n",
      "  (0, 79)\t1\n",
      "  (0, 381)\t1\n",
      "  (0, 211)\t1\n",
      "  (0, 78)\t1\n",
      "  (0, 2)\t1\n",
      "  (0, 357)\t1\n",
      "  :\t:\n",
      "  (338, 359)\t1\n",
      "  (339, 309)\t1\n",
      "  (339, 462)\t1\n",
      "  (339, 140)\t3\n",
      "  (339, 198)\t1\n",
      "  (339, 496)\t1\n",
      "  (339, 232)\t1\n",
      "  (339, 307)\t1\n",
      "  (339, 225)\t3\n",
      "  (339, 165)\t1\n",
      "  (339, 317)\t1\n",
      "  (339, 568)\t1\n",
      "  (339, 553)\t1\n",
      "  (339, 289)\t2\n",
      "  (339, 281)\t1\n",
      "  (339, 275)\t1\n",
      "  (339, 591)\t2\n",
      "  (339, 137)\t1\n",
      "  (339, 327)\t3\n",
      "  (339, 338)\t1\n",
      "  (339, 555)\t1\n",
      "  (339, 528)\t1\n",
      "  (339, 313)\t1\n",
      "  (339, 119)\t1\n",
      "  (339, 293)\t1\n"
     ]
    }
   ],
   "source": [
    "print(X_train_vec_WordCloud)"
   ]
  },
  {
   "cell_type": "markdown",
   "metadata": {},
   "source": [
    "# Document Term Matrix"
   ]
  },
  {
   "cell_type": "code",
   "execution_count": 28,
   "metadata": {},
   "outputs": [
    {
     "name": "stdout",
     "output_type": "stream",
     "text": [
      "['10', '14', 'able', 'accept', 'act', 'actions', 'address', 'ago', 'ah', 'ahead', 'ain', 'alive', 'allah', 'allow', 'allowed', 'almighty', 'alright', 'amen', 'america', 'american', 'angel', 'anger', 'angry', 'animosity', 'answers', 'anybody', 'apologize', 'appreciate', 'arms', 'art', 'ask', 'asked', 'asking', 'attorney', 'attorneys', 'august', 'away', 'baby', 'bad', 'barbara', 'bear', 'beat', 'beautiful', 'behalf', 'believe', 'believes', 'belong', 'best', 'better', 'big', 'bitterness', 'blame', 'bless', 'blessed', 'blessing', 'blood', 'bobby', 'body', 'born', 'boy', 'brad', 'bread', 'breath', 'brief', 'bring', 'bringing', 'brings', 'bro', 'brother', 'brothers', 'brought', 'bye', 'called', 'came', 'capital', 'care', 'carry', 'case', 'cause', 'caused', 'chance', 'change', 'changed', 'chaplain', 'charge', 'child', 'children', 'christ', 'christian', 'church', 'closure', 'come', 'comes', 'comfort', 'coming', 'commit', 'committed', 'community', 'confess', 'continue', 'convicted', 'couldn', 'country', 'couple', 'court', 'courts', 'crime', 'cross', 'crying', 'dad', 'daddy', 'daily', 'danny', 'daughter', 'daughters', 'david', 'day', 'days', 'dead', 'deal', 'dear', 'dearly', 'death', 'deep', 'deeply', 'defense', 'deliver', 'demand', 'deserve', 'did', 'didn', 'die', 'died', 'different', 'dna', 'doctor', 'does', 'doesn', 'dog', 'doing', 'don', 'doreen', 'drug', 'dying', 'earth', 'end', 'enemies', 'especially', 'eternal', 'everybody', 'evidence', 'evil', 'executed', 'execution', 'explain', 'express', 'eyes', 'face', 'fact', 'facts', 'faith', 'families', 'family', 'father', 'fear', 'feel', 'fight', 'fighting', 'filled', 'final', 'fine', 'finished', 'fixing', 'follow', 'foremost', 'forever', 'forget', 'forgive', 'forgiven', 'forgiveness', 'forgives', 'fought', 'frank', 'free', 'freedom', 'friend', 'friends', 'friendship', 'future', 'gave', 'gets', 'getting', 'girl', 'given', 'gives', 'giving', 'glad', 'glory', 'god', 'goes', 'going', 'gone', 'gonna', 'good', 'goodbye', 'got', 'grace', 'grandmother', 'grave', 'great', 'green', 'grief', 'guess', 'guilt', 'guilty', 'guys', 'hallowed', 'hand', 'hands', 'happen', 'happened', 'happening', 'happiness', 'happy', 'hard', 'hate', 'hatred', 'having', 'head', 'heads', 'hear', 'heard', 'heart', 'hearts', 'heaven', 'heavenly', 'hell', 'hello', 'help', 'helped', 'helps', 'hero', 'hey', 'hi', 'high', 'hold', 'holy', 'home', 'honor', 'hope', 'house', 'human', 'hurt', 'hurting', 'husband', 'incident', 'innocence', 'innocent', 'involved', 'irene', 'islam', 'isn', 'jack', 'james', 'jennifer', 'jenny', 'jesus', 'job', 'joe', 'john', 'jones', 'journey', 'joy', 'judge', 'jury', 'just', 'justice', 'kathy', 'kept', 'kids', 'kill', 'killed', 'killer', 'killing', 'kim', 'kind', 'king', 'kingdom', 'knew', 'know', 'known', 'knows', 'lady', 'later', 'law', 'lawyers', 'lay', 'lead', 'learn', 'leave', 'leaving', 'left', 'let', 'letter', 'letting', 'lie', 'lied', 'life', 'light', 'like', 'line', 'listen', 'little', 'live', 'lived', 'lives', 'living', 'll', 'locked', 'long', 'look', 'looking', 'lord', 'loss', 'lost', 'lot', 'love', 'loved', 'loves', 'loving', 'mad', 'make', 'makes', 'mama', 'man', 'mary', 'matter', 'maybe', 'mean', 'meant', 'media', 'meet', 'member', 'members', 'men', 'merciful', 'mercy', 'message', 'michael', 'mike', 'mind', 'minutes', 'miss', 'mistake', 'mistakes', 'mom', 'momma', 'mother', 'mourn', 'mr', 'mrs', 'ms', 'mumbled', 'murder', 'murderer', 'murdering', 'murders', 'need', 'needed', 'needs', 'nephews', 'new', 'nieces', 'night', 'officers', 'oh', 'ok', 'okay', 'old', 'ones', 'paid', 'pain', 'parents', 'pass', 'past', 'pay', 'peace', 'penalty', 'people', 'person', 'personal', 'place', 'poem', 'point', 'police', 'poor', 'pop', 'power', 'praise', 'pray', 'prayed', 'prayer', 'praying', 'precious', 'presence', 'present', 'press', 'price', 'prison', 'probably', 'problems', 'proceed', 'profanity', 'promise', 'prosecutor', 'proud', 'prove', 'public', 'pull', 'putting', 'quiet', 'raised', 'ran', 'ray', 'reach', 'read', 'ready', 'real', 'really', 'reason', 'receive', 'received', 'record', 'released', 'relief', 'remember', 'remorse', 'respect', 'responsibility', 'responsible', 'rest', 'return', 'reverend', 'ride', 'right', 'road', 'robert', 'rock', 'roll', 'row', 'sad', 'said', 'saint', 'sake', 'salvation', 'sanchez', 'sandy', 'save', 'saved', 'saving', 'savior', 'saw', 'say', 'saying', 'seeing', 'self', 'send', 'sending', 'sentence', 'set', 'shall', 'shed', 'shepherd', 'shine', 'short', 'shot', 'showed', 'showing', 'shown', 'sides', 'sin', 'singing', 'sins', 'sir', 'sister', 'sisters', 'situation', 'sleep', 'smile', 'smiling', 'society', 'somebody', 'someday', 'son', 'soon', 'sorrow', 'sorry', 'soul', 'spanish', 'speak', 'spent', 'spirit', 'spiritual', 'spoken', 'stand', 'standing', 'start', 'state', 'statement', 'stay', 'stop', 'stopped', 'strength', 'strong', 'struggle', 'stuff', 'suffer', 'suffered', 'suffering', 'support', 'supported', 'supporters', 'supporting', 'supreme', 'sure', 'surely', 'sylvia', 'taken', 'taking', 'talk', 'talking', 'taste', 'taylor', 'tears', 'tell', 'telling', 'temptation', 'testimony', 'texas', 'thank', 'thanks', 'thine', 'thing', 'things', 'think', 'thinking', 'thomas', 'thou', 'thought', 'thy', 'time', 'times', 'today', 'told', 'tonight', 'took', 'touch', 'transition', 'treat', 'trespass', 'trespasses', 'trial', 'tried', 'trigger', 'truck', 'true', 'truly', 'trust', 'truth', 'try', 'trying', 'turned', 'type', 'uh', 'um', 'understand', 'unintelligible', 'unit', 'unto', 'use', 'used', 've', 'veins', 'victim', 'victims', 'waiting', 'wake', 'walk', 'walked', 'wall', 'walsh', 'want', 'wanted', 'warden', 'warrior', 'wasn', 'watch', 'watching', 'waters', 'way', 'ways', 'went', 'whiteside', 'wife', 'williams', 'win', 'wish', 'witness', 'witnesses', 'woman', 'won', 'wonderful', 'word', 'words', 'work', 'world', 'worry', 'worth', 'wouldn', 'write', 'written', 'wrong', 'wrote', 'ya', 'yall', 'yeah', 'years', 'yes', 'young']\n"
     ]
    }
   ],
   "source": [
    "## OK good - but we want a document topic model A DTM (matrix of counts)\n",
    "\n",
    "ColumnNamesVec=unigram_count_vectorizer.get_feature_names()\n",
    "print(ColumnNamesVec)"
   ]
  },
  {
   "cell_type": "code",
   "execution_count": 29,
   "metadata": {},
   "outputs": [
    {
     "name": "stdout",
     "output_type": "stream",
     "text": [
      "     10  14  able  accept  act  actions  address  ago  ah  ahead  ...  write  \\\n",
      "0     0   0     1       0    0        0        0    0   2      0  ...      0   \n",
      "1     0   0     0       1    0        0        0    0   0      0  ...      0   \n",
      "2     0   0     0       0    0        0        0    0   0      0  ...      0   \n",
      "3     0   0     0       0    0        0        0    0   0      0  ...      0   \n",
      "4     0   0     0       0    1        0        0    0   0      0  ...      0   \n",
      "..   ..  ..   ...     ...  ...      ...      ...  ...  ..    ...  ...    ...   \n",
      "335   0   0     0       0    0        0        0    0   0      0  ...      0   \n",
      "336   0   0     0       0    0        0        0    0   0      0  ...      0   \n",
      "337   0   0     0       0    0        0        0    0   0      0  ...      0   \n",
      "338   0   0     0       0    0        0        0    0   0      0  ...      0   \n",
      "339   0   0     0       0    0        0        0    0   0      0  ...      0   \n",
      "\n",
      "     written  wrong  wrote  ya  yall  yeah  years  yes  young  \n",
      "0          0      1      0   0     0     0      0    0      0  \n",
      "1          0      0      0   0     0     0      0    0      0  \n",
      "2          0      0      0   0     0     0      0    0      0  \n",
      "3          0      1      0   0     0     0      0    0      0  \n",
      "4          1      1      0   0     0     0      0    0      0  \n",
      "..       ...    ...    ...  ..   ...   ...    ...  ...    ...  \n",
      "335        0      0      0   0     0     0      0    0      0  \n",
      "336        0      0      0   0     0     0      0    1      0  \n",
      "337        0      0      0   0     0     0      0    0      0  \n",
      "338        0      0      0   0     0     0      0    0      0  \n",
      "339        0      0      0   0     0     0      0    0      0  \n",
      "\n",
      "[340 rows x 629 columns]\n"
     ]
    }
   ],
   "source": [
    "\n",
    "X_train_vec_WordCloud = unigram_count_vectorizer.fit_transform(X_train)\n",
    "\n",
    "CorpusDF_WordCloud=p.DataFrame(X_train_vec_WordCloud.toarray(),columns=ColumnNamesVec)\n",
    "\n",
    "print(CorpusDF_WordCloud)"
   ]
  },
  {
   "cell_type": "code",
   "execution_count": 30,
   "metadata": {},
   "outputs": [
    {
     "data": {
      "text/plain": [
       "10        int64\n",
       "14        int64\n",
       "able      int64\n",
       "accept    int64\n",
       "act       int64\n",
       "          ...  \n",
       "yall      int64\n",
       "yeah      int64\n",
       "years     int64\n",
       "yes       int64\n",
       "young     int64\n",
       "Length: 629, dtype: object"
      ]
     },
     "execution_count": 30,
     "metadata": {},
     "output_type": "execute_result"
    }
   ],
   "source": [
    "type(CorpusDF_WordCloud)\n",
    "CorpusDF_WordCloud.dtypes"
   ]
  },
  {
   "cell_type": "code",
   "execution_count": 31,
   "metadata": {},
   "outputs": [],
   "source": [
    "# str(CorpusDF_WordCloud.loc[CorpusDF_WordCloud.index[i], ColumnNamesVec])"
   ]
  },
  {
   "cell_type": "code",
   "execution_count": 32,
   "metadata": {},
   "outputs": [
    {
     "data": {
      "image/png": "[encoded data removed]",
      "text/plain": [
       "<Figure size 432x288 with 1 Axes>"
      ]
     },
     "metadata": {
      "needs_background": "light"
     },
     "output_type": "display_data"
    }
   ],
   "source": [
    "%matplotlib inline\n",
    "from matplotlib import pyplot as plt\n",
    "\n",
    "from wordcloud import WordCloud \n",
    "\n",
    "text = CorpusDF_WordCloud\n",
    "\n",
    "# wordcloud = WordCloud().generate(text)\n",
    "# wordcloud = WordCloud().generate(' '.join(text2['Crime Type'])) Exampl\n",
    "wordcloud = WordCloud().generate(' '.join(text))\n",
    "\n",
    "# Display the generated image:\n",
    "plt.imshow(wordcloud, interpolation='bilinear')\n",
    "plt.axis(\"off\")\n",
    "plt.show()\n"
   ]
  },
  {
   "cell_type": "code",
   "execution_count": 33,
   "metadata": {},
   "outputs": [
    {
     "name": "stdout",
     "output_type": "stream",
     "text": [
      "['10', '14', 'able', 'accept', 'act', 'actions', 'address', 'ago', 'ah', 'ahead', 'ain', 'alive', 'allah', 'allow', 'allowed', 'almighty', 'alright', 'amen', 'america', 'american', 'angel', 'anger', 'angry', 'animosity', 'answers', 'anybody', 'apologize', 'appreciate', 'arms', 'art', 'ask', 'asked', 'asking', 'attorney', 'attorneys', 'august', 'away', 'baby', 'bad', 'barbara', 'bear', 'beat', 'beautiful', 'behalf', 'believe', 'believes', 'belong', 'best', 'better', 'big', 'bitterness', 'blame', 'bless', 'blessed', 'blessing', 'blood', 'bobby', 'body', 'born', 'boy', 'brad', 'bread', 'breath', 'brief', 'bring', 'bringing', 'brings', 'bro', 'brother', 'brothers', 'brought', 'bye', 'called', 'came', 'capital', 'care', 'carry', 'case', 'cause', 'caused', 'chance', 'change', 'changed', 'chaplain', 'charge', 'child', 'children', 'christ', 'christian', 'church', 'closure', 'come', 'comes', 'comfort', 'coming', 'commit', 'committed', 'community', 'confess', 'continue', 'convicted', 'couldn', 'country', 'couple', 'court', 'courts', 'crime', 'cross', 'crying', 'dad', 'daddy', 'daily', 'danny', 'daughter', 'daughters', 'david', 'day', 'days', 'dead', 'deal', 'dear', 'dearly', 'death', 'deep', 'deeply', 'defense', 'deliver', 'demand', 'deserve', 'did', 'didn', 'die', 'died', 'different', 'dna', 'doctor', 'does', 'doesn', 'dog', 'doing', 'don', 'doreen', 'drug', 'dying', 'earth', 'end', 'enemies', 'especially', 'eternal', 'everybody', 'evidence', 'evil', 'executed', 'execution', 'explain', 'express', 'eyes', 'face', 'fact', 'facts', 'faith', 'families', 'family', 'father', 'fear', 'feel', 'fight', 'fighting', 'filled', 'final', 'fine', 'finished', 'fixing', 'follow', 'foremost', 'forever', 'forget', 'forgive', 'forgiven', 'forgiveness', 'forgives', 'fought', 'frank', 'free', 'freedom', 'friend', 'friends', 'friendship', 'future', 'gave', 'gets', 'getting', 'girl', 'given', 'gives', 'giving', 'glad', 'glory', 'god', 'goes', 'going', 'gone', 'gonna', 'good', 'goodbye', 'got', 'grace', 'grandmother', 'grave', 'great', 'green', 'grief', 'guess', 'guilt', 'guilty', 'guys', 'hallowed', 'hand', 'hands', 'happen', 'happened', 'happening', 'happiness', 'happy', 'hard', 'hate', 'hatred', 'having', 'head', 'heads', 'hear', 'heard', 'heart', 'hearts', 'heaven', 'heavenly', 'hell', 'hello', 'help', 'helped', 'helps', 'hero', 'hey', 'hi', 'high', 'hold', 'holy', 'home', 'honor', 'hope', 'house', 'human', 'hurt', 'hurting', 'husband', 'incident', 'innocence', 'innocent', 'involved', 'irene', 'islam', 'isn', 'jack', 'james', 'jennifer', 'jenny', 'jesus', 'job', 'joe', 'john', 'jones', 'journey', 'joy', 'judge', 'jury', 'just', 'justice', 'kathy', 'kept', 'kids', 'kill', 'killed', 'killer', 'killing', 'kim', 'kind', 'king', 'kingdom', 'knew', 'know', 'known', 'knows', 'lady', 'later', 'law', 'lawyers', 'lay', 'lead', 'learn', 'leave', 'leaving', 'left', 'let', 'letter', 'letting', 'lie', 'lied', 'life', 'light', 'like', 'line', 'listen', 'little', 'live', 'lived', 'lives', 'living', 'll', 'locked', 'long', 'look', 'looking', 'lord', 'loss', 'lost', 'lot', 'love', 'loved', 'loves', 'loving', 'mad', 'make', 'makes', 'mama', 'man', 'mary', 'matter', 'maybe', 'mean', 'meant', 'media', 'meet', 'member', 'members', 'men', 'merciful', 'mercy', 'message', 'michael', 'mike', 'mind', 'minutes', 'miss', 'mistake', 'mistakes', 'mom', 'momma', 'mother', 'mourn', 'mr', 'mrs', 'ms', 'mumbled', 'murder', 'murderer', 'murdering', 'murders', 'need', 'needed', 'needs', 'nephews', 'new', 'nieces', 'night', 'officers', 'oh', 'ok', 'okay', 'old', 'ones', 'paid', 'pain', 'parents', 'pass', 'past', 'pay', 'peace', 'penalty', 'people', 'person', 'personal', 'place', 'poem', 'point', 'police', 'poor', 'pop', 'power', 'praise', 'pray', 'prayed', 'prayer', 'praying', 'precious', 'presence', 'present', 'press', 'price', 'prison', 'probably', 'problems', 'proceed', 'profanity', 'promise', 'prosecutor', 'proud', 'prove', 'public', 'pull', 'putting', 'quiet', 'raised', 'ran', 'ray', 'reach', 'read', 'ready', 'real', 'really', 'reason', 'receive', 'received', 'record', 'released', 'relief', 'remember', 'remorse', 'respect', 'responsibility', 'responsible', 'rest', 'return', 'reverend', 'ride', 'right', 'road', 'robert', 'rock', 'roll', 'row', 'sad', 'said', 'saint', 'sake', 'salvation', 'sanchez', 'sandy', 'save', 'saved', 'saving', 'savior', 'saw', 'say', 'saying', 'seeing', 'self', 'send', 'sending', 'sentence', 'set', 'shall', 'shed', 'shepherd', 'shine', 'short', 'shot', 'showed', 'showing', 'shown', 'sides', 'sin', 'singing', 'sins', 'sir', 'sister', 'sisters', 'situation', 'sleep', 'smile', 'smiling', 'society', 'somebody', 'someday', 'son', 'soon', 'sorrow', 'sorry', 'soul', 'spanish', 'speak', 'spent', 'spirit', 'spiritual', 'spoken', 'stand', 'standing', 'start', 'state', 'statement', 'stay', 'stop', 'stopped', 'strength', 'strong', 'struggle', 'stuff', 'suffer', 'suffered', 'suffering', 'support', 'supported', 'supporters', 'supporting', 'supreme', 'sure', 'surely', 'sylvia', 'taken', 'taking', 'talk', 'talking', 'taste', 'taylor', 'tears', 'tell', 'telling', 'temptation', 'testimony', 'texas', 'thank', 'thanks', 'thine', 'thing', 'things', 'think', 'thinking', 'thomas', 'thou', 'thought', 'thy', 'time', 'times', 'today', 'told', 'tonight', 'took', 'touch', 'transition', 'treat', 'trespass', 'trespasses', 'trial', 'tried', 'trigger', 'truck', 'true', 'truly', 'trust', 'truth', 'try', 'trying', 'turned', 'type', 'uh', 'um', 'understand', 'unintelligible', 'unit', 'unto', 'use', 'used', 've', 'veins', 'victim', 'victims', 'waiting', 'wake', 'walk', 'walked', 'wall', 'walsh', 'want', 'wanted', 'warden', 'warrior', 'wasn', 'watch', 'watching', 'waters', 'way', 'ways', 'went', 'whiteside', 'wife', 'williams', 'win', 'wish', 'witness', 'witnesses', 'woman', 'won', 'wonderful', 'word', 'words', 'work', 'world', 'worry', 'worth', 'wouldn', 'write', 'written', 'wrong', 'wrote', 'ya', 'yall', 'yeah', 'years', 'yes', 'young']\n",
      "      10   14     able    accept       act  actions  address  ago        ah  \\\n",
      "0    0.0  0.0  0.21982  0.000000  0.000000      0.0      0.0  0.0  0.407546   \n",
      "1    0.0  0.0  0.00000  0.117709  0.000000      0.0      0.0  0.0  0.000000   \n",
      "2    0.0  0.0  0.00000  0.000000  0.000000      0.0      0.0  0.0  0.000000   \n",
      "3    0.0  0.0  0.00000  0.000000  0.000000      0.0      0.0  0.0  0.000000   \n",
      "4    0.0  0.0  0.00000  0.000000  0.082679      0.0      0.0  0.0  0.000000   \n",
      "..   ...  ...      ...       ...       ...      ...      ...  ...       ...   \n",
      "335  0.0  0.0  0.00000  0.000000  0.000000      0.0      0.0  0.0  0.000000   \n",
      "336  0.0  0.0  0.00000  0.000000  0.000000      0.0      0.0  0.0  0.000000   \n",
      "337  0.0  0.0  0.00000  0.000000  0.000000      0.0      0.0  0.0  0.000000   \n",
      "338  0.0  0.0  0.00000  0.000000  0.000000      0.0      0.0  0.0  0.000000   \n",
      "339  0.0  0.0  0.00000  0.000000  0.000000      0.0      0.0  0.0  0.000000   \n",
      "\n",
      "     ahead  ...  write   written     wrong  wrote   ya  yall  yeah  years  \\\n",
      "0      0.0  ...    0.0  0.000000  0.168300    0.0  0.0   0.0   0.0    0.0   \n",
      "1      0.0  ...    0.0  0.000000  0.000000    0.0  0.0   0.0   0.0    0.0   \n",
      "2      0.0  ...    0.0  0.000000  0.000000    0.0  0.0   0.0   0.0    0.0   \n",
      "3      0.0  ...    0.0  0.000000  0.188797    0.0  0.0   0.0   0.0    0.0   \n",
      "4      0.0  ...    0.0  0.068767  0.056796    0.0  0.0   0.0   0.0    0.0   \n",
      "..     ...  ...    ...       ...       ...    ...  ...   ...   ...    ...   \n",
      "335    0.0  ...    0.0  0.000000  0.000000    0.0  0.0   0.0   0.0    0.0   \n",
      "336    0.0  ...    0.0  0.000000  0.000000    0.0  0.0   0.0   0.0    0.0   \n",
      "337    0.0  ...    0.0  0.000000  0.000000    0.0  0.0   0.0   0.0    0.0   \n",
      "338    0.0  ...    0.0  0.000000  0.000000    0.0  0.0   0.0   0.0    0.0   \n",
      "339    0.0  ...    0.0  0.000000  0.000000    0.0  0.0   0.0   0.0    0.0   \n",
      "\n",
      "          yes  young  \n",
      "0    0.000000    0.0  \n",
      "1    0.000000    0.0  \n",
      "2    0.000000    0.0  \n",
      "3    0.000000    0.0  \n",
      "4    0.000000    0.0  \n",
      "..        ...    ...  \n",
      "335  0.000000    0.0  \n",
      "336  0.096826    0.0  \n",
      "337  0.000000    0.0  \n",
      "338  0.000000    0.0  \n",
      "339  0.000000    0.0  \n",
      "\n",
      "[340 rows x 629 columns]\n"
     ]
    }
   ],
   "source": [
    "ColumnNamestfidf=unigram_tfidf_vectorizer.get_feature_names()\n",
    "print(ColumnNamestfidf)\n",
    "\n",
    "X_train_vec_tfidf_WordCloud = unigram_tfidf_vectorizer.fit_transform(X_train)\n",
    "\n",
    "CorpusDF_tfidf_WordCloud=p.DataFrame(X_train_vec_tfidf_WordCloud.toarray(),columns=ColumnNamestfidf)\n",
    "\n",
    "print(CorpusDF_tfidf_WordCloud)\n"
   ]
  },
  {
   "cell_type": "code",
   "execution_count": 34,
   "metadata": {},
   "outputs": [
    {
     "data": {
      "image/png": "[encoded data removed]",
      "text/plain": [
       "<Figure size 432x288 with 1 Axes>"
      ]
     },
     "metadata": {
      "needs_background": "light"
     },
     "output_type": "display_data"
    }
   ],
   "source": [
    "text2 = CorpusDF_tfidf_WordCloud\n",
    "\n",
    "# wordcloud = WordCloud().generate(text)\n",
    "# wordcloud = WordCloud().generate(' '.join(text2['Crime Type'])) Exampl\n",
    "wordcloud = WordCloud().generate(' '.join(text2))\n",
    "\n",
    "# Display the generated image:\n",
    "plt.imshow(wordcloud, interpolation='bilinear')\n",
    "plt.axis(\"off\")\n",
    "plt.show()\n"
   ]
  },
  {
   "cell_type": "code",
   "execution_count": 35,
   "metadata": {},
   "outputs": [
    {
     "data": {
      "image/png": "[encoded data removed]",
      "text/plain": [
       "<Figure size 432x288 with 1 Axes>"
      ]
     },
     "metadata": {
      "needs_background": "light"
     },
     "output_type": "display_data"
    }
   ],
   "source": [
    "CorpusDF_WordCloud\n",
    "CorpusDF_tfidf_WordCloud\n",
    "\n",
    "plt.hist(CorpusDF_WordCloud)\n",
    "plt.show()"
   ]
  },
  {
   "cell_type": "code",
   "execution_count": 36,
   "metadata": {},
   "outputs": [
    {
     "name": "stdout",
     "output_type": "stream",
     "text": [
      "10         4\n",
      "14         3\n",
      "able       8\n",
      "accept     5\n",
      "act        3\n",
      "          ..\n",
      "yall       5\n",
      "yeah       5\n",
      "years     42\n",
      "yes       93\n",
      "young      5\n",
      "Length: 629, dtype: int64\n"
     ]
    }
   ],
   "source": [
    "CorpusDF_WordCloud.sum(axis=0) \n",
    "\n",
    "freq_dist = CorpusDF_WordCloud.sum(axis=0) \n",
    "\n",
    "print(CorpusDF_WordCloud.sum(axis=0))"
   ]
  },
  {
   "cell_type": "code",
   "execution_count": 37,
   "metadata": {},
   "outputs": [
    {
     "data": {
      "image/png": "[encoded data removed]",
      "text/plain": [
       "<Figure size 432x288 with 1 Axes>"
      ]
     },
     "metadata": {
      "needs_background": "light"
     },
     "output_type": "display_data"
    }
   ],
   "source": [
    "# CorpusDF_WordCloud\n",
    "# CorpusDF_tfidf_WordCloud\n",
    "\n",
    "plt.hist(freq_dist)\n",
    "plt.show()"
   ]
  },
  {
   "cell_type": "code",
   "execution_count": 38,
   "metadata": {},
   "outputs": [
    {
     "name": "stdout",
     "output_type": "stream",
     "text": [
      "[ 1  0  3 18  5  2  4 15  9 11 16 28 13  6 10  8 37 42 21 44 24 25 20 17\n",
      " 27 19 32 12 22 45 39 41 29 50 47  7 56 70 46 69 73 72 71 60 67 61 62 14\n",
      " 63 68 64 65 66 58 23 26 55 54 53 52 51 49 48 43 40 38 74 36 35 34 33 31\n",
      " 30 57 59 75]\n"
     ]
    }
   ],
   "source": [
    "# colSums(CorpusDF_WordCloud)\n",
    "\n",
    "from collections import Counter\n",
    "import numpy as np\n",
    "import matplotlib.pyplot as plt\n",
    "\n",
    "word_list = freq_dist\n",
    "\n",
    "counts = Counter(word_list)\n",
    "\n",
    "labels, values = zip(*counts.items())\n",
    "\n",
    "# sort your values in descending order\n",
    "indSort = np.argsort(values)[::-1]\n",
    "\n",
    "print(indSort)"
   ]
  },
  {
   "cell_type": "code",
   "execution_count": 39,
   "metadata": {},
   "outputs": [
    {
     "data": {
      "image/png": "[encoded data removed]",
      "text/plain": [
       "<Figure size 432x288 with 1 Axes>"
      ]
     },
     "metadata": {
      "needs_background": "light"
     },
     "output_type": "display_data"
    }
   ],
   "source": [
    "# rearrange your data\n",
    "labels = np.array(labels)[indSort]\n",
    "values = np.array(values)[indSort]\n",
    "\n",
    "indexes = np.arange(len(labels))\n",
    "\n",
    "bar_width = 0.35\n",
    "\n",
    "plt.bar(indexes, values)\n",
    "\n",
    "# add labels\n",
    "plt.xticks(indexes + bar_width, labels)\n",
    "plt.show()"
   ]
  },
  {
   "cell_type": "code",
   "execution_count": 40,
   "metadata": {},
   "outputs": [
    {
     "data": {
      "text/plain": [
       "<matplotlib.axes._subplots.AxesSubplot at 0x23b6c882da0>"
      ]
     },
     "execution_count": 40,
     "metadata": {},
     "output_type": "execute_result"
    },
    {
     "data": {
      "image/png": "[encoded data removed]",
      "text/plain": [
       "<Figure size 432x288 with 1 Axes>"
      ]
     },
     "metadata": {
      "needs_background": "light"
     },
     "output_type": "display_data"
    }
   ],
   "source": [
    "freq_dist.plot( x='_id', y='total', kind='hist')"
   ]
  },
  {
   "cell_type": "code",
   "execution_count": 41,
   "metadata": {},
   "outputs": [
    {
     "name": "stdout",
     "output_type": "stream",
     "text": [
      "10         4\n",
      "14         3\n",
      "able       8\n",
      "accept     5\n",
      "act        3\n",
      "          ..\n",
      "yall       5\n",
      "yeah       5\n",
      "years     42\n",
      "yes       93\n",
      "young      5\n",
      "Length: 629, dtype: int64\n"
     ]
    }
   ],
   "source": [
    "# Adding Field Name\n",
    "\n",
    "freq_dist.columns = [\"Vocab\", \"Count\"]\n",
    "\n",
    "print(freq_dist)"
   ]
  },
  {
   "cell_type": "code",
   "execution_count": 42,
   "metadata": {},
   "outputs": [
    {
     "name": "stdout",
     "output_type": "stream",
     "text": [
      "['Vocab', 'Count']\n"
     ]
    },
    {
     "data": {
      "text/plain": [
       "10         4\n",
       "14         3\n",
       "able       8\n",
       "accept     5\n",
       "act        3\n",
       "          ..\n",
       "yall       5\n",
       "yeah       5\n",
       "years     42\n",
       "yes       93\n",
       "young      5\n",
       "Length: 629, dtype: int64"
      ]
     },
     "execution_count": 42,
     "metadata": {},
     "output_type": "execute_result"
    }
   ],
   "source": [
    "print(freq_dist.columns)\n",
    "freq_dist"
   ]
  },
  {
   "cell_type": "code",
   "execution_count": 43,
   "metadata": {},
   "outputs": [],
   "source": [
    "# freq_dist_transpose = np.transpose(freq_dist)\n",
    "\n",
    "# print(freq_dist_transpose)"
   ]
  },
  {
   "cell_type": "code",
   "execution_count": 44,
   "metadata": {},
   "outputs": [
    {
     "data": {
      "text/plain": [
       "pandas.core.series.Series"
      ]
     },
     "execution_count": 44,
     "metadata": {},
     "output_type": "execute_result"
    }
   ],
   "source": [
    "type(freq_dist)"
   ]
  },
  {
   "cell_type": "code",
   "execution_count": 45,
   "metadata": {},
   "outputs": [
    {
     "name": "stdout",
     "output_type": "stream",
     "text": [
      "         0\n",
      "10       4\n",
      "14       3\n",
      "able     8\n",
      "accept   5\n",
      "act      3\n",
      "...     ..\n",
      "yall     5\n",
      "yeah     5\n",
      "years   42\n",
      "yes     93\n",
      "young    5\n",
      "\n",
      "[629 rows x 1 columns]\n"
     ]
    }
   ],
   "source": [
    "# df = freq_dist.to_frame().T\n",
    "\n",
    "df = freq_dist.to_frame()\n",
    "print (df)"
   ]
  },
  {
   "cell_type": "code",
   "execution_count": 46,
   "metadata": {},
   "outputs": [
    {
     "data": {
      "text/plain": [
       "pandas.core.frame.DataFrame"
      ]
     },
     "execution_count": 46,
     "metadata": {},
     "output_type": "execute_result"
    }
   ],
   "source": [
    "type(df)"
   ]
  },
  {
   "cell_type": "code",
   "execution_count": 47,
   "metadata": {},
   "outputs": [],
   "source": [
    "df = df.reset_index()"
   ]
  },
  {
   "cell_type": "code",
   "execution_count": 48,
   "metadata": {},
   "outputs": [
    {
     "name": "stdout",
     "output_type": "stream",
     "text": [
      "      Vocab  Count\n",
      "0        10      4\n",
      "1        14      3\n",
      "2      able      8\n",
      "3    accept      5\n",
      "4       act      3\n",
      "..      ...    ...\n",
      "624    yall      5\n",
      "625    yeah      5\n",
      "626   years     42\n",
      "627     yes     93\n",
      "628   young      5\n",
      "\n",
      "[629 rows x 2 columns]\n"
     ]
    }
   ],
   "source": [
    "# Adding Field Name\n",
    "\n",
    "df.columns = ['Vocab', 'Count']\n",
    "# df.columns = ['Count']\n",
    "\n",
    "print(df)"
   ]
  },
  {
   "cell_type": "code",
   "execution_count": 49,
   "metadata": {},
   "outputs": [
    {
     "data": {
      "text/plain": [
       "314      3\n",
       "378      3\n",
       "108      3\n",
       "383      3\n",
       "105      3\n",
       "      ... \n",
       "539    200\n",
       "496    205\n",
       "289    245\n",
       "162    249\n",
       "326    557\n",
       "Name: Count, Length: 629, dtype: int64"
      ]
     },
     "execution_count": 49,
     "metadata": {},
     "output_type": "execute_result"
    }
   ],
   "source": [
    "df.Count.sort_values()"
   ]
  },
  {
   "cell_type": "code",
   "execution_count": 50,
   "metadata": {},
   "outputs": [
    {
     "data": {
      "text/plain": [
       "326    557\n",
       "162    249\n",
       "289    245\n",
       "496    205\n",
       "539    200\n",
       "      ... \n",
       "105      3\n",
       "383      3\n",
       "108      3\n",
       "378      3\n",
       "314      3\n",
       "Name: Count, Length: 629, dtype: int64"
      ]
     },
     "execution_count": 50,
     "metadata": {},
     "output_type": "execute_result"
    }
   ],
   "source": [
    "df.Count.sort_values(ascending=False)"
   ]
  },
  {
   "cell_type": "code",
   "execution_count": 51,
   "metadata": {},
   "outputs": [
    {
     "name": "stdout",
     "output_type": "stream",
     "text": [
      "<class 'pandas.core.frame.DataFrame'>\n",
      "      Vocab  Count\n",
      "0        10      4\n",
      "1        14      3\n",
      "2      able      8\n",
      "3    accept      5\n",
      "4       act      3\n",
      "..      ...    ...\n",
      "624    yall      5\n",
      "625    yeah      5\n",
      "626   years     42\n",
      "627     yes     93\n",
      "628   young      5\n",
      "\n",
      "[629 rows x 2 columns]\n"
     ]
    }
   ],
   "source": [
    "# df['0'].hist(bin=50)\n",
    "# df.columns\n",
    "\n",
    "print(type(df))\n",
    "print(df)\n"
   ]
  },
  {
   "cell_type": "code",
   "execution_count": 52,
   "metadata": {},
   "outputs": [],
   "source": [
    "\n",
    "# df['index'].hist(bins=50)\n",
    "# df['Vocab'].hist(bins=50)\n",
    "\n"
   ]
  },
  {
   "cell_type": "code",
   "execution_count": 59,
   "metadata": {},
   "outputs": [
    {
     "name": "stdout",
     "output_type": "stream",
     "text": [
      "   day  Visitor\n",
      "0    1      100\n",
      "1    2      200\n",
      "2    3      300\n"
     ]
    }
   ],
   "source": [
    "dff = p.DataFrame({\"day\":[1,2,3], \"Visitor\":[100,200, 300]})\n",
    "print(dff)"
   ]
  },
  {
   "cell_type": "code",
   "execution_count": 60,
   "metadata": {},
   "outputs": [
    {
     "data": {
      "text/plain": [
       "0    1\n",
       "1    2\n",
       "2    3\n",
       "Name: day, dtype: int64"
      ]
     },
     "execution_count": 60,
     "metadata": {},
     "output_type": "execute_result"
    }
   ],
   "source": [
    "dff[\"day\"]"
   ]
  },
  {
   "cell_type": "code",
   "execution_count": 61,
   "metadata": {},
   "outputs": [
    {
     "data": {
      "text/html": [
       "<div>\n",
       "<style scoped>\n",
       "    .dataframe tbody tr th:only-of-type {\n",
       "        vertical-align: middle;\n",
       "    }\n",
       "\n",
       "    .dataframe tbody tr th {\n",
       "        vertical-align: top;\n",
       "    }\n",
       "\n",
       "    .dataframe thead th {\n",
       "        text-align: right;\n",
       "    }\n",
       "</style>\n",
       "<table border=\"1\" class=\"dataframe\">\n",
       "  <thead>\n",
       "    <tr style=\"text-align: right;\">\n",
       "      <th></th>\n",
       "      <th>day</th>\n",
       "      <th>Visitor</th>\n",
       "    </tr>\n",
       "  </thead>\n",
       "  <tbody>\n",
       "    <tr>\n",
       "      <th>0</th>\n",
       "      <td>1</td>\n",
       "      <td>100</td>\n",
       "    </tr>\n",
       "    <tr>\n",
       "      <th>1</th>\n",
       "      <td>2</td>\n",
       "      <td>200</td>\n",
       "    </tr>\n",
       "    <tr>\n",
       "      <th>2</th>\n",
       "      <td>3</td>\n",
       "      <td>300</td>\n",
       "    </tr>\n",
       "  </tbody>\n",
       "</table>\n",
       "</div>"
      ],
      "text/plain": [
       "   day  Visitor\n",
       "0    1      100\n",
       "1    2      200\n",
       "2    3      300"
      ]
     },
     "execution_count": 61,
     "metadata": {},
     "output_type": "execute_result"
    }
   ],
   "source": [
    "dff[[\"day\", \"Visitor\"]]"
   ]
  },
  {
   "cell_type": "code",
   "execution_count": 62,
   "metadata": {},
   "outputs": [
    {
     "data": {
      "text/html": [
       "<div>\n",
       "<style scoped>\n",
       "    .dataframe tbody tr th:only-of-type {\n",
       "        vertical-align: middle;\n",
       "    }\n",
       "\n",
       "    .dataframe tbody tr th {\n",
       "        vertical-align: top;\n",
       "    }\n",
       "\n",
       "    .dataframe thead th {\n",
       "        text-align: right;\n",
       "    }\n",
       "</style>\n",
       "<table border=\"1\" class=\"dataframe\">\n",
       "  <thead>\n",
       "    <tr style=\"text-align: right;\">\n",
       "      <th></th>\n",
       "      <th>Days</th>\n",
       "      <th>Visitor</th>\n",
       "    </tr>\n",
       "  </thead>\n",
       "  <tbody>\n",
       "    <tr>\n",
       "      <th>0</th>\n",
       "      <td>1</td>\n",
       "      <td>100</td>\n",
       "    </tr>\n",
       "    <tr>\n",
       "      <th>1</th>\n",
       "      <td>2</td>\n",
       "      <td>200</td>\n",
       "    </tr>\n",
       "    <tr>\n",
       "      <th>2</th>\n",
       "      <td>3</td>\n",
       "      <td>300</td>\n",
       "    </tr>\n",
       "  </tbody>\n",
       "</table>\n",
       "</div>"
      ],
      "text/plain": [
       "   Days  Visitor\n",
       "0     1      100\n",
       "1     2      200\n",
       "2     3      300"
      ]
     },
     "execution_count": 62,
     "metadata": {},
     "output_type": "execute_result"
    }
   ],
   "source": [
    "dff.rename(columns ={\"day\":\"Days\"})"
   ]
  },
  {
   "cell_type": "code",
   "execution_count": 63,
   "metadata": {},
   "outputs": [],
   "source": [
    "from nltk.corpus import brown\n"
   ]
  },
  {
   "cell_type": "code",
   "execution_count": 64,
   "metadata": {},
   "outputs": [
    {
     "data": {
      "text/plain": [
       "['The', 'Fulton', 'County', 'Grand', 'Jury', 'said', ...]"
      ]
     },
     "execution_count": 64,
     "metadata": {},
     "output_type": "execute_result"
    }
   ],
   "source": [
    "brown.words()"
   ]
  },
  {
   "cell_type": "markdown",
   "metadata": {},
   "source": [
    "# Topic Modeling LDA\n",
    "## LAD - Latent Drichilet Allocation"
   ]
  },
  {
   "cell_type": "code",
   "execution_count": 65,
   "metadata": {},
   "outputs": [],
   "source": [
    "# ! pip install gensim --user\n",
    "# ! pip3 install gensim --user\n",
    "\n",
    "# ! pip install -U gensim\n",
    "# ! pip3 install -U gensim"
   ]
  },
  {
   "cell_type": "code",
   "execution_count": 66,
   "metadata": {},
   "outputs": [],
   "source": [
    "# import pip\n",
    "# pip.main(['install','gensim'])"
   ]
  },
  {
   "cell_type": "code",
   "execution_count": 67,
   "metadata": {},
   "outputs": [],
   "source": [
    "#  ! pip install pyldavis"
   ]
  },
  {
   "cell_type": "code",
   "execution_count": 68,
   "metadata": {},
   "outputs": [],
   "source": [
    "#  https://www.youtube.com/watch?v=aPMPyUoFH8U\n",
    "\n",
    "from gensim import matutils, models, corpora\n",
    "from gensim.models.ldamulticore import LdaMulticore\n",
    "import pyLDAvis.gensim #LDA Visual Librari\n",
    "\n",
    "from nltk.corpus import stopwords\n",
    "import string\n",
    "\n",
    "from nltk.stem.wordnet import WordNetLemmatizer \n",
    "import scipy.sparse\n",
    "\n",
    "import warnings \n",
    "warnings.simplefilter('ignore')\n",
    "\n",
    "from itertools import chain"
   ]
  },
  {
   "cell_type": "code",
   "execution_count": 69,
   "metadata": {},
   "outputs": [],
   "source": [
    "Topic_Model_LDA_df = train"
   ]
  },
  {
   "cell_type": "code",
   "execution_count": 70,
   "metadata": {},
   "outputs": [
    {
     "name": "stdout",
     "output_type": "stream",
     "text": [
      "          Label                                     Last Statement\n",
      "0    Remorseful  Yes, I do, Grace Kehler is that you? I have gi...\n",
      "1    Remorseful  Yes sir, I would first like to say to the Sanc...\n",
      "2    Remorseful  Yes, I made peace with God. I hope y'all make ...\n",
      "3         Other  I don't have anything to say, you can proceed ...\n",
      "4    Remorseful  I just want to tell my family thank you, my mo...\n",
      "..          ...                                                ...\n",
      "420       Other  Heavenly Father, I give thanks for this time, ...\n",
      "421       Other  I pray that my family will rejoice and will fo...\n",
      "422  Remorseful   When asked if he had a last statement, he rep...\n",
      "423  Resentment  What is about to transpire in a few moments is...\n",
      "424       Other  Statement to the Media: I, at this very moment...\n",
      "\n",
      "[425 rows x 2 columns]\n"
     ]
    }
   ],
   "source": [
    "print(Topic_Model_LDA_df)"
   ]
  },
  {
   "cell_type": "markdown",
   "metadata": {},
   "source": [
    "# Function to Clean Data"
   ]
  },
  {
   "cell_type": "code",
   "execution_count": 71,
   "metadata": {},
   "outputs": [],
   "source": [
    "# Clean data\n",
    "\n",
    "stop = set(stopwords.words('english'))\n",
    "exclude = set(string.punctuation)\n",
    "lemma = WordNetLemmatizer()\n",
    "\n",
    "def clean(text):\n",
    "    stop_free = ' '.join([word for word in text.lower().split() if word not in stop])\n",
    "    punc_free = ''.join(ch for ch in stop_free if ch not in exclude)\n",
    "    normalized = ' '.join([lemma.lemmatize(word) for word in punc_free.split()])\n",
    "    return normalized.split()\n",
    "\n"
   ]
  },
  {
   "cell_type": "code",
   "execution_count": 72,
   "metadata": {},
   "outputs": [],
   "source": [
    "Topic_Model_LDA_df['Last Statement Clean'] = Topic_Model_LDA_df['Last Statement'].apply(clean)"
   ]
  },
  {
   "cell_type": "code",
   "execution_count": 73,
   "metadata": {},
   "outputs": [
    {
     "data": {
      "text/html": [
       "<div>\n",
       "<style scoped>\n",
       "    .dataframe tbody tr th:only-of-type {\n",
       "        vertical-align: middle;\n",
       "    }\n",
       "\n",
       "    .dataframe tbody tr th {\n",
       "        vertical-align: top;\n",
       "    }\n",
       "\n",
       "    .dataframe thead th {\n",
       "        text-align: right;\n",
       "    }\n",
       "</style>\n",
       "<table border=\"1\" class=\"dataframe\">\n",
       "  <thead>\n",
       "    <tr style=\"text-align: right;\">\n",
       "      <th></th>\n",
       "      <th>Label</th>\n",
       "      <th>Last Statement</th>\n",
       "      <th>Last Statement Clean</th>\n",
       "    </tr>\n",
       "  </thead>\n",
       "  <tbody>\n",
       "    <tr>\n",
       "      <th>0</th>\n",
       "      <td>Remorseful</td>\n",
       "      <td>Yes, I do, Grace Kehler is that you? I have gi...</td>\n",
       "      <td>[yes, do, grace, kehler, you, given, warden, j...</td>\n",
       "    </tr>\n",
       "    <tr>\n",
       "      <th>1</th>\n",
       "      <td>Remorseful</td>\n",
       "      <td>Yes sir, I would first like to say to the Sanc...</td>\n",
       "      <td>[yes, sir, would, first, like, say, sanchez, f...</td>\n",
       "    </tr>\n",
       "    <tr>\n",
       "      <th>2</th>\n",
       "      <td>Remorseful</td>\n",
       "      <td>Yes, I made peace with God. I hope y'all make ...</td>\n",
       "      <td>[yes, made, peace, god, hope, yall, make, peac...</td>\n",
       "    </tr>\n",
       "    <tr>\n",
       "      <th>3</th>\n",
       "      <td>Other</td>\n",
       "      <td>I don't have anything to say, you can proceed ...</td>\n",
       "      <td>[anything, say, proceed, warden, jones]</td>\n",
       "    </tr>\n",
       "    <tr>\n",
       "      <th>4</th>\n",
       "      <td>Remorseful</td>\n",
       "      <td>I just want to tell my family thank you, my mo...</td>\n",
       "      <td>[want, tell, family, thank, you, mom, dad, sis...</td>\n",
       "    </tr>\n",
       "    <tr>\n",
       "      <th>...</th>\n",
       "      <td>...</td>\n",
       "      <td>...</td>\n",
       "      <td>...</td>\n",
       "    </tr>\n",
       "    <tr>\n",
       "      <th>420</th>\n",
       "      <td>Other</td>\n",
       "      <td>Heavenly Father, I give thanks for this time, ...</td>\n",
       "      <td>[heavenly, father, give, thanks, time, time, t...</td>\n",
       "    </tr>\n",
       "    <tr>\n",
       "      <th>421</th>\n",
       "      <td>Other</td>\n",
       "      <td>I pray that my family will rejoice and will fo...</td>\n",
       "      <td>[pray, family, rejoice, forgive, thank, you]</td>\n",
       "    </tr>\n",
       "    <tr>\n",
       "      <th>422</th>\n",
       "      <td>Remorseful</td>\n",
       "      <td>When asked if he had a last statement, he rep...</td>\n",
       "      <td>[asked, last, statement, replied, yes, doi, ho...</td>\n",
       "    </tr>\n",
       "    <tr>\n",
       "      <th>423</th>\n",
       "      <td>Resentment</td>\n",
       "      <td>What is about to transpire in a few moments is...</td>\n",
       "      <td>[transpire, moment, wrong, however, human, bei...</td>\n",
       "    </tr>\n",
       "    <tr>\n",
       "      <th>424</th>\n",
       "      <td>Other</td>\n",
       "      <td>Statement to the Media: I, at this very moment...</td>\n",
       "      <td>[statement, medium, i, moment, absolutely, fea...</td>\n",
       "    </tr>\n",
       "  </tbody>\n",
       "</table>\n",
       "<p>425 rows × 3 columns</p>\n",
       "</div>"
      ],
      "text/plain": [
       "          Label                                     Last Statement  \\\n",
       "0    Remorseful  Yes, I do, Grace Kehler is that you? I have gi...   \n",
       "1    Remorseful  Yes sir, I would first like to say to the Sanc...   \n",
       "2    Remorseful  Yes, I made peace with God. I hope y'all make ...   \n",
       "3         Other  I don't have anything to say, you can proceed ...   \n",
       "4    Remorseful  I just want to tell my family thank you, my mo...   \n",
       "..          ...                                                ...   \n",
       "420       Other  Heavenly Father, I give thanks for this time, ...   \n",
       "421       Other  I pray that my family will rejoice and will fo...   \n",
       "422  Remorseful   When asked if he had a last statement, he rep...   \n",
       "423  Resentment  What is about to transpire in a few moments is...   \n",
       "424       Other  Statement to the Media: I, at this very moment...   \n",
       "\n",
       "                                  Last Statement Clean  \n",
       "0    [yes, do, grace, kehler, you, given, warden, j...  \n",
       "1    [yes, sir, would, first, like, say, sanchez, f...  \n",
       "2    [yes, made, peace, god, hope, yall, make, peac...  \n",
       "3              [anything, say, proceed, warden, jones]  \n",
       "4    [want, tell, family, thank, you, mom, dad, sis...  \n",
       "..                                                 ...  \n",
       "420  [heavenly, father, give, thanks, time, time, t...  \n",
       "421       [pray, family, rejoice, forgive, thank, you]  \n",
       "422  [asked, last, statement, replied, yes, doi, ho...  \n",
       "423  [transpire, moment, wrong, however, human, bei...  \n",
       "424  [statement, medium, i, moment, absolutely, fea...  \n",
       "\n",
       "[425 rows x 3 columns]"
      ]
     },
     "execution_count": 73,
     "metadata": {},
     "output_type": "execute_result"
    }
   ],
   "source": [
    "Topic_Model_LDA_df"
   ]
  },
  {
   "cell_type": "code",
   "execution_count": 74,
   "metadata": {},
   "outputs": [
    {
     "name": "stdout",
     "output_type": "stream",
     "text": [
      "14843\n"
     ]
    }
   ],
   "source": [
    "# Create dictionary\n",
    "\n",
    "dictionary = corpora.Dictionary(Topic_Model_LDA_df['Last Statement Clean'])\n",
    "\n",
    "# Total number of non-zeroes in the BOW matrix (sum of the number of unique words per document over the entire corpus)\n",
    "print(dictionary.num_nnz)"
   ]
  },
  {
   "cell_type": "code",
   "execution_count": 75,
   "metadata": {},
   "outputs": [],
   "source": [
    "# !python -m pip install -U gensim"
   ]
  },
  {
   "cell_type": "code",
   "execution_count": 76,
   "metadata": {},
   "outputs": [],
   "source": [
    "# doc_term_matrix = [dictionary.doc2bow(doc) for doc in Topic_Model_LDA_df['Last Statement Clean']]\n",
    "# print(len(doc_term_matrix))\n",
    "# print(doc_term_matrix)"
   ]
  },
  {
   "cell_type": "markdown",
   "metadata": {},
   "source": [
    "### LDA Model"
   ]
  },
  {
   "cell_type": "code",
   "execution_count": 77,
   "metadata": {},
   "outputs": [],
   "source": [
    "# lda = gensim.models.ldamodel.LdaModel"
   ]
  },
  {
   "cell_type": "code",
   "execution_count": 78,
   "metadata": {},
   "outputs": [],
   "source": [
    "# print(train)\n",
    "# print(X_train)"
   ]
  },
  {
   "cell_type": "code",
   "execution_count": 79,
   "metadata": {},
   "outputs": [
    {
     "name": "stdout",
     "output_type": "stream",
     "text": [
      "(340, 629)\n",
      "     10  14  able  accept  act  actions  address  ago  ah  ahead  ...  write  \\\n",
      "0     0   0     1       0    0        0        0    0   2      0  ...      0   \n",
      "1     0   0     0       1    0        0        0    0   0      0  ...      0   \n",
      "2     0   0     0       0    0        0        0    0   0      0  ...      0   \n",
      "3     0   0     0       0    0        0        0    0   0      0  ...      0   \n",
      "4     0   0     0       0    1        0        0    0   0      0  ...      0   \n",
      "..   ..  ..   ...     ...  ...      ...      ...  ...  ..    ...  ...    ...   \n",
      "335   0   0     0       0    0        0        0    0   0      0  ...      0   \n",
      "336   0   0     0       0    0        0        0    0   0      0  ...      0   \n",
      "337   0   0     0       0    0        0        0    0   0      0  ...      0   \n",
      "338   0   0     0       0    0        0        0    0   0      0  ...      0   \n",
      "339   0   0     0       0    0        0        0    0   0      0  ...      0   \n",
      "\n",
      "     written  wrong  wrote  ya  yall  yeah  years  yes  young  \n",
      "0          0      1      0   0     0     0      0    0      0  \n",
      "1          0      0      0   0     0     0      0    0      0  \n",
      "2          0      0      0   0     0     0      0    0      0  \n",
      "3          0      1      0   0     0     0      0    0      0  \n",
      "4          1      1      0   0     0     0      0    0      0  \n",
      "..       ...    ...    ...  ..   ...   ...    ...  ...    ...  \n",
      "335        0      0      0   0     0     0      0    0      0  \n",
      "336        0      0      0   0     0     0      0    1      0  \n",
      "337        0      0      0   0     0     0      0    0      0  \n",
      "338        0      0      0   0     0     0      0    0      0  \n",
      "339        0      0      0   0     0     0      0    0      0  \n",
      "\n",
      "[340 rows x 629 columns]\n"
     ]
    }
   ],
   "source": [
    "# lda_df = train\n",
    "\n",
    "X_train_vec_WordCloud = unigram_count_vectorizer.fit_transform(X_train)\n",
    "\n",
    "CorpusDF_WordCloud=p.DataFrame(X_train_vec_WordCloud.toarray(),columns=ColumnNamesVec)\n",
    "\n",
    "print(CorpusDF_WordCloud.shape)\n",
    "print(CorpusDF_WordCloud)"
   ]
  },
  {
   "cell_type": "code",
   "execution_count": 80,
   "metadata": {},
   "outputs": [
    {
     "name": "stdout",
     "output_type": "stream",
     "text": [
      "<class 'numpy.ndarray'>\n",
      "['Remorseful' 'Remorseful' 'Remorseful' 'Other' 'Other' 'Remorseful'\n",
      " 'Resentment' 'Other' 'Other' 'Remorseful' 'Remorseful' 'Remorseful'\n",
      " 'Other' 'Other' 'Other' 'Other' 'Other' 'Other' 'Other' 'Resentment'\n",
      " 'Remorseful' 'Other' 'Remorseful' 'Remorseful' 'Remorseful' 'Remorseful'\n",
      " 'Other' 'Remorseful' 'Other' 'Other' 'Remorseful' 'Resentment'\n",
      " 'Remorseful' 'Other' 'Resentment' 'Remorseful' 'Resentment' 'Other'\n",
      " 'Remorseful' 'Resentment' 'Other' 'Remorseful' 'Other' 'Other'\n",
      " 'Resentment' 'Other' 'Other' 'Other' 'Remorseful' 'Remorseful'\n",
      " 'Remorseful' 'Remorseful' 'Remorseful' 'Remorseful' 'Remorseful'\n",
      " 'Remorseful' 'Remorseful' 'Other' 'Resentment' 'Other' 'Remorseful'\n",
      " 'Other' 'Other' 'Remorseful' 'Remorseful' 'Other' 'Other' 'Other'\n",
      " 'Remorseful' 'Remorseful' 'Remorseful' 'Remorseful' 'Resentment' 'Other'\n",
      " 'Other' 'Remorseful' 'Other' 'Other' 'Remorseful' 'Remorseful'\n",
      " 'Remorseful' 'Other' 'Remorseful' 'Remorseful' 'Other' 'Remorseful'\n",
      " 'Remorseful' 'Other' 'Remorseful' 'Other' 'Remorseful' 'Other'\n",
      " 'Remorseful' 'Remorseful' 'Remorseful' 'Other' 'Other' 'Remorseful'\n",
      " 'Resentment' 'Remorseful' 'Other' 'Other' 'Remorseful' 'Remorseful'\n",
      " 'Remorseful' 'Other' 'Other' 'Resentment' 'Remorseful' 'Remorseful'\n",
      " 'Other' 'Other' 'Other' 'Other' 'Remorseful' 'Remorseful' 'Remorseful'\n",
      " 'Other' 'Other' 'Other' 'Remorseful' 'Remorseful' 'Other' 'Other'\n",
      " 'Resentment' 'Other' 'Other' 'Remorseful' 'Other' 'Resentment' 'Other'\n",
      " 'Remorseful' 'Remorseful' 'Remorseful' 'Other' 'Remorseful' 'Other'\n",
      " 'Remorseful' 'Remorseful' 'Remorseful' 'Remorseful' 'Other' 'Other'\n",
      " 'Other' 'Remorseful' 'Other' 'Other' 'Other' 'Remorseful' 'Other'\n",
      " 'Remorseful' 'Other' 'Other' 'Other' 'Resentment' 'Remorseful'\n",
      " 'Remorseful' 'Other' 'Resentment' 'Other' 'Remorseful' 'Other'\n",
      " 'Resentment' 'Other' 'Resentment' 'Other' 'Remorseful' 'Resentment'\n",
      " 'Remorseful' 'Remorseful' 'Resentment' 'Other' 'Remorseful' 'Resentment'\n",
      " 'Other' 'Remorseful' 'Remorseful' 'Remorseful' 'Other' 'Remorseful'\n",
      " 'Remorseful' 'Remorseful' 'Other' 'Remorseful' 'Remorseful' 'Other'\n",
      " 'Remorseful' 'Other' 'Remorseful' 'Other' 'Resentment' 'Remorseful'\n",
      " 'Remorseful' 'Remorseful' 'Remorseful' 'Remorseful' 'Other' 'Other'\n",
      " 'Remorseful' 'Other' 'Remorseful' 'Other' 'Other' 'Other' 'Remorseful'\n",
      " 'Other' 'Other' 'Other' 'Resentment' 'Remorseful' 'Other' 'Other'\n",
      " 'Resentment' 'Other' 'Remorseful' 'Remorseful' 'Other' 'Other' 'Other'\n",
      " 'Remorseful' 'Resentment' 'Other' 'Remorseful' 'Other' 'Remorseful'\n",
      " 'Remorseful' 'Resentment' 'Remorseful' 'Other' 'Other' 'Remorseful'\n",
      " 'Other' 'Remorseful' 'Other' 'Remorseful' 'Other' 'Remorseful'\n",
      " 'Remorseful' 'Remorseful' 'Remorseful' 'Resentment' 'Remorseful' 'Other'\n",
      " 'Remorseful' 'Remorseful' 'Other' 'Remorseful' 'Remorseful' 'Other'\n",
      " 'Other' 'Remorseful' 'Other' 'Other' 'Remorseful' 'Remorseful'\n",
      " 'Resentment' 'Remorseful' 'Remorseful' 'Other' 'Remorseful' 'Remorseful'\n",
      " 'Other' 'Remorseful' 'Resentment' 'Remorseful' 'Other' 'Other' 'Other'\n",
      " 'Resentment' 'Other' 'Other' 'Remorseful' 'Resentment' 'Resentment'\n",
      " 'Resentment' 'Resentment' 'Other' 'Remorseful' 'Resentment' 'Remorseful'\n",
      " 'Other' 'Other' 'Resentment' 'Other' 'Resentment' 'Remorseful'\n",
      " 'Remorseful' 'Remorseful' 'Resentment' 'Other' 'Other' 'Other' 'Other'\n",
      " 'Remorseful' 'Other' 'Other' 'Resentment' 'Remorseful' 'Remorseful'\n",
      " 'Remorseful' 'Remorseful' 'Other' 'Remorseful' 'Other' 'Remorseful'\n",
      " 'Remorseful' 'Other' 'Remorseful' 'Other' 'Remorseful' 'Remorseful'\n",
      " 'Other' 'Remorseful' 'Remorseful' 'Remorseful' 'Other' 'Other'\n",
      " 'Remorseful' 'Remorseful' 'Resentment' 'Other' 'Other' 'Other' 'Other'\n",
      " 'Other' 'Other' 'Other' 'Remorseful' 'Other' 'Other' 'Remorseful'\n",
      " 'Remorseful' 'Resentment' 'Remorseful' 'Resentment' 'Remorseful' 'Other'\n",
      " 'Resentment' 'Remorseful' 'Remorseful']\n"
     ]
    }
   ],
   "source": [
    "print(type(y_train))\n",
    "\n",
    "print(y_train)"
   ]
  },
  {
   "cell_type": "markdown",
   "metadata": {},
   "source": [
    "# Numpy Array to Dataframe for Labels"
   ]
  },
  {
   "cell_type": "code",
   "execution_count": 81,
   "metadata": {},
   "outputs": [],
   "source": [
    "# y_train_df = y_train.to_frame()\n",
    "\n",
    "y_train_df = p.DataFrame(data=y_train.flatten())"
   ]
  },
  {
   "cell_type": "code",
   "execution_count": 82,
   "metadata": {},
   "outputs": [
    {
     "data": {
      "text/html": [
       "<div>\n",
       "<style scoped>\n",
       "    .dataframe tbody tr th:only-of-type {\n",
       "        vertical-align: middle;\n",
       "    }\n",
       "\n",
       "    .dataframe tbody tr th {\n",
       "        vertical-align: top;\n",
       "    }\n",
       "\n",
       "    .dataframe thead th {\n",
       "        text-align: right;\n",
       "    }\n",
       "</style>\n",
       "<table border=\"1\" class=\"dataframe\">\n",
       "  <thead>\n",
       "    <tr style=\"text-align: right;\">\n",
       "      <th></th>\n",
       "      <th>0</th>\n",
       "    </tr>\n",
       "  </thead>\n",
       "  <tbody>\n",
       "    <tr>\n",
       "      <th>0</th>\n",
       "      <td>Remorseful</td>\n",
       "    </tr>\n",
       "    <tr>\n",
       "      <th>1</th>\n",
       "      <td>Remorseful</td>\n",
       "    </tr>\n",
       "    <tr>\n",
       "      <th>2</th>\n",
       "      <td>Remorseful</td>\n",
       "    </tr>\n",
       "    <tr>\n",
       "      <th>3</th>\n",
       "      <td>Other</td>\n",
       "    </tr>\n",
       "    <tr>\n",
       "      <th>4</th>\n",
       "      <td>Other</td>\n",
       "    </tr>\n",
       "    <tr>\n",
       "      <th>...</th>\n",
       "      <td>...</td>\n",
       "    </tr>\n",
       "    <tr>\n",
       "      <th>335</th>\n",
       "      <td>Remorseful</td>\n",
       "    </tr>\n",
       "    <tr>\n",
       "      <th>336</th>\n",
       "      <td>Other</td>\n",
       "    </tr>\n",
       "    <tr>\n",
       "      <th>337</th>\n",
       "      <td>Resentment</td>\n",
       "    </tr>\n",
       "    <tr>\n",
       "      <th>338</th>\n",
       "      <td>Remorseful</td>\n",
       "    </tr>\n",
       "    <tr>\n",
       "      <th>339</th>\n",
       "      <td>Remorseful</td>\n",
       "    </tr>\n",
       "  </tbody>\n",
       "</table>\n",
       "<p>340 rows × 1 columns</p>\n",
       "</div>"
      ],
      "text/plain": [
       "              0\n",
       "0    Remorseful\n",
       "1    Remorseful\n",
       "2    Remorseful\n",
       "3         Other\n",
       "4         Other\n",
       "..          ...\n",
       "335  Remorseful\n",
       "336       Other\n",
       "337  Resentment\n",
       "338  Remorseful\n",
       "339  Remorseful\n",
       "\n",
       "[340 rows x 1 columns]"
      ]
     },
     "execution_count": 82,
     "metadata": {},
     "output_type": "execute_result"
    }
   ],
   "source": [
    "y_train_df"
   ]
  },
  {
   "cell_type": "markdown",
   "metadata": {},
   "source": [
    "# Adding Labels to the Document Term Matrix"
   ]
  },
  {
   "cell_type": "code",
   "execution_count": 83,
   "metadata": {},
   "outputs": [],
   "source": [
    "# CorpusDF_WordCloud.insert(0, \"Label\", y_train_df)"
   ]
  },
  {
   "cell_type": "code",
   "execution_count": 84,
   "metadata": {},
   "outputs": [
    {
     "name": "stdout",
     "output_type": "stream",
     "text": [
      "     10  14  able  accept  act  actions  address  ago  ah  ahead  ...  write  \\\n",
      "0     0   0     1       0    0        0        0    0   2      0  ...      0   \n",
      "1     0   0     0       1    0        0        0    0   0      0  ...      0   \n",
      "2     0   0     0       0    0        0        0    0   0      0  ...      0   \n",
      "3     0   0     0       0    0        0        0    0   0      0  ...      0   \n",
      "4     0   0     0       0    1        0        0    0   0      0  ...      0   \n",
      "..   ..  ..   ...     ...  ...      ...      ...  ...  ..    ...  ...    ...   \n",
      "335   0   0     0       0    0        0        0    0   0      0  ...      0   \n",
      "336   0   0     0       0    0        0        0    0   0      0  ...      0   \n",
      "337   0   0     0       0    0        0        0    0   0      0  ...      0   \n",
      "338   0   0     0       0    0        0        0    0   0      0  ...      0   \n",
      "339   0   0     0       0    0        0        0    0   0      0  ...      0   \n",
      "\n",
      "     written  wrong  wrote  ya  yall  yeah  years  yes  young  \n",
      "0          0      1      0   0     0     0      0    0      0  \n",
      "1          0      0      0   0     0     0      0    0      0  \n",
      "2          0      0      0   0     0     0      0    0      0  \n",
      "3          0      1      0   0     0     0      0    0      0  \n",
      "4          1      1      0   0     0     0      0    0      0  \n",
      "..       ...    ...    ...  ..   ...   ...    ...  ...    ...  \n",
      "335        0      0      0   0     0     0      0    0      0  \n",
      "336        0      0      0   0     0     0      0    1      0  \n",
      "337        0      0      0   0     0     0      0    0      0  \n",
      "338        0      0      0   0     0     0      0    0      0  \n",
      "339        0      0      0   0     0     0      0    0      0  \n",
      "\n",
      "[340 rows x 629 columns]\n"
     ]
    }
   ],
   "source": [
    "lda_dtm = CorpusDF_WordCloud\n",
    "print(lda_dtm)"
   ]
  },
  {
   "cell_type": "code",
   "execution_count": 85,
   "metadata": {},
   "outputs": [
    {
     "ename": "KeyError",
     "evalue": "\"None of ['Label'] are in the columns\"",
     "output_type": "error",
     "traceback": [
      "\u001b[1;31m---------------------------------------------------------------------------\u001b[0m",
      "\u001b[1;31mKeyError\u001b[0m                                  Traceback (most recent call last)",
      "\u001b[1;32m<ipython-input-85-7bfe1fdc2eb5>\u001b[0m in \u001b[0;36m<module>\u001b[1;34m\u001b[0m\n\u001b[1;32m----> 1\u001b[1;33m \u001b[0mlda_dtm\u001b[0m\u001b[1;33m.\u001b[0m\u001b[0mset_index\u001b[0m\u001b[1;33m(\u001b[0m\u001b[1;34m'Label'\u001b[0m\u001b[1;33m)\u001b[0m\u001b[1;33m\u001b[0m\u001b[1;33m\u001b[0m\u001b[0m\n\u001b[0m",
      "\u001b[1;32m~\\AppData\\Roaming\\Python\\Python37\\site-packages\\pandas\\core\\frame.py\u001b[0m in \u001b[0;36mset_index\u001b[1;34m(self, keys, drop, append, inplace, verify_integrity)\u001b[0m\n\u001b[0;32m   4546\u001b[0m \u001b[1;33m\u001b[0m\u001b[0m\n\u001b[0;32m   4547\u001b[0m         \u001b[1;32mif\u001b[0m \u001b[0mmissing\u001b[0m\u001b[1;33m:\u001b[0m\u001b[1;33m\u001b[0m\u001b[1;33m\u001b[0m\u001b[0m\n\u001b[1;32m-> 4548\u001b[1;33m             \u001b[1;32mraise\u001b[0m \u001b[0mKeyError\u001b[0m\u001b[1;33m(\u001b[0m\u001b[1;34mf\"None of {missing} are in the columns\"\u001b[0m\u001b[1;33m)\u001b[0m\u001b[1;33m\u001b[0m\u001b[1;33m\u001b[0m\u001b[0m\n\u001b[0m\u001b[0;32m   4549\u001b[0m \u001b[1;33m\u001b[0m\u001b[0m\n\u001b[0;32m   4550\u001b[0m         \u001b[1;32mif\u001b[0m \u001b[0minplace\u001b[0m\u001b[1;33m:\u001b[0m\u001b[1;33m\u001b[0m\u001b[1;33m\u001b[0m\u001b[0m\n",
      "\u001b[1;31mKeyError\u001b[0m: \"None of ['Label'] are in the columns\""
     ]
    }
   ],
   "source": [
    "lda_dtm.set_index('Label')"
   ]
  },
  {
   "cell_type": "code",
   "execution_count": null,
   "metadata": {},
   "outputs": [],
   "source": [
    "lda_dtm_transpose = lda_dtm.transpose()"
   ]
  },
  {
   "cell_type": "code",
   "execution_count": 86,
   "metadata": {},
   "outputs": [
    {
     "ename": "NameError",
     "evalue": "name 'lda_dtm_transpose' is not defined",
     "output_type": "error",
     "traceback": [
      "\u001b[1;31m---------------------------------------------------------------------------\u001b[0m",
      "\u001b[1;31mNameError\u001b[0m                                 Traceback (most recent call last)",
      "\u001b[1;32m<ipython-input-86-4e24b1fb208a>\u001b[0m in \u001b[0;36m<module>\u001b[1;34m\u001b[0m\n\u001b[1;32m----> 1\u001b[1;33m \u001b[0mlda_dtm_transpose\u001b[0m\u001b[1;33m\u001b[0m\u001b[1;33m\u001b[0m\u001b[0m\n\u001b[0m",
      "\u001b[1;31mNameError\u001b[0m: name 'lda_dtm_transpose' is not defined"
     ]
    }
   ],
   "source": [
    "lda_dtm_transpose"
   ]
  },
  {
   "cell_type": "code",
   "execution_count": 87,
   "metadata": {},
   "outputs": [
    {
     "ename": "NameError",
     "evalue": "name 'lda_dtm_transpose' is not defined",
     "output_type": "error",
     "traceback": [
      "\u001b[1;31m---------------------------------------------------------------------------\u001b[0m",
      "\u001b[1;31mNameError\u001b[0m                                 Traceback (most recent call last)",
      "\u001b[1;32m<ipython-input-87-a49a43996aed>\u001b[0m in \u001b[0;36m<module>\u001b[1;34m\u001b[0m\n\u001b[1;32m----> 1\u001b[1;33m \u001b[0mlda_dtm_to_tdm\u001b[0m \u001b[1;33m=\u001b[0m \u001b[0mlda_dtm_transpose\u001b[0m\u001b[1;33m.\u001b[0m\u001b[0mrename\u001b[0m\u001b[1;33m(\u001b[0m\u001b[0mcolumns\u001b[0m\u001b[1;33m=\u001b[0m\u001b[0mlda_dtm_transpose\u001b[0m\u001b[1;33m.\u001b[0m\u001b[0miloc\u001b[0m\u001b[1;33m[\u001b[0m\u001b[1;36m0\u001b[0m\u001b[1;33m]\u001b[0m\u001b[1;33m)\u001b[0m\u001b[1;33m\u001b[0m\u001b[1;33m\u001b[0m\u001b[0m\n\u001b[0m",
      "\u001b[1;31mNameError\u001b[0m: name 'lda_dtm_transpose' is not defined"
     ]
    }
   ],
   "source": [
    "lda_dtm_to_tdm = lda_dtm_transpose.rename(columns=lda_dtm_transpose.iloc[0])"
   ]
  },
  {
   "cell_type": "code",
   "execution_count": 88,
   "metadata": {},
   "outputs": [
    {
     "ename": "NameError",
     "evalue": "name 'lda_dtm_to_tdm' is not defined",
     "output_type": "error",
     "traceback": [
      "\u001b[1;31m---------------------------------------------------------------------------\u001b[0m",
      "\u001b[1;31mNameError\u001b[0m                                 Traceback (most recent call last)",
      "\u001b[1;32m<ipython-input-88-99ac3f458a18>\u001b[0m in \u001b[0;36m<module>\u001b[1;34m\u001b[0m\n\u001b[1;32m----> 1\u001b[1;33m \u001b[0mlda_dtm_to_tdm\u001b[0m\u001b[1;33m\u001b[0m\u001b[1;33m\u001b[0m\u001b[0m\n\u001b[0m",
      "\u001b[1;31mNameError\u001b[0m: name 'lda_dtm_to_tdm' is not defined"
     ]
    }
   ],
   "source": [
    "lda_dtm_to_tdm"
   ]
  },
  {
   "cell_type": "markdown",
   "metadata": {},
   "source": [
    "# Creating Labels as Headers"
   ]
  },
  {
   "cell_type": "code",
   "execution_count": 89,
   "metadata": {},
   "outputs": [
    {
     "ename": "NameError",
     "evalue": "name 'lda_dtm_to_tdm' is not defined",
     "output_type": "error",
     "traceback": [
      "\u001b[1;31m---------------------------------------------------------------------------\u001b[0m",
      "\u001b[1;31mNameError\u001b[0m                                 Traceback (most recent call last)",
      "\u001b[1;32m<ipython-input-89-ef525bbee165>\u001b[0m in \u001b[0;36m<module>\u001b[1;34m\u001b[0m\n\u001b[1;32m----> 1\u001b[1;33m \u001b[0mlda_dtm_to_tdm\u001b[0m \u001b[1;33m=\u001b[0m \u001b[0mlda_dtm_to_tdm\u001b[0m\u001b[1;33m.\u001b[0m\u001b[0miloc\u001b[0m\u001b[1;33m[\u001b[0m\u001b[1;36m1\u001b[0m\u001b[1;33m:\u001b[0m\u001b[1;33m,\u001b[0m \u001b[1;33m:\u001b[0m\u001b[1;33m]\u001b[0m\u001b[1;33m\u001b[0m\u001b[1;33m\u001b[0m\u001b[0m\n\u001b[0m",
      "\u001b[1;31mNameError\u001b[0m: name 'lda_dtm_to_tdm' is not defined"
     ]
    }
   ],
   "source": [
    "lda_dtm_to_tdm = lda_dtm_to_tdm.iloc[1:, :]"
   ]
  },
  {
   "cell_type": "code",
   "execution_count": 90,
   "metadata": {},
   "outputs": [
    {
     "ename": "NameError",
     "evalue": "name 'lda_dtm_to_tdm' is not defined",
     "output_type": "error",
     "traceback": [
      "\u001b[1;31m---------------------------------------------------------------------------\u001b[0m",
      "\u001b[1;31mNameError\u001b[0m                                 Traceback (most recent call last)",
      "\u001b[1;32m<ipython-input-90-99ac3f458a18>\u001b[0m in \u001b[0;36m<module>\u001b[1;34m\u001b[0m\n\u001b[1;32m----> 1\u001b[1;33m \u001b[0mlda_dtm_to_tdm\u001b[0m\u001b[1;33m\u001b[0m\u001b[1;33m\u001b[0m\u001b[0m\n\u001b[0m",
      "\u001b[1;31mNameError\u001b[0m: name 'lda_dtm_to_tdm' is not defined"
     ]
    }
   ],
   "source": [
    "lda_dtm_to_tdm"
   ]
  },
  {
   "cell_type": "code",
   "execution_count": 91,
   "metadata": {},
   "outputs": [
    {
     "ename": "NameError",
     "evalue": "name 'lda_dtm_to_tdm' is not defined",
     "output_type": "error",
     "traceback": [
      "\u001b[1;31m---------------------------------------------------------------------------\u001b[0m",
      "\u001b[1;31mNameError\u001b[0m                                 Traceback (most recent call last)",
      "\u001b[1;32m<ipython-input-91-4e25f5e201ba>\u001b[0m in \u001b[0;36m<module>\u001b[1;34m\u001b[0m\n\u001b[0;32m      1\u001b[0m \u001b[1;31m# Convert to gensim format\u001b[0m\u001b[1;33m\u001b[0m\u001b[1;33m\u001b[0m\u001b[1;33m\u001b[0m\u001b[0m\n\u001b[1;32m----> 2\u001b[1;33m \u001b[0msparse_counts\u001b[0m \u001b[1;33m=\u001b[0m \u001b[0mscipy\u001b[0m\u001b[1;33m.\u001b[0m\u001b[0msparse\u001b[0m\u001b[1;33m.\u001b[0m\u001b[0mcsr_matrix\u001b[0m\u001b[1;33m(\u001b[0m\u001b[0mlda_dtm_to_tdm\u001b[0m\u001b[1;33m)\u001b[0m\u001b[1;33m\u001b[0m\u001b[1;33m\u001b[0m\u001b[0m\n\u001b[0m\u001b[0;32m      3\u001b[0m \u001b[1;33m\u001b[0m\u001b[0m\n\u001b[0;32m      4\u001b[0m \u001b[0mcorpus2\u001b[0m \u001b[1;33m=\u001b[0m \u001b[0mmatutils\u001b[0m\u001b[1;33m.\u001b[0m\u001b[0mSparse2Corpus\u001b[0m\u001b[1;33m(\u001b[0m\u001b[0msparse_counts\u001b[0m\u001b[1;33m)\u001b[0m\u001b[1;33m\u001b[0m\u001b[1;33m\u001b[0m\u001b[0m\n",
      "\u001b[1;31mNameError\u001b[0m: name 'lda_dtm_to_tdm' is not defined"
     ]
    }
   ],
   "source": [
    "# Convert to gensim format\n",
    "sparse_counts = scipy.sparse.csr_matrix(lda_dtm_to_tdm)\n",
    "\n",
    "corpus2 = matutils.Sparse2Corpus(sparse_counts)"
   ]
  },
  {
   "cell_type": "code",
   "execution_count": 92,
   "metadata": {},
   "outputs": [
    {
     "ename": "NameError",
     "evalue": "name 'lda_dtm_to_tdm' is not defined",
     "output_type": "error",
     "traceback": [
      "\u001b[1;31m---------------------------------------------------------------------------\u001b[0m",
      "\u001b[1;31mNameError\u001b[0m                                 Traceback (most recent call last)",
      "\u001b[1;32m<ipython-input-92-3131bce10236>\u001b[0m in \u001b[0;36m<module>\u001b[1;34m\u001b[0m\n\u001b[0;32m      1\u001b[0m \u001b[1;31m# Use this for the error above\u001b[0m\u001b[1;33m\u001b[0m\u001b[1;33m\u001b[0m\u001b[1;33m\u001b[0m\u001b[0m\n\u001b[1;32m----> 2\u001b[1;33m \u001b[0msparse_counts\u001b[0m \u001b[1;33m=\u001b[0m \u001b[0mscipy\u001b[0m\u001b[1;33m.\u001b[0m\u001b[0msparse\u001b[0m\u001b[1;33m.\u001b[0m\u001b[0mcsr_matrix\u001b[0m\u001b[1;33m(\u001b[0m\u001b[0mlda_dtm_to_tdm\u001b[0m\u001b[1;33m.\u001b[0m\u001b[0mastype\u001b[0m\u001b[1;33m(\u001b[0m\u001b[0mnp\u001b[0m\u001b[1;33m.\u001b[0m\u001b[0mfloat\u001b[0m\u001b[1;33m)\u001b[0m\u001b[1;33m)\u001b[0m\u001b[1;33m\u001b[0m\u001b[1;33m\u001b[0m\u001b[0m\n\u001b[0m\u001b[0;32m      3\u001b[0m \u001b[1;33m\u001b[0m\u001b[0m\n\u001b[0;32m      4\u001b[0m \u001b[0mcorpus2\u001b[0m \u001b[1;33m=\u001b[0m \u001b[0mmatutils\u001b[0m\u001b[1;33m.\u001b[0m\u001b[0mSparse2Corpus\u001b[0m\u001b[1;33m(\u001b[0m\u001b[0msparse_counts\u001b[0m\u001b[1;33m)\u001b[0m\u001b[1;33m\u001b[0m\u001b[1;33m\u001b[0m\u001b[0m\n",
      "\u001b[1;31mNameError\u001b[0m: name 'lda_dtm_to_tdm' is not defined"
     ]
    }
   ],
   "source": [
    "# Use this for the error above\n",
    "sparse_counts = scipy.sparse.csr_matrix(lda_dtm_to_tdm.astype(np.float))\n",
    "\n",
    "corpus2 = matutils.Sparse2Corpus(sparse_counts)"
   ]
  },
  {
   "cell_type": "code",
   "execution_count": 93,
   "metadata": {},
   "outputs": [],
   "source": [
    "# gensim requires a dictionary of vocabulary items\n",
    "\n",
    "id2word = dict((v, k) for k, v in unigram_count_vectorizer.vocabulary_.items())\n"
   ]
  },
  {
   "cell_type": "code",
   "execution_count": 94,
   "metadata": {},
   "outputs": [
    {
     "ename": "NameError",
     "evalue": "name 'corpus2' is not defined",
     "output_type": "error",
     "traceback": [
      "\u001b[1;31m---------------------------------------------------------------------------\u001b[0m",
      "\u001b[1;31mNameError\u001b[0m                                 Traceback (most recent call last)",
      "\u001b[1;32m<ipython-input-94-a42b28c21f6c>\u001b[0m in \u001b[0;36m<module>\u001b[1;34m\u001b[0m\n\u001b[1;32m----> 1\u001b[1;33m \u001b[0mlda_model\u001b[0m \u001b[1;33m=\u001b[0m \u001b[0mmodels\u001b[0m\u001b[1;33m.\u001b[0m\u001b[0mLdaModel\u001b[0m\u001b[1;33m(\u001b[0m\u001b[0mcorpus\u001b[0m\u001b[1;33m=\u001b[0m\u001b[0mcorpus2\u001b[0m\u001b[1;33m,\u001b[0m \u001b[0mid2word\u001b[0m\u001b[1;33m=\u001b[0m\u001b[0mid2word\u001b[0m\u001b[1;33m,\u001b[0m \u001b[0mnum_topics\u001b[0m\u001b[1;33m=\u001b[0m\u001b[1;36m3\u001b[0m\u001b[1;33m,\u001b[0m \u001b[0mpasses\u001b[0m\u001b[1;33m=\u001b[0m\u001b[1;36m40\u001b[0m\u001b[1;33m)\u001b[0m\u001b[1;33m\u001b[0m\u001b[1;33m\u001b[0m\u001b[0m\n\u001b[0m\u001b[0;32m      2\u001b[0m \u001b[1;31m# lda_model = models.LdaModel(corpus=corpus2, num_topics=3, passes=10)\u001b[0m\u001b[1;33m\u001b[0m\u001b[1;33m\u001b[0m\u001b[1;33m\u001b[0m\u001b[0m\n\u001b[0;32m      3\u001b[0m \u001b[1;33m\u001b[0m\u001b[0m\n\u001b[0;32m      4\u001b[0m \u001b[0mlda_model\u001b[0m\u001b[1;33m.\u001b[0m\u001b[0mprint_topics\u001b[0m\u001b[1;33m(\u001b[0m\u001b[1;33m)\u001b[0m\u001b[1;33m\u001b[0m\u001b[1;33m\u001b[0m\u001b[0m\n",
      "\u001b[1;31mNameError\u001b[0m: name 'corpus2' is not defined"
     ]
    }
   ],
   "source": [
    "lda_model = models.LdaModel(corpus=corpus2, id2word=id2word, num_topics=3, passes=40)\n",
    "# lda_model = models.LdaModel(corpus=corpus2, num_topics=3, passes=10)\n",
    "\n",
    "lda_model.print_topics()"
   ]
  },
  {
   "cell_type": "markdown",
   "metadata": {},
   "source": [
    "# Associative Rule Mining"
   ]
  },
  {
   "cell_type": "code",
   "execution_count": 95,
   "metadata": {},
   "outputs": [],
   "source": [
    "# conda install -c conda-forge mlxtend"
   ]
  },
  {
   "cell_type": "code",
   "execution_count": 96,
   "metadata": {},
   "outputs": [],
   "source": [
    "# conda install mlxtend\n",
    "\n",
    "# !pip install mlxtend --user"
   ]
  },
  {
   "cell_type": "code",
   "execution_count": 97,
   "metadata": {},
   "outputs": [
    {
     "data": {
      "text/html": [
       "<div>\n",
       "<style scoped>\n",
       "    .dataframe tbody tr th:only-of-type {\n",
       "        vertical-align: middle;\n",
       "    }\n",
       "\n",
       "    .dataframe tbody tr th {\n",
       "        vertical-align: top;\n",
       "    }\n",
       "\n",
       "    .dataframe thead th {\n",
       "        text-align: right;\n",
       "    }\n",
       "</style>\n",
       "<table border=\"1\" class=\"dataframe\">\n",
       "  <thead>\n",
       "    <tr style=\"text-align: right;\">\n",
       "      <th></th>\n",
       "      <th>10</th>\n",
       "      <th>14</th>\n",
       "      <th>able</th>\n",
       "      <th>accept</th>\n",
       "      <th>act</th>\n",
       "      <th>actions</th>\n",
       "      <th>address</th>\n",
       "      <th>ago</th>\n",
       "      <th>ah</th>\n",
       "      <th>ahead</th>\n",
       "      <th>...</th>\n",
       "      <th>write</th>\n",
       "      <th>written</th>\n",
       "      <th>wrong</th>\n",
       "      <th>wrote</th>\n",
       "      <th>ya</th>\n",
       "      <th>yall</th>\n",
       "      <th>yeah</th>\n",
       "      <th>years</th>\n",
       "      <th>yes</th>\n",
       "      <th>young</th>\n",
       "    </tr>\n",
       "  </thead>\n",
       "  <tbody>\n",
       "    <tr>\n",
       "      <th>0</th>\n",
       "      <td>0</td>\n",
       "      <td>0</td>\n",
       "      <td>1</td>\n",
       "      <td>0</td>\n",
       "      <td>0</td>\n",
       "      <td>0</td>\n",
       "      <td>0</td>\n",
       "      <td>0</td>\n",
       "      <td>2</td>\n",
       "      <td>0</td>\n",
       "      <td>...</td>\n",
       "      <td>0</td>\n",
       "      <td>0</td>\n",
       "      <td>1</td>\n",
       "      <td>0</td>\n",
       "      <td>0</td>\n",
       "      <td>0</td>\n",
       "      <td>0</td>\n",
       "      <td>0</td>\n",
       "      <td>0</td>\n",
       "      <td>0</td>\n",
       "    </tr>\n",
       "    <tr>\n",
       "      <th>1</th>\n",
       "      <td>0</td>\n",
       "      <td>0</td>\n",
       "      <td>0</td>\n",
       "      <td>1</td>\n",
       "      <td>0</td>\n",
       "      <td>0</td>\n",
       "      <td>0</td>\n",
       "      <td>0</td>\n",
       "      <td>0</td>\n",
       "      <td>0</td>\n",
       "      <td>...</td>\n",
       "      <td>0</td>\n",
       "      <td>0</td>\n",
       "      <td>0</td>\n",
       "      <td>0</td>\n",
       "      <td>0</td>\n",
       "      <td>0</td>\n",
       "      <td>0</td>\n",
       "      <td>0</td>\n",
       "      <td>0</td>\n",
       "      <td>0</td>\n",
       "    </tr>\n",
       "    <tr>\n",
       "      <th>2</th>\n",
       "      <td>0</td>\n",
       "      <td>0</td>\n",
       "      <td>0</td>\n",
       "      <td>0</td>\n",
       "      <td>0</td>\n",
       "      <td>0</td>\n",
       "      <td>0</td>\n",
       "      <td>0</td>\n",
       "      <td>0</td>\n",
       "      <td>0</td>\n",
       "      <td>...</td>\n",
       "      <td>0</td>\n",
       "      <td>0</td>\n",
       "      <td>0</td>\n",
       "      <td>0</td>\n",
       "      <td>0</td>\n",
       "      <td>0</td>\n",
       "      <td>0</td>\n",
       "      <td>0</td>\n",
       "      <td>0</td>\n",
       "      <td>0</td>\n",
       "    </tr>\n",
       "    <tr>\n",
       "      <th>3</th>\n",
       "      <td>0</td>\n",
       "      <td>0</td>\n",
       "      <td>0</td>\n",
       "      <td>0</td>\n",
       "      <td>0</td>\n",
       "      <td>0</td>\n",
       "      <td>0</td>\n",
       "      <td>0</td>\n",
       "      <td>0</td>\n",
       "      <td>0</td>\n",
       "      <td>...</td>\n",
       "      <td>0</td>\n",
       "      <td>0</td>\n",
       "      <td>1</td>\n",
       "      <td>0</td>\n",
       "      <td>0</td>\n",
       "      <td>0</td>\n",
       "      <td>0</td>\n",
       "      <td>0</td>\n",
       "      <td>0</td>\n",
       "      <td>0</td>\n",
       "    </tr>\n",
       "    <tr>\n",
       "      <th>4</th>\n",
       "      <td>0</td>\n",
       "      <td>0</td>\n",
       "      <td>0</td>\n",
       "      <td>0</td>\n",
       "      <td>1</td>\n",
       "      <td>0</td>\n",
       "      <td>0</td>\n",
       "      <td>0</td>\n",
       "      <td>0</td>\n",
       "      <td>0</td>\n",
       "      <td>...</td>\n",
       "      <td>0</td>\n",
       "      <td>1</td>\n",
       "      <td>1</td>\n",
       "      <td>0</td>\n",
       "      <td>0</td>\n",
       "      <td>0</td>\n",
       "      <td>0</td>\n",
       "      <td>0</td>\n",
       "      <td>0</td>\n",
       "      <td>0</td>\n",
       "    </tr>\n",
       "  </tbody>\n",
       "</table>\n",
       "<p>5 rows × 629 columns</p>\n",
       "</div>"
      ],
      "text/plain": [
       "   10  14  able  accept  act  actions  address  ago  ah  ahead  ...  write  \\\n",
       "0   0   0     1       0    0        0        0    0   2      0  ...      0   \n",
       "1   0   0     0       1    0        0        0    0   0      0  ...      0   \n",
       "2   0   0     0       0    0        0        0    0   0      0  ...      0   \n",
       "3   0   0     0       0    0        0        0    0   0      0  ...      0   \n",
       "4   0   0     0       0    1        0        0    0   0      0  ...      0   \n",
       "\n",
       "   written  wrong  wrote  ya  yall  yeah  years  yes  young  \n",
       "0        0      1      0   0     0     0      0    0      0  \n",
       "1        0      0      0   0     0     0      0    0      0  \n",
       "2        0      0      0   0     0     0      0    0      0  \n",
       "3        0      1      0   0     0     0      0    0      0  \n",
       "4        1      1      0   0     0     0      0    0      0  \n",
       "\n",
       "[5 rows x 629 columns]"
      ]
     },
     "execution_count": 97,
     "metadata": {},
     "output_type": "execute_result"
    }
   ],
   "source": [
    "# conda install mlxtend\n",
    "\n",
    "from mlxtend.frequent_patterns import apriori\n",
    "from mlxtend.frequent_patterns import association_rules\n",
    "\n",
    "\n",
    "X_train_vec_WordCloud = unigram_count_vectorizer.fit_transform(X_train)\n",
    "\n",
    "apriori_df =p.DataFrame(X_train_vec_WordCloud.toarray(),columns=ColumnNamesVec)\n",
    "\n",
    "apriori_df.head()\n",
    "\n"
   ]
  },
  {
   "cell_type": "markdown",
   "metadata": {},
   "source": [
    "# Associative Rule Mining Needs to be 1 or 0 and not a count"
   ]
  },
  {
   "cell_type": "code",
   "execution_count": 98,
   "metadata": {},
   "outputs": [
    {
     "name": "stdout",
     "output_type": "stream",
     "text": [
      "     10  14  able  accept  act  actions  address  ago  ah  ahead  ...  write  \\\n",
      "0     0   0     1       0    0        0        0    0   1      0  ...      0   \n",
      "1     0   0     0       1    0        0        0    0   0      0  ...      0   \n",
      "2     0   0     0       0    0        0        0    0   0      0  ...      0   \n",
      "3     0   0     0       0    0        0        0    0   0      0  ...      0   \n",
      "4     0   0     0       0    1        0        0    0   0      0  ...      0   \n",
      "..   ..  ..   ...     ...  ...      ...      ...  ...  ..    ...  ...    ...   \n",
      "335   0   0     0       0    0        0        0    0   0      0  ...      0   \n",
      "336   0   0     0       0    0        0        0    0   0      0  ...      0   \n",
      "337   0   0     0       0    0        0        0    0   0      0  ...      0   \n",
      "338   0   0     0       0    0        0        0    0   0      0  ...      0   \n",
      "339   0   0     0       0    0        0        0    0   0      0  ...      0   \n",
      "\n",
      "     written  wrong  wrote  ya  yall  yeah  years  yes  young  \n",
      "0          0      1      0   0     0     0      0    0      0  \n",
      "1          0      0      0   0     0     0      0    0      0  \n",
      "2          0      0      0   0     0     0      0    0      0  \n",
      "3          0      1      0   0     0     0      0    0      0  \n",
      "4          1      1      0   0     0     0      0    0      0  \n",
      "..       ...    ...    ...  ..   ...   ...    ...  ...    ...  \n",
      "335        0      0      0   0     0     0      0    0      0  \n",
      "336        0      0      0   0     0     0      0    1      0  \n",
      "337        0      0      0   0     0     0      0    0      0  \n",
      "338        0      0      0   0     0     0      0    0      0  \n",
      "339        0      0      0   0     0     0      0    0      0  \n",
      "\n",
      "[340 rows x 629 columns]\n"
     ]
    }
   ],
   "source": [
    "def encode_unit(x):\n",
    "    if x <= 0:\n",
    "        return 0\n",
    "    if x >= 1:\n",
    "        return 1\n",
    "    \n",
    "apriori_df = apriori_df.applymap(encode_unit)\n",
    "\n",
    "print(apriori_df)"
   ]
  },
  {
   "cell_type": "code",
   "execution_count": 99,
   "metadata": {},
   "outputs": [
    {
     "data": {
      "text/html": [
       "<div>\n",
       "<style scoped>\n",
       "    .dataframe tbody tr th:only-of-type {\n",
       "        vertical-align: middle;\n",
       "    }\n",
       "\n",
       "    .dataframe tbody tr th {\n",
       "        vertical-align: top;\n",
       "    }\n",
       "\n",
       "    .dataframe thead th {\n",
       "        text-align: right;\n",
       "    }\n",
       "</style>\n",
       "<table border=\"1\" class=\"dataframe\">\n",
       "  <thead>\n",
       "    <tr style=\"text-align: right;\">\n",
       "      <th></th>\n",
       "      <th>antecedents</th>\n",
       "      <th>consequents</th>\n",
       "      <th>antecedent support</th>\n",
       "      <th>consequent support</th>\n",
       "      <th>support</th>\n",
       "      <th>confidence</th>\n",
       "      <th>lift</th>\n",
       "      <th>leverage</th>\n",
       "      <th>conviction</th>\n",
       "    </tr>\n",
       "  </thead>\n",
       "  <tbody>\n",
       "    <tr>\n",
       "      <th>0</th>\n",
       "      <td>(family)</td>\n",
       "      <td>(ask)</td>\n",
       "      <td>0.452941</td>\n",
       "      <td>0.114706</td>\n",
       "      <td>0.073529</td>\n",
       "      <td>0.162338</td>\n",
       "      <td>1.415251</td>\n",
       "      <td>0.021574</td>\n",
       "      <td>1.056863</td>\n",
       "    </tr>\n",
       "    <tr>\n",
       "      <th>1</th>\n",
       "      <td>(ask)</td>\n",
       "      <td>(family)</td>\n",
       "      <td>0.114706</td>\n",
       "      <td>0.452941</td>\n",
       "      <td>0.073529</td>\n",
       "      <td>0.641026</td>\n",
       "      <td>1.415251</td>\n",
       "      <td>0.021574</td>\n",
       "      <td>1.523950</td>\n",
       "    </tr>\n",
       "    <tr>\n",
       "      <th>2</th>\n",
       "      <td>(love)</td>\n",
       "      <td>(ask)</td>\n",
       "      <td>0.629412</td>\n",
       "      <td>0.114706</td>\n",
       "      <td>0.088235</td>\n",
       "      <td>0.140187</td>\n",
       "      <td>1.222142</td>\n",
       "      <td>0.016038</td>\n",
       "      <td>1.029636</td>\n",
       "    </tr>\n",
       "    <tr>\n",
       "      <th>3</th>\n",
       "      <td>(ask)</td>\n",
       "      <td>(love)</td>\n",
       "      <td>0.114706</td>\n",
       "      <td>0.629412</td>\n",
       "      <td>0.088235</td>\n",
       "      <td>0.769231</td>\n",
       "      <td>1.222142</td>\n",
       "      <td>0.016038</td>\n",
       "      <td>1.605882</td>\n",
       "    </tr>\n",
       "    <tr>\n",
       "      <th>4</th>\n",
       "      <td>(love)</td>\n",
       "      <td>(care)</td>\n",
       "      <td>0.629412</td>\n",
       "      <td>0.100000</td>\n",
       "      <td>0.088235</td>\n",
       "      <td>0.140187</td>\n",
       "      <td>1.401869</td>\n",
       "      <td>0.025294</td>\n",
       "      <td>1.046739</td>\n",
       "    </tr>\n",
       "  </tbody>\n",
       "</table>\n",
       "</div>"
      ],
      "text/plain": [
       "  antecedents consequents  antecedent support  consequent support   support  \\\n",
       "0    (family)       (ask)            0.452941            0.114706  0.073529   \n",
       "1       (ask)    (family)            0.114706            0.452941  0.073529   \n",
       "2      (love)       (ask)            0.629412            0.114706  0.088235   \n",
       "3       (ask)      (love)            0.114706            0.629412  0.088235   \n",
       "4      (love)      (care)            0.629412            0.100000  0.088235   \n",
       "\n",
       "   confidence      lift  leverage  conviction  \n",
       "0    0.162338  1.415251  0.021574    1.056863  \n",
       "1    0.641026  1.415251  0.021574    1.523950  \n",
       "2    0.140187  1.222142  0.016038    1.029636  \n",
       "3    0.769231  1.222142  0.016038    1.605882  \n",
       "4    0.140187  1.401869  0.025294    1.046739  "
      ]
     },
     "execution_count": 99,
     "metadata": {},
     "output_type": "execute_result"
    }
   ],
   "source": [
    "freq_itemsets = apriori(apriori_df, min_support = 0.07, use_colnames = True)\n",
    "\n",
    "\n",
    "rules = association_rules(freq_itemsets, metric = \"lift\", min_threshold = 1)\n",
    "\n",
    "rules.head()\n"
   ]
  },
  {
   "cell_type": "code",
   "execution_count": 100,
   "metadata": {},
   "outputs": [
    {
     "data": {
      "text/html": [
       "<div>\n",
       "<style scoped>\n",
       "    .dataframe tbody tr th:only-of-type {\n",
       "        vertical-align: middle;\n",
       "    }\n",
       "\n",
       "    .dataframe tbody tr th {\n",
       "        vertical-align: top;\n",
       "    }\n",
       "\n",
       "    .dataframe thead th {\n",
       "        text-align: right;\n",
       "    }\n",
       "</style>\n",
       "<table border=\"1\" class=\"dataframe\">\n",
       "  <thead>\n",
       "    <tr style=\"text-align: right;\">\n",
       "      <th></th>\n",
       "      <th>antecedents</th>\n",
       "      <th>consequents</th>\n",
       "      <th>antecedent support</th>\n",
       "      <th>consequent support</th>\n",
       "      <th>support</th>\n",
       "      <th>confidence</th>\n",
       "      <th>lift</th>\n",
       "      <th>leverage</th>\n",
       "      <th>conviction</th>\n",
       "    </tr>\n",
       "  </thead>\n",
       "  <tbody>\n",
       "    <tr>\n",
       "      <th>388</th>\n",
       "      <td>(sorry, pain)</td>\n",
       "      <td>(caused)</td>\n",
       "      <td>0.102941</td>\n",
       "      <td>0.102941</td>\n",
       "      <td>0.070588</td>\n",
       "      <td>0.685714</td>\n",
       "      <td>6.661224</td>\n",
       "      <td>0.059991</td>\n",
       "      <td>2.854278</td>\n",
       "    </tr>\n",
       "    <tr>\n",
       "      <th>389</th>\n",
       "      <td>(caused)</td>\n",
       "      <td>(sorry, pain)</td>\n",
       "      <td>0.102941</td>\n",
       "      <td>0.102941</td>\n",
       "      <td>0.070588</td>\n",
       "      <td>0.685714</td>\n",
       "      <td>6.661224</td>\n",
       "      <td>0.059991</td>\n",
       "      <td>2.854278</td>\n",
       "    </tr>\n",
       "    <tr>\n",
       "      <th>383</th>\n",
       "      <td>(caused)</td>\n",
       "      <td>(family, pain)</td>\n",
       "      <td>0.102941</td>\n",
       "      <td>0.111765</td>\n",
       "      <td>0.073529</td>\n",
       "      <td>0.714286</td>\n",
       "      <td>6.390977</td>\n",
       "      <td>0.062024</td>\n",
       "      <td>3.108824</td>\n",
       "    </tr>\n",
       "    <tr>\n",
       "      <th>382</th>\n",
       "      <td>(family, pain)</td>\n",
       "      <td>(caused)</td>\n",
       "      <td>0.111765</td>\n",
       "      <td>0.102941</td>\n",
       "      <td>0.073529</td>\n",
       "      <td>0.657895</td>\n",
       "      <td>6.390977</td>\n",
       "      <td>0.062024</td>\n",
       "      <td>2.622172</td>\n",
       "    </tr>\n",
       "    <tr>\n",
       "      <th>361</th>\n",
       "      <td>(stay)</td>\n",
       "      <td>(strong)</td>\n",
       "      <td>0.094118</td>\n",
       "      <td>0.120588</td>\n",
       "      <td>0.070588</td>\n",
       "      <td>0.750000</td>\n",
       "      <td>6.219512</td>\n",
       "      <td>0.059239</td>\n",
       "      <td>3.517647</td>\n",
       "    </tr>\n",
       "    <tr>\n",
       "      <th>...</th>\n",
       "      <td>...</td>\n",
       "      <td>...</td>\n",
       "      <td>...</td>\n",
       "      <td>...</td>\n",
       "      <td>...</td>\n",
       "      <td>...</td>\n",
       "      <td>...</td>\n",
       "      <td>...</td>\n",
       "      <td>...</td>\n",
       "    </tr>\n",
       "    <tr>\n",
       "      <th>93</th>\n",
       "      <td>(ready)</td>\n",
       "      <td>(family)</td>\n",
       "      <td>0.173529</td>\n",
       "      <td>0.452941</td>\n",
       "      <td>0.079412</td>\n",
       "      <td>0.457627</td>\n",
       "      <td>1.010346</td>\n",
       "      <td>0.000813</td>\n",
       "      <td>1.008640</td>\n",
       "    </tr>\n",
       "    <tr>\n",
       "      <th>242</th>\n",
       "      <td>(tell)</td>\n",
       "      <td>(know)</td>\n",
       "      <td>0.211765</td>\n",
       "      <td>0.358824</td>\n",
       "      <td>0.076471</td>\n",
       "      <td>0.361111</td>\n",
       "      <td>1.006375</td>\n",
       "      <td>0.000484</td>\n",
       "      <td>1.003581</td>\n",
       "    </tr>\n",
       "    <tr>\n",
       "      <th>243</th>\n",
       "      <td>(know)</td>\n",
       "      <td>(tell)</td>\n",
       "      <td>0.358824</td>\n",
       "      <td>0.211765</td>\n",
       "      <td>0.076471</td>\n",
       "      <td>0.213115</td>\n",
       "      <td>1.006375</td>\n",
       "      <td>0.000484</td>\n",
       "      <td>1.001716</td>\n",
       "    </tr>\n",
       "    <tr>\n",
       "      <th>316</th>\n",
       "      <td>(love)</td>\n",
       "      <td>(say)</td>\n",
       "      <td>0.629412</td>\n",
       "      <td>0.270588</td>\n",
       "      <td>0.170588</td>\n",
       "      <td>0.271028</td>\n",
       "      <td>1.001625</td>\n",
       "      <td>0.000277</td>\n",
       "      <td>1.000603</td>\n",
       "    </tr>\n",
       "    <tr>\n",
       "      <th>317</th>\n",
       "      <td>(say)</td>\n",
       "      <td>(love)</td>\n",
       "      <td>0.270588</td>\n",
       "      <td>0.629412</td>\n",
       "      <td>0.170588</td>\n",
       "      <td>0.630435</td>\n",
       "      <td>1.001625</td>\n",
       "      <td>0.000277</td>\n",
       "      <td>1.002768</td>\n",
       "    </tr>\n",
       "  </tbody>\n",
       "</table>\n",
       "<p>1246 rows × 9 columns</p>\n",
       "</div>"
      ],
      "text/plain": [
       "        antecedents     consequents  antecedent support  consequent support  \\\n",
       "388   (sorry, pain)        (caused)            0.102941            0.102941   \n",
       "389        (caused)   (sorry, pain)            0.102941            0.102941   \n",
       "383        (caused)  (family, pain)            0.102941            0.111765   \n",
       "382  (family, pain)        (caused)            0.111765            0.102941   \n",
       "361          (stay)        (strong)            0.094118            0.120588   \n",
       "..              ...             ...                 ...                 ...   \n",
       "93          (ready)        (family)            0.173529            0.452941   \n",
       "242          (tell)          (know)            0.211765            0.358824   \n",
       "243          (know)          (tell)            0.358824            0.211765   \n",
       "316          (love)           (say)            0.629412            0.270588   \n",
       "317           (say)          (love)            0.270588            0.629412   \n",
       "\n",
       "      support  confidence      lift  leverage  conviction  \n",
       "388  0.070588    0.685714  6.661224  0.059991    2.854278  \n",
       "389  0.070588    0.685714  6.661224  0.059991    2.854278  \n",
       "383  0.073529    0.714286  6.390977  0.062024    3.108824  \n",
       "382  0.073529    0.657895  6.390977  0.062024    2.622172  \n",
       "361  0.070588    0.750000  6.219512  0.059239    3.517647  \n",
       "..        ...         ...       ...       ...         ...  \n",
       "93   0.079412    0.457627  1.010346  0.000813    1.008640  \n",
       "242  0.076471    0.361111  1.006375  0.000484    1.003581  \n",
       "243  0.076471    0.213115  1.006375  0.000484    1.001716  \n",
       "316  0.170588    0.271028  1.001625  0.000277    1.000603  \n",
       "317  0.170588    0.630435  1.001625  0.000277    1.002768  \n",
       "\n",
       "[1246 rows x 9 columns]"
      ]
     },
     "execution_count": 100,
     "metadata": {},
     "output_type": "execute_result"
    }
   ],
   "source": [
    "rules.sort_values(by='lift', ascending=False)"
   ]
  },
  {
   "cell_type": "code",
   "execution_count": 101,
   "metadata": {},
   "outputs": [
    {
     "data": {
      "text/html": [
       "<div>\n",
       "<style scoped>\n",
       "    .dataframe tbody tr th:only-of-type {\n",
       "        vertical-align: middle;\n",
       "    }\n",
       "\n",
       "    .dataframe tbody tr th {\n",
       "        vertical-align: top;\n",
       "    }\n",
       "\n",
       "    .dataframe thead th {\n",
       "        text-align: right;\n",
       "    }\n",
       "</style>\n",
       "<table border=\"1\" class=\"dataframe\">\n",
       "  <thead>\n",
       "    <tr style=\"text-align: right;\">\n",
       "      <th></th>\n",
       "      <th>support</th>\n",
       "      <th>itemsets</th>\n",
       "      <th>length</th>\n",
       "    </tr>\n",
       "  </thead>\n",
       "  <tbody>\n",
       "    <tr>\n",
       "      <th>390</th>\n",
       "      <td>0.070588</td>\n",
       "      <td>(know, love, ll, ya)</td>\n",
       "      <td>4</td>\n",
       "    </tr>\n",
       "    <tr>\n",
       "      <th>385</th>\n",
       "      <td>0.094118</td>\n",
       "      <td>(know, family, want, love)</td>\n",
       "      <td>4</td>\n",
       "    </tr>\n",
       "    <tr>\n",
       "      <th>380</th>\n",
       "      <td>0.070588</td>\n",
       "      <td>(god, know, family, love)</td>\n",
       "      <td>4</td>\n",
       "    </tr>\n",
       "    <tr>\n",
       "      <th>381</th>\n",
       "      <td>0.073529</td>\n",
       "      <td>(love, family, hope, sorry)</td>\n",
       "      <td>4</td>\n",
       "    </tr>\n",
       "    <tr>\n",
       "      <th>382</th>\n",
       "      <td>0.073529</td>\n",
       "      <td>(just, family, want, love)</td>\n",
       "      <td>4</td>\n",
       "    </tr>\n",
       "    <tr>\n",
       "      <th>...</th>\n",
       "      <td>...</td>\n",
       "      <td>...</td>\n",
       "      <td>...</td>\n",
       "    </tr>\n",
       "    <tr>\n",
       "      <th>38</th>\n",
       "      <td>0.097059</td>\n",
       "      <td>(make)</td>\n",
       "      <td>1</td>\n",
       "    </tr>\n",
       "    <tr>\n",
       "      <th>37</th>\n",
       "      <td>0.079412</td>\n",
       "      <td>(loved)</td>\n",
       "      <td>1</td>\n",
       "    </tr>\n",
       "    <tr>\n",
       "      <th>36</th>\n",
       "      <td>0.629412</td>\n",
       "      <td>(love)</td>\n",
       "      <td>1</td>\n",
       "    </tr>\n",
       "    <tr>\n",
       "      <th>35</th>\n",
       "      <td>0.070588</td>\n",
       "      <td>(lot)</td>\n",
       "      <td>1</td>\n",
       "    </tr>\n",
       "    <tr>\n",
       "      <th>0</th>\n",
       "      <td>0.073529</td>\n",
       "      <td>(apologize)</td>\n",
       "      <td>1</td>\n",
       "    </tr>\n",
       "  </tbody>\n",
       "</table>\n",
       "<p>391 rows × 3 columns</p>\n",
       "</div>"
      ],
      "text/plain": [
       "      support                     itemsets  length\n",
       "390  0.070588         (know, love, ll, ya)       4\n",
       "385  0.094118   (know, family, want, love)       4\n",
       "380  0.070588    (god, know, family, love)       4\n",
       "381  0.073529  (love, family, hope, sorry)       4\n",
       "382  0.073529   (just, family, want, love)       4\n",
       "..        ...                          ...     ...\n",
       "38   0.097059                       (make)       1\n",
       "37   0.079412                      (loved)       1\n",
       "36   0.629412                       (love)       1\n",
       "35   0.070588                        (lot)       1\n",
       "0    0.073529                  (apologize)       1\n",
       "\n",
       "[391 rows x 3 columns]"
      ]
     },
     "execution_count": 101,
     "metadata": {},
     "output_type": "execute_result"
    }
   ],
   "source": [
    "freq_itemsets['length'] = freq_itemsets['itemsets'].apply(lambda x: len(x))\n",
    "freq_itemsets.sort_values(by='length', ascending=False)"
   ]
  },
  {
   "cell_type": "markdown",
   "metadata": {},
   "source": [
    "## Apriori - Method #2"
   ]
  },
  {
   "cell_type": "code",
   "execution_count": 102,
   "metadata": {},
   "outputs": [],
   "source": [
    "# https://intellipaat.com/blog/data-science-apriori-algorithm/\n",
    "\n",
    "# !pip install apyori   "
   ]
  },
  {
   "cell_type": "code",
   "execution_count": 103,
   "metadata": {},
   "outputs": [],
   "source": [
    "from apyori import apriori\n",
    "\n",
    "store_data = p.read_csv(\"C:/Users/veo78/Data Science/Apriori_ASM_Dataset.csv\", header = None)"
   ]
  },
  {
   "cell_type": "code",
   "execution_count": 104,
   "metadata": {},
   "outputs": [
    {
     "data": {
      "text/html": [
       "<div>\n",
       "<style scoped>\n",
       "    .dataframe tbody tr th:only-of-type {\n",
       "        vertical-align: middle;\n",
       "    }\n",
       "\n",
       "    .dataframe tbody tr th {\n",
       "        vertical-align: top;\n",
       "    }\n",
       "\n",
       "    .dataframe thead th {\n",
       "        text-align: right;\n",
       "    }\n",
       "</style>\n",
       "<table border=\"1\" class=\"dataframe\">\n",
       "  <thead>\n",
       "    <tr style=\"text-align: right;\">\n",
       "      <th></th>\n",
       "      <th>0</th>\n",
       "      <th>1</th>\n",
       "      <th>2</th>\n",
       "      <th>3</th>\n",
       "      <th>4</th>\n",
       "      <th>5</th>\n",
       "    </tr>\n",
       "  </thead>\n",
       "  <tbody>\n",
       "    <tr>\n",
       "      <th>0</th>\n",
       "      <td>Wine</td>\n",
       "      <td>Chips</td>\n",
       "      <td>Bread</td>\n",
       "      <td>Butter</td>\n",
       "      <td>Milk</td>\n",
       "      <td>Apple</td>\n",
       "    </tr>\n",
       "    <tr>\n",
       "      <th>1</th>\n",
       "      <td>Wine</td>\n",
       "      <td>Chips</td>\n",
       "      <td>Bread</td>\n",
       "      <td>Butter</td>\n",
       "      <td>Milk</td>\n",
       "      <td>Apple</td>\n",
       "    </tr>\n",
       "    <tr>\n",
       "      <th>2</th>\n",
       "      <td>Wine</td>\n",
       "      <td>Chips</td>\n",
       "      <td>Bread</td>\n",
       "      <td>Butter</td>\n",
       "      <td>Milk</td>\n",
       "      <td>Apple</td>\n",
       "    </tr>\n",
       "    <tr>\n",
       "      <th>3</th>\n",
       "      <td>Wine</td>\n",
       "      <td>Chips</td>\n",
       "      <td>Bread</td>\n",
       "      <td>Butter</td>\n",
       "      <td>Milk</td>\n",
       "      <td>Apple</td>\n",
       "    </tr>\n",
       "    <tr>\n",
       "      <th>4</th>\n",
       "      <td>Wine</td>\n",
       "      <td>Chips</td>\n",
       "      <td>Bread</td>\n",
       "      <td>Butter</td>\n",
       "      <td>Milk</td>\n",
       "      <td>Apple</td>\n",
       "    </tr>\n",
       "    <tr>\n",
       "      <th>5</th>\n",
       "      <td>Wine</td>\n",
       "      <td>Chips</td>\n",
       "      <td>Bread</td>\n",
       "      <td>Butter</td>\n",
       "      <td>Milk</td>\n",
       "      <td>Apple</td>\n",
       "    </tr>\n",
       "    <tr>\n",
       "      <th>6</th>\n",
       "      <td>Wine</td>\n",
       "      <td>Chips</td>\n",
       "      <td>Bread</td>\n",
       "      <td>Butter</td>\n",
       "      <td>Milk</td>\n",
       "      <td>Apple</td>\n",
       "    </tr>\n",
       "    <tr>\n",
       "      <th>7</th>\n",
       "      <td>Wine</td>\n",
       "      <td>Chips</td>\n",
       "      <td>Bread</td>\n",
       "      <td>Butter</td>\n",
       "      <td>Milk</td>\n",
       "      <td>Apple</td>\n",
       "    </tr>\n",
       "    <tr>\n",
       "      <th>8</th>\n",
       "      <td>Wine</td>\n",
       "      <td>Chips</td>\n",
       "      <td>Bread</td>\n",
       "      <td>Butter</td>\n",
       "      <td>Milk</td>\n",
       "      <td>Apple</td>\n",
       "    </tr>\n",
       "    <tr>\n",
       "      <th>9</th>\n",
       "      <td>Wine</td>\n",
       "      <td>Chips</td>\n",
       "      <td>Bread</td>\n",
       "      <td>Butter</td>\n",
       "      <td>Milk</td>\n",
       "      <td>Apple</td>\n",
       "    </tr>\n",
       "    <tr>\n",
       "      <th>10</th>\n",
       "      <td>Wine</td>\n",
       "      <td>Chips</td>\n",
       "      <td>Bread</td>\n",
       "      <td>Butter</td>\n",
       "      <td>Milk</td>\n",
       "      <td>Apple</td>\n",
       "    </tr>\n",
       "    <tr>\n",
       "      <th>11</th>\n",
       "      <td>Wine</td>\n",
       "      <td>Chips</td>\n",
       "      <td>Bread</td>\n",
       "      <td>Butter</td>\n",
       "      <td>Milk</td>\n",
       "      <td>Apple</td>\n",
       "    </tr>\n",
       "    <tr>\n",
       "      <th>12</th>\n",
       "      <td>Wine</td>\n",
       "      <td>Chips</td>\n",
       "      <td>Bread</td>\n",
       "      <td>Butter</td>\n",
       "      <td>Milk</td>\n",
       "      <td>Apple</td>\n",
       "    </tr>\n",
       "    <tr>\n",
       "      <th>13</th>\n",
       "      <td>Wine</td>\n",
       "      <td>Chips</td>\n",
       "      <td>Bread</td>\n",
       "      <td>Butter</td>\n",
       "      <td>Milk</td>\n",
       "      <td>Apple</td>\n",
       "    </tr>\n",
       "    <tr>\n",
       "      <th>14</th>\n",
       "      <td>Wine</td>\n",
       "      <td>Chips</td>\n",
       "      <td>Bread</td>\n",
       "      <td>Butter</td>\n",
       "      <td>Milk</td>\n",
       "      <td>Apple</td>\n",
       "    </tr>\n",
       "    <tr>\n",
       "      <th>15</th>\n",
       "      <td>Wine</td>\n",
       "      <td>Chips</td>\n",
       "      <td>Bread</td>\n",
       "      <td>Butter</td>\n",
       "      <td>Milk</td>\n",
       "      <td>Apple</td>\n",
       "    </tr>\n",
       "    <tr>\n",
       "      <th>16</th>\n",
       "      <td>Wine</td>\n",
       "      <td>Chips</td>\n",
       "      <td>Bread</td>\n",
       "      <td>Butter</td>\n",
       "      <td>Milk</td>\n",
       "      <td>Apple</td>\n",
       "    </tr>\n",
       "    <tr>\n",
       "      <th>17</th>\n",
       "      <td>Wine</td>\n",
       "      <td>Chips</td>\n",
       "      <td>Bread</td>\n",
       "      <td>Butter</td>\n",
       "      <td>Milk</td>\n",
       "      <td>Apple</td>\n",
       "    </tr>\n",
       "    <tr>\n",
       "      <th>18</th>\n",
       "      <td>Wine</td>\n",
       "      <td>Chips</td>\n",
       "      <td>Bread</td>\n",
       "      <td>Butter</td>\n",
       "      <td>Milk</td>\n",
       "      <td>Apple</td>\n",
       "    </tr>\n",
       "    <tr>\n",
       "      <th>19</th>\n",
       "      <td>Wine</td>\n",
       "      <td>Chips</td>\n",
       "      <td>Bread</td>\n",
       "      <td>Butter</td>\n",
       "      <td>Milk</td>\n",
       "      <td>Apple</td>\n",
       "    </tr>\n",
       "    <tr>\n",
       "      <th>20</th>\n",
       "      <td>Wine</td>\n",
       "      <td>Chips</td>\n",
       "      <td>Bread</td>\n",
       "      <td>Butter</td>\n",
       "      <td>Milk</td>\n",
       "      <td>Apple</td>\n",
       "    </tr>\n",
       "    <tr>\n",
       "      <th>21</th>\n",
       "      <td>Wine</td>\n",
       "      <td>Chips</td>\n",
       "      <td>Bread</td>\n",
       "      <td>Butter</td>\n",
       "      <td>Milk</td>\n",
       "      <td>Apple</td>\n",
       "    </tr>\n",
       "  </tbody>\n",
       "</table>\n",
       "</div>"
      ],
      "text/plain": [
       "       0      1      2       3     4      5\n",
       "0   Wine  Chips  Bread  Butter  Milk  Apple\n",
       "1   Wine  Chips  Bread  Butter  Milk  Apple\n",
       "2   Wine  Chips  Bread  Butter  Milk  Apple\n",
       "3   Wine  Chips  Bread  Butter  Milk  Apple\n",
       "4   Wine  Chips  Bread  Butter  Milk  Apple\n",
       "5   Wine  Chips  Bread  Butter  Milk  Apple\n",
       "6   Wine  Chips  Bread  Butter  Milk  Apple\n",
       "7   Wine  Chips  Bread  Butter  Milk  Apple\n",
       "8   Wine  Chips  Bread  Butter  Milk  Apple\n",
       "9   Wine  Chips  Bread  Butter  Milk  Apple\n",
       "10  Wine  Chips  Bread  Butter  Milk  Apple\n",
       "11  Wine  Chips  Bread  Butter  Milk  Apple\n",
       "12  Wine  Chips  Bread  Butter  Milk  Apple\n",
       "13  Wine  Chips  Bread  Butter  Milk  Apple\n",
       "14  Wine  Chips  Bread  Butter  Milk  Apple\n",
       "15  Wine  Chips  Bread  Butter  Milk  Apple\n",
       "16  Wine  Chips  Bread  Butter  Milk  Apple\n",
       "17  Wine  Chips  Bread  Butter  Milk  Apple\n",
       "18  Wine  Chips  Bread  Butter  Milk  Apple\n",
       "19  Wine  Chips  Bread  Butter  Milk  Apple\n",
       "20  Wine  Chips  Bread  Butter  Milk  Apple\n",
       "21  Wine  Chips  Bread  Butter  Milk  Apple"
      ]
     },
     "execution_count": 104,
     "metadata": {},
     "output_type": "execute_result"
    }
   ],
   "source": [
    "store_data"
   ]
  },
  {
   "cell_type": "code",
   "execution_count": 105,
   "metadata": {},
   "outputs": [
    {
     "data": {
      "text/plain": [
       "(22, 6)"
      ]
     },
     "execution_count": 105,
     "metadata": {},
     "output_type": "execute_result"
    }
   ],
   "source": [
    "store_data.shape"
   ]
  },
  {
   "cell_type": "code",
   "execution_count": 106,
   "metadata": {},
   "outputs": [],
   "source": [
    "# Converting the panda f=dataframe into a list f lists\n",
    "\n",
    "records =[]\n",
    "for i in range(0,22):\n",
    "    records.append([str(store_data.values[i,j]) for j in range(0,6)])"
   ]
  },
  {
   "cell_type": "code",
   "execution_count": 107,
   "metadata": {},
   "outputs": [
    {
     "data": {
      "text/plain": [
       "[['Wine', 'Chips', 'Bread', 'Butter', 'Milk', 'Apple'],\n",
       " ['Wine', 'Chips', 'Bread', 'Butter', 'Milk', 'Apple'],\n",
       " ['Wine', 'Chips', 'Bread', 'Butter', 'Milk', 'Apple'],\n",
       " ['Wine', 'Chips', 'Bread', 'Butter', 'Milk', 'Apple'],\n",
       " ['Wine', 'Chips', 'Bread', 'Butter', 'Milk', 'Apple'],\n",
       " ['Wine', 'Chips', 'Bread', 'Butter', 'Milk', 'Apple'],\n",
       " ['Wine', 'Chips', 'Bread', 'Butter', 'Milk', 'Apple'],\n",
       " ['Wine', 'Chips', 'Bread', 'Butter', 'Milk', 'Apple'],\n",
       " ['Wine', 'Chips', 'Bread', 'Butter', 'Milk', 'Apple'],\n",
       " ['Wine', 'Chips', 'Bread', 'Butter', 'Milk', 'Apple'],\n",
       " ['Wine', 'Chips', 'Bread', 'Butter', 'Milk', 'Apple'],\n",
       " ['Wine', 'Chips', 'Bread', 'Butter', 'Milk', 'Apple'],\n",
       " ['Wine', 'Chips', 'Bread', 'Butter', 'Milk', 'Apple'],\n",
       " ['Wine', 'Chips', 'Bread', 'Butter', 'Milk', 'Apple'],\n",
       " ['Wine', 'Chips', 'Bread', 'Butter', 'Milk', 'Apple'],\n",
       " ['Wine', 'Chips', 'Bread', 'Butter', 'Milk', 'Apple'],\n",
       " ['Wine', 'Chips', 'Bread', 'Butter', 'Milk', 'Apple'],\n",
       " ['Wine', 'Chips', 'Bread', 'Butter', 'Milk', 'Apple'],\n",
       " ['Wine', 'Chips', 'Bread', 'Butter', 'Milk', 'Apple'],\n",
       " ['Wine', 'Chips', 'Bread', 'Butter', 'Milk', 'Apple'],\n",
       " ['Wine', 'Chips', 'Bread', 'Butter', 'Milk', 'Apple'],\n",
       " ['Wine', 'Chips', 'Bread', 'Butter', 'Milk', 'Apple']]"
      ]
     },
     "execution_count": 107,
     "metadata": {},
     "output_type": "execute_result"
    }
   ],
   "source": [
    "records"
   ]
  },
  {
   "cell_type": "code",
   "execution_count": 108,
   "metadata": {},
   "outputs": [],
   "source": [
    "association_rules = apriori(records, min_support=0.50, min_confidence=0.7, min_lift=1.2, min_length=2)\n",
    "association_results = list(association_rules)"
   ]
  },
  {
   "cell_type": "code",
   "execution_count": 109,
   "metadata": {},
   "outputs": [
    {
     "name": "stdout",
     "output_type": "stream",
     "text": [
      "0\n"
     ]
    }
   ],
   "source": [
    "print(len(association_results))"
   ]
  },
  {
   "cell_type": "code",
   "execution_count": 110,
   "metadata": {},
   "outputs": [
    {
     "name": "stdout",
     "output_type": "stream",
     "text": [
      "[]\n"
     ]
    }
   ],
   "source": [
    "print(association_results)"
   ]
  },
  {
   "cell_type": "markdown",
   "metadata": {},
   "source": [
    "# K-Means Clustering"
   ]
  },
  {
   "cell_type": "code",
   "execution_count": 111,
   "metadata": {},
   "outputs": [],
   "source": [
    "# X_train_tfidf_vec_Kmeans = unigram_tfidf_vectorizer.fit_transform(X_train)\n",
    "\n",
    "# X_train_tfidf_vec_Kmeans"
   ]
  },
  {
   "cell_type": "code",
   "execution_count": 112,
   "metadata": {},
   "outputs": [
    {
     "name": "stdout",
     "output_type": "stream",
     "text": [
      "['10', '14', 'able', 'accept', 'act', 'actions', 'address', 'ago', 'ah', 'ahead', 'ain', 'alive', 'allah', 'allow', 'allowed', 'almighty', 'alright', 'amen', 'america', 'american', 'angel', 'anger', 'angry', 'animosity', 'answers', 'anybody', 'apologize', 'appreciate', 'arms', 'art', 'ask', 'asked', 'asking', 'attorney', 'attorneys', 'august', 'away', 'baby', 'bad', 'barbara', 'bear', 'beat', 'beautiful', 'behalf', 'believe', 'believes', 'belong', 'best', 'better', 'big', 'bitterness', 'blame', 'bless', 'blessed', 'blessing', 'blood', 'bobby', 'body', 'born', 'boy', 'brad', 'bread', 'breath', 'brief', 'bring', 'bringing', 'brings', 'bro', 'brother', 'brothers', 'brought', 'bye', 'called', 'came', 'capital', 'care', 'carry', 'case', 'cause', 'caused', 'chance', 'change', 'changed', 'chaplain', 'charge', 'child', 'children', 'christ', 'christian', 'church', 'closure', 'come', 'comes', 'comfort', 'coming', 'commit', 'committed', 'community', 'confess', 'continue', 'convicted', 'couldn', 'country', 'couple', 'court', 'courts', 'crime', 'cross', 'crying', 'dad', 'daddy', 'daily', 'danny', 'daughter', 'daughters', 'david', 'day', 'days', 'dead', 'deal', 'dear', 'dearly', 'death', 'deep', 'deeply', 'defense', 'deliver', 'demand', 'deserve', 'did', 'didn', 'die', 'died', 'different', 'dna', 'doctor', 'does', 'doesn', 'dog', 'doing', 'don', 'doreen', 'drug', 'dying', 'earth', 'end', 'enemies', 'especially', 'eternal', 'everybody', 'evidence', 'evil', 'executed', 'execution', 'explain', 'express', 'eyes', 'face', 'fact', 'facts', 'faith', 'families', 'family', 'father', 'fear', 'feel', 'fight', 'fighting', 'filled', 'final', 'fine', 'finished', 'fixing', 'follow', 'foremost', 'forever', 'forget', 'forgive', 'forgiven', 'forgiveness', 'forgives', 'fought', 'frank', 'free', 'freedom', 'friend', 'friends', 'friendship', 'future', 'gave', 'gets', 'getting', 'girl', 'given', 'gives', 'giving', 'glad', 'glory', 'god', 'goes', 'going', 'gone', 'gonna', 'good', 'goodbye', 'got', 'grace', 'grandmother', 'grave', 'great', 'green', 'grief', 'guess', 'guilt', 'guilty', 'guys', 'hallowed', 'hand', 'hands', 'happen', 'happened', 'happening', 'happiness', 'happy', 'hard', 'hate', 'hatred', 'having', 'head', 'heads', 'hear', 'heard', 'heart', 'hearts', 'heaven', 'heavenly', 'hell', 'hello', 'help', 'helped', 'helps', 'hero', 'hey', 'hi', 'high', 'hold', 'holy', 'home', 'honor', 'hope', 'house', 'human', 'hurt', 'hurting', 'husband', 'incident', 'innocence', 'innocent', 'involved', 'irene', 'islam', 'isn', 'jack', 'james', 'jennifer', 'jenny', 'jesus', 'job', 'joe', 'john', 'jones', 'journey', 'joy', 'judge', 'jury', 'just', 'justice', 'kathy', 'kept', 'kids', 'kill', 'killed', 'killer', 'killing', 'kim', 'kind', 'king', 'kingdom', 'knew', 'know', 'known', 'knows', 'lady', 'later', 'law', 'lawyers', 'lay', 'lead', 'learn', 'leave', 'leaving', 'left', 'let', 'letter', 'letting', 'lie', 'lied', 'life', 'light', 'like', 'line', 'listen', 'little', 'live', 'lived', 'lives', 'living', 'll', 'locked', 'long', 'look', 'looking', 'lord', 'loss', 'lost', 'lot', 'love', 'loved', 'loves', 'loving', 'mad', 'make', 'makes', 'mama', 'man', 'mary', 'matter', 'maybe', 'mean', 'meant', 'media', 'meet', 'member', 'members', 'men', 'merciful', 'mercy', 'message', 'michael', 'mike', 'mind', 'minutes', 'miss', 'mistake', 'mistakes', 'mom', 'momma', 'mother', 'mourn', 'mr', 'mrs', 'ms', 'mumbled', 'murder', 'murderer', 'murdering', 'murders', 'need', 'needed', 'needs', 'nephews', 'new', 'nieces', 'night', 'officers', 'oh', 'ok', 'okay', 'old', 'ones', 'paid', 'pain', 'parents', 'pass', 'past', 'pay', 'peace', 'penalty', 'people', 'person', 'personal', 'place', 'poem', 'point', 'police', 'poor', 'pop', 'power', 'praise', 'pray', 'prayed', 'prayer', 'praying', 'precious', 'presence', 'present', 'press', 'price', 'prison', 'probably', 'problems', 'proceed', 'profanity', 'promise', 'prosecutor', 'proud', 'prove', 'public', 'pull', 'putting', 'quiet', 'raised', 'ran', 'ray', 'reach', 'read', 'ready', 'real', 'really', 'reason', 'receive', 'received', 'record', 'released', 'relief', 'remember', 'remorse', 'respect', 'responsibility', 'responsible', 'rest', 'return', 'reverend', 'ride', 'right', 'road', 'robert', 'rock', 'roll', 'row', 'sad', 'said', 'saint', 'sake', 'salvation', 'sanchez', 'sandy', 'save', 'saved', 'saving', 'savior', 'saw', 'say', 'saying', 'seeing', 'self', 'send', 'sending', 'sentence', 'set', 'shall', 'shed', 'shepherd', 'shine', 'short', 'shot', 'showed', 'showing', 'shown', 'sides', 'sin', 'singing', 'sins', 'sir', 'sister', 'sisters', 'situation', 'sleep', 'smile', 'smiling', 'society', 'somebody', 'someday', 'son', 'soon', 'sorrow', 'sorry', 'soul', 'spanish', 'speak', 'spent', 'spirit', 'spiritual', 'spoken', 'stand', 'standing', 'start', 'state', 'statement', 'stay', 'stop', 'stopped', 'strength', 'strong', 'struggle', 'stuff', 'suffer', 'suffered', 'suffering', 'support', 'supported', 'supporters', 'supporting', 'supreme', 'sure', 'surely', 'sylvia', 'taken', 'taking', 'talk', 'talking', 'taste', 'taylor', 'tears', 'tell', 'telling', 'temptation', 'testimony', 'texas', 'thank', 'thanks', 'thine', 'thing', 'things', 'think', 'thinking', 'thomas', 'thou', 'thought', 'thy', 'time', 'times', 'today', 'told', 'tonight', 'took', 'touch', 'transition', 'treat', 'trespass', 'trespasses', 'trial', 'tried', 'trigger', 'truck', 'true', 'truly', 'trust', 'truth', 'try', 'trying', 'turned', 'type', 'uh', 'um', 'understand', 'unintelligible', 'unit', 'unto', 'use', 'used', 've', 'veins', 'victim', 'victims', 'waiting', 'wake', 'walk', 'walked', 'wall', 'walsh', 'want', 'wanted', 'warden', 'warrior', 'wasn', 'watch', 'watching', 'waters', 'way', 'ways', 'went', 'whiteside', 'wife', 'williams', 'win', 'wish', 'witness', 'witnesses', 'woman', 'won', 'wonderful', 'word', 'words', 'work', 'world', 'worry', 'worth', 'wouldn', 'write', 'written', 'wrong', 'wrote', 'ya', 'yall', 'yeah', 'years', 'yes', 'young']\n"
     ]
    }
   ],
   "source": [
    "ColumnNamesVec_Kmean=unigram_tfidf_vectorizer.get_feature_names()\n",
    "print(ColumnNamesVec_Kmean)"
   ]
  },
  {
   "cell_type": "code",
   "execution_count": 113,
   "metadata": {},
   "outputs": [
    {
     "name": "stdout",
     "output_type": "stream",
     "text": [
      "      10   14     able    accept       act  actions  address  ago        ah  \\\n",
      "0    0.0  0.0  0.21982  0.000000  0.000000      0.0      0.0  0.0  0.407546   \n",
      "1    0.0  0.0  0.00000  0.117709  0.000000      0.0      0.0  0.0  0.000000   \n",
      "2    0.0  0.0  0.00000  0.000000  0.000000      0.0      0.0  0.0  0.000000   \n",
      "3    0.0  0.0  0.00000  0.000000  0.000000      0.0      0.0  0.0  0.000000   \n",
      "4    0.0  0.0  0.00000  0.000000  0.082679      0.0      0.0  0.0  0.000000   \n",
      "..   ...  ...      ...       ...       ...      ...      ...  ...       ...   \n",
      "335  0.0  0.0  0.00000  0.000000  0.000000      0.0      0.0  0.0  0.000000   \n",
      "336  0.0  0.0  0.00000  0.000000  0.000000      0.0      0.0  0.0  0.000000   \n",
      "337  0.0  0.0  0.00000  0.000000  0.000000      0.0      0.0  0.0  0.000000   \n",
      "338  0.0  0.0  0.00000  0.000000  0.000000      0.0      0.0  0.0  0.000000   \n",
      "339  0.0  0.0  0.00000  0.000000  0.000000      0.0      0.0  0.0  0.000000   \n",
      "\n",
      "     ahead  ...  write   written     wrong  wrote   ya  yall  yeah  years  \\\n",
      "0      0.0  ...    0.0  0.000000  0.168300    0.0  0.0   0.0   0.0    0.0   \n",
      "1      0.0  ...    0.0  0.000000  0.000000    0.0  0.0   0.0   0.0    0.0   \n",
      "2      0.0  ...    0.0  0.000000  0.000000    0.0  0.0   0.0   0.0    0.0   \n",
      "3      0.0  ...    0.0  0.000000  0.188797    0.0  0.0   0.0   0.0    0.0   \n",
      "4      0.0  ...    0.0  0.068767  0.056796    0.0  0.0   0.0   0.0    0.0   \n",
      "..     ...  ...    ...       ...       ...    ...  ...   ...   ...    ...   \n",
      "335    0.0  ...    0.0  0.000000  0.000000    0.0  0.0   0.0   0.0    0.0   \n",
      "336    0.0  ...    0.0  0.000000  0.000000    0.0  0.0   0.0   0.0    0.0   \n",
      "337    0.0  ...    0.0  0.000000  0.000000    0.0  0.0   0.0   0.0    0.0   \n",
      "338    0.0  ...    0.0  0.000000  0.000000    0.0  0.0   0.0   0.0    0.0   \n",
      "339    0.0  ...    0.0  0.000000  0.000000    0.0  0.0   0.0   0.0    0.0   \n",
      "\n",
      "          yes  young  \n",
      "0    0.000000    0.0  \n",
      "1    0.000000    0.0  \n",
      "2    0.000000    0.0  \n",
      "3    0.000000    0.0  \n",
      "4    0.000000    0.0  \n",
      "..        ...    ...  \n",
      "335  0.000000    0.0  \n",
      "336  0.096826    0.0  \n",
      "337  0.000000    0.0  \n",
      "338  0.000000    0.0  \n",
      "339  0.000000    0.0  \n",
      "\n",
      "[340 rows x 629 columns]\n"
     ]
    }
   ],
   "source": [
    "X_train_tfidf_vec_Kmeans = unigram_tfidf_vectorizer.fit_transform(X_train)\n",
    "\n",
    "Kmeans_Clustering_tfidf_vec=p.DataFrame(X_train_tfidf_vec_Kmeans.toarray(),columns=ColumnNamesVec_Kmean)\n",
    "\n",
    "print(Kmeans_Clustering_tfidf_vec)"
   ]
  },
  {
   "cell_type": "code",
   "execution_count": 114,
   "metadata": {},
   "outputs": [
    {
     "ename": "ValueError",
     "evalue": "arrays must all be same length",
     "output_type": "error",
     "traceback": [
      "\u001b[1;31m---------------------------------------------------------------------------\u001b[0m",
      "\u001b[1;31mValueError\u001b[0m                                Traceback (most recent call last)",
      "\u001b[1;32m<ipython-input-114-4d26dbf21851>\u001b[0m in \u001b[0;36m<module>\u001b[1;34m\u001b[0m\n\u001b[0;32m      8\u001b[0m \u001b[1;33m\u001b[0m\u001b[0m\n\u001b[0;32m      9\u001b[0m \u001b[1;31m# cm = pd.crosstab(HMD_subset_labels, km.labels_)\u001b[0m\u001b[1;33m\u001b[0m\u001b[1;33m\u001b[0m\u001b[1;33m\u001b[0m\u001b[0m\n\u001b[1;32m---> 10\u001b[1;33m \u001b[0mcm\u001b[0m \u001b[1;33m=\u001b[0m \u001b[0mp\u001b[0m\u001b[1;33m.\u001b[0m\u001b[0mcrosstab\u001b[0m\u001b[1;33m(\u001b[0m\u001b[0my\u001b[0m\u001b[1;33m,\u001b[0m \u001b[0mkm\u001b[0m\u001b[1;33m.\u001b[0m\u001b[0mlabels_\u001b[0m\u001b[1;33m)\u001b[0m\u001b[1;33m\u001b[0m\u001b[1;33m\u001b[0m\u001b[0m\n\u001b[0m\u001b[0;32m     11\u001b[0m \u001b[0mprint\u001b[0m\u001b[1;33m(\u001b[0m\u001b[0mcm\u001b[0m\u001b[1;33m)\u001b[0m\u001b[1;33m\u001b[0m\u001b[1;33m\u001b[0m\u001b[0m\n\u001b[0;32m     12\u001b[0m \u001b[0mprint\u001b[0m\u001b[1;33m(\u001b[0m\u001b[1;33m)\u001b[0m\u001b[1;33m\u001b[0m\u001b[1;33m\u001b[0m\u001b[0m\n",
      "\u001b[1;32m~\\AppData\\Roaming\\Python\\Python37\\site-packages\\pandas\\core\\reshape\\pivot.py\u001b[0m in \u001b[0;36mcrosstab\u001b[1;34m(index, columns, values, rownames, colnames, aggfunc, margins, margins_name, dropna, normalize)\u001b[0m\n\u001b[0;32m    604\u001b[0m     \u001b[1;32mfrom\u001b[0m \u001b[0mpandas\u001b[0m \u001b[1;32mimport\u001b[0m \u001b[0mDataFrame\u001b[0m\u001b[1;33m\u001b[0m\u001b[1;33m\u001b[0m\u001b[0m\n\u001b[0;32m    605\u001b[0m \u001b[1;33m\u001b[0m\u001b[0m\n\u001b[1;32m--> 606\u001b[1;33m     \u001b[0mdf\u001b[0m \u001b[1;33m=\u001b[0m \u001b[0mDataFrame\u001b[0m\u001b[1;33m(\u001b[0m\u001b[0mdata\u001b[0m\u001b[1;33m,\u001b[0m \u001b[0mindex\u001b[0m\u001b[1;33m=\u001b[0m\u001b[0mcommon_idx\u001b[0m\u001b[1;33m)\u001b[0m\u001b[1;33m\u001b[0m\u001b[1;33m\u001b[0m\u001b[0m\n\u001b[0m\u001b[0;32m    607\u001b[0m     \u001b[0moriginal_df_cols\u001b[0m \u001b[1;33m=\u001b[0m \u001b[0mdf\u001b[0m\u001b[1;33m.\u001b[0m\u001b[0mcolumns\u001b[0m\u001b[1;33m\u001b[0m\u001b[1;33m\u001b[0m\u001b[0m\n\u001b[0;32m    608\u001b[0m \u001b[1;33m\u001b[0m\u001b[0m\n",
      "\u001b[1;32m~\\AppData\\Roaming\\Python\\Python37\\site-packages\\pandas\\core\\frame.py\u001b[0m in \u001b[0;36m__init__\u001b[1;34m(self, data, index, columns, dtype, copy)\u001b[0m\n\u001b[0;32m    466\u001b[0m \u001b[1;33m\u001b[0m\u001b[0m\n\u001b[0;32m    467\u001b[0m         \u001b[1;32melif\u001b[0m \u001b[0misinstance\u001b[0m\u001b[1;33m(\u001b[0m\u001b[0mdata\u001b[0m\u001b[1;33m,\u001b[0m \u001b[0mdict\u001b[0m\u001b[1;33m)\u001b[0m\u001b[1;33m:\u001b[0m\u001b[1;33m\u001b[0m\u001b[1;33m\u001b[0m\u001b[0m\n\u001b[1;32m--> 468\u001b[1;33m             \u001b[0mmgr\u001b[0m \u001b[1;33m=\u001b[0m \u001b[0minit_dict\u001b[0m\u001b[1;33m(\u001b[0m\u001b[0mdata\u001b[0m\u001b[1;33m,\u001b[0m \u001b[0mindex\u001b[0m\u001b[1;33m,\u001b[0m \u001b[0mcolumns\u001b[0m\u001b[1;33m,\u001b[0m \u001b[0mdtype\u001b[0m\u001b[1;33m=\u001b[0m\u001b[0mdtype\u001b[0m\u001b[1;33m)\u001b[0m\u001b[1;33m\u001b[0m\u001b[1;33m\u001b[0m\u001b[0m\n\u001b[0m\u001b[0;32m    469\u001b[0m         \u001b[1;32melif\u001b[0m \u001b[0misinstance\u001b[0m\u001b[1;33m(\u001b[0m\u001b[0mdata\u001b[0m\u001b[1;33m,\u001b[0m \u001b[0mma\u001b[0m\u001b[1;33m.\u001b[0m\u001b[0mMaskedArray\u001b[0m\u001b[1;33m)\u001b[0m\u001b[1;33m:\u001b[0m\u001b[1;33m\u001b[0m\u001b[1;33m\u001b[0m\u001b[0m\n\u001b[0;32m    470\u001b[0m             \u001b[1;32mimport\u001b[0m \u001b[0mnumpy\u001b[0m\u001b[1;33m.\u001b[0m\u001b[0mma\u001b[0m\u001b[1;33m.\u001b[0m\u001b[0mmrecords\u001b[0m \u001b[1;32mas\u001b[0m \u001b[0mmrecords\u001b[0m\u001b[1;33m\u001b[0m\u001b[1;33m\u001b[0m\u001b[0m\n",
      "\u001b[1;32m~\\AppData\\Roaming\\Python\\Python37\\site-packages\\pandas\\core\\internals\\construction.py\u001b[0m in \u001b[0;36minit_dict\u001b[1;34m(data, index, columns, dtype)\u001b[0m\n\u001b[0;32m    281\u001b[0m             \u001b[0marr\u001b[0m \u001b[1;32mif\u001b[0m \u001b[1;32mnot\u001b[0m \u001b[0mis_datetime64tz_dtype\u001b[0m\u001b[1;33m(\u001b[0m\u001b[0marr\u001b[0m\u001b[1;33m)\u001b[0m \u001b[1;32melse\u001b[0m \u001b[0marr\u001b[0m\u001b[1;33m.\u001b[0m\u001b[0mcopy\u001b[0m\u001b[1;33m(\u001b[0m\u001b[1;33m)\u001b[0m \u001b[1;32mfor\u001b[0m \u001b[0marr\u001b[0m \u001b[1;32min\u001b[0m \u001b[0marrays\u001b[0m\u001b[1;33m\u001b[0m\u001b[1;33m\u001b[0m\u001b[0m\n\u001b[0;32m    282\u001b[0m         ]\n\u001b[1;32m--> 283\u001b[1;33m     \u001b[1;32mreturn\u001b[0m \u001b[0marrays_to_mgr\u001b[0m\u001b[1;33m(\u001b[0m\u001b[0marrays\u001b[0m\u001b[1;33m,\u001b[0m \u001b[0mdata_names\u001b[0m\u001b[1;33m,\u001b[0m \u001b[0mindex\u001b[0m\u001b[1;33m,\u001b[0m \u001b[0mcolumns\u001b[0m\u001b[1;33m,\u001b[0m \u001b[0mdtype\u001b[0m\u001b[1;33m=\u001b[0m\u001b[0mdtype\u001b[0m\u001b[1;33m)\u001b[0m\u001b[1;33m\u001b[0m\u001b[1;33m\u001b[0m\u001b[0m\n\u001b[0m\u001b[0;32m    284\u001b[0m \u001b[1;33m\u001b[0m\u001b[0m\n\u001b[0;32m    285\u001b[0m \u001b[1;33m\u001b[0m\u001b[0m\n",
      "\u001b[1;32m~\\AppData\\Roaming\\Python\\Python37\\site-packages\\pandas\\core\\internals\\construction.py\u001b[0m in \u001b[0;36marrays_to_mgr\u001b[1;34m(arrays, arr_names, index, columns, dtype, verify_integrity)\u001b[0m\n\u001b[0;32m     76\u001b[0m         \u001b[1;31m# figure out the index, if necessary\u001b[0m\u001b[1;33m\u001b[0m\u001b[1;33m\u001b[0m\u001b[1;33m\u001b[0m\u001b[0m\n\u001b[0;32m     77\u001b[0m         \u001b[1;32mif\u001b[0m \u001b[0mindex\u001b[0m \u001b[1;32mis\u001b[0m \u001b[1;32mNone\u001b[0m\u001b[1;33m:\u001b[0m\u001b[1;33m\u001b[0m\u001b[1;33m\u001b[0m\u001b[0m\n\u001b[1;32m---> 78\u001b[1;33m             \u001b[0mindex\u001b[0m \u001b[1;33m=\u001b[0m \u001b[0mextract_index\u001b[0m\u001b[1;33m(\u001b[0m\u001b[0marrays\u001b[0m\u001b[1;33m)\u001b[0m\u001b[1;33m\u001b[0m\u001b[1;33m\u001b[0m\u001b[0m\n\u001b[0m\u001b[0;32m     79\u001b[0m         \u001b[1;32melse\u001b[0m\u001b[1;33m:\u001b[0m\u001b[1;33m\u001b[0m\u001b[1;33m\u001b[0m\u001b[0m\n\u001b[0;32m     80\u001b[0m             \u001b[0mindex\u001b[0m \u001b[1;33m=\u001b[0m \u001b[0mensure_index\u001b[0m\u001b[1;33m(\u001b[0m\u001b[0mindex\u001b[0m\u001b[1;33m)\u001b[0m\u001b[1;33m\u001b[0m\u001b[1;33m\u001b[0m\u001b[0m\n",
      "\u001b[1;32m~\\AppData\\Roaming\\Python\\Python37\\site-packages\\pandas\\core\\internals\\construction.py\u001b[0m in \u001b[0;36mextract_index\u001b[1;34m(data)\u001b[0m\n\u001b[0;32m    395\u001b[0m             \u001b[0mlengths\u001b[0m \u001b[1;33m=\u001b[0m \u001b[0mlist\u001b[0m\u001b[1;33m(\u001b[0m\u001b[0mset\u001b[0m\u001b[1;33m(\u001b[0m\u001b[0mraw_lengths\u001b[0m\u001b[1;33m)\u001b[0m\u001b[1;33m)\u001b[0m\u001b[1;33m\u001b[0m\u001b[1;33m\u001b[0m\u001b[0m\n\u001b[0;32m    396\u001b[0m             \u001b[1;32mif\u001b[0m \u001b[0mlen\u001b[0m\u001b[1;33m(\u001b[0m\u001b[0mlengths\u001b[0m\u001b[1;33m)\u001b[0m \u001b[1;33m>\u001b[0m \u001b[1;36m1\u001b[0m\u001b[1;33m:\u001b[0m\u001b[1;33m\u001b[0m\u001b[1;33m\u001b[0m\u001b[0m\n\u001b[1;32m--> 397\u001b[1;33m                 \u001b[1;32mraise\u001b[0m \u001b[0mValueError\u001b[0m\u001b[1;33m(\u001b[0m\u001b[1;34m\"arrays must all be same length\"\u001b[0m\u001b[1;33m)\u001b[0m\u001b[1;33m\u001b[0m\u001b[1;33m\u001b[0m\u001b[0m\n\u001b[0m\u001b[0;32m    398\u001b[0m \u001b[1;33m\u001b[0m\u001b[0m\n\u001b[0;32m    399\u001b[0m             \u001b[1;32mif\u001b[0m \u001b[0mhave_dicts\u001b[0m\u001b[1;33m:\u001b[0m\u001b[1;33m\u001b[0m\u001b[1;33m\u001b[0m\u001b[0m\n",
      "\u001b[1;31mValueError\u001b[0m: arrays must all be same length"
     ]
    }
   ],
   "source": [
    "from sklearn.cluster import KMeans\n",
    "\n",
    "k = 2\n",
    "\n",
    "km = KMeans(n_clusters=k, algorithm='auto', init='random', n_init=20, random_state=0, verbose=False)\n",
    "km.fit(Kmeans_Clustering_tfidf_vec)\n",
    "\n",
    "\n",
    "# cm = pd.crosstab(HMD_subset_labels, km.labels_)\n",
    "cm = p.crosstab(y, km.labels_)\n",
    "print(cm)\n",
    "print()\n"
   ]
  },
  {
   "cell_type": "markdown",
   "metadata": {},
   "source": [
    "## Error due to using Training dataset and the size of the vectors do not match"
   ]
  },
  {
   "cell_type": "code",
   "execution_count": 115,
   "metadata": {},
   "outputs": [
    {
     "name": "stdout",
     "output_type": "stream",
     "text": [
      "(425,)\n",
      "(340, 629)\n"
     ]
    }
   ],
   "source": [
    "print(y.shape)\n",
    "print(Kmeans_Clustering_tfidf_vec.shape)"
   ]
  },
  {
   "cell_type": "markdown",
   "metadata": {},
   "source": [
    "## Use X instead of X_train\n",
    "### X_train is a subset of X"
   ]
  },
  {
   "cell_type": "code",
   "execution_count": 116,
   "metadata": {},
   "outputs": [
    {
     "name": "stdout",
     "output_type": "stream",
     "text": [
      "['10', '12', '13', '14', 'able', 'accept', 'accident', 'act', 'actions', 'address', 'ago', 'ah', 'ahead', 'ain', 'al', 'alive', 'allah', 'allow', 'allowed', 'almighty', 'alright', 'amen', 'america', 'american', 'amy', 'angel', 'anger', 'angry', 'animosity', 'anointest', 'answers', 'anybody', 'apologize', 'apology', 'appreciate', 'arms', 'art', 'ask', 'asked', 'asking', 'attorney', 'attorneys', 'august', 'aunt', 'away', 'baby', 'bad', 'barbara', 'bear', 'beat', 'beautiful', 'began', 'begin', 'beginning', 'behalf', 'believe', 'believes', 'belong', 'best', 'better', 'big', 'bitter', 'bitterness', 'black', 'blame', 'bless', 'blessed', 'blessing', 'blessings', 'blood', 'bobby', 'body', 'born', 'boy', 'brad', 'bread', 'breath', 'brief', 'bring', 'bringing', 'brings', 'bro', 'brother', 'brothers', 'brought', 'bye', 'called', 'came', 'capital', 'care', 'careful', 'carry', 'case', 'cases', 'cause', 'caused', 'chance', 'change', 'changed', 'chaplain', 'charge', 'cherish', 'child', 'children', 'chris', 'christ', 'christian', 'church', 'close', 'closure', 'come', 'comes', 'comfort', 'coming', 'commit', 'committed', 'community', 'confess', 'connie', 'continue', 'convicted', 'couldn', 'country', 'couple', 'court', 'courts', 'cousins', 'cox', 'crazy', 'crime', 'cross', 'crying', 'cup', 'dad', 'daddy', 'daily', 'damn', 'danny', 'daughter', 'daughters', 'david', 'day', 'days', 'dead', 'deal', 'dear', 'dearly', 'death', 'deep', 'deeply', 'defense', 'deliver', 'demand', 'deserve', 'did', 'didn', 'die', 'died', 'different', 'disappointed', 'dna', 'doctor', 'does', 'doesn', 'dog', 'doing', 'don', 'doreen', 'dr', 'drug', 'dwell', 'dying', 'earth', 'easy', 'end', 'enemies', 'english', 'especially', 'eternal', 'everybody', 'evidence', 'evil', 'executed', 'executing', 'execution', 'experience', 'explain', 'express', 'extend', 'eyes', 'face', 'fact', 'facts', 'fair', 'faith', 'faithful', 'fall', 'families', 'family', 'father', 'fear', 'feel', 'feelings', 'feels', 'fight', 'fighting', 'filled', 'final', 'fine', 'finished', 'fixing', 'folks', 'follow', 'foremost', 'forever', 'forgave', 'forget', 'forgive', 'forgiven', 'forgiveness', 'forgives', 'forgiving', 'forward', 'fought', 'frank', 'free', 'freedom', 'friend', 'friends', 'friendship', 'future', 'gary', 'gave', 'gets', 'getting', 'gift', 'girl', 'girls', 'given', 'gives', 'giving', 'glad', 'gladly', 'glory', 'god', 'goes', 'going', 'gone', 'gonna', 'good', 'goodbye', 'goodness', 'got', 'gotta', 'grace', 'grandmother', 'grave', 'great', 'greatest', 'green', 'grief', 'guess', 'guilt', 'guilty', 'guys', 'hallowed', 'hand', 'hands', 'happen', 'happened', 'happening', 'happens', 'happiness', 'happy', 'hard', 'hart', 'hate', 'hatred', 'having', 'head', 'heads', 'hear', 'heard', 'heart', 'hearts', 'heaven', 'heavenly', 'hell', 'hello', 'help', 'helped', 'helping', 'helps', 'hero', 'hey', 'hi', 'high', 'hold', 'holy', 'home', 'honor', 'hope', 'house', 'human', 'humanity', 'hurt', 'hurting', 'hurts', 'husband', 'incident', 'injustice', 'innocence', 'innocent', 'involved', 'irene', 'islam', 'isn', 'jack', 'james', 'jennifer', 'jenny', 'jesus', 'job', 'joe', 'john', 'jones', 'journey', 'joy', 'judge', 'jury', 'just', 'justice', 'kathy', 'keeping', 'kept', 'kids', 'kill', 'killed', 'killer', 'killing', 'kim', 'kind', 'kindness', 'king', 'kingdom', 'knew', 'know', 'known', 'knows', 'lady', 'later', 'laura', 'law', 'lawyer', 'lawyers', 'lay', 'lead', 'leadeth', 'learn', 'leave', 'leaving', 'left', 'let', 'letter', 'letting', 'lie', 'lied', 'lies', 'life', 'lift', 'light', 'like', 'line', 'listen', 'little', 'live', 'lived', 'lives', 'living', 'll', 'locked', 'long', 'longer', 'look', 'looking', 'lopez', 'lord', 'loss', 'lost', 'lot', 'lots', 'love', 'loved', 'loves', 'loving', 'mad', 'make', 'makes', 'maketh', 'mama', 'man', 'mary', 'matter', 'maybe', 'mean', 'meant', 'media', 'meet', 'member', 'members', 'men', 'merciful', 'mercy', 'message', 'met', 'mexico', 'michael', 'mike', 'mind', 'minutes', 'miracle', 'miss', 'mistake', 'mistakes', 'mom', 'moment', 'momma', 'monster', 'mother', 'mourn', 'mr', 'mrs', 'ms', 'mumbled', 'murder', 'murdered', 'murderer', 'murdering', 'murders', 'names', 'need', 'needed', 'needs', 'nephews', 'new', 'nice', 'nieces', 'night', 'officer', 'officers', 'oh', 'oil', 'ok', 'okay', 'old', 'ones', 'open', 'opportunity', 'paid', 'pain', 'paradise', 'parents', 'pass', 'past', 'pastures', 'paths', 'paul', 'pay', 'paying', 'peace', 'penalty', 'people', 'person', 'personal', 'place', 'poem', 'point', 'police', 'polunsky', 'poor', 'pop', 'power', 'praise', 'pray', 'prayed', 'prayer', 'prayers', 'praying', 'precious', 'preparest', 'presence', 'present', 'press', 'price', 'prison', 'probably', 'problem', 'problems', 'proceed', 'profanity', 'promise', 'prosecutor', 'protect', 'proud', 'prove', 'public', 'pull', 'punishment', 'putting', 'quiet', 'raised', 'ran', 'randy', 'ray', 'reach', 'read', 'ready', 'real', 'realize', 'really', 'reason', 'rebecca', 'receive', 'received', 'record', 'regret', 'rejoice', 'released', 'relief', 'remember', 'remorse', 'respect', 'responsibility', 'responsible', 'rest', 'restoreth', 'return', 'reverend', 'richard', 'ride', 'right', 'road', 'robert', 'robin', 'rock', 'roll', 'row', 'runneth', 'sabrina', 'sad', 'said', 'saint', 'sake', 'salvation', 'sanchez', 'sandy', 'save', 'saved', 'saving', 'savior', 'saw', 'say', 'saying', 'says', 'scott', 'seeing', 'seek', 'self', 'send', 'sending', 'sentence', 'set', 'shadow', 'shall', 'shed', 'shepherd', 'shine', 'short', 'shot', 'showed', 'showing', 'shown', 'sides', 'sin', 'singing', 'sinner', 'sins', 'sir', 'sister', 'sisters', 'situation', 'sky', 'sleep', 'smile', 'smiling', 'society', 'solace', 'solve', 'somebody', 'someday', 'son', 'sons', 'soon', 'sooner', 'sorrow', 'sorry', 'soul', 'spanish', 'speak', 'special', 'spent', 'spirit', 'spiritual', 'spoke', 'spoken', 'staff', 'stand', 'standing', 'start', 'started', 'state', 'statement', 'stay', 'steve', 'stood', 'stop', 'stopped', 'strength', 'strong', 'struggle', 'stuff', 'suffer', 'suffered', 'suffering', 'support', 'supported', 'supporters', 'supporting', 'supposed', 'supreme', 'sure', 'surely', 'sylvia', 'table', 'taken', 'takes', 'taking', 'talk', 'talked', 'talking', 'taste', 'taylor', 'tears', 'tell', 'telling', 'temptation', 'testimony', 'texas', 'thank', 'thanks', 'thine', 'thing', 'things', 'think', 'thinking', 'thomas', 'thou', 'thought', 'thy', 'time', 'times', 'today', 'told', 'tom', 'tonight', 'took', 'touch', 'touched', 'tragedy', 'transition', 'treat', 'trespass', 'trespasses', 'trial', 'tried', 'trigger', 'trouble', 'truck', 'true', 'truly', 'trust', 'truth', 'try', 'trying', 'turn', 'turned', 'type', 'uh', 'um', 'uncle', 'understand', 'understanding', 'unintelligible', 'unit', 'unto', 'upset', 'use', 'used', 'valley', 've', 'veins', 'victim', 'victims', 'victory', 'voice', 'waiting', 'wake', 'walk', 'walked', 'wall', 'walsh', 'want', 'wanted', 'warden', 'warrior', 'wasn', 'watch', 'watching', 'waters', 'way', 'ways', 'went', 'west', 'white', 'whiteside', 'wife', 'wilcox', 'williams', 'win', 'wish', 'witness', 'witnesses', 'woman', 'won', 'wonderful', 'word', 'words', 'work', 'worked', 'world', 'worry', 'worth', 'wouldn', 'write', 'written', 'wrong', 'wrongs', 'wrote', 'ya', 'yall', 'yea', 'yeah', 'years', 'yes', 'young']\n"
     ]
    }
   ],
   "source": [
    "X_train_tfidf_vec_Kmeans = unigram_tfidf_vectorizer.fit_transform(X)\n",
    "\n",
    "ColumnNamesVec_Kmean=unigram_tfidf_vectorizer.get_feature_names()\n",
    "print(ColumnNamesVec_Kmean)"
   ]
  },
  {
   "cell_type": "code",
   "execution_count": 117,
   "metadata": {},
   "outputs": [
    {
     "name": "stdout",
     "output_type": "stream",
     "text": [
      "      10   12   13   14  able  accept  accident  act  actions  address  ...  \\\n",
      "0    0.0  0.0  0.0  0.0   0.0     0.0       0.0  0.0      0.0      0.0  ...   \n",
      "1    0.0  0.0  0.0  0.0   0.0     0.0       0.0  0.0      0.0      0.0  ...   \n",
      "2    0.0  0.0  0.0  0.0   0.0     0.0       0.0  0.0      0.0      0.0  ...   \n",
      "3    0.0  0.0  0.0  0.0   0.0     0.0       0.0  0.0      0.0      0.0  ...   \n",
      "4    0.0  0.0  0.0  0.0   0.0     0.0       0.0  0.0      0.0      0.0  ...   \n",
      "..   ...  ...  ...  ...   ...     ...       ...  ...      ...      ...  ...   \n",
      "420  0.0  0.0  0.0  0.0   0.0     0.0       0.0  0.0      0.0      0.0  ...   \n",
      "421  0.0  0.0  0.0  0.0   0.0     0.0       0.0  0.0      0.0      0.0  ...   \n",
      "422  0.0  0.0  0.0  0.0   0.0     0.0       0.0  0.0      0.0      0.0  ...   \n",
      "423  0.0  0.0  0.0  0.0   0.0     0.0       0.0  0.0      0.0      0.0  ...   \n",
      "424  0.0  0.0  0.0  0.0   0.0     0.0       0.0  0.0      0.0      0.0  ...   \n",
      "\n",
      "        wrong    wrongs  wrote   ya  yall  yea  yeah     years       yes  \\\n",
      "0    0.000000  0.000000    0.0  0.0   0.0  0.0   0.0  0.000000  0.054377   \n",
      "1    0.000000  0.000000    0.0  0.0   0.0  0.0   0.0  0.000000  0.145329   \n",
      "2    0.000000  0.000000    0.0  0.0   0.0  0.0   0.0  0.000000  0.295239   \n",
      "3    0.000000  0.000000    0.0  0.0   0.0  0.0   0.0  0.000000  0.000000   \n",
      "4    0.000000  0.000000    0.0  0.0   0.0  0.0   0.0  0.000000  0.000000   \n",
      "..        ...       ...    ...  ...   ...  ...   ...       ...       ...   \n",
      "420  0.000000  0.000000    0.0  0.0   0.0  0.0   0.0  0.000000  0.000000   \n",
      "421  0.000000  0.000000    0.0  0.0   0.0  0.0   0.0  0.000000  0.000000   \n",
      "422  0.000000  0.000000    0.0  0.0   0.0  0.0   0.0  0.000000  0.079245   \n",
      "423  0.250389  0.192458    0.0  0.0   0.0  0.0   0.0  0.103463  0.000000   \n",
      "424  0.000000  0.000000    0.0  0.0   0.0  0.0   0.0  0.000000  0.000000   \n",
      "\n",
      "     young  \n",
      "0      0.0  \n",
      "1      0.0  \n",
      "2      0.0  \n",
      "3      0.0  \n",
      "4      0.0  \n",
      "..     ...  \n",
      "420    0.0  \n",
      "421    0.0  \n",
      "422    0.0  \n",
      "423    0.0  \n",
      "424    0.0  \n",
      "\n",
      "[425 rows x 765 columns]\n"
     ]
    }
   ],
   "source": [
    "Kmeans_Clustering_tfidf_vec=p.DataFrame(X_train_tfidf_vec_Kmeans.toarray(),columns=ColumnNamesVec_Kmean)\n",
    "\n",
    "print(Kmeans_Clustering_tfidf_vec)"
   ]
  },
  {
   "cell_type": "code",
   "execution_count": 118,
   "metadata": {},
   "outputs": [
    {
     "name": "stdout",
     "output_type": "stream",
     "text": [
      "col_0         0   1\n",
      "row_0              \n",
      "Other        96  90\n",
      "Remorseful  132  58\n",
      "Resentment   38  11\n",
      "\n"
     ]
    }
   ],
   "source": [
    "\n",
    "k = 2\n",
    "\n",
    "km = KMeans(n_clusters=k, algorithm='auto', init='random', n_init=20, random_state=0, verbose=False)\n",
    "km.fit(Kmeans_Clustering_tfidf_vec)\n",
    "\n",
    "\n",
    "# cm = pd.crosstab(HMD_subset_labels, km.labels_)\n",
    "cm = p.crosstab(y, km.labels_)\n",
    "print(cm)\n",
    "print()"
   ]
  },
  {
   "cell_type": "code",
   "execution_count": 119,
   "metadata": {},
   "outputs": [
    {
     "name": "stdout",
     "output_type": "stream",
     "text": [
      "col_0       0  1    2\n",
      "row_0                \n",
      "Other       4  1  181\n",
      "Remorseful  3  0  187\n",
      "Resentment  1  0   48\n"
     ]
    }
   ],
   "source": [
    "# clustering using all labels and all features\n",
    "# transform feature values with zscore transformation\n",
    "\n",
    "from scipy.stats import zscore\n",
    "\n",
    "Kmeans_Clustering_tfidf_vec = Kmeans_Clustering_tfidf_vec.apply(zscore)\n",
    "k=3\n",
    "\n",
    "km3 = KMeans(n_clusters=k, algorithm='auto', init='random', n_init=20, random_state=0, verbose=False)\n",
    "km3.fit(Kmeans_Clustering_tfidf_vec)\n",
    "\n",
    "cm3 = p.crosstab(y, km3.labels_)\n",
    "print(cm3)"
   ]
  },
  {
   "cell_type": "markdown",
   "metadata": {},
   "source": [
    "## Let's Graph the Centroids"
   ]
  },
  {
   "cell_type": "code",
   "execution_count": 120,
   "metadata": {},
   "outputs": [
    {
     "name": "stdout",
     "output_type": "stream",
     "text": [
      "[[3.05337488e+01 4.37434273e+01 8.25906185e-07]\n",
      " [3.19596836e+01 6.74349576e-07 4.37434273e+01]\n",
      " [1.97123834e-08 3.19596836e+01 3.05337488e+01]]\n"
     ]
    },
    {
     "data": {
      "image/png": "[encoded data removed]",
      "text/plain": [
       "<Figure size 432x288 with 1 Axes>"
      ]
     },
     "metadata": {
      "needs_background": "light"
     },
     "output_type": "display_data"
    }
   ],
   "source": [
    "   \n",
    "centroids = km3.cluster_centers_\n",
    "\n",
    "transformed_centroids = km3.fit_transform(centroids)\n",
    "print(transformed_centroids)\n",
    "\n",
    "\n",
    "plt.scatter(transformed_centroids[:, 0], transformed_centroids[:, 1], marker='x')\n",
    "plt.show()\n",
    "\n",
    "# plt.savefig('Centroids.png', dpi=200) #save figure as ward_clusters"
   ]
  },
  {
   "cell_type": "markdown",
   "metadata": {},
   "source": [
    "## PCA for Scatter Plot"
   ]
  },
  {
   "cell_type": "code",
   "execution_count": 121,
   "metadata": {},
   "outputs": [],
   "source": [
    "\n",
    "%matplotlib inline\n",
    "from sklearn.decomposition import PCA\n",
    "import matplotlib.pyplot as plt\n",
    "\n",
    "from sklearn.cluster import MiniBatchKMeans"
   ]
  },
  {
   "cell_type": "code",
   "execution_count": 122,
   "metadata": {},
   "outputs": [
    {
     "name": "stdout",
     "output_type": "stream",
     "text": [
      "  (0, 386)\t0.12345165538372709\n",
      "  (0, 391)\t0.034323491578194275\n",
      "  (0, 709)\t0.07954013221930545\n",
      "  (0, 103)\t0.10435115720923616\n",
      "  (0, 337)\t0.09841170478686956\n",
      "  (0, 663)\t0.09592166163962057\n",
      "  (0, 700)\t0.09592166163962057\n",
      "  (0, 166)\t0.1212780723220203\n",
      "  (0, 217)\t0.12401103590652236\n",
      "  (0, 599)\t0.1079942852022143\n",
      "  (0, 403)\t0.13395839503787416\n",
      "  (0, 147)\t0.06918261184557005\n",
      "  (0, 363)\t0.10610259176767349\n",
      "  (0, 321)\t0.19996344232523505\n",
      "  (0, 276)\t0.08882912437152483\n",
      "  (0, 743)\t0.1011953361972439\n",
      "  (0, 483)\t0.16150474984269422\n",
      "  (0, 198)\t0.04174092394859431\n",
      "  (0, 177)\t0.12437581462252942\n",
      "  (0, 669)\t0.15247412238084618\n",
      "  (0, 381)\t0.1942678086833245\n",
      "  (0, 731)\t0.12437581462252942\n",
      "  (0, 633)\t0.19184332327924114\n",
      "  (0, 459)\t0.06665448077507836\n",
      "  (0, 605)\t0.4149346265701847\n",
      "  :\t:\n",
      "  (423, 244)\t0.2284029328107434\n",
      "  (423, 219)\t0.22855079760903596\n",
      "  (423, 391)\t0.09862519910445065\n",
      "  (423, 217)\t0.1781667969234234\n",
      "  (423, 147)\t0.09939473745395443\n",
      "  (423, 483)\t0.23203405855815604\n",
      "  (423, 669)\t0.10952987288479155\n",
      "  (424, 425)\t0.3964888251409586\n",
      "  (424, 406)\t0.19243757809000633\n",
      "  (424, 684)\t0.19243757809000633\n",
      "  (424, 16)\t0.3442673110661774\n",
      "  (424, 55)\t0.15289092595889872\n",
      "  (424, 517)\t0.16632682105261573\n",
      "  (424, 200)\t0.3508227237917394\n",
      "  (424, 268)\t0.16911845796568284\n",
      "  (424, 71)\t0.1790016829962893\n",
      "  (424, 481)\t0.16911845796568284\n",
      "  (424, 722)\t0.14602289849569813\n",
      "  (424, 368)\t0.1899947068636427\n",
      "  (424, 156)\t0.15105300732030122\n",
      "  (424, 375)\t0.4770389736909755\n",
      "  (424, 110)\t0.11837438265239421\n",
      "  (424, 244)\t0.08446543090010225\n",
      "  (424, 187)\t0.1982444125704793\n",
      "  (424, 621)\t0.13638192420152642\n"
     ]
    }
   ],
   "source": [
    "# features = unigram_count_vectorizer.fit_transform(X)\n",
    "\n",
    "features = unigram_tfidf_vectorizer.fit_transform(X)\n",
    "\n",
    "print(features)\n",
    "# print(X.text.values)"
   ]
  },
  {
   "cell_type": "code",
   "execution_count": 123,
   "metadata": {},
   "outputs": [],
   "source": [
    "# seed the pseudorandom number generator\n",
    "# from random import seed\n",
    "# from random import random\n",
    "\n",
    "import random\n",
    "\n",
    "r = random.random()\n",
    "\n",
    "# for reproducibility\n",
    "random_state = int(r)"
   ]
  },
  {
   "cell_type": "code",
   "execution_count": 124,
   "metadata": {},
   "outputs": [
    {
     "data": {
      "text/plain": [
       "MiniBatchKMeans(n_clusters=3, random_state=0)"
      ]
     },
     "execution_count": 124,
     "metadata": {},
     "output_type": "execute_result"
    }
   ],
   "source": [
    "cls = MiniBatchKMeans(n_clusters=3, random_state=random_state)\n",
    "cls.fit(features)"
   ]
  },
  {
   "cell_type": "code",
   "execution_count": 125,
   "metadata": {},
   "outputs": [
    {
     "data": {
      "text/plain": [
       "array([1, 1, 1, 2, 0, 2, 1, 0, 2, 0, 2, 1, 1, 0, 2, 2, 1, 1, 0, 2, 0, 0,\n",
       "       0, 0, 0, 0, 0, 2, 1, 2, 0, 1, 0, 2, 0, 2, 2, 1, 0, 0, 2, 0, 1, 0,\n",
       "       0, 0, 1, 1, 2, 0, 0, 0, 0, 0, 0, 2, 0, 0, 1, 2, 2, 0, 0, 2, 1, 0,\n",
       "       0, 1, 0, 1, 2, 2, 1, 0, 0, 1, 1, 2, 2, 1, 1, 2, 2, 2, 0, 0, 2, 0,\n",
       "       0, 1, 1, 2, 0, 2, 0, 1, 2, 2, 2, 1, 0, 0, 0, 2, 0, 0, 0, 0, 0, 2,\n",
       "       0, 0, 2, 1, 1, 0, 2, 1, 2, 1, 2, 2, 1, 0, 0, 0, 0, 0, 0, 0, 1, 2,\n",
       "       1, 2, 0, 0, 2, 0, 0, 0, 1, 0, 2, 0, 2, 0, 0, 0, 2, 1, 1, 1, 1, 1,\n",
       "       1, 2, 1, 0, 0, 0, 0, 0, 1, 2, 0, 2, 0, 2, 0, 0, 1, 2, 2, 1, 2, 0,\n",
       "       2, 0, 2, 2, 1, 1, 0, 0, 1, 0, 0, 1, 2, 2, 1, 1, 1, 2, 2, 0, 2, 2,\n",
       "       1, 1, 1, 2, 0, 1, 2, 0, 2, 0, 2, 1, 2, 1, 1, 1, 0, 0, 1, 1, 0, 1,\n",
       "       2, 2, 2, 2, 2, 2, 2, 2, 1, 1, 1, 1, 2, 2, 2, 1, 2, 0, 0, 1, 2, 1,\n",
       "       1, 2, 2, 2, 2, 1, 2, 0, 0, 1, 1, 2, 2, 1, 0, 2, 2, 1, 1, 0, 2, 1,\n",
       "       1, 1, 0, 1, 1, 2, 0, 0, 1, 1, 1, 2, 2, 2, 0, 2, 2, 0, 2, 1, 2, 2,\n",
       "       2, 2, 1, 2, 1, 2, 1, 2, 2, 0, 0, 0, 0, 2, 2, 2, 2, 1, 0, 0, 1, 1,\n",
       "       2, 2, 1, 0, 2, 2, 2, 2, 0, 1, 0, 0, 0, 2, 2, 0, 0, 2, 0, 1, 2, 2,\n",
       "       1, 2, 1, 2, 1, 1, 2, 2, 2, 2, 2, 1, 2, 1, 1, 2, 2, 1, 1, 2, 0, 2,\n",
       "       0, 1, 2, 2, 1, 2, 2, 2, 0, 2, 2, 1, 0, 2, 2, 2, 2, 2, 1, 0, 1, 0,\n",
       "       0, 2, 2, 2, 2, 2, 0, 2, 0, 2, 0, 2, 2, 2, 0, 2, 2, 0, 2, 2, 2, 0,\n",
       "       1, 1, 2, 2, 2, 2, 2, 2, 2, 2, 0, 1, 0, 1, 1, 0, 1, 2, 0, 2, 2, 2,\n",
       "       2, 2, 2, 1, 1, 2, 2])"
      ]
     },
     "execution_count": 125,
     "metadata": {},
     "output_type": "execute_result"
    }
   ],
   "source": [
    "# predict cluster labels for new dataset\n",
    "cls.predict(features)\n",
    "\n",
    "# to get cluster labels for the dataset used while\n",
    "# training the model (used for models that does not\n",
    "# support prediction on new dataset).\n",
    "cls.labels_"
   ]
  },
  {
   "cell_type": "code",
   "execution_count": 129,
   "metadata": {},
   "outputs": [],
   "source": [
    "# reduce the features to 2D\n",
    "pca = PCA(n_components=2, random_state=random_state)\n",
    "reduced_features = pca.fit_transform(features.toarray())"
   ]
  },
  {
   "cell_type": "code",
   "execution_count": 130,
   "metadata": {},
   "outputs": [],
   "source": [
    "# reduce the cluster centers to 2D\n",
    "reduced_cluster_centers = pca.transform(cls.cluster_centers_)"
   ]
  },
  {
   "cell_type": "code",
   "execution_count": 131,
   "metadata": {},
   "outputs": [
    {
     "data": {
      "text/plain": [
       "<matplotlib.collections.PathCollection at 0x23b76dcea90>"
      ]
     },
     "execution_count": 131,
     "metadata": {},
     "output_type": "execute_result"
    },
    {
     "data": {
      "image/png": "[encoded data removed]",
      "text/plain": [
       "<Figure size 432x288 with 1 Axes>"
      ]
     },
     "metadata": {
      "needs_background": "light"
     },
     "output_type": "display_data"
    }
   ],
   "source": [
    "plt.scatter(reduced_features[:,0], reduced_features[:,1], c=cls.predict(features))\n",
    "plt.scatter(reduced_cluster_centers[:, 0], reduced_cluster_centers[:,1], marker='x', s=150, c='b')\n",
    "\n",
    "# plt.savefig('Cluster_3.png', dpi=200) #save figure as ward_clusters"
   ]
  },
  {
   "cell_type": "markdown",
   "metadata": {},
   "source": [
    "## Evaluation\n",
    "Evaluation for unsupervised learning algorithms is a bit difficult and requires human judgement but there are some metrics which you might use. There are two kinds of metrics you can use depending on whether or not you have the labels. For most of the clustering problems, you probably won’t have labels. If you had you’d do classification instead. But it is what it is. Here are a couple of them which I want to show you but you can read about other metrics on your own.\n",
    "\n",
    "Evalauation with labelled dataset\n",
    "\n",
    "If you have labelled dataset then you can use few metrics that give you an idea of how good your clustering model is. The one I’m going to show you here is homogeneity_score but you can find and read about many other metrics in sklearn.metrics module. As per the documentation, the score ranges between 0 and 1 where 1 stands for perfectly homogeneous labeling."
   ]
  },
  {
   "cell_type": "code",
   "execution_count": 132,
   "metadata": {},
   "outputs": [
    {
     "data": {
      "text/plain": [
       "0.19695785141927807"
      ]
     },
     "execution_count": 132,
     "metadata": {},
     "output_type": "execute_result"
    }
   ],
   "source": [
    "from sklearn.metrics import homogeneity_score\n",
    "\n",
    "# homogeneity_score(df.label, cls.predict(features))\n",
    "homogeneity_score(y, cls.predict(features))"
   ]
  },
  {
   "cell_type": "markdown",
   "metadata": {},
   "source": [
    "## Evaluation with unlabeled dataset\n",
    "\n",
    "If you don’t have labels for your dataset, then you can still evaluate your clustering model with some metrics. One of them is Silhouette Coefficient. From the sklearn’s documentation:\n",
    "\n",
    "The Silhouette Coefficient is calculated using the mean intra-cluster distance (a) and the mean nearest-cluster distance (b) for each sample. The Silhouette Coefficient for a sample is (b - a) / max(a,b). To clarify, b is the distance between a sample and the nearest cluster that the sample is not a part of.\n",
    "\n",
    "The best value is 1 and the worst value is -1. Values near 0 indicate overlapping clusters. Negative values generally indicate that a sample has been assigned to the wrong cluster, as a different cluster is more similar."
   ]
  },
  {
   "cell_type": "code",
   "execution_count": 133,
   "metadata": {},
   "outputs": [
    {
     "data": {
      "text/plain": [
       "0.012398785096084285"
      ]
     },
     "execution_count": 133,
     "metadata": {},
     "output_type": "execute_result"
    }
   ],
   "source": [
    "from sklearn.metrics import silhouette_score\n",
    "silhouette_score(features, labels=cls.predict(features))"
   ]
  },
  {
   "cell_type": "markdown",
   "metadata": {},
   "source": [
    "0.012398785096084285\n",
    "\n",
    "So this value means that our clusters are overlapping. We can also see this in the plot above. Perhaps tuning different parameters for feature extractor and the clustering model will increase this score."
   ]
  },
  {
   "cell_type": "markdown",
   "metadata": {},
   "source": [
    "# Hierarchical Document Clustering"
   ]
  },
  {
   "cell_type": "code",
   "execution_count": 134,
   "metadata": {},
   "outputs": [
    {
     "data": {
      "text/plain": [
       "<function print>"
      ]
     },
     "execution_count": 134,
     "metadata": {},
     "output_type": "execute_result"
    }
   ],
   "source": [
    "from sklearn.metrics.pairwise import cosine_similarity\n",
    "dist = 1 - cosine_similarity(Kmeans_Clustering_tfidf_vec)\n",
    "print"
   ]
  },
  {
   "cell_type": "code",
   "execution_count": 135,
   "metadata": {},
   "outputs": [
    {
     "data": {
      "image/png": "[encoded data removed]",
      "text/plain": [
       "<Figure size 1080x1440 with 1 Axes>"
      ]
     },
     "metadata": {
      "needs_background": "light"
     },
     "output_type": "display_data"
    }
   ],
   "source": [
    "\n",
    "from scipy.cluster.hierarchy import ward, dendrogram\n",
    "\n",
    "linkage_matrix = ward(dist) #define the linkage_matrix using ward clustering pre-computed distances\n",
    "\n",
    "fig, ax = plt.subplots(figsize=(15, 20)) # set size\n",
    "ax = dendrogram(linkage_matrix, orientation=\"right\", labels=y);\n",
    "\n",
    "plt.tick_params(\\\n",
    "    axis= 'x',          # changes apply to the x-axis\n",
    "    which='both',      # both major and minor ticks are affected\n",
    "    bottom='off',      # ticks along the bottom edge are off\n",
    "    top='off',         # ticks along the top edge are off\n",
    "    labelbottom='off')\n",
    "\n",
    "plt.tight_layout() #show plot with tight layout\n",
    "\n"
   ]
  },
  {
   "cell_type": "code",
   "execution_count": 136,
   "metadata": {},
   "outputs": [],
   "source": [
    "# plt.close()"
   ]
  },
  {
   "cell_type": "markdown",
   "metadata": {},
   "source": [
    "## Rerun the Hierarchical Document Clustering with better label"
   ]
  },
  {
   "cell_type": "code",
   "execution_count": 137,
   "metadata": {},
   "outputs": [],
   "source": [
    "train=p.read_csv(\"C:/Users/veo78/IST 736 Text Mining/offenders_Label_ROR _Hierarchy_Clustering.csv\", encoding= 'unicode_escape')\n",
    "y2=train['Label'].values\n",
    "# X=train['Last Statement'].values"
   ]
  },
  {
   "cell_type": "code",
   "execution_count": 138,
   "metadata": {},
   "outputs": [
    {
     "data": {
      "image/png": "[encoded data removed]",
      "text/plain": [
       "<Figure size 1080x1440 with 1 Axes>"
      ]
     },
     "metadata": {
      "needs_background": "light"
     },
     "output_type": "display_data"
    }
   ],
   "source": [
    "\n",
    "from scipy.cluster.hierarchy import ward, dendrogram\n",
    "\n",
    "linkage_matrix = ward(dist) #define the linkage_matrix using ward clustering pre-computed distances\n",
    "\n",
    "fig, ax = plt.subplots(figsize=(15, 20)) # set size\n",
    "ax = dendrogram(linkage_matrix, orientation=\"right\", labels=y2);\n",
    "\n",
    "plt.tick_params(\\\n",
    "    axis= 'x',          # changes apply to the x-axis\n",
    "    which='both',      # both major and minor ticks are affected\n",
    "    bottom='off',      # ticks along the bottom edge are off\n",
    "    top='off',         # ticks along the top edge are off\n",
    "    labelbottom='off')\n",
    "\n",
    "plt.tight_layout() #show plot with tight layout\n",
    "\n"
   ]
  },
  {
   "cell_type": "code",
   "execution_count": 139,
   "metadata": {},
   "outputs": [],
   "source": [
    "# plt.close()"
   ]
  },
  {
   "cell_type": "markdown",
   "metadata": {},
   "source": [
    "## WSS - Elbow Method"
   ]
  },
  {
   "cell_type": "code",
   "execution_count": 141,
   "metadata": {},
   "outputs": [
    {
     "data": {
      "text/html": [
       "<div>\n",
       "<style scoped>\n",
       "    .dataframe tbody tr th:only-of-type {\n",
       "        vertical-align: middle;\n",
       "    }\n",
       "\n",
       "    .dataframe tbody tr th {\n",
       "        vertical-align: top;\n",
       "    }\n",
       "\n",
       "    .dataframe thead th {\n",
       "        text-align: right;\n",
       "    }\n",
       "</style>\n",
       "<table border=\"1\" class=\"dataframe\">\n",
       "  <thead>\n",
       "    <tr style=\"text-align: right;\">\n",
       "      <th></th>\n",
       "      <th>10</th>\n",
       "      <th>12</th>\n",
       "      <th>13</th>\n",
       "      <th>14</th>\n",
       "      <th>able</th>\n",
       "      <th>accept</th>\n",
       "      <th>accident</th>\n",
       "      <th>act</th>\n",
       "      <th>actions</th>\n",
       "      <th>address</th>\n",
       "      <th>...</th>\n",
       "      <th>wrong</th>\n",
       "      <th>wrongs</th>\n",
       "      <th>wrote</th>\n",
       "      <th>ya</th>\n",
       "      <th>yall</th>\n",
       "      <th>yea</th>\n",
       "      <th>yeah</th>\n",
       "      <th>years</th>\n",
       "      <th>yes</th>\n",
       "      <th>young</th>\n",
       "    </tr>\n",
       "  </thead>\n",
       "  <tbody>\n",
       "    <tr>\n",
       "      <th>0</th>\n",
       "      <td>-0.103943</td>\n",
       "      <td>-0.076695</td>\n",
       "      <td>-0.063592</td>\n",
       "      <td>-0.078893</td>\n",
       "      <td>-0.126284</td>\n",
       "      <td>-0.110577</td>\n",
       "      <td>-0.078712</td>\n",
       "      <td>-0.0901</td>\n",
       "      <td>-0.101076</td>\n",
       "      <td>-0.139323</td>\n",
       "      <td>...</td>\n",
       "      <td>-0.23124</td>\n",
       "      <td>-0.069774</td>\n",
       "      <td>-0.114508</td>\n",
       "      <td>-0.318235</td>\n",
       "      <td>-0.093375</td>\n",
       "      <td>-0.096736</td>\n",
       "      <td>-0.109065</td>\n",
       "      <td>-0.329104</td>\n",
       "      <td>0.274963</td>\n",
       "      <td>-0.09678</td>\n",
       "    </tr>\n",
       "    <tr>\n",
       "      <th>1</th>\n",
       "      <td>-0.103943</td>\n",
       "      <td>-0.076695</td>\n",
       "      <td>-0.063592</td>\n",
       "      <td>-0.078893</td>\n",
       "      <td>-0.126284</td>\n",
       "      <td>-0.110577</td>\n",
       "      <td>-0.078712</td>\n",
       "      <td>-0.0901</td>\n",
       "      <td>-0.101076</td>\n",
       "      <td>-0.139323</td>\n",
       "      <td>...</td>\n",
       "      <td>-0.23124</td>\n",
       "      <td>-0.069774</td>\n",
       "      <td>-0.114508</td>\n",
       "      <td>-0.318235</td>\n",
       "      <td>-0.093375</td>\n",
       "      <td>-0.096736</td>\n",
       "      <td>-0.109065</td>\n",
       "      <td>-0.329104</td>\n",
       "      <td>1.462275</td>\n",
       "      <td>-0.09678</td>\n",
       "    </tr>\n",
       "    <tr>\n",
       "      <th>2</th>\n",
       "      <td>-0.103943</td>\n",
       "      <td>-0.076695</td>\n",
       "      <td>-0.063592</td>\n",
       "      <td>-0.078893</td>\n",
       "      <td>-0.126284</td>\n",
       "      <td>-0.110577</td>\n",
       "      <td>-0.078712</td>\n",
       "      <td>-0.0901</td>\n",
       "      <td>-0.101076</td>\n",
       "      <td>-0.139323</td>\n",
       "      <td>...</td>\n",
       "      <td>-0.23124</td>\n",
       "      <td>-0.069774</td>\n",
       "      <td>-0.114508</td>\n",
       "      <td>-0.318235</td>\n",
       "      <td>-0.093375</td>\n",
       "      <td>-0.096736</td>\n",
       "      <td>-0.109065</td>\n",
       "      <td>-0.329104</td>\n",
       "      <td>3.419241</td>\n",
       "      <td>-0.09678</td>\n",
       "    </tr>\n",
       "    <tr>\n",
       "      <th>3</th>\n",
       "      <td>-0.103943</td>\n",
       "      <td>-0.076695</td>\n",
       "      <td>-0.063592</td>\n",
       "      <td>-0.078893</td>\n",
       "      <td>-0.126284</td>\n",
       "      <td>-0.110577</td>\n",
       "      <td>-0.078712</td>\n",
       "      <td>-0.0901</td>\n",
       "      <td>-0.101076</td>\n",
       "      <td>-0.139323</td>\n",
       "      <td>...</td>\n",
       "      <td>-0.23124</td>\n",
       "      <td>-0.069774</td>\n",
       "      <td>-0.114508</td>\n",
       "      <td>-0.318235</td>\n",
       "      <td>-0.093375</td>\n",
       "      <td>-0.096736</td>\n",
       "      <td>-0.109065</td>\n",
       "      <td>-0.329104</td>\n",
       "      <td>-0.434892</td>\n",
       "      <td>-0.09678</td>\n",
       "    </tr>\n",
       "    <tr>\n",
       "      <th>4</th>\n",
       "      <td>-0.103943</td>\n",
       "      <td>-0.076695</td>\n",
       "      <td>-0.063592</td>\n",
       "      <td>-0.078893</td>\n",
       "      <td>-0.126284</td>\n",
       "      <td>-0.110577</td>\n",
       "      <td>-0.078712</td>\n",
       "      <td>-0.0901</td>\n",
       "      <td>-0.101076</td>\n",
       "      <td>-0.139323</td>\n",
       "      <td>...</td>\n",
       "      <td>-0.23124</td>\n",
       "      <td>-0.069774</td>\n",
       "      <td>-0.114508</td>\n",
       "      <td>-0.318235</td>\n",
       "      <td>-0.093375</td>\n",
       "      <td>-0.096736</td>\n",
       "      <td>-0.109065</td>\n",
       "      <td>-0.329104</td>\n",
       "      <td>-0.434892</td>\n",
       "      <td>-0.09678</td>\n",
       "    </tr>\n",
       "  </tbody>\n",
       "</table>\n",
       "<p>5 rows × 765 columns</p>\n",
       "</div>"
      ],
      "text/plain": [
       "         10        12        13        14      able    accept  accident  \\\n",
       "0 -0.103943 -0.076695 -0.063592 -0.078893 -0.126284 -0.110577 -0.078712   \n",
       "1 -0.103943 -0.076695 -0.063592 -0.078893 -0.126284 -0.110577 -0.078712   \n",
       "2 -0.103943 -0.076695 -0.063592 -0.078893 -0.126284 -0.110577 -0.078712   \n",
       "3 -0.103943 -0.076695 -0.063592 -0.078893 -0.126284 -0.110577 -0.078712   \n",
       "4 -0.103943 -0.076695 -0.063592 -0.078893 -0.126284 -0.110577 -0.078712   \n",
       "\n",
       "      act   actions   address  ...    wrong    wrongs     wrote        ya  \\\n",
       "0 -0.0901 -0.101076 -0.139323  ... -0.23124 -0.069774 -0.114508 -0.318235   \n",
       "1 -0.0901 -0.101076 -0.139323  ... -0.23124 -0.069774 -0.114508 -0.318235   \n",
       "2 -0.0901 -0.101076 -0.139323  ... -0.23124 -0.069774 -0.114508 -0.318235   \n",
       "3 -0.0901 -0.101076 -0.139323  ... -0.23124 -0.069774 -0.114508 -0.318235   \n",
       "4 -0.0901 -0.101076 -0.139323  ... -0.23124 -0.069774 -0.114508 -0.318235   \n",
       "\n",
       "       yall       yea      yeah     years       yes    young  \n",
       "0 -0.093375 -0.096736 -0.109065 -0.329104  0.274963 -0.09678  \n",
       "1 -0.093375 -0.096736 -0.109065 -0.329104  1.462275 -0.09678  \n",
       "2 -0.093375 -0.096736 -0.109065 -0.329104  3.419241 -0.09678  \n",
       "3 -0.093375 -0.096736 -0.109065 -0.329104 -0.434892 -0.09678  \n",
       "4 -0.093375 -0.096736 -0.109065 -0.329104 -0.434892 -0.09678  \n",
       "\n",
       "[5 rows x 765 columns]"
      ]
     },
     "execution_count": 141,
     "metadata": {},
     "output_type": "execute_result"
    }
   ],
   "source": [
    "Kmeans_Clustering_tfidf_vec.head()"
   ]
  },
  {
   "cell_type": "code",
   "execution_count": 142,
   "metadata": {},
   "outputs": [],
   "source": [
    "# Initialize an arbitrary center point\n",
    "\n",
    "# means = [[4, 3], [5,5]]\n",
    "\n",
    "# clusterer = KMeansClusterer(2, euclidean_distance, initial_means=means)\n",
    "# clusters = clusterer.cluster(Kmeans_Clustering_tfidf_vec, True, trace=True)\n",
    "\n",
    "# print('Clustered:', Kmeans_Clustering_tfidf_vec)\n",
    "# print('As:', clusters)\n",
    "# print('Means:', clusterer.means())"
   ]
  },
  {
   "cell_type": "code",
   "execution_count": 143,
   "metadata": {},
   "outputs": [],
   "source": [
    "from sklearn.cluster import KMeans\n",
    "import seaborn as sns\n",
    "from sklearn.preprocessing import StandardScaler"
   ]
  },
  {
   "cell_type": "code",
   "execution_count": 145,
   "metadata": {},
   "outputs": [
    {
     "ename": "ValueError",
     "evalue": "x and y must have same first dimension, but have shapes (9,) and (1,)",
     "output_type": "error",
     "traceback": [
      "\u001b[1;31m---------------------------------------------------------------------------\u001b[0m",
      "\u001b[1;31mValueError\u001b[0m                                Traceback (most recent call last)",
      "\u001b[1;32m<ipython-input-145-345597c145a4>\u001b[0m in \u001b[0;36m<module>\u001b[1;34m\u001b[0m\n\u001b[0;32m      9\u001b[0m     \u001b[0mwss\u001b[0m\u001b[1;33m.\u001b[0m\u001b[0mappend\u001b[0m\u001b[1;33m(\u001b[0m\u001b[0mkm\u001b[0m\u001b[1;33m.\u001b[0m\u001b[0minertia_\u001b[0m\u001b[1;33m)\u001b[0m\u001b[1;33m\u001b[0m\u001b[1;33m\u001b[0m\u001b[0m\n\u001b[0;32m     10\u001b[0m \u001b[1;33m\u001b[0m\u001b[0m\n\u001b[1;32m---> 11\u001b[1;33m     \u001b[0mplt\u001b[0m\u001b[1;33m.\u001b[0m\u001b[0mplot\u001b[0m\u001b[1;33m(\u001b[0m\u001b[0mK\u001b[0m\u001b[1;33m,\u001b[0m \u001b[0mwss\u001b[0m\u001b[1;33m,\u001b[0m \u001b[1;34m'bx-'\u001b[0m\u001b[1;33m)\u001b[0m\u001b[1;33m\u001b[0m\u001b[1;33m\u001b[0m\u001b[0m\n\u001b[0m\u001b[0;32m     12\u001b[0m     \u001b[0mplt\u001b[0m\u001b[1;33m.\u001b[0m\u001b[0mxlabel\u001b[0m\u001b[1;33m(\u001b[0m\u001b[1;34m'No of Clusters'\u001b[0m\u001b[1;33m)\u001b[0m\u001b[1;33m\u001b[0m\u001b[1;33m\u001b[0m\u001b[0m\n\u001b[0;32m     13\u001b[0m     \u001b[0mplt\u001b[0m\u001b[1;33m.\u001b[0m\u001b[0mylabel\u001b[0m\u001b[1;33m(\u001b[0m\u001b[1;34m'WSS - Sum of squared distance'\u001b[0m\u001b[1;33m)\u001b[0m\u001b[1;33m\u001b[0m\u001b[1;33m\u001b[0m\u001b[0m\n",
      "\u001b[1;32m~\\Anaconda3\\lib\\site-packages\\matplotlib\\pyplot.py\u001b[0m in \u001b[0;36mplot\u001b[1;34m(scalex, scaley, data, *args, **kwargs)\u001b[0m\n\u001b[0;32m   2811\u001b[0m     return gca().plot(\n\u001b[0;32m   2812\u001b[0m         *args, scalex=scalex, scaley=scaley, **({\"data\": data} if data\n\u001b[1;32m-> 2813\u001b[1;33m         is not None else {}), **kwargs)\n\u001b[0m\u001b[0;32m   2814\u001b[0m \u001b[1;33m\u001b[0m\u001b[0m\n\u001b[0;32m   2815\u001b[0m \u001b[1;33m\u001b[0m\u001b[0m\n",
      "\u001b[1;32m~\\Anaconda3\\lib\\site-packages\\matplotlib\\__init__.py\u001b[0m in \u001b[0;36minner\u001b[1;34m(ax, data, *args, **kwargs)\u001b[0m\n\u001b[0;32m   1808\u001b[0m                         \u001b[1;34m\"the Matplotlib list!)\"\u001b[0m \u001b[1;33m%\u001b[0m \u001b[1;33m(\u001b[0m\u001b[0mlabel_namer\u001b[0m\u001b[1;33m,\u001b[0m \u001b[0mfunc\u001b[0m\u001b[1;33m.\u001b[0m\u001b[0m__name__\u001b[0m\u001b[1;33m)\u001b[0m\u001b[1;33m,\u001b[0m\u001b[1;33m\u001b[0m\u001b[1;33m\u001b[0m\u001b[0m\n\u001b[0;32m   1809\u001b[0m                         RuntimeWarning, stacklevel=2)\n\u001b[1;32m-> 1810\u001b[1;33m             \u001b[1;32mreturn\u001b[0m \u001b[0mfunc\u001b[0m\u001b[1;33m(\u001b[0m\u001b[0max\u001b[0m\u001b[1;33m,\u001b[0m \u001b[1;33m*\u001b[0m\u001b[0margs\u001b[0m\u001b[1;33m,\u001b[0m \u001b[1;33m**\u001b[0m\u001b[0mkwargs\u001b[0m\u001b[1;33m)\u001b[0m\u001b[1;33m\u001b[0m\u001b[1;33m\u001b[0m\u001b[0m\n\u001b[0m\u001b[0;32m   1811\u001b[0m \u001b[1;33m\u001b[0m\u001b[0m\n\u001b[0;32m   1812\u001b[0m         inner.__doc__ = _add_data_doc(inner.__doc__,\n",
      "\u001b[1;32m~\\Anaconda3\\lib\\site-packages\\matplotlib\\axes\\_axes.py\u001b[0m in \u001b[0;36mplot\u001b[1;34m(self, scalex, scaley, *args, **kwargs)\u001b[0m\n\u001b[0;32m   1609\u001b[0m         \u001b[0mkwargs\u001b[0m \u001b[1;33m=\u001b[0m \u001b[0mcbook\u001b[0m\u001b[1;33m.\u001b[0m\u001b[0mnormalize_kwargs\u001b[0m\u001b[1;33m(\u001b[0m\u001b[0mkwargs\u001b[0m\u001b[1;33m,\u001b[0m \u001b[0mmlines\u001b[0m\u001b[1;33m.\u001b[0m\u001b[0mLine2D\u001b[0m\u001b[1;33m.\u001b[0m\u001b[0m_alias_map\u001b[0m\u001b[1;33m)\u001b[0m\u001b[1;33m\u001b[0m\u001b[1;33m\u001b[0m\u001b[0m\n\u001b[0;32m   1610\u001b[0m \u001b[1;33m\u001b[0m\u001b[0m\n\u001b[1;32m-> 1611\u001b[1;33m         \u001b[1;32mfor\u001b[0m \u001b[0mline\u001b[0m \u001b[1;32min\u001b[0m \u001b[0mself\u001b[0m\u001b[1;33m.\u001b[0m\u001b[0m_get_lines\u001b[0m\u001b[1;33m(\u001b[0m\u001b[1;33m*\u001b[0m\u001b[0margs\u001b[0m\u001b[1;33m,\u001b[0m \u001b[1;33m**\u001b[0m\u001b[0mkwargs\u001b[0m\u001b[1;33m)\u001b[0m\u001b[1;33m:\u001b[0m\u001b[1;33m\u001b[0m\u001b[1;33m\u001b[0m\u001b[0m\n\u001b[0m\u001b[0;32m   1612\u001b[0m             \u001b[0mself\u001b[0m\u001b[1;33m.\u001b[0m\u001b[0madd_line\u001b[0m\u001b[1;33m(\u001b[0m\u001b[0mline\u001b[0m\u001b[1;33m)\u001b[0m\u001b[1;33m\u001b[0m\u001b[1;33m\u001b[0m\u001b[0m\n\u001b[0;32m   1613\u001b[0m             \u001b[0mlines\u001b[0m\u001b[1;33m.\u001b[0m\u001b[0mappend\u001b[0m\u001b[1;33m(\u001b[0m\u001b[0mline\u001b[0m\u001b[1;33m)\u001b[0m\u001b[1;33m\u001b[0m\u001b[1;33m\u001b[0m\u001b[0m\n",
      "\u001b[1;32m~\\Anaconda3\\lib\\site-packages\\matplotlib\\axes\\_base.py\u001b[0m in \u001b[0;36m_grab_next_args\u001b[1;34m(self, *args, **kwargs)\u001b[0m\n\u001b[0;32m    391\u001b[0m                 \u001b[0mthis\u001b[0m \u001b[1;33m+=\u001b[0m \u001b[0margs\u001b[0m\u001b[1;33m[\u001b[0m\u001b[1;36m0\u001b[0m\u001b[1;33m]\u001b[0m\u001b[1;33m,\u001b[0m\u001b[1;33m\u001b[0m\u001b[1;33m\u001b[0m\u001b[0m\n\u001b[0;32m    392\u001b[0m                 \u001b[0margs\u001b[0m \u001b[1;33m=\u001b[0m \u001b[0margs\u001b[0m\u001b[1;33m[\u001b[0m\u001b[1;36m1\u001b[0m\u001b[1;33m:\u001b[0m\u001b[1;33m]\u001b[0m\u001b[1;33m\u001b[0m\u001b[1;33m\u001b[0m\u001b[0m\n\u001b[1;32m--> 393\u001b[1;33m             \u001b[1;32myield\u001b[0m \u001b[1;32mfrom\u001b[0m \u001b[0mself\u001b[0m\u001b[1;33m.\u001b[0m\u001b[0m_plot_args\u001b[0m\u001b[1;33m(\u001b[0m\u001b[0mthis\u001b[0m\u001b[1;33m,\u001b[0m \u001b[0mkwargs\u001b[0m\u001b[1;33m)\u001b[0m\u001b[1;33m\u001b[0m\u001b[1;33m\u001b[0m\u001b[0m\n\u001b[0m\u001b[0;32m    394\u001b[0m \u001b[1;33m\u001b[0m\u001b[0m\n\u001b[0;32m    395\u001b[0m \u001b[1;33m\u001b[0m\u001b[0m\n",
      "\u001b[1;32m~\\Anaconda3\\lib\\site-packages\\matplotlib\\axes\\_base.py\u001b[0m in \u001b[0;36m_plot_args\u001b[1;34m(self, tup, kwargs)\u001b[0m\n\u001b[0;32m    368\u001b[0m             \u001b[0mx\u001b[0m\u001b[1;33m,\u001b[0m \u001b[0my\u001b[0m \u001b[1;33m=\u001b[0m \u001b[0mindex_of\u001b[0m\u001b[1;33m(\u001b[0m\u001b[0mtup\u001b[0m\u001b[1;33m[\u001b[0m\u001b[1;33m-\u001b[0m\u001b[1;36m1\u001b[0m\u001b[1;33m]\u001b[0m\u001b[1;33m)\u001b[0m\u001b[1;33m\u001b[0m\u001b[1;33m\u001b[0m\u001b[0m\n\u001b[0;32m    369\u001b[0m \u001b[1;33m\u001b[0m\u001b[0m\n\u001b[1;32m--> 370\u001b[1;33m         \u001b[0mx\u001b[0m\u001b[1;33m,\u001b[0m \u001b[0my\u001b[0m \u001b[1;33m=\u001b[0m \u001b[0mself\u001b[0m\u001b[1;33m.\u001b[0m\u001b[0m_xy_from_xy\u001b[0m\u001b[1;33m(\u001b[0m\u001b[0mx\u001b[0m\u001b[1;33m,\u001b[0m \u001b[0my\u001b[0m\u001b[1;33m)\u001b[0m\u001b[1;33m\u001b[0m\u001b[1;33m\u001b[0m\u001b[0m\n\u001b[0m\u001b[0;32m    371\u001b[0m \u001b[1;33m\u001b[0m\u001b[0m\n\u001b[0;32m    372\u001b[0m         \u001b[1;32mif\u001b[0m \u001b[0mself\u001b[0m\u001b[1;33m.\u001b[0m\u001b[0mcommand\u001b[0m \u001b[1;33m==\u001b[0m \u001b[1;34m'plot'\u001b[0m\u001b[1;33m:\u001b[0m\u001b[1;33m\u001b[0m\u001b[1;33m\u001b[0m\u001b[0m\n",
      "\u001b[1;32m~\\Anaconda3\\lib\\site-packages\\matplotlib\\axes\\_base.py\u001b[0m in \u001b[0;36m_xy_from_xy\u001b[1;34m(self, x, y)\u001b[0m\n\u001b[0;32m    229\u001b[0m         \u001b[1;32mif\u001b[0m \u001b[0mx\u001b[0m\u001b[1;33m.\u001b[0m\u001b[0mshape\u001b[0m\u001b[1;33m[\u001b[0m\u001b[1;36m0\u001b[0m\u001b[1;33m]\u001b[0m \u001b[1;33m!=\u001b[0m \u001b[0my\u001b[0m\u001b[1;33m.\u001b[0m\u001b[0mshape\u001b[0m\u001b[1;33m[\u001b[0m\u001b[1;36m0\u001b[0m\u001b[1;33m]\u001b[0m\u001b[1;33m:\u001b[0m\u001b[1;33m\u001b[0m\u001b[1;33m\u001b[0m\u001b[0m\n\u001b[0;32m    230\u001b[0m             raise ValueError(\"x and y must have same first dimension, but \"\n\u001b[1;32m--> 231\u001b[1;33m                              \"have shapes {} and {}\".format(x.shape, y.shape))\n\u001b[0m\u001b[0;32m    232\u001b[0m         \u001b[1;32mif\u001b[0m \u001b[0mx\u001b[0m\u001b[1;33m.\u001b[0m\u001b[0mndim\u001b[0m \u001b[1;33m>\u001b[0m \u001b[1;36m2\u001b[0m \u001b[1;32mor\u001b[0m \u001b[0my\u001b[0m\u001b[1;33m.\u001b[0m\u001b[0mndim\u001b[0m \u001b[1;33m>\u001b[0m \u001b[1;36m2\u001b[0m\u001b[1;33m:\u001b[0m\u001b[1;33m\u001b[0m\u001b[1;33m\u001b[0m\u001b[0m\n\u001b[0;32m    233\u001b[0m             raise ValueError(\"x and y can be no greater than 2-D, but have \"\n",
      "\u001b[1;31mValueError\u001b[0m: x and y must have same first dimension, but have shapes (9,) and (1,)"
     ]
    },
    {
     "data": {
      "image/png": "[encoded data removed]",
      "text/plain": [
       "<Figure size 432x288 with 1 Axes>"
      ]
     },
     "metadata": {
      "needs_background": "light"
     },
     "output_type": "display_data"
    }
   ],
   "source": [
    "K = range(1,10)\n",
    "\n",
    "wss = []\n",
    "\n",
    "for k in K:\n",
    "    km = KMeans(n_clusters=k)\n",
    "    # km = km.fit(normalized_data) # Our data has been normalized\n",
    "    km = km.fit(Kmeans_Clustering_tfidf_vec) # Our data has been normalized\n",
    "    wss.append(km.inertia_)\n",
    "    \n",
    "    plt.plot(K, wss, 'bx-')\n",
    "    plt.xlabel('No of Clusters')\n",
    "    plt.ylabel('WSS - Sum of squared distance')\n",
    "    plt.title('Elbow Method for Optimal k')\n",
    "    plt.show()\n",
    "    \n",
    "#     plt.savefig('Elbow_Method.png', dpi=200) #save figure "
   ]
  },
  {
   "cell_type": "code",
   "execution_count": 146,
   "metadata": {},
   "outputs": [],
   "source": [
    "# !pip yellowbrick"
   ]
  },
  {
   "cell_type": "code",
   "execution_count": 147,
   "metadata": {},
   "outputs": [],
   "source": [
    "from sklearn.cluster import KMeans\n",
    "from sklearn.datasets import make_blobs\n",
    "\n",
    "from yellowbrick.cluster import KElbowVisualizer\n"
   ]
  },
  {
   "cell_type": "code",
   "execution_count": 148,
   "metadata": {},
   "outputs": [
    {
     "data": {
      "image/png": "[encoded data removed]",
      "text/plain": [
       "<Figure size 576x396 with 2 Axes>"
      ]
     },
     "metadata": {},
     "output_type": "display_data"
    },
    {
     "data": {
      "text/plain": [
       "<matplotlib.axes._subplots.AxesSubplot at 0x23b7b7b45f8>"
      ]
     },
     "execution_count": 148,
     "metadata": {},
     "output_type": "execute_result"
    },
    {
     "data": {
      "text/plain": [
       "<Figure size 576x396 with 0 Axes>"
      ]
     },
     "metadata": {},
     "output_type": "display_data"
    }
   ],
   "source": [
    "\n",
    "# # Generate synthetic dataset with 8 random clusters\n",
    "# X, y = make_blobs(n_samples=1000, n_features=12, centers=8, random_state=42)\n",
    "\n",
    "# Instantiate the clustering model and visualizer\n",
    "model = KMeans()\n",
    "visualizer = KElbowVisualizer(model, k=(3,12))\n",
    "\n",
    "visualizer.fit(Kmeans_Clustering_tfidf_vec)        # Fit the data to the visualizer\n",
    "visualizer.show()        # Finalize and render the figure\n",
    "\n",
    "visualizer.show(outpath=\"kelbow_minibatchkmeans.png\")\n"
   ]
  },
  {
   "cell_type": "code",
   "execution_count": null,
   "metadata": {},
   "outputs": [],
   "source": []
  }
 ],
 "metadata": {
  "kernelspec": {
   "display_name": "Python 3",
   "language": "python",
   "name": "python3"
  },
  "language_info": {
   "codemirror_mode": {
    "name": "ipython",
    "version": 3
   },
   "file_extension": ".py",
   "mimetype": "text/x-python",
   "name": "python",
   "nbconvert_exporter": "python",
   "pygments_lexer": "ipython3",
   "version": "3.7.1"
  }
 },
 "nbformat": 4,
 "nbformat_minor": 2
}
